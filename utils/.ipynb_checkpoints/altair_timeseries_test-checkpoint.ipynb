{
 "cells": [
  {
   "cell_type": "code",
   "execution_count": 1,
   "metadata": {},
   "outputs": [],
   "source": [
    "import numpy as np\n",
    "import pandas as pd\n",
    "import pathlib\n",
    "import matplotlib as mpl\n",
    "import matplotlib.pyplot as plt\n",
    "import sys\n",
    "import os.path\n",
    "from matplotlib.ticker import MaxNLocator\n",
    "import warnings\n",
    "import altair as alt"
   ]
  },
  {
   "cell_type": "code",
   "execution_count": 2,
   "metadata": {},
   "outputs": [
    {
     "name": "stdout",
     "output_type": "stream",
     "text": [
      "<class 'pandas.core.frame.DataFrame'>\n",
      "RangeIndex: 59164 entries, 0 to 59163\n",
      "Data columns (total 3 columns):\n",
      " #   Column           Non-Null Count  Dtype         \n",
      "---  ------           --------------  -----         \n",
      " 0   date             59164 non-null  datetime64[ns]\n",
      " 1   waterlevel(m)    59164 non-null  float64       \n",
      " 2   discharge(m3/s)  59164 non-null  float64       \n",
      "dtypes: datetime64[ns](1), float64(2)\n",
      "memory usage: 1.4 MB\n"
     ]
    }
   ],
   "source": [
    "cwd = pathlib.Path().resolve()\n",
    "src = cwd.parent\n",
    "\n",
    "# Replace with your own directory path\n",
    "root = src.parent\n",
    "data = src.parent.parent.parent\n",
    "data_path = os.path.join(data, 'data_tana')\n",
    "sys.path.append(str(src))\n",
    "sys.path.append(str(root))\n",
    "sys.path.append(str(data_path))\n",
    "\n",
    "from utils.altair_visualisation import Graph_tana\n",
    "path = os.path.join(data_path, 'fixed_all_data_Garissa.csv')\n",
    "df_garissa_all = pd.read_csv(path, sep = ',')\n",
    "df_garissa_all['date'] = pd.to_datetime(df_garissa_all['date'], format = 'mixed')\n",
    "df_garissa_all = df_garissa_all.rename(columns={\"date_level\": \"date\", \"waterlevel[m]\": \"waterlevel(m)\",\n",
    "                                                    \"discharge[m3/s]\": \"discharge(m3/s)\"})\n",
    "\n",
    "#df_garissa_recent = df_garissa_recent[0:10]\n",
    "df_garissa_all.info()"
   ]
  },
  {
   "cell_type": "code",
   "execution_count": 3,
   "metadata": {},
   "outputs": [
    {
     "data": {
      "text/html": [
       "\n",
       "<style>\n",
       "  #altair-viz-f7bc173c925944e9b0af53b245b4183f.vega-embed {\n",
       "    width: 100%;\n",
       "    display: flex;\n",
       "  }\n",
       "\n",
       "  #altair-viz-f7bc173c925944e9b0af53b245b4183f.vega-embed details,\n",
       "  #altair-viz-f7bc173c925944e9b0af53b245b4183f.vega-embed details summary {\n",
       "    position: relative;\n",
       "  }\n",
       "</style>\n",
       "<div id=\"altair-viz-f7bc173c925944e9b0af53b245b4183f\"></div>\n",
       "<script type=\"text/javascript\">\n",
       "  var VEGA_DEBUG = (typeof VEGA_DEBUG == \"undefined\") ? {} : VEGA_DEBUG;\n",
       "  (function(spec, embedOpt){\n",
       "    let outputDiv = document.currentScript.previousElementSibling;\n",
       "    if (outputDiv.id !== \"altair-viz-f7bc173c925944e9b0af53b245b4183f\") {\n",
       "      outputDiv = document.getElementById(\"altair-viz-f7bc173c925944e9b0af53b245b4183f\");\n",
       "    }\n",
       "    const paths = {\n",
       "      \"vega\": \"https://cdn.jsdelivr.net/npm/vega@5?noext\",\n",
       "      \"vega-lib\": \"https://cdn.jsdelivr.net/npm/vega-lib?noext\",\n",
       "      \"vega-lite\": \"https://cdn.jsdelivr.net/npm/vega-lite@5.16.3?noext\",\n",
       "      \"vega-embed\": \"https://cdn.jsdelivr.net/npm/vega-embed@6?noext\",\n",
       "    };\n",
       "\n",
       "    function maybeLoadScript(lib, version) {\n",
       "      var key = `${lib.replace(\"-\", \"\")}_version`;\n",
       "      return (VEGA_DEBUG[key] == version) ?\n",
       "        Promise.resolve(paths[lib]) :\n",
       "        new Promise(function(resolve, reject) {\n",
       "          var s = document.createElement('script');\n",
       "          document.getElementsByTagName(\"head\")[0].appendChild(s);\n",
       "          s.async = true;\n",
       "          s.onload = () => {\n",
       "            VEGA_DEBUG[key] = version;\n",
       "            return resolve(paths[lib]);\n",
       "          };\n",
       "          s.onerror = () => reject(`Error loading script: ${paths[lib]}`);\n",
       "          s.src = paths[lib];\n",
       "        });\n",
       "    }\n",
       "\n",
       "    function showError(err) {\n",
       "      outputDiv.innerHTML = `<div class=\"error\" style=\"color:red;\">${err}</div>`;\n",
       "      throw err;\n",
       "    }\n",
       "\n",
       "    function displayChart(vegaEmbed) {\n",
       "      vegaEmbed(outputDiv, spec, embedOpt)\n",
       "        .catch(err => showError(`Javascript Error: ${err.message}<br>This usually means there's a typo in your chart specification. See the javascript console for the full traceback.`));\n",
       "    }\n",
       "\n",
       "    if(typeof define === \"function\" && define.amd) {\n",
       "      requirejs.config({paths});\n",
       "      require([\"vega-embed\"], displayChart, err => showError(`Error loading script: ${err.message}`));\n",
       "    } else {\n",
       "      maybeLoadScript(\"vega\", \"5\")\n",
       "        .then(() => maybeLoadScript(\"vega-lite\", \"5.16.3\"))\n",
       "        .then(() => maybeLoadScript(\"vega-embed\", \"6\"))\n",
       "        .catch(showError)\n",
       "        .then(() => displayChart(vegaEmbed));\n",
       "    }\n",
       "  })({\"$schema\": \"https://vega.github.io/schema/vega/v5.json\", \"data\": [{\"name\": \"param_1_store\"}, {\"name\": \"param_2_store\"}, {\"name\": \"source_0\", \"values\": [{\"date\": \"1953-01-01T00:00:00.000\", \"waterlevel(m)\": 1.08}, {\"date\": \"1953-02-01T00:00:00.000\", \"waterlevel(m)\": 1.16}, {\"date\": \"1953-03-01T00:00:00.000\", \"waterlevel(m)\": 1.18}, {\"date\": \"1953-01-13T00:00:00.000\", \"waterlevel(m)\": 1.08}, {\"date\": \"1953-01-14T00:00:00.000\", \"waterlevel(m)\": 1.08}, {\"date\": \"1953-01-15T00:00:00.000\", \"waterlevel(m)\": 1.02}, {\"date\": \"1953-01-16T00:00:00.000\", \"waterlevel(m)\": 0.98}, {\"date\": \"1953-01-17T00:00:00.000\", \"waterlevel(m)\": 0.94}, {\"date\": \"1953-01-18T00:00:00.000\", \"waterlevel(m)\": 0.94}, {\"date\": \"1953-01-19T00:00:00.000\", \"waterlevel(m)\": 0.9}, {\"date\": \"1953-01-20T00:00:00.000\", \"waterlevel(m)\": 0.88}, {\"date\": \"1953-01-21T00:00:00.000\", \"waterlevel(m)\": 0.87}, {\"date\": \"1953-01-22T00:00:00.000\", \"waterlevel(m)\": 0.87}, {\"date\": \"1953-01-23T00:00:00.000\", \"waterlevel(m)\": 0.79}, {\"date\": \"1953-01-24T00:00:00.000\", \"waterlevel(m)\": 0.79}, {\"date\": \"1953-01-25T00:00:00.000\", \"waterlevel(m)\": 0.85}, {\"date\": \"1953-01-26T00:00:00.000\", \"waterlevel(m)\": 0.85}, {\"date\": \"1953-01-27T00:00:00.000\", \"waterlevel(m)\": 0.79}, {\"date\": \"1953-01-28T00:00:00.000\", \"waterlevel(m)\": 0.78}, {\"date\": \"1953-01-29T00:00:00.000\", \"waterlevel(m)\": 0.78}, {\"date\": \"1953-01-30T00:00:00.000\", \"waterlevel(m)\": 0.76}, {\"date\": \"1953-01-31T00:00:00.000\", \"waterlevel(m)\": 0.75}, {\"date\": \"1953-01-02T00:00:00.000\", \"waterlevel(m)\": 0.73}, {\"date\": \"1953-02-02T00:00:00.000\", \"waterlevel(m)\": 0.75}, {\"date\": \"1953-03-02T00:00:00.000\", \"waterlevel(m)\": 0.76}, {\"date\": \"1953-02-13T00:00:00.000\", \"waterlevel(m)\": 0.67}, {\"date\": \"1953-02-14T00:00:00.000\", \"waterlevel(m)\": 0.67}, {\"date\": \"1953-02-15T00:00:00.000\", \"waterlevel(m)\": 0.67}, {\"date\": \"1953-02-16T00:00:00.000\", \"waterlevel(m)\": 0.67}, {\"date\": \"1953-02-17T00:00:00.000\", \"waterlevel(m)\": 0.66}, {\"date\": \"1953-02-18T00:00:00.000\", \"waterlevel(m)\": 0.62}, {\"date\": \"1953-02-19T00:00:00.000\", \"waterlevel(m)\": 0.66}, {\"date\": \"1953-02-20T00:00:00.000\", \"waterlevel(m)\": 0.66}, {\"date\": \"1953-02-21T00:00:00.000\", \"waterlevel(m)\": 0.64}, {\"date\": \"1953-02-22T00:00:00.000\", \"waterlevel(m)\": 0.66}, {\"date\": \"1953-02-23T00:00:00.000\", \"waterlevel(m)\": 0.62}, {\"date\": \"1953-02-24T00:00:00.000\", \"waterlevel(m)\": 0.61}, {\"date\": \"1953-02-25T00:00:00.000\", \"waterlevel(m)\": 0.61}, {\"date\": \"1953-02-26T00:00:00.000\", \"waterlevel(m)\": 0.6}, {\"date\": \"1953-02-27T00:00:00.000\", \"waterlevel(m)\": 0.59}, {\"date\": \"1953-02-28T00:00:00.000\", \"waterlevel(m)\": 0.59}, {\"date\": \"1953-01-03T00:00:00.000\", \"waterlevel(m)\": 0.59}, {\"date\": \"1953-02-03T00:00:00.000\", \"waterlevel(m)\": 0.59}, {\"date\": \"1953-03-03T00:00:00.000\", \"waterlevel(m)\": 0.61}, {\"date\": \"1953-03-13T00:00:00.000\", \"waterlevel(m)\": 0.67}, {\"date\": \"1953-03-14T00:00:00.000\", \"waterlevel(m)\": 0.69}, {\"date\": \"1953-03-15T00:00:00.000\", \"waterlevel(m)\": 0.7}, {\"date\": \"1953-03-16T00:00:00.000\", \"waterlevel(m)\": 0.73}, {\"date\": \"1953-03-17T00:00:00.000\", \"waterlevel(m)\": 0.72}, {\"date\": \"1953-03-18T00:00:00.000\", \"waterlevel(m)\": 0.67}, {\"date\": \"1953-03-19T00:00:00.000\", \"waterlevel(m)\": 0.66}, {\"date\": \"1953-03-20T00:00:00.000\", \"waterlevel(m)\": 0.64}, {\"date\": \"1953-03-21T00:00:00.000\", \"waterlevel(m)\": 0.64}, {\"date\": \"1953-03-22T00:00:00.000\", \"waterlevel(m)\": 0.64}, {\"date\": \"1953-03-23T00:00:00.000\", \"waterlevel(m)\": 0.62}, {\"date\": \"1953-03-24T00:00:00.000\", \"waterlevel(m)\": 0.62}, {\"date\": \"1953-03-25T00:00:00.000\", \"waterlevel(m)\": 0.62}, {\"date\": \"1953-03-26T00:00:00.000\", \"waterlevel(m)\": 0.62}, {\"date\": \"1953-03-27T00:00:00.000\", \"waterlevel(m)\": 0.61}, {\"date\": \"1953-03-28T00:00:00.000\", \"waterlevel(m)\": 0.61}, {\"date\": \"1953-03-29T00:00:00.000\", \"waterlevel(m)\": 0.61}, {\"date\": \"1953-03-30T00:00:00.000\", \"waterlevel(m)\": 0.61}, {\"date\": \"1953-03-31T00:00:00.000\", \"waterlevel(m)\": 0.82}, {\"date\": \"1953-01-04T00:00:00.000\", \"waterlevel(m)\": 0.7}, {\"date\": \"1953-02-04T00:00:00.000\", \"waterlevel(m)\": 0.73}, {\"date\": \"1953-03-04T00:00:00.000\", \"waterlevel(m)\": 0.7}, {\"date\": \"1953-01-05T00:00:00.000\", \"waterlevel(m)\": 1.85}, {\"date\": \"1953-02-05T00:00:00.000\", \"waterlevel(m)\": 1.69}, {\"date\": \"1953-03-05T00:00:00.000\", \"waterlevel(m)\": 1.54}, {\"date\": \"1953-01-06T00:00:00.000\", \"waterlevel(m)\": 1.4}, {\"date\": \"1953-02-06T00:00:00.000\", \"waterlevel(m)\": 1.37}, {\"date\": \"1953-03-06T00:00:00.000\", \"waterlevel(m)\": 1.37}, {\"date\": \"1953-01-07T00:00:00.000\", \"waterlevel(m)\": 1.26}, {\"date\": \"1953-02-07T00:00:00.000\", \"waterlevel(m)\": 1.25}, {\"date\": \"1953-03-07T00:00:00.000\", \"waterlevel(m)\": 1.17}, {\"date\": \"1953-01-08T00:00:00.000\", \"waterlevel(m)\": 0.86}, {\"date\": \"1953-02-08T00:00:00.000\", \"waterlevel(m)\": 0.85}, {\"date\": \"1953-03-08T00:00:00.000\", \"waterlevel(m)\": 0.85}, {\"date\": \"1953-01-09T00:00:00.000\", \"waterlevel(m)\": 0.85}, {\"date\": \"1953-02-09T00:00:00.000\", \"waterlevel(m)\": 0.84}, {\"date\": \"1953-03-09T00:00:00.000\", \"waterlevel(m)\": 0.85}, {\"date\": \"1953-01-10T00:00:00.000\", \"waterlevel(m)\": 0.76}, {\"date\": \"1953-02-10T00:00:00.000\", \"waterlevel(m)\": 0.76}, {\"date\": \"1953-03-10T00:00:00.000\", \"waterlevel(m)\": 0.76}, {\"date\": \"1953-01-11T00:00:00.000\", \"waterlevel(m)\": 1.52}, {\"date\": \"1953-02-11T00:00:00.000\", \"waterlevel(m)\": 1.49}, {\"date\": \"1953-03-11T00:00:00.000\", \"waterlevel(m)\": 1.49}, {\"date\": \"1953-01-12T00:00:00.000\", \"waterlevel(m)\": 2.68}, {\"date\": \"1953-01-12T00:00:00.000\", \"waterlevel(m)\": 2.74}, {\"date\": \"1953-02-12T00:00:00.000\", \"waterlevel(m)\": 2.56}, {\"date\": \"1953-03-12T00:00:00.000\", \"waterlevel(m)\": 2.44}], \"transform\": [{\"type\": \"formula\", \"expr\": \"toDate(datum['date'])\", \"as\": \"date\"}]}, {\"name\": \"source_0_y_domain_waterlevel(m)\", \"values\": [{\"min\": 0.59, \"max\": 2.74}]}], \"signals\": [{\"name\": \"unit\", \"value\": {}, \"on\": [{\"events\": \"pointermove\", \"update\": \"isTuple(group()) ? group() : unit\"}]}, {\"name\": \"param_1\", \"update\": \"vlSelectionResolve(\\\"param_1_store\\\", \\\"union\\\")\"}, {\"name\": \"param_2\", \"update\": \"vlSelectionResolve(\\\"param_2_store\\\", \\\"union\\\")\"}, {\"name\": \"param_1_x\", \"value\": [], \"on\": [{\"events\": {\"source\": \"scope\", \"filter\": [\"!event.item || event.item.mark.name !== \\\"param_1_brush\\\"\"], \"type\": \"pointerdown\"}, \"update\": \"[x(unit), x(unit)]\"}, {\"events\": {\"source\": \"window\", \"between\": [{\"source\": \"scope\", \"filter\": [\"!event.item || event.item.mark.name !== \\\"param_1_brush\\\"\"], \"type\": \"pointerdown\"}, {\"source\": \"window\", \"type\": \"pointerup\"}], \"consume\": true, \"type\": \"pointermove\"}, \"update\": \"[param_1_x[0], clamp(x(unit), 0, width)]\"}, {\"events\": {\"signal\": \"param_1_scale_trigger\"}, \"update\": \"[scale(\\\"x\\\", param_1_date[0]), scale(\\\"x\\\", param_1_date[1])]\"}, {\"events\": [{\"source\": \"view\", \"type\": \"dblclick\"}], \"update\": \"[0, 0]\"}, {\"events\": {\"signal\": \"param_1_translate_delta\"}, \"update\": \"clampRange(panLinear(param_1_translate_anchor.extent_x, param_1_translate_delta.x / span(param_1_translate_anchor.extent_x)), 0, width)\"}, {\"events\": {\"signal\": \"param_1_zoom_delta\"}, \"update\": \"clampRange(zoomLinear(param_1_x, param_1_zoom_anchor.x, param_1_zoom_delta), 0, width)\"}]}, {\"name\": \"param_1_date\", \"on\": [{\"events\": {\"signal\": \"param_1_x\"}, \"update\": \"param_1_x[0] === param_1_x[1] ? null : invert(\\\"x\\\", param_1_x)\"}]}, {\"name\": \"param_1_scale_trigger\", \"value\": {}, \"on\": [{\"events\": [{\"scale\": \"x\"}], \"update\": \"(!isArray(param_1_date) || (+invert(\\\"x\\\", param_1_x)[0] === +param_1_date[0] && +invert(\\\"x\\\", param_1_x)[1] === +param_1_date[1])) ? param_1_scale_trigger : {}\"}]}, {\"name\": \"param_1_tuple\", \"on\": [{\"events\": [{\"signal\": \"param_1_date\"}], \"update\": \"param_1_date ? {unit: \\\"\\\", fields: param_1_tuple_fields, values: [param_1_date]} : null\"}]}, {\"name\": \"param_1_tuple_fields\", \"value\": [{\"field\": \"date\", \"channel\": \"x\", \"type\": \"R\"}]}, {\"name\": \"param_1_translate_anchor\", \"value\": {}, \"on\": [{\"events\": [{\"source\": \"scope\", \"markname\": \"param_1_brush\", \"type\": \"pointerdown\"}], \"update\": \"{x: x(unit), y: y(unit), extent_x: slice(param_1_x)}\"}]}, {\"name\": \"param_1_translate_delta\", \"value\": {}, \"on\": [{\"events\": [{\"source\": \"window\", \"between\": [{\"source\": \"scope\", \"markname\": \"param_1_brush\", \"type\": \"pointerdown\"}, {\"source\": \"window\", \"type\": \"pointerup\"}], \"type\": \"pointermove\", \"consume\": true}], \"update\": \"{x: param_1_translate_anchor.x - x(unit), y: param_1_translate_anchor.y - y(unit)}\"}]}, {\"name\": \"param_1_zoom_anchor\", \"on\": [{\"events\": [{\"source\": \"scope\", \"markname\": \"param_1_brush\", \"type\": \"wheel\", \"consume\": true}], \"update\": \"{x: x(unit), y: y(unit)}\"}]}, {\"name\": \"param_1_zoom_delta\", \"on\": [{\"events\": [{\"source\": \"scope\", \"markname\": \"param_1_brush\", \"type\": \"wheel\", \"consume\": true}], \"update\": \"pow(1.001, event.deltaY * pow(16, event.deltaMode))\", \"force\": true}]}, {\"name\": \"param_1_modify\", \"on\": [{\"events\": {\"signal\": \"param_1_tuple\"}, \"update\": \"modify(\\\"param_1_store\\\", param_1_tuple, true)\"}]}, {\"name\": \"param_2_date\", \"on\": [{\"events\": [{\"source\": \"view\", \"type\": \"dblclick\"}], \"update\": \"null\"}, {\"events\": {\"signal\": \"param_2_translate_delta\"}, \"update\": \"panLinear(param_2_translate_anchor.extent_x, -param_2_translate_delta.x / width)\"}, {\"events\": {\"signal\": \"param_2_zoom_delta\"}, \"update\": \"zoomLinear(domain(\\\"x\\\"), param_2_zoom_anchor.x, param_2_zoom_delta)\"}]}, {\"name\": \"param_2_waterlevel_m_\", \"on\": [{\"events\": [{\"source\": \"view\", \"type\": \"dblclick\"}], \"update\": \"null\"}, {\"events\": {\"signal\": \"param_2_translate_delta\"}, \"update\": \"panLinear(param_2_translate_anchor.extent_y, param_2_translate_delta.y / height)\"}, {\"events\": {\"signal\": \"param_2_zoom_delta\"}, \"update\": \"zoomLinear(domain(\\\"y\\\"), param_2_zoom_anchor.y, param_2_zoom_delta)\"}]}, {\"name\": \"param_2_tuple\", \"on\": [{\"events\": [{\"signal\": \"param_2_date || param_2_waterlevel_m_\"}], \"update\": \"param_2_date && param_2_waterlevel_m_ ? {unit: \\\"\\\", fields: param_2_tuple_fields, values: [param_2_date,param_2_waterlevel_m_]} : null\"}]}, {\"name\": \"param_2_tuple_fields\", \"value\": [{\"field\": \"date\", \"channel\": \"x\", \"type\": \"R\"}, {\"field\": \"waterlevel(m)\", \"channel\": \"y\", \"type\": \"R\"}]}, {\"name\": \"param_2_translate_anchor\", \"value\": {}, \"on\": [{\"events\": [{\"source\": \"scope\", \"type\": \"pointerdown\"}], \"update\": \"{x: x(unit), y: y(unit), extent_x: domain(\\\"x\\\"), extent_y: domain(\\\"y\\\")}\"}]}, {\"name\": \"param_2_translate_delta\", \"value\": {}, \"on\": [{\"events\": [{\"source\": \"window\", \"between\": [{\"source\": \"scope\", \"type\": \"pointerdown\"}, {\"source\": \"window\", \"type\": \"pointerup\"}], \"type\": \"pointermove\", \"consume\": true}], \"update\": \"{x: param_2_translate_anchor.x - x(unit), y: param_2_translate_anchor.y - y(unit)}\"}]}, {\"name\": \"param_2_zoom_anchor\", \"on\": [{\"events\": [{\"source\": \"scope\", \"type\": \"wheel\", \"consume\": true}], \"update\": \"{x: invert(\\\"x\\\", x(unit)), y: invert(\\\"y\\\", y(unit))}\"}]}, {\"name\": \"param_2_zoom_delta\", \"on\": [{\"events\": [{\"source\": \"scope\", \"type\": \"wheel\", \"consume\": true}], \"update\": \"pow(1.001, event.deltaY * pow(16, event.deltaMode))\", \"force\": true}]}, {\"name\": \"param_2_modify\", \"on\": [{\"events\": {\"signal\": \"param_2_tuple\"}, \"update\": \"modify(\\\"param_2_store\\\", param_2_tuple, true)\"}]}], \"marks\": [{\"type\": \"rect\", \"name\": \"param_1_brush_bg\", \"encode\": {\"enter\": {\"fill\": {\"value\": \"#333\"}, \"fillOpacity\": {\"value\": 0.125}}, \"update\": {\"x\": [{\"signal\": \"param_1_x[0]\", \"test\": \"data(\\\"param_1_store\\\").length && data(\\\"param_1_store\\\")[0].unit === \\\"\\\"\"}, {\"value\": 0}], \"y\": [{\"value\": 0, \"test\": \"data(\\\"param_1_store\\\").length && data(\\\"param_1_store\\\")[0].unit === \\\"\\\"\"}, {\"value\": 0}], \"x2\": [{\"signal\": \"param_1_x[1]\", \"test\": \"data(\\\"param_1_store\\\").length && data(\\\"param_1_store\\\")[0].unit === \\\"\\\"\"}, {\"value\": 0}], \"y2\": [{\"field\": {\"signal\": null, \"datum\": null, \"group\": \"height\", \"parent\": null}, \"test\": \"data(\\\"param_1_store\\\").length && data(\\\"param_1_store\\\")[0].unit === \\\"\\\"\"}, {\"value\": 0}]}}, \"clip\": true}, {\"type\": \"symbol\", \"name\": \"marks\", \"from\": {\"data\": \"source_0\"}, \"encode\": {\"update\": {\"opacity\": {\"value\": 0.7}, \"size\": {\"value\": 10}, \"description\": {\"signal\": \"\\\"date: \\\" + (timeFormat(datum[\\\"date\\\"], '%b %d, %Y')) + \\\"; waterlevel(m): \\\" + (format(datum[\\\"waterlevel(m)\\\"], \\\"\\\"))\"}, \"fill\": [{\"value\": \"red\", \"test\": \"(datum['waterlevel(m)'] > 3.5)\"}, {\"value\": \"blue\"}], \"tooltip\": {\"signal\": \"{\\\"date\\\": timeFormat(datum[\\\"date\\\"], '%b %d, %Y'), \\\"waterlevel(m)\\\": format(datum[\\\"waterlevel(m)\\\"], \\\"\\\")}\"}, \"ariaRoleDescription\": {\"value\": \"circle\"}, \"x\": {\"field\": \"date\", \"scale\": \"x\"}, \"shape\": {\"value\": \"circle\"}, \"y\": {\"field\": \"waterlevel(m)\", \"scale\": \"y\"}}}, \"style\": [\"circle\"], \"interactive\": true, \"clip\": true}, {\"type\": \"rect\", \"name\": \"param_1_brush\", \"encode\": {\"enter\": {\"fill\": {\"value\": \"transparent\"}}, \"update\": {\"x\": [{\"signal\": \"param_1_x[0]\", \"test\": \"data(\\\"param_1_store\\\").length && data(\\\"param_1_store\\\")[0].unit === \\\"\\\"\"}, {\"value\": 0}], \"stroke\": [{\"value\": \"white\", \"test\": \"param_1_x[0] !== param_1_x[1]\"}, {}], \"y\": [{\"value\": 0, \"test\": \"data(\\\"param_1_store\\\").length && data(\\\"param_1_store\\\")[0].unit === \\\"\\\"\"}, {\"value\": 0}], \"x2\": [{\"signal\": \"param_1_x[1]\", \"test\": \"data(\\\"param_1_store\\\").length && data(\\\"param_1_store\\\")[0].unit === \\\"\\\"\"}, {\"value\": 0}], \"y2\": [{\"field\": {\"signal\": null, \"datum\": null, \"group\": \"height\", \"parent\": null}, \"test\": \"data(\\\"param_1_store\\\").length && data(\\\"param_1_store\\\")[0].unit === \\\"\\\"\"}, {\"value\": 0}]}}, \"clip\": true}], \"scales\": [{\"name\": \"x\", \"type\": \"time\", \"domain\": {\"data\": \"source_0\", \"field\": \"date\"}, \"range\": [0, {\"signal\": \"width\"}], \"domainRaw\": {\"signal\": \"param_2[\\\"date\\\"]\"}}, {\"name\": \"y\", \"type\": \"linear\", \"domain\": [{\"signal\": \"(data(\\\"source_0_y_domain_waterlevel(m)\\\")[0] || {}).min\"}, {\"signal\": \"(data(\\\"source_0_y_domain_waterlevel(m)\\\")[0] || {}).max\"}], \"range\": [{\"signal\": \"height\"}, 0], \"zero\": true, \"nice\": true, \"domainRaw\": {\"signal\": \"param_2[\\\"waterlevel(m)\\\"]\"}}], \"axes\": [{\"scale\": \"x\", \"maxExtent\": 0, \"gridScale\": \"y\", \"aria\": false, \"domain\": false, \"orient\": \"bottom\", \"ticks\": false, \"tickCount\": {\"signal\": \"ceil(width/40)\"}, \"labels\": false, \"zindex\": 0, \"minExtent\": 0, \"grid\": true}, {\"scale\": \"y\", \"labels\": false, \"zindex\": 0, \"orient\": \"left\", \"domain\": false, \"gridScale\": \"x\", \"maxExtent\": 0, \"aria\": false, \"grid\": true, \"tickCount\": {\"signal\": \"ceil(height/40)\"}, \"ticks\": false, \"minExtent\": 0}, {\"scale\": \"x\", \"orient\": \"bottom\", \"labelFlush\": true, \"tickCount\": {\"signal\": \"ceil(width/40)\"}, \"zindex\": 0, \"labelOverlap\": true, \"grid\": false, \"title\": \"date\"}, {\"scale\": \"y\", \"zindex\": 0, \"labelOverlap\": true, \"title\": \"waterlevel(m)\", \"orient\": \"left\", \"grid\": false, \"tickCount\": {\"signal\": \"ceil(height/40)\"}}], \"background\": \"white\", \"height\": 400, \"width\": 800, \"padding\": 5, \"style\": \"cell\"}, {\"mode\": \"vega\"});\n",
       "</script>"
      ],
      "text/plain": [
       "alt.Chart(...)"
      ]
     },
     "execution_count": 3,
     "metadata": {},
     "output_type": "execute_result"
    }
   ],
   "source": [
    "scatter_tana = Graph_tana(df_garissa_all)\n",
    "\n",
    "start_date = '1953-01-01'\n",
    "end_date = '1953-3-31'\n",
    "warning_level = 3.5\n",
    "y_axis_name = 'waterlevel(m)'\n",
    "\n",
    "scatter_tana.scatterplot_waterlevel(start_date, end_date, warning_level, y_axis_name)"
   ]
  },
  {
   "cell_type": "code",
   "execution_count": 4,
   "metadata": {
    "scrolled": true
   },
   "outputs": [],
   "source": [
    "def scatterplot_waterlevel(start_date, end_date, warning_level):\n",
    "    alt.data_transformers.enable(\"vegafusion\")\n",
    "    interval = alt.selection_interval(encodings=['x'], empty= True)\n",
    "\n",
    "    start_date = pd.to_datetime(start_date)\n",
    "    end_date = pd.to_datetime(end_date)\n",
    "\n",
    "    date_filter = df_garissa_all[(df_garissa_all['date'] >= start_date) & (df_garissa_all['date'] <= end_date)]\n",
    "\n",
    "\n",
    "    # Create the base chart\n",
    "    base = alt.Chart(date_filter).mark_circle(size=10).encode(\n",
    "        x='date:T',\n",
    "        y='waterlevel(m):Q',\n",
    "        tooltip=['date:T', 'waterlevel(m):Q'],\n",
    "        color=alt.condition(\n",
    "            alt.datum['waterlevel(m)'] > warning_level,\n",
    "            alt.value('red'),\n",
    "            alt.value('blue')\n",
    "        )\n",
    "    ).properties(\n",
    "        width=800,\n",
    "        height=400\n",
    "    ).add_params(interval)\n",
    "\n",
    "\n",
    "    # Create the interactive chart with slider\n",
    "    chart = base.interactive()\n",
    "\n",
    "    # Show the chart\n",
    "    return chart"
   ]
  },
  {
   "cell_type": "code",
   "execution_count": 5,
   "metadata": {},
   "outputs": [
    {
     "ename": "NameError",
     "evalue": "name 'visualize_waterlevel' is not defined",
     "output_type": "error",
     "traceback": [
      "\u001b[0;31m---------------------------------------------------------------------------\u001b[0m",
      "\u001b[0;31mNameError\u001b[0m                                 Traceback (most recent call last)",
      "Cell \u001b[0;32mIn[5], line 5\u001b[0m\n\u001b[1;32m      2\u001b[0m end_date \u001b[38;5;241m=\u001b[39m \u001b[38;5;124m'\u001b[39m\u001b[38;5;124m1953-3-31\u001b[39m\u001b[38;5;124m'\u001b[39m\n\u001b[1;32m      3\u001b[0m warning_level \u001b[38;5;241m=\u001b[39m \u001b[38;5;241m3.5\u001b[39m\n\u001b[0;32m----> 5\u001b[0m visualize_waterlevel(start_date, end_date, warning_level)\n",
      "\u001b[0;31mNameError\u001b[0m: name 'visualize_waterlevel' is not defined"
     ]
    }
   ],
   "source": [
    "start_date = '1953-01-01'\n",
    "end_date = '1953-3-31'\n",
    "warning_level = 3.5\n",
    "\n",
    "visualize_waterlevel(start_date, end_date, warning_level)"
   ]
  },
  {
   "cell_type": "code",
   "execution_count": null,
   "metadata": {},
   "outputs": [],
   "source": []
  }
 ],
 "metadata": {
  "kernelspec": {
   "display_name": "Python 3 (ipykernel)",
   "language": "python",
   "name": "python3"
  },
  "language_info": {
   "codemirror_mode": {
    "name": "ipython",
    "version": 3
   },
   "file_extension": ".py",
   "mimetype": "text/x-python",
   "name": "python",
   "nbconvert_exporter": "python",
   "pygments_lexer": "ipython3",
   "version": "3.11.5"
  }
 },
 "nbformat": 4,
 "nbformat_minor": 1
}
