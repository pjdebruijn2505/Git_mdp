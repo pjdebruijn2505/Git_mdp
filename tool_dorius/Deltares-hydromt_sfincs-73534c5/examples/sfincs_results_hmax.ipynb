{
 "cells": [
  {
   "cell_type": "markdown",
   "metadata": {},
   "source": [
    "## Sfincs results: maximum water depth"
   ]
  },
  {
   "cell_type": "code",
   "execution_count": null,
   "metadata": {},
   "outputs": [],
   "source": [
    "# import dependencies\n",
    "import xarray as xr\n",
    "import numpy as np\n",
    "from os.path import join\n",
    "import matplotlib.pyplot as plt\n",
    "import hydromt\n",
    "from hydromt_sfincs import SfincsModel"
   ]
  },
  {
   "cell_type": "markdown",
   "metadata": {},
   "source": [
    "### Read model results"
   ]
  },
  {
   "cell_type": "markdown",
   "metadata": {},
   "source": [
    "The model results in sfincs_map.nc are saved as in a staggered grid format, see [SGRID convention](https://publicwiki.deltares.nl/display/NETCDF/Deltares+proposal+for+Staggered+Grid+data+model+(SGRID)). Here we show how to retrieve the face values and translate the dimensions from node indices (m, n) to (x, y) coordinates in order to plot the results on a map."
   ]
  },
  {
   "cell_type": "code",
   "execution_count": null,
   "metadata": {},
   "outputs": [],
   "source": [
    "sfincs_root = \"sfincs_riverine\"  # (relative) path to sfincs root\n",
    "mod = SfincsModel(sfincs_root, mode=\"r\")"
   ]
  },
  {
   "cell_type": "code",
   "execution_count": null,
   "metadata": {},
   "outputs": [],
   "source": [
    "# we can simply read the model results (sfincs_map.nc and sfincs_his.nc) using the read_results method\n",
    "mod.read_results()\n",
    "# the following variables have been found\n",
    "list(mod.results.keys())"
   ]
  },
  {
   "cell_type": "code",
   "execution_count": null,
   "metadata": {},
   "outputs": [],
   "source": [
    "fig, ax = mod.plot_basemap(fn_out=None, bmap=\"sat\", figsize=(11, 7))"
   ]
  },
  {
   "cell_type": "markdown",
   "metadata": {},
   "source": [
    "### Write maximum waterdepth to geotiff file"
   ]
  },
  {
   "cell_type": "code",
   "execution_count": null,
   "metadata": {},
   "outputs": [],
   "source": [
    "# write hmax to <mod.root>/gis/hmax.tif\n",
    "mod.write_raster(\"results.hmax\", compress=\"LZW\")\n",
    "\n",
    "# this is identical to the following:\n",
    "# hmax = mod.results['hmax']\n",
    "# hmax = hmax.reindex(y=list(reversed(hmax['y'].values))) # change orientation to N -> S\n",
    "# hmax.raster.to_raster(join(mod.root, 'gis', 'hmax.tif'), compress='LZW')"
   ]
  },
  {
   "cell_type": "markdown",
   "metadata": {},
   "source": [
    "### Plot maximum water depth with surface water mask "
   ]
  },
  {
   "cell_type": "markdown",
   "metadata": {},
   "source": [
    "First we mask the water depth based on a map of permanent water to get the flood extent. \n",
    "The mask is calculated from the Global Surface Water Occurence (GSWO) dataset. "
   ]
  },
  {
   "cell_type": "code",
   "execution_count": null,
   "metadata": {},
   "outputs": [],
   "source": [
    "# read global surface water occurance (GSWO) data to mask permanent water\n",
    "# NOTE to read data for a different region than Northen Italy add this data to the data catalog:\n",
    "# mod.data_catalog.from_yml('/path/to/data_catalog.yml')\n",
    "print(mod.data_catalog[\"gswo\"])\n",
    "gswo = mod.data_catalog.get_rasterdataset(\"gswo\", buffer=10)\n",
    "# permanent water where water occurence > 5%\n",
    "gswo_mask = gswo.raster.reproject_like(mod.staticmaps, method=\"max\") <= 5"
   ]
  },
  {
   "cell_type": "code",
   "execution_count": null,
   "metadata": {},
   "outputs": [],
   "source": [
    "hmin = 0.2  # minimum flood depth [m] to plot\n",
    "da_hmax = mod.results[\"hmax\"]  # hmax is computed from zsmax - zb\n",
    "# get overland flood depth with GSWO and set minimum flood depth\n",
    "da_hmax_fld = da_hmax.where(gswo_mask).where(da_hmax > hmin)\n",
    "# update attributes for colorbar label later\n",
    "da_hmax.attrs.update(long_name=\"flood depth\", unit=\"m\")"
   ]
  },
  {
   "cell_type": "markdown",
   "metadata": {},
   "source": [
    "Here we plot the maximum water depth on top of the `plot_basemaps` method to also include the locations of discharge source points and observation gauge locations."
   ]
  },
  {
   "cell_type": "code",
   "execution_count": null,
   "metadata": {},
   "outputs": [],
   "source": [
    "# create hmax plot and save to mod.root/figs/hmax.png\n",
    "fig, ax = mod.plot_basemap(\n",
    "    fn_out=None,\n",
    "    variable=None,\n",
    "    bmap=\"sat\",\n",
    "    geoms=[\"src\", \"obs\"],\n",
    "    plot_bounds=False,\n",
    "    figsize=(11, 7),\n",
    ")\n",
    "# plot overland flooding based on gswo mask and mimum flood depth\n",
    "cbar_kwargs = {\"shrink\": 0.6, \"anchor\": (0, 0)}\n",
    "cax_fld = da_hmax_fld.plot(\n",
    "    ax=ax, vmin=0, vmax=3.0, cmap=plt.cm.viridis, cbar_kwargs=cbar_kwargs\n",
    ")\n",
    "\n",
    "ax.set_title(f\"SFINCS maximum water depth\")\n",
    "# plt.savefig(join(mod.root, 'figs', 'hmax.png'), dpi=225, bbox_inches=\"tight\")"
   ]
  }
 ],
 "metadata": {
  "kernelspec": {
   "display_name": "Python 3 (ipykernel)",
   "language": "python",
   "name": "python3"
  },
  "language_info": {
   "codemirror_mode": {
    "name": "ipython",
    "version": 3
   },
   "file_extension": ".py",
   "mimetype": "text/x-python",
   "name": "python",
   "nbconvert_exporter": "python",
   "pygments_lexer": "ipython3",
   "version": "3.9.7"
  }
 },
 "nbformat": 4,
 "nbformat_minor": 4
}
