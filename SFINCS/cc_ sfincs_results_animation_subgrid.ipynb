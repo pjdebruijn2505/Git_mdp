{
 "cells": [
  {
   "cell_type": "markdown",
   "metadata": {},
   "source": [
    "## Sfincs results: animation"
   ]
  },
  {
   "attachments": {},
   "cell_type": "markdown",
   "metadata": {},
   "source": [
    "The example used in this notebook is based on a regular SFINCS model, i.e. no subgrid tables are used. In the absence of the subgrid tables, SFINCS computes the water depth by simply substracting the bed levels from the water levels. The (maximum) water depth **h(max)** is stored in the NetCDF output (*sfincs_map.nc*). \n",
    "\n",
    "How to derive maximum water depths for a model including subgrid tables is explained [in a notebook about maximum water depths](sfincs_results_hmax.ipynb). A similar downscaling approach should be applied while making animations of a subgrid model!"
   ]
  },
  {
   "cell_type": "code",
   "execution_count": 1,
   "metadata": {},
   "outputs": [],
   "source": [
    "# import dependencies\n",
    "import xarray as xr\n",
    "import numpy as np\n",
    "from os.path import join\n",
    "from pathlib import Path\n",
    "import matplotlib.pyplot as plt\n",
    "import hydromt\n",
    "from hydromt_sfincs import SfincsModel, utils"
   ]
  },
  {
   "cell_type": "markdown",
   "metadata": {},
   "source": [
    "We use the [cartopy](https://scitools.org.uk/cartopy/docs/latest/) package to plot maps. This packages provides a simple interface to plot geographic data and add background satellite imagery."
   ]
  },
  {
   "cell_type": "markdown",
   "metadata": {},
   "source": [
    "### Read model results"
   ]
  },
  {
   "cell_type": "markdown",
   "metadata": {},
   "source": [
    "The model results in sfincs_map.nc are saved as in a staggered grid format, see [SGRID convention](https://publicwiki.deltares.nl/display/NETCDF/Deltares+proposal+for+Staggered+Grid+data+model+(SGRID)). Here we show how to retrieve the face values and translate the dimensions from node indices (m, n) to (x, y) coordinates in order to plot the results on a map."
   ]
  },
  {
   "cell_type": "code",
   "execution_count": 2,
   "metadata": {},
   "outputs": [],
   "source": [
    "# select the example model\n",
    "sfincs_root = Path(r\"model/base\")  # (relative) path to sfincs root\n",
    "mod = SfincsModel(sfincs_root, mode=\"r\")"
   ]
  },
  {
   "cell_type": "code",
   "execution_count": 3,
   "metadata": {},
   "outputs": [],
   "source": [
    "# first we are going to select our highest-resolution elevation dataset\n",
    "depfile = join(sfincs_root, \"gis\", \"dep.tif\")\n",
    "\n",
    "# with the depfile on subgrid resolution this would be:\n",
    "# depfile = join(sfincs_root, \"subgrid\", \"dep_subgrid.tif\")\n",
    "\n",
    "da_dep = mod.data_catalog.get_rasterdataset(depfile)"
   ]
  },
  {
   "cell_type": "code",
   "execution_count": 4,
   "metadata": {},
   "outputs": [
    {
     "data": {
      "text/plain": [
       "['inp', 'msk', 'zb', 'zs', 'zsmax', 'total_runtime', 'average_dt']"
      ]
     },
     "execution_count": 4,
     "metadata": {},
     "output_type": "execute_result"
    }
   ],
   "source": [
    "# secondly we are reading in the model results\n",
    "mod.read_results()\n",
    "\n",
    "list(mod.results.keys())"
   ]
  },
  {
   "cell_type": "code",
   "execution_count": 5,
   "metadata": {},
   "outputs": [
    {
     "name": "stdout",
     "output_type": "stream",
     "text": [
      "<xarray.DataArray 'zs' (time: 241, y: 400, x: 120)> Size: 46MB\n",
      "dask.array<open_dataset-zs, shape=(241, 400, 120), dtype=float32, chunksize=(100, 400, 120), chunktype=numpy.ndarray>\n",
      "Coordinates:\n",
      "    yc           (y, x) float64 384kB 9.934e+06 9.934e+06 ... 9.975e+06\n",
      "    xc           (y, x) float64 384kB 5.723e+05 5.724e+05 ... 5.64e+05 5.641e+05\n",
      "    spatial_ref  int32 4B 0\n",
      "  * time         (time) datetime64[ns] 2kB 2024-03-02 ... 2024-03-12\n",
      "Dimensions without coordinates: y, x\n",
      "Attributes:\n",
      "    units:          m\n",
      "    standard_name:  sea_surface_height_above_reference_level\n",
      "    long_name:      water_level\n"
     ]
    }
   ],
   "source": [
    "# now assuming we have a subgrid model, we don't have hmax available, so we are using zsmax (maximum water levels)\n",
    "# compute the maximum over all time steps\n",
    "da_h = mod.results[\"zs\"]\n",
    "print(da_h)"
   ]
  },
  {
   "cell_type": "code",
   "execution_count": 6,
   "metadata": {},
   "outputs": [],
   "source": [
    "# thirdly, we determine the masking of the floodmap\n",
    "\n",
    "# we could use the GSWO dataset to mask permanent water in a similar way as above\n",
    "# NOTE: this is masking the water levels on the computational grid resolution\n",
    "\n",
    "# alternatively we could use a geodataframe (e.g. OpenStreetMap landareas) to mask water bodies\n",
    "# NOTE: small rivers are not masked with this geodataframe\n",
    "gdf_osm = mod.data_catalog.get_geodataframe(\"osm_landareas\")\n",
    "\n",
    "# and again, we can use a threshold to mask minimum flood depth\n",
    "hmin = 0.05"
   ]
  },
  {
   "cell_type": "code",
   "execution_count": 7,
   "metadata": {},
   "outputs": [],
   "source": [
    "# Fourthly, we downscale the floodmap\n",
    "h = utils.downscale_floodmap(\n",
    "    zsmax=da_h,\n",
    "    dep=da_dep,\n",
    "    hmin=hmin,\n",
    "    gdf_mask=gdf_osm,\n",
    "    floodmap_fn=join(sfincs_root, \"floodmap.tif\") # uncomment to save to <mod.root>/floodmap.tif\n",
    ")"
   ]
  },
  {
   "cell_type": "code",
   "execution_count": 11,
   "metadata": {},
   "outputs": [
    {
     "name": "stdout",
     "output_type": "stream",
     "text": [
      "<xarray.DataArray 'hmax' (y: 400, x: 120)> Size: 192kB\n",
      "array([[nan, nan, nan, ..., nan, nan, nan],\n",
      "       [nan, nan, nan, ..., nan, nan, nan],\n",
      "       [nan, nan, nan, ..., nan, nan, nan],\n",
      "       ...,\n",
      "       [nan, nan, nan, ..., nan, nan, nan],\n",
      "       [nan, nan, nan, ..., nan, nan, nan],\n",
      "       [nan, nan, nan, ..., nan, nan, nan]], dtype=float32)\n",
      "Coordinates:\n",
      "    yc           (y, x) float64 384kB 9.934e+06 9.934e+06 ... 9.975e+06\n",
      "    xc           (y, x) float64 384kB 5.723e+05 5.724e+05 ... 5.64e+05 5.641e+05\n",
      "    spatial_ref  int32 4B 0\n",
      "Dimensions without coordinates: y, x\n",
      "Attributes:\n",
      "    _FillValue:  nan\n",
      "    long_name:   water depth\n",
      "    units:       m\n",
      "    unit:        m\n"
     ]
    }
   ],
   "source": [
    "print(h)"
   ]
  },
  {
   "cell_type": "markdown",
   "metadata": {},
   "source": [
    "### Plot instantaneous water depths"
   ]
  },
  {
   "cell_type": "code",
   "execution_count": 8,
   "metadata": {},
   "outputs": [
    {
     "ename": "KeyError",
     "evalue": "'time'",
     "output_type": "error",
     "traceback": [
      "\u001b[1;31m---------------------------------------------------------------------------\u001b[0m",
      "\u001b[1;31mKeyError\u001b[0m                                  Traceback (most recent call last)",
      "File \u001b[1;32mc:\\Users\\pjdeb\\anaconda3\\envs\\hydromt-sfincs\\lib\\site-packages\\xarray\\core\\dataarray.py:848\u001b[0m, in \u001b[0;36mDataArray._getitem_coord\u001b[1;34m(self, key)\u001b[0m\n\u001b[0;32m    847\u001b[0m \u001b[38;5;28;01mtry\u001b[39;00m:\n\u001b[1;32m--> 848\u001b[0m     var \u001b[38;5;241m=\u001b[39m \u001b[38;5;28;43mself\u001b[39;49m\u001b[38;5;241;43m.\u001b[39;49m\u001b[43m_coords\u001b[49m\u001b[43m[\u001b[49m\u001b[43mkey\u001b[49m\u001b[43m]\u001b[49m\n\u001b[0;32m    849\u001b[0m \u001b[38;5;28;01mexcept\u001b[39;00m \u001b[38;5;167;01mKeyError\u001b[39;00m:\n",
      "\u001b[1;31mKeyError\u001b[0m: 'time'",
      "\nDuring handling of the above exception, another exception occurred:\n",
      "\u001b[1;31mKeyError\u001b[0m                                  Traceback (most recent call last)",
      "\u001b[1;32m~\\AppData\\Local\\Temp\\ipykernel_5752\\3386664803.py\u001b[0m in \u001b[0;36m?\u001b[1;34m()\u001b[0m\n\u001b[0;32m      1\u001b[0m \u001b[1;31m# h from sfincs_map contains the water depths for each cell face\u001b[0m\u001b[1;33m\u001b[0m\u001b[1;33m\u001b[0m\u001b[0m\n\u001b[0;32m      2\u001b[0m \u001b[1;31m# here we plot the water level every 4th hour\u001b[0m\u001b[1;33m\u001b[0m\u001b[1;33m\u001b[0m\u001b[0m\n\u001b[0;32m      3\u001b[0m \u001b[1;31m# h = mod.results[\"h\"].where(mod.results[\"h\"] > 0)\u001b[0m\u001b[1;33m\u001b[0m\u001b[1;33m\u001b[0m\u001b[0m\n\u001b[0;32m      4\u001b[0m \u001b[0mh\u001b[0m\u001b[1;33m.\u001b[0m\u001b[0mattrs\u001b[0m\u001b[1;33m.\u001b[0m\u001b[0mupdate\u001b[0m\u001b[1;33m(\u001b[0m\u001b[0mlong_name\u001b[0m\u001b[1;33m=\u001b[0m\u001b[1;34m\"water depth\"\u001b[0m\u001b[1;33m,\u001b[0m \u001b[0munit\u001b[0m\u001b[1;33m=\u001b[0m\u001b[1;34m\"m\"\u001b[0m\u001b[1;33m)\u001b[0m\u001b[1;33m\u001b[0m\u001b[1;33m\u001b[0m\u001b[0m\n\u001b[1;32m----> 5\u001b[1;33m \u001b[0mh\u001b[0m\u001b[1;33m.\u001b[0m\u001b[0msel\u001b[0m\u001b[1;33m(\u001b[0m\u001b[0mtime\u001b[0m\u001b[1;33m=\u001b[0m\u001b[0mh\u001b[0m\u001b[1;33m[\u001b[0m\u001b[1;34m\"time\"\u001b[0m\u001b[1;33m]\u001b[0m\u001b[1;33m.\u001b[0m\u001b[0mvalues\u001b[0m\u001b[1;33m[\u001b[0m\u001b[1;36m4\u001b[0m\u001b[1;33m:\u001b[0m\u001b[1;33m:\u001b[0m\u001b[1;36m4\u001b[0m\u001b[1;33m]\u001b[0m\u001b[1;33m)\u001b[0m\u001b[1;33m.\u001b[0m\u001b[0mplot\u001b[0m\u001b[1;33m(\u001b[0m\u001b[0mcol\u001b[0m\u001b[1;33m=\u001b[0m\u001b[1;34m\"time\"\u001b[0m\u001b[1;33m,\u001b[0m \u001b[0mcol_wrap\u001b[0m\u001b[1;33m=\u001b[0m\u001b[1;36m3\u001b[0m\u001b[1;33m,\u001b[0m \u001b[0mvmax\u001b[0m\u001b[1;33m=\u001b[0m\u001b[1;36m4\u001b[0m\u001b[1;33m)\u001b[0m\u001b[1;33m\u001b[0m\u001b[1;33m\u001b[0m\u001b[0m\n\u001b[0m",
      "\u001b[1;32mc:\\Users\\pjdeb\\anaconda3\\envs\\hydromt-sfincs\\lib\\site-packages\\xarray\\core\\dataarray.py\u001b[0m in \u001b[0;36m?\u001b[1;34m(self, key)\u001b[0m\n\u001b[0;32m    855\u001b[0m     \u001b[1;32mdef\u001b[0m \u001b[0m__getitem__\u001b[0m\u001b[1;33m(\u001b[0m\u001b[0mself\u001b[0m\u001b[1;33m,\u001b[0m \u001b[0mkey\u001b[0m\u001b[1;33m:\u001b[0m \u001b[0mAny\u001b[0m\u001b[1;33m)\u001b[0m \u001b[1;33m->\u001b[0m \u001b[0mSelf\u001b[0m\u001b[1;33m:\u001b[0m\u001b[1;33m\u001b[0m\u001b[1;33m\u001b[0m\u001b[0m\n\u001b[0;32m    856\u001b[0m         \u001b[1;32mif\u001b[0m \u001b[0misinstance\u001b[0m\u001b[1;33m(\u001b[0m\u001b[0mkey\u001b[0m\u001b[1;33m,\u001b[0m \u001b[0mstr\u001b[0m\u001b[1;33m)\u001b[0m\u001b[1;33m:\u001b[0m\u001b[1;33m\u001b[0m\u001b[1;33m\u001b[0m\u001b[0m\n\u001b[1;32m--> 857\u001b[1;33m             \u001b[1;32mreturn\u001b[0m \u001b[0mself\u001b[0m\u001b[1;33m.\u001b[0m\u001b[0m_getitem_coord\u001b[0m\u001b[1;33m(\u001b[0m\u001b[0mkey\u001b[0m\u001b[1;33m)\u001b[0m\u001b[1;33m\u001b[0m\u001b[1;33m\u001b[0m\u001b[0m\n\u001b[0m\u001b[0;32m    858\u001b[0m         \u001b[1;32melse\u001b[0m\u001b[1;33m:\u001b[0m\u001b[1;33m\u001b[0m\u001b[1;33m\u001b[0m\u001b[0m\n\u001b[0;32m    859\u001b[0m             \u001b[1;31m# xarray-style array indexing\u001b[0m\u001b[1;33m\u001b[0m\u001b[1;33m\u001b[0m\u001b[0m\n\u001b[0;32m    860\u001b[0m             \u001b[1;32mreturn\u001b[0m \u001b[0mself\u001b[0m\u001b[1;33m.\u001b[0m\u001b[0misel\u001b[0m\u001b[1;33m(\u001b[0m\u001b[0mindexers\u001b[0m\u001b[1;33m=\u001b[0m\u001b[0mself\u001b[0m\u001b[1;33m.\u001b[0m\u001b[0m_item_key_to_dict\u001b[0m\u001b[1;33m(\u001b[0m\u001b[0mkey\u001b[0m\u001b[1;33m)\u001b[0m\u001b[1;33m)\u001b[0m\u001b[1;33m\u001b[0m\u001b[1;33m\u001b[0m\u001b[0m\n",
      "\u001b[1;32mc:\\Users\\pjdeb\\anaconda3\\envs\\hydromt-sfincs\\lib\\site-packages\\xarray\\core\\dataarray.py\u001b[0m in \u001b[0;36m?\u001b[1;34m(self, key)\u001b[0m\n\u001b[0;32m    847\u001b[0m         \u001b[1;32mtry\u001b[0m\u001b[1;33m:\u001b[0m\u001b[1;33m\u001b[0m\u001b[1;33m\u001b[0m\u001b[0m\n\u001b[0;32m    848\u001b[0m             \u001b[0mvar\u001b[0m \u001b[1;33m=\u001b[0m \u001b[0mself\u001b[0m\u001b[1;33m.\u001b[0m\u001b[0m_coords\u001b[0m\u001b[1;33m[\u001b[0m\u001b[0mkey\u001b[0m\u001b[1;33m]\u001b[0m\u001b[1;33m\u001b[0m\u001b[1;33m\u001b[0m\u001b[0m\n\u001b[0;32m    849\u001b[0m         \u001b[1;32mexcept\u001b[0m \u001b[0mKeyError\u001b[0m\u001b[1;33m:\u001b[0m\u001b[1;33m\u001b[0m\u001b[1;33m\u001b[0m\u001b[0m\n\u001b[0;32m    850\u001b[0m             \u001b[0mdim_sizes\u001b[0m \u001b[1;33m=\u001b[0m \u001b[0mdict\u001b[0m\u001b[1;33m(\u001b[0m\u001b[0mzip\u001b[0m\u001b[1;33m(\u001b[0m\u001b[0mself\u001b[0m\u001b[1;33m.\u001b[0m\u001b[0mdims\u001b[0m\u001b[1;33m,\u001b[0m \u001b[0mself\u001b[0m\u001b[1;33m.\u001b[0m\u001b[0mshape\u001b[0m\u001b[1;33m)\u001b[0m\u001b[1;33m)\u001b[0m\u001b[1;33m\u001b[0m\u001b[1;33m\u001b[0m\u001b[0m\n\u001b[1;32m--> 851\u001b[1;33m             \u001b[0m_\u001b[0m\u001b[1;33m,\u001b[0m \u001b[0mkey\u001b[0m\u001b[1;33m,\u001b[0m \u001b[0mvar\u001b[0m \u001b[1;33m=\u001b[0m \u001b[0m_get_virtual_variable\u001b[0m\u001b[1;33m(\u001b[0m\u001b[0mself\u001b[0m\u001b[1;33m.\u001b[0m\u001b[0m_coords\u001b[0m\u001b[1;33m,\u001b[0m \u001b[0mkey\u001b[0m\u001b[1;33m,\u001b[0m \u001b[0mdim_sizes\u001b[0m\u001b[1;33m)\u001b[0m\u001b[1;33m\u001b[0m\u001b[1;33m\u001b[0m\u001b[0m\n\u001b[0m\u001b[0;32m    852\u001b[0m \u001b[1;33m\u001b[0m\u001b[0m\n\u001b[0;32m    853\u001b[0m         \u001b[1;32mreturn\u001b[0m \u001b[0mself\u001b[0m\u001b[1;33m.\u001b[0m\u001b[0m_replace_maybe_drop_dims\u001b[0m\u001b[1;33m(\u001b[0m\u001b[0mvar\u001b[0m\u001b[1;33m,\u001b[0m \u001b[0mname\u001b[0m\u001b[1;33m=\u001b[0m\u001b[0mkey\u001b[0m\u001b[1;33m)\u001b[0m\u001b[1;33m\u001b[0m\u001b[1;33m\u001b[0m\u001b[0m\n",
      "\u001b[1;32mc:\\Users\\pjdeb\\anaconda3\\envs\\hydromt-sfincs\\lib\\site-packages\\xarray\\core\\dataset.py\u001b[0m in \u001b[0;36m?\u001b[1;34m(variables, key, dim_sizes)\u001b[0m\n\u001b[0;32m    203\u001b[0m         \u001b[1;32mraise\u001b[0m \u001b[0mKeyError\u001b[0m\u001b[1;33m(\u001b[0m\u001b[0mkey\u001b[0m\u001b[1;33m)\u001b[0m\u001b[1;33m\u001b[0m\u001b[1;33m\u001b[0m\u001b[0m\n\u001b[0;32m    204\u001b[0m \u001b[1;33m\u001b[0m\u001b[0m\n\u001b[0;32m    205\u001b[0m     \u001b[0msplit_key\u001b[0m \u001b[1;33m=\u001b[0m \u001b[0mkey\u001b[0m\u001b[1;33m.\u001b[0m\u001b[0msplit\u001b[0m\u001b[1;33m(\u001b[0m\u001b[1;34m\".\"\u001b[0m\u001b[1;33m,\u001b[0m \u001b[1;36m1\u001b[0m\u001b[1;33m)\u001b[0m\u001b[1;33m\u001b[0m\u001b[1;33m\u001b[0m\u001b[0m\n\u001b[0;32m    206\u001b[0m     \u001b[1;32mif\u001b[0m \u001b[0mlen\u001b[0m\u001b[1;33m(\u001b[0m\u001b[0msplit_key\u001b[0m\u001b[1;33m)\u001b[0m \u001b[1;33m!=\u001b[0m \u001b[1;36m2\u001b[0m\u001b[1;33m:\u001b[0m\u001b[1;33m\u001b[0m\u001b[1;33m\u001b[0m\u001b[0m\n\u001b[1;32m--> 207\u001b[1;33m         \u001b[1;32mraise\u001b[0m \u001b[0mKeyError\u001b[0m\u001b[1;33m(\u001b[0m\u001b[0mkey\u001b[0m\u001b[1;33m)\u001b[0m\u001b[1;33m\u001b[0m\u001b[1;33m\u001b[0m\u001b[0m\n\u001b[0m\u001b[0;32m    208\u001b[0m \u001b[1;33m\u001b[0m\u001b[0m\n\u001b[0;32m    209\u001b[0m     \u001b[0mref_name\u001b[0m\u001b[1;33m,\u001b[0m \u001b[0mvar_name\u001b[0m \u001b[1;33m=\u001b[0m \u001b[0msplit_key\u001b[0m\u001b[1;33m\u001b[0m\u001b[1;33m\u001b[0m\u001b[0m\n\u001b[0;32m    210\u001b[0m     \u001b[0mref_var\u001b[0m \u001b[1;33m=\u001b[0m \u001b[0mvariables\u001b[0m\u001b[1;33m[\u001b[0m\u001b[0mref_name\u001b[0m\u001b[1;33m]\u001b[0m\u001b[1;33m\u001b[0m\u001b[1;33m\u001b[0m\u001b[0m\n",
      "\u001b[1;31mKeyError\u001b[0m: 'time'"
     ]
    }
   ],
   "source": [
    "# h from sfincs_map contains the water depths for each cell face\n",
    "# here we plot the water level every 4th hour\n",
    "# h = mod.results[\"h\"].where(mod.results[\"h\"] > 0)\n",
    "h.attrs.update(long_name=\"water depth\", unit=\"m\")\n",
    "h.sel(time=h[\"time\"].values[4::4]).plot(col=\"time\", col_wrap=3, vmax=4)"
   ]
  },
  {
   "cell_type": "code",
   "execution_count": 9,
   "metadata": {},
   "outputs": [
    {
     "ename": "KeyError",
     "evalue": "'point_h'",
     "output_type": "error",
     "traceback": [
      "\u001b[1;31m---------------------------------------------------------------------------\u001b[0m",
      "\u001b[1;31mKeyError\u001b[0m                                  Traceback (most recent call last)",
      "Cell \u001b[1;32mIn[9], line 3\u001b[0m\n\u001b[0;32m      1\u001b[0m \u001b[38;5;66;03m# point_h contains the water depths at the sfincs.obs gauge locations\u001b[39;00m\n\u001b[0;32m      2\u001b[0m \u001b[38;5;66;03m# see mod.plot_basemaps (or next figure) for the location of the observation points\u001b[39;00m\n\u001b[1;32m----> 3\u001b[0m h_point \u001b[38;5;241m=\u001b[39m \u001b[43mmod\u001b[49m\u001b[38;5;241;43m.\u001b[39;49m\u001b[43mresults\u001b[49m\u001b[43m[\u001b[49m\u001b[38;5;124;43m\"\u001b[39;49m\u001b[38;5;124;43mpoint_h\u001b[39;49m\u001b[38;5;124;43m\"\u001b[39;49m\u001b[43m]\u001b[49m\u001b[38;5;241m.\u001b[39mrename({\u001b[38;5;124m\"\u001b[39m\u001b[38;5;124mstations\u001b[39m\u001b[38;5;124m\"\u001b[39m: \u001b[38;5;124m\"\u001b[39m\u001b[38;5;124mstation_id\u001b[39m\u001b[38;5;124m\"\u001b[39m})\n\u001b[0;32m      4\u001b[0m h_point[\u001b[38;5;124m\"\u001b[39m\u001b[38;5;124mstation_id\u001b[39m\u001b[38;5;124m\"\u001b[39m] \u001b[38;5;241m=\u001b[39m h_point[\u001b[38;5;124m\"\u001b[39m\u001b[38;5;124mstation_id\u001b[39m\u001b[38;5;124m\"\u001b[39m]\u001b[38;5;241m.\u001b[39mastype(\u001b[38;5;28mint\u001b[39m)\n\u001b[0;32m      6\u001b[0m \u001b[38;5;66;03m# plot the water level at the first gauge\u001b[39;00m\n",
      "\u001b[1;31mKeyError\u001b[0m: 'point_h'"
     ]
    }
   ],
   "source": [
    "# point_h contains the water depths at the sfincs.obs gauge locations\n",
    "# see mod.plot_basemaps (or next figure) for the location of the observation points\n",
    "h_point = mod.results[\"point_h\"].rename({\"stations\": \"station_id\"})\n",
    "h_point[\"station_id\"] = h_point[\"station_id\"].astype(int)\n",
    "\n",
    "# plot the water level at the first gauge\n",
    "_ = h_point.sel({\"station_id\": 1}).plot.line(\n",
    "    x=\"time\",\n",
    ")"
   ]
  },
  {
   "cell_type": "markdown",
   "metadata": {},
   "source": [
    "### Create animation"
   ]
  },
  {
   "cell_type": "markdown",
   "metadata": {},
   "source": [
    "An animation is also simple to make with `matplotlib.animation` method. Here we add the surface water level in blue colors next to the overland flood depth with viridis colormap. "
   ]
  },
  {
   "cell_type": "code",
   "execution_count": 10,
   "metadata": {},
   "outputs": [
    {
     "ename": "KeyError",
     "evalue": "'h'",
     "output_type": "error",
     "traceback": [
      "\u001b[1;31m---------------------------------------------------------------------------\u001b[0m",
      "\u001b[1;31mKeyError\u001b[0m                                  Traceback (most recent call last)",
      "Cell \u001b[1;32mIn[10], line 3\u001b[0m\n\u001b[0;32m      1\u001b[0m \u001b[38;5;66;03m# mask water depth\u001b[39;00m\n\u001b[0;32m      2\u001b[0m hmin \u001b[38;5;241m=\u001b[39m \u001b[38;5;241m0.05\u001b[39m\n\u001b[1;32m----> 3\u001b[0m da_h \u001b[38;5;241m=\u001b[39m \u001b[43mmod\u001b[49m\u001b[38;5;241;43m.\u001b[39;49m\u001b[43mresults\u001b[49m\u001b[43m[\u001b[49m\u001b[38;5;124;43m\"\u001b[39;49m\u001b[38;5;124;43mh\u001b[39;49m\u001b[38;5;124;43m\"\u001b[39;49m\u001b[43m]\u001b[49m\u001b[38;5;241m.\u001b[39mcopy()\n\u001b[0;32m      4\u001b[0m da_h \u001b[38;5;241m=\u001b[39m da_h\u001b[38;5;241m.\u001b[39mwhere(da_h \u001b[38;5;241m>\u001b[39m hmin)\u001b[38;5;241m.\u001b[39mdrop(\u001b[38;5;124m\"\u001b[39m\u001b[38;5;124mspatial_ref\u001b[39m\u001b[38;5;124m\"\u001b[39m)\n\u001b[0;32m      5\u001b[0m da_h\u001b[38;5;241m.\u001b[39mattrs\u001b[38;5;241m.\u001b[39mupdate(long_name\u001b[38;5;241m=\u001b[39m\u001b[38;5;124m\"\u001b[39m\u001b[38;5;124mflood depth\u001b[39m\u001b[38;5;124m\"\u001b[39m, unit\u001b[38;5;241m=\u001b[39m\u001b[38;5;124m\"\u001b[39m\u001b[38;5;124mm\u001b[39m\u001b[38;5;124m\"\u001b[39m)\n",
      "\u001b[1;31mKeyError\u001b[0m: 'h'"
     ]
    }
   ],
   "source": [
    "# mask water depth\n",
    "hmin = 0.05\n",
    "da_h = mod.results[\"h\"].copy()\n",
    "da_h = da_h.where(da_h > hmin).drop(\"spatial_ref\")\n",
    "da_h.attrs.update(long_name=\"flood depth\", unit=\"m\")"
   ]
  },
  {
   "cell_type": "code",
   "execution_count": null,
   "metadata": {},
   "outputs": [],
   "source": [
    "# create hmax plot and save to mod.root/figs/sfincs_h.mp4\n",
    "# requires ffmpeg install with \"conda install ffmpeg -c conda-forge\"\n",
    "from matplotlib import animation\n",
    "\n",
    "step = 1  # one frame every <step> dtout\n",
    "cbar_kwargs = {\"shrink\": 0.6, \"anchor\": (0, 0)}\n",
    "\n",
    "\n",
    "def update_plot(i, da_h, cax_h):\n",
    "    da_hi = da_h.isel(time=i)\n",
    "    t = da_hi.time.dt.strftime(\"%d-%B-%Y %H:%M:%S\").item()\n",
    "    ax.set_title(f\"SFINCS water depth {t}\")\n",
    "    cax_h.set_array(da_hi.values.ravel())\n",
    "\n",
    "\n",
    "fig, ax = mod.plot_basemap(\n",
    "    fn_out=None, variable=\"\", bmap=\"sat\", plot_bounds=False, figsize=(11, 7)\n",
    ")\n",
    "cax_h = da_h.isel(time=0).plot(\n",
    "    x=\"xc\", y=\"yc\", ax=ax, vmin=0, vmax=3, cmap=plt.cm.viridis, cbar_kwargs=cbar_kwargs\n",
    ")\n",
    "plt.close()  # to prevent double plot\n",
    "\n",
    "ani = animation.FuncAnimation(\n",
    "    fig,\n",
    "    update_plot,\n",
    "    frames=np.arange(0, da_h.time.size, step),\n",
    "    interval=250,  # ms between frames\n",
    "    fargs=(\n",
    "        da_h,\n",
    "        cax_h,\n",
    "    ),\n",
    ")\n",
    "\n",
    "# to save to mp4\n",
    "# ani.save(join(mod.root, 'figs', 'sfincs_h.mp4'), fps=4, dpi=200)\n",
    "\n",
    "# to show in notebook:\n",
    "from IPython.display import HTML\n",
    "\n",
    "HTML(ani.to_html5_video())"
   ]
  }
 ],
 "metadata": {
  "kernelspec": {
   "display_name": "Python 3",
   "language": "python",
   "name": "python3"
  },
  "language_info": {
   "codemirror_mode": {
    "name": "ipython",
    "version": 3
   },
   "file_extension": ".py",
   "mimetype": "text/x-python",
   "name": "python",
   "nbconvert_exporter": "python",
   "pygments_lexer": "ipython3",
   "version": "3.10.13"
  }
 },
 "nbformat": 4,
 "nbformat_minor": 4
}
