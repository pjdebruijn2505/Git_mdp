{
 "cells": [
  {
   "cell_type": "markdown",
   "metadata": {},
   "source": [
    "# SFINCS Model setup"
   ]
  },
  {
   "cell_type": "markdown",
   "metadata": {},
   "source": [
    "We want to combine data from the SRTM of resolution 30 m with data by Lin et al. for the river widths."
   ]
  },
  {
   "cell_type": "code",
   "execution_count": 1,
   "metadata": {},
   "outputs": [
    {
     "name": "stdout",
     "output_type": "stream",
     "text": [
      "2024-03-06 09:53:55,557 - prepare data catalog - log - INFO - HydroMT version: 0.9.4\n"
     ]
    }
   ],
   "source": [
    "import os\n",
    "import sys\n",
    "import matplotlib.pyplot as plt\n",
    "from pathlib import Path\n",
    "import shutil\n",
    "\n",
    "import hydromt\n",
    "from hydromt.config import configread\n",
    "from hydromt.log import setuplog\n",
    "from hydromt_sfincs import SfincsModel\n",
    "\n",
    "import numpy as np\n",
    "import pandas as pd\n",
    "import geopandas as gpd\n",
    "import xarray as xr\n",
    "\n",
    "logger = setuplog(\"prepare data catalog\", log_level=10)"
   ]
  },
  {
   "cell_type": "markdown",
   "metadata": {},
   "source": [
    "**Steps followed in this notebook to build your SFINCS model:**\n",
    "<ol> \n",
    "<li> Open SfincsModel class, set data library and output folder </li>\n",
    "<li> Specify characteristics of the wanted grid </li>\n",
    "<li> Load in wanted elevation datasets </li>\n",
    "<li> Make mask of active and inactive cells </li>\n",
    "<li> Update mask with water level and outflow boundary cells</li>\n",
    "<li> Add spatially varying roughness data</li>\n",
    "<li> Make subgrid derived tables</li>\n",
    "<li> Add spatially varying infiltration data</li>\n",
    "<li> Add water level time-series as forcing</li>\n",
    "<li> Add an upstream discharge time-series as forcing</li>\n",
    "<li> Add spatially varying rainfall data</li>\n",
    "<li> Add weirfile</li>\n",
    "<li> Add observation points</li>\n",
    "<li> Add observation lines</li>\n",
    "<li> Show model</li>\n",
    "<li> Save all files</li>\n",
    "</ol> "
   ]
  },
  {
   "cell_type": "markdown",
   "metadata": {},
   "source": [
    "### 1. Initialize SfincsModel class, set data library and output folder:"
   ]
  },
  {
   "cell_type": "code",
   "execution_count": 3,
   "metadata": {},
   "outputs": [
    {
     "name": "stdout",
     "output_type": "stream",
     "text": [
      "2024-03-06 10:22:05,801 - prepare data catalog - data_catalog - INFO - Parsing data catalog from data\\1_static\\data_static.yml\n",
      "2024-03-06 10:22:05,809 - prepare data catalog - log - DEBUG - Appending log messages to file c:\\Users\\pjdeb\\OneDrive\\Documenten\\Universiteit\\CT 5\\MDP\\Git\\MDP\\SFINCS\\model\\base\\hydromt.log.\n",
      "2024-03-06 10:22:05,810 - prepare data catalog - model_api - INFO - Initializing sfincs model from hydromt_sfincs (v1.0.3).\n"
     ]
    }
   ],
   "source": [
    "model_root = Path(r\"model\")\n",
    "data_libs = [\n",
    "    Path(r\"data/1_static/data_static.yml\"),\n",
    "    #Path(r\"data/2_forcing/data_forcing.yml\"),\n",
    "]\n",
    "base_root = Path(r\"model/base\")\n",
    "model = SfincsModel(root=base_root, data_libs=data_libs, logger=logger, mode=\"w+\")\n"
   ]
  },
  {
   "cell_type": "code",
   "execution_count": 19,
   "metadata": {},
   "outputs": [
    {
     "name": "stdout",
     "output_type": "stream",
     "text": [
      "2024-03-04 18:10:51,850 - prepare data catalog - data_catalog - INFO - Parsing data catalog from data\\1_static\\data_static.yml\n",
      "2024-03-04 18:10:51,857 - prepare data catalog - model_api - INFO - Initializing sfincs model from hydromt_sfincs (v1.0.3).\n"
     ]
    },
    {
     "ename": "ValueError",
     "evalue": "Model sfincs has no method \"setup_topobathy\"",
     "output_type": "error",
     "traceback": [
      "\u001b[1;31m---------------------------------------------------------------------------\u001b[0m",
      "\u001b[1;31mValueError\u001b[0m                                Traceback (most recent call last)",
      "Cell \u001b[1;32mIn[19], line 11\u001b[0m\n\u001b[0;32m      9\u001b[0m kwargs \u001b[38;5;241m=\u001b[39m opt\u001b[38;5;241m.\u001b[39mpop(\u001b[38;5;124m\"\u001b[39m\u001b[38;5;124mglobal\u001b[39m\u001b[38;5;124m\"\u001b[39m, {})\n\u001b[0;32m     10\u001b[0m model \u001b[38;5;241m=\u001b[39m SfincsModel(root\u001b[38;5;241m=\u001b[39mbase_root, data_libs\u001b[38;5;241m=\u001b[39mdata_libs, logger\u001b[38;5;241m=\u001b[39mlogger)\n\u001b[1;32m---> 11\u001b[0m \u001b[43mmodel\u001b[49m\u001b[38;5;241;43m.\u001b[39;49m\u001b[43mbuild\u001b[49m\u001b[43m(\u001b[49m\u001b[43mregion\u001b[49m\u001b[38;5;241;43m=\u001b[39;49m\u001b[43mregion\u001b[49m\u001b[43m,\u001b[49m\u001b[43m \u001b[49m\u001b[43mopt\u001b[49m\u001b[38;5;241;43m=\u001b[39;49m\u001b[43mopt\u001b[49m\u001b[43m)\u001b[49m\n\u001b[0;32m     12\u001b[0m model\u001b[38;5;241m.\u001b[39mplot_basemap()\n",
      "File \u001b[1;32mc:\\Users\\pjdeb\\anaconda3\\envs\\hydromt-sfincs\\lib\\site-packages\\hydromt\\models\\model_api.py:232\u001b[0m, in \u001b[0;36mModel.build\u001b[1;34m(self, region, write, opt)\u001b[0m\n\u001b[0;32m    196\u001b[0m \u001b[38;5;250m\u001b[39m\u001b[38;5;124mr\u001b[39m\u001b[38;5;124;03m\"\"\"Single method to build a model from scratch based on settings in `opt`.\u001b[39;00m\n\u001b[0;32m    197\u001b[0m \n\u001b[0;32m    198\u001b[0m \u001b[38;5;124;03mMethods will be run one by one based on the order of appearance in `opt`\u001b[39;00m\n\u001b[1;32m   (...)\u001b[0m\n\u001b[0;32m    229\u001b[0m \n\u001b[0;32m    230\u001b[0m \u001b[38;5;124;03m\"\"\"\u001b[39;00m\n\u001b[0;32m    231\u001b[0m opt \u001b[38;5;241m=\u001b[39m opt \u001b[38;5;129;01mor\u001b[39;00m {}\n\u001b[1;32m--> 232\u001b[0m opt \u001b[38;5;241m=\u001b[39m \u001b[38;5;28;43mself\u001b[39;49m\u001b[38;5;241;43m.\u001b[39;49m\u001b[43m_check_get_opt\u001b[49m\u001b[43m(\u001b[49m\u001b[43mopt\u001b[49m\u001b[43m)\u001b[49m\n\u001b[0;32m    234\u001b[0m \u001b[38;5;66;03m# merge cli region and res arguments with opt\u001b[39;00m\n\u001b[0;32m    235\u001b[0m \u001b[38;5;28;01mif\u001b[39;00m region \u001b[38;5;129;01mis\u001b[39;00m \u001b[38;5;129;01mnot\u001b[39;00m \u001b[38;5;28;01mNone\u001b[39;00m:\n",
      "File \u001b[1;32mc:\\Users\\pjdeb\\anaconda3\\envs\\hydromt-sfincs\\lib\\site-packages\\hydromt\\models\\model_api.py:163\u001b[0m, in \u001b[0;36mModel._check_get_opt\u001b[1;34m(self, opt)\u001b[0m\n\u001b[0;32m    161\u001b[0m     m \u001b[38;5;241m=\u001b[39m method\u001b[38;5;241m.\u001b[39mstrip(\u001b[38;5;124m\"\u001b[39m\u001b[38;5;124m0123456789\u001b[39m\u001b[38;5;124m\"\u001b[39m)\n\u001b[0;32m    162\u001b[0m     \u001b[38;5;28;01mif\u001b[39;00m \u001b[38;5;129;01mnot\u001b[39;00m \u001b[38;5;28mcallable\u001b[39m(\u001b[38;5;28mgetattr\u001b[39m(\u001b[38;5;28mself\u001b[39m, m, \u001b[38;5;28;01mNone\u001b[39;00m)):\n\u001b[1;32m--> 163\u001b[0m         \u001b[38;5;28;01mraise\u001b[39;00m \u001b[38;5;167;01mValueError\u001b[39;00m(\u001b[38;5;124mf\u001b[39m\u001b[38;5;124m'\u001b[39m\u001b[38;5;124mModel \u001b[39m\u001b[38;5;132;01m{\u001b[39;00m\u001b[38;5;28mself\u001b[39m\u001b[38;5;241m.\u001b[39m_NAME\u001b[38;5;132;01m}\u001b[39;00m\u001b[38;5;124m has no method \u001b[39m\u001b[38;5;124m\"\u001b[39m\u001b[38;5;132;01m{\u001b[39;00mmethod\u001b[38;5;132;01m}\u001b[39;00m\u001b[38;5;124m\"\u001b[39m\u001b[38;5;124m'\u001b[39m)\n\u001b[0;32m    164\u001b[0m \u001b[38;5;28;01mreturn\u001b[39;00m opt\n",
      "\u001b[1;31mValueError\u001b[0m: Model sfincs has no method \"setup_topobathy\""
     ]
    }
   ],
   "source": []
  },
  {
   "cell_type": "code",
   "execution_count": null,
   "metadata": {},
   "outputs": [],
   "source": []
  }
 ],
 "metadata": {
  "kernelspec": {
   "display_name": "hydromt-sfincs",
   "language": "python",
   "name": "python3"
  },
  "language_info": {
   "codemirror_mode": {
    "name": "ipython",
    "version": 3
   },
   "file_extension": ".py",
   "mimetype": "text/x-python",
   "name": "python",
   "nbconvert_exporter": "python",
   "pygments_lexer": "ipython3",
   "version": "3.10.13"
  }
 },
 "nbformat": 4,
 "nbformat_minor": 2
}
