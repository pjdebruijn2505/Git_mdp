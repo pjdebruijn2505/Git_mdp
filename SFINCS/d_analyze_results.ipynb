{
 "cells": [
  {
   "cell_type": "code",
   "execution_count": 78,
   "metadata": {},
   "outputs": [],
   "source": [
    "import os\n",
    "import matplotlib.pyplot as plt\n",
    "import numpy as np\n",
    "import geopandas as gpd\n",
    "import rasterio\n",
    "import hydromt\n",
    "\n",
    "from pathlib import Path\n",
    "from osgeo import gdal\n",
    "from hydromt_sfincs import SfincsModel\n",
    "from rasterio.mask import mask\n",
    "from rasterio.features import rasterize\n",
    "from rasterio.transform import from_origin"
   ]
  },
  {
   "cell_type": "markdown",
   "metadata": {},
   "source": [
    "### Models\n",
    "Load all models and results and add them to a dictionary:"
   ]
  },
  {
   "cell_type": "code",
   "execution_count": 44,
   "metadata": {},
   "outputs": [],
   "source": [
    "model_names = os.listdir(Path(\"model\"))\n",
    "models = {}\n",
    "results = {}\n",
    "for model_name in model_names:\n",
    "    model = SfincsModel(fr\"model/{model_name}/\", mode=\"r\")\n",
    "    model.read_results()\n",
    "    \n",
    "    models[model_name] = model\n",
    "    results[model_name] = model.results"
   ]
  },
  {
   "cell_type": "code",
   "execution_count": 67,
   "metadata": {},
   "outputs": [
    {
     "name": "stdout",
     "output_type": "stream",
     "text": [
      "<xarray.Dataset> Size: 465kB\n",
      "Dimensions:      (y: 243, x: 211)\n",
      "Coordinates:\n",
      "  * y            (y) float64 2kB -6.356e+04 -6.346e+04 ... -3.946e+04 -3.936e+04\n",
      "  * x            (x) float64 2kB 4.402e+06 4.403e+06 ... 4.423e+06 4.423e+06\n",
      "    spatial_ref  int32 4B 0\n",
      "Data variables:\n",
      "    msk          (y, x) uint8 51kB 0 0 0 0 0 0 0 0 0 0 0 ... 0 0 0 0 0 0 0 0 0 0\n",
      "    scs          (y, x) float32 205kB -9.999e+03 -9.999e+03 ... -9.999e+03\n",
      "    dep          (y, x) float32 205kB nan nan nan nan nan ... nan nan nan nan\n",
      "Attributes:\n",
      "    _FillValue:  0\n"
     ]
    }
   ],
   "source": [
    "# We append 1 model as the base model, with a representative grid.\n",
    "mod0 = models[\"garissa_depth3m_fabdem_grid100\"]\n",
    "print(mod0.grid)"
   ]
  },
  {
   "cell_type": "markdown",
   "metadata": {},
   "source": [
    "### Flood maps\n",
    "Load and plot the available flood maps:"
   ]
  },
  {
   "cell_type": "code",
   "execution_count": 23,
   "metadata": {},
   "outputs": [
    {
     "name": "stdout",
     "output_type": "stream",
     "text": [
      "{'opera': ['2023-11-11', '2023-11-21', '2023-11-29'], 'unosat': ['2023-11-26', '2023-12-01']}\n"
     ]
    }
   ],
   "source": [
    "# Available floodmaps\n",
    "floodmap_names = {\n",
    "\"opera\":[\n",
    "    \"2023-11-11\",\n",
    "    \"2023-11-21\",\n",
    "    \"2023-11-29\",\n",
    "],\n",
    "\"unosat\":[\n",
    "    \"2023-11-26\",\n",
    "    \"2023-12-01\",\n",
    "]}\n",
    "print(floodmap_names)"
   ]
  },
  {
   "cell_type": "code",
   "execution_count": 25,
   "metadata": {},
   "outputs": [],
   "source": [
    "analysis_extent_path = Path(r\"data/2_floodmaps/analysis_extent_garissa.shp\")\n",
    "analysis_extent = gpd.read_file(analysis_extent_path)"
   ]
  },
  {
   "cell_type": "markdown",
   "metadata": {},
   "source": [
    "### Raster floodmap\n",
    "OPERA has a raster format."
   ]
  },
  {
   "cell_type": "code",
   "execution_count": 68,
   "metadata": {},
   "outputs": [
    {
     "name": "stdout",
     "output_type": "stream",
     "text": [
      "<xarray.Dataset> Size: 4B\n",
      "Dimensions:      ()\n",
      "Coordinates:\n",
      "    spatial_ref  int32 4B 0\n",
      "Data variables:\n",
      "    *empty*\n",
      "<xarray.Dataset> Size: 4B\n",
      "Dimensions:      ()\n",
      "Coordinates:\n",
      "    spatial_ref  int32 4B 0\n",
      "Data variables:\n",
      "    *empty*\n",
      "<xarray.Dataset> Size: 4B\n",
      "Dimensions:      ()\n",
      "Coordinates:\n",
      "    spatial_ref  int32 4B 0\n",
      "Data variables:\n",
      "    *empty*\n"
     ]
    }
   ],
   "source": [
    "floodmaps_opera = {}\n",
    "for date in floodmap_names[\"opera\"]:\n",
    "    path = Path(f\"data/2_floodmaps/opera/{date}/floodmap.tif\")\n",
    "\n",
    "    floodmap = hydromt.open_raster(path).load().astype(np.int8)\n",
    "    floodmap.raster.set_nodata(-1)\n",
    "    floodmap.raster.set_spatial_dims(x_dim=\"x\", y_dim=\"y\")\n",
    "    floodmap = floodmap.raster.reproject_like(mod0.grid, method='nearest')\n",
    "    floodmap.raster.to_raster(Path(f\"data/2_floodmaps/reprojected_maps/opera_{date}.tif\"))\n",
    "\n",
    "    floodmaps_opera[date] = floodmap    "
   ]
  },
  {
   "cell_type": "markdown",
   "metadata": {},
   "source": [
    "### Vector floodmap\n",
    "UNOSAT has a vector format. Sentinel-2 image was acquired on 26 November 2023 at 10:50 local time. Observation time on 1 December 2023 is unknown."
   ]
  },
  {
   "cell_type": "code",
   "execution_count": 89,
   "metadata": {},
   "outputs": [
    {
     "name": "stdout",
     "output_type": "stream",
     "text": [
      "{'y': <xarray.DataArray 'y' (y: 10000)> Size: 80kB\n",
      "array([-0.398445, -0.398458, -0.398471, ..., -0.526447, -0.52646 , -0.526472])\n",
      "Coordinates:\n",
      "  * y            (y) float64 80kB -0.3984 -0.3985 -0.3985 ... -0.5265 -0.5265\n",
      "    spatial_ref  int32 4B 0, 'x': <xarray.DataArray 'x' (x: 10000)> Size: 80kB\n",
      "array([39.592442, 39.592452, 39.592462, ..., 39.691702, 39.691712, 39.691722])\n",
      "Coordinates:\n",
      "  * x            (x) float64 80kB 39.59 39.59 39.59 39.59 ... 39.69 39.69 39.69\n",
      "    spatial_ref  int32 4B 0}\n",
      "{'y': <xarray.DataArray 'y' (y: 10000)> Size: 80kB\n",
      "array([-0.398304, -0.398317, -0.39833 , ..., -0.530168, -0.530181, -0.530194])\n",
      "Coordinates:\n",
      "  * y            (y) float64 80kB -0.3983 -0.3983 -0.3983 ... -0.5302 -0.5302\n",
      "    spatial_ref  int32 4B 0, 'x': <xarray.DataArray 'x' (x: 10000)> Size: 80kB\n",
      "array([39.593347, 39.593355, 39.593364, ..., 39.682432, 39.682441, 39.68245 ])\n",
      "Coordinates:\n",
      "  * x            (x) float64 80kB 39.59 39.59 39.59 39.59 ... 39.68 39.68 39.68\n",
      "    spatial_ref  int32 4B 0}\n"
     ]
    }
   ],
   "source": [
    "floodmaps_unosat = {}\n",
    "\n",
    "for date in floodmap_names[\"unosat\"]:\n",
    "    path = Path(f\"data/2_floodmaps/unosat/{date}/floodmap_raster_qgis.tif\")\n",
    "    \n",
    "    floodmap = hydromt.open_raster(path).load().astype(np.int8)\n",
    "    floodmap.raster.set_nodata(-1)\n",
    "    floodmap.raster.set_spatial_dims(x_dim=\"x\", y_dim=\"y\")\n",
    "    floodmap = floodmap.raster.reproject_like(mod0.grid, method='nearest')\n",
    "    floodmap.raster.to_raster(Path(f\"data/2_floodmaps/reprojected_maps/unosat_{date}.tif\"))\n",
    "\n",
    "    floodmaps_unosat[date] = floodmap"
   ]
  },
  {
   "cell_type": "code",
   "execution_count": 77,
   "metadata": {},
   "outputs": [
    {
     "data": {
      "text/plain": [
       "24300"
      ]
     },
     "execution_count": 77,
     "metadata": {},
     "output_type": "execute_result"
    }
   ],
   "source": [
    "# xmin = mod0.grid.x.min()\n",
    "# ymax = mod0.grid.y.max()\n",
    "# nx_mod0 = int(mod0.grid.x.shape[0])*10\n",
    "# ny_mod0 = int(mod0.grid.y.shape[0])*10\n",
    "\n",
    "# transform = from_origin(xmin, ymax, nx_mod0, ny_mod0)\n",
    "\n",
    "# # Firstly, we rasterize the vector to a grid 100 times finer than our model grid.\n",
    "# floodmap_vector = gpd.read_file(Path(f\"data/2_floodmaps/unosat/{date}/floodmap.shp\"))\n",
    "\n",
    "# floodmap_raster = rasterize(\n",
    "#     [(geom, 1) for geom in floodmap_vector.geometry], \n",
    "#     out_shape=(ny_mod0, nx_mod0),\n",
    "#     transform=transform,    # Transform to define raster georeferencing\n",
    "#     fill=0,                 # Fill value for pixels outside polygons\n",
    "#     all_touched=True,       # Use all pixels touched by geometries\n",
    "#     dtype='uint8'\n",
    "# )\n",
    "# # Save this raster to a .tif file, so we can open it again with hydromt.\n",
    "# with rasterio.open(Path(f\"data/2_floodmaps/unosat/{date}/floodmap_raster.tif\"), 'w', driver='GTiff',\n",
    "#                height=floodmap_raster.shape[0], width=floodmap_raster.shape[1],\n",
    "#                count=1, dtype=floodmap_raster.dtype,\n",
    "#                crs=floodmap_vector.crs, transform=transform) as dst:\n",
    "#     dst.write(floodmap_raster, 1)\n"
   ]
  },
  {
   "cell_type": "code",
   "execution_count": null,
   "metadata": {},
   "outputs": [],
   "source": []
  }
 ],
 "metadata": {
  "kernelspec": {
   "display_name": "sfincs",
   "language": "python",
   "name": "python3"
  },
  "language_info": {
   "codemirror_mode": {
    "name": "ipython",
    "version": 3
   },
   "file_extension": ".py",
   "mimetype": "text/x-python",
   "name": "python",
   "nbconvert_exporter": "python",
   "pygments_lexer": "ipython3",
   "version": "3.10.14"
  }
 },
 "nbformat": 4,
 "nbformat_minor": 2
}
