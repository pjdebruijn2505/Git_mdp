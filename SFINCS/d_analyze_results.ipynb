{
 "cells": [
  {
   "cell_type": "code",
   "execution_count": 37,
   "metadata": {},
   "outputs": [],
   "source": [
    "import os\n",
    "import matplotlib.pyplot as plt\n",
    "import numpy as np\n",
    "import xarray as xr\n",
    "import geopandas as gpd\n",
    "import rasterio\n",
    "import hydromt\n",
    "\n",
    "from pathlib import Path\n",
    "from osgeo import gdal\n",
    "from hydromt_sfincs import SfincsModel\n",
    "from rasterio.mask import mask\n",
    "from matplotlib.colors import ListedColormap, BoundaryNorm"
   ]
  },
  {
   "cell_type": "code",
   "execution_count": 32,
   "metadata": {},
   "outputs": [],
   "source": [
    "# Define your custom colors for floodmaps\n",
    "colors = ['blue', 'lightblue', 'white', 'grey']\n",
    "cmap = ListedColormap(colors)\n",
    "bounds = np.array([-1.5, -0.5, 0.5, 1.5, 2.5])\n",
    "norm = BoundaryNorm(bounds, cmap.N)"
   ]
  },
  {
   "cell_type": "markdown",
   "metadata": {},
   "source": [
    "### Models\n",
    "Load all models and results and add them to a dictionary:"
   ]
  },
  {
   "cell_type": "code",
   "execution_count": 2,
   "metadata": {},
   "outputs": [],
   "source": [
    "model_names = os.listdir(Path(\"model\"))\n",
    "models = {}\n",
    "results = {}\n",
    "for model_name in model_names:\n",
    "    model = SfincsModel(fr\"model/{model_name}/\", mode=\"r\")\n",
    "    model.read_results()\n",
    "    \n",
    "    models[model_name] = model\n",
    "    results[model_name] = model.results"
   ]
  },
  {
   "cell_type": "code",
   "execution_count": 3,
   "metadata": {},
   "outputs": [
    {
     "name": "stdout",
     "output_type": "stream",
     "text": [
      "<xarray.Dataset> Size: 465kB\n",
      "Dimensions:      (y: 243, x: 211)\n",
      "Coordinates:\n",
      "  * y            (y) float64 2kB -6.356e+04 -6.346e+04 ... -3.946e+04 -3.936e+04\n",
      "  * x            (x) float64 2kB 4.402e+06 4.403e+06 ... 4.423e+06 4.423e+06\n",
      "    spatial_ref  int32 4B 0\n",
      "Data variables:\n",
      "    msk          (y, x) uint8 51kB 0 0 0 0 0 0 0 0 0 0 0 ... 0 0 0 0 0 0 0 0 0 0\n",
      "    scs          (y, x) float32 205kB -9.999e+03 -9.999e+03 ... -9.999e+03\n",
      "    dep          (y, x) float32 205kB nan nan nan nan nan ... nan nan nan nan\n",
      "Attributes:\n",
      "    _FillValue:  0\n"
     ]
    }
   ],
   "source": [
    "# We append 1 model as the base model, with a representative grid.\n",
    "mod0 = models[\"garissa_depth3m_fabdem_grid100\"]\n",
    "print(mod0.grid)"
   ]
  },
  {
   "cell_type": "markdown",
   "metadata": {},
   "source": [
    "### Flood maps\n",
    "Load and plot the available flood maps:"
   ]
  },
  {
   "cell_type": "code",
   "execution_count": 4,
   "metadata": {},
   "outputs": [
    {
     "name": "stdout",
     "output_type": "stream",
     "text": [
      "{'opera': ['2023-11-11', '2023-11-21', '2023-11-29'], 'unosat': ['2023-11-26', '2023-12-01']}\n"
     ]
    }
   ],
   "source": [
    "# Available floodmaps\n",
    "floodmap_names = {\n",
    "\"opera\":[\n",
    "    \"2023-11-11\",\n",
    "    \"2023-11-21\",\n",
    "    \"2023-11-29\",\n",
    "],\n",
    "\"unosat\":[\n",
    "    \"2023-11-26\",\n",
    "    \"2023-12-01\",\n",
    "]}\n",
    "print(floodmap_names)"
   ]
  },
  {
   "cell_type": "code",
   "execution_count": 46,
   "metadata": {},
   "outputs": [],
   "source": [
    "# Each dataset has its own defined conventions, so we need to pre-process the data\n",
    "# clouds:-1, no water:0, permanent water:1, flood:2.\n",
    "data_map = {\n",
    "    \"opera\":{\n",
    "        \"2023-11-11\":{-4:1, 1:1, -3:-1},\n",
    "        \"2023-11-21\":{-4:1, 1:1, -3:-1},\n",
    "        \"2023-11-29\":{-3:-1, -1:-1, 1:1},\n",
    "    },\n",
    "    \"unosat\":{\n",
    "        \"2023-11-26\":{},\n",
    "        \"2023-12-01\":{},\n",
    "    }\n",
    "}\n",
    "\n",
    "def map_values(map, array):\n",
    "    values_in_map = np.unique(array)\n",
    "    for \n",
    "    return"
   ]
  },
  {
   "cell_type": "code",
   "execution_count": 44,
   "metadata": {},
   "outputs": [],
   "source": [
    "analysis_extent_path = Path(r\"data/2_floodmaps/analysis_extent_garissa.shp\")\n",
    "analysis_extent = gpd.read_file(analysis_extent_path)"
   ]
  },
  {
   "cell_type": "markdown",
   "metadata": {},
   "source": [
    "### Raster floodmap\n",
    "OPERA has a raster format."
   ]
  },
  {
   "cell_type": "code",
   "execution_count": 48,
   "metadata": {},
   "outputs": [
    {
     "name": "stdout",
     "output_type": "stream",
     "text": [
      "<xarray.DataArray 'data' (y: 243, x: 211)> Size: 51kB\n",
      "array([[-3, -3, -3, ..., -3, -3, -3],\n",
      "       [-3, -3, -3, ..., -3, -3, -3],\n",
      "       [-3, -3, -3, ..., -3, -3, -3],\n",
      "       ...,\n",
      "       [ 0,  0,  0, ..., -3, -3, -3],\n",
      "       [ 0,  0,  0, ..., -3, -3, -3],\n",
      "       [ 0,  0,  0, ..., -3, -3, -3]], dtype=int8)\n",
      "Coordinates:\n",
      "    spatial_ref  int32 4B 0\n",
      "  * x            (x) float64 2kB 4.402e+06 4.403e+06 ... 4.423e+06 4.423e+06\n",
      "  * y            (y) float64 2kB -6.356e+04 -6.346e+04 ... -3.946e+04 -3.936e+04\n",
      "Attributes: (12/46)\n",
      "    ACCODE:                                                                  ...\n",
      "    AEROSOL_CLASS_REMAPPING_ENABLED:                                         ...\n",
      "    AEROSOL_NOT_WATER_TO_HIGH_CONF_WATER_FMASK_VALUES:                       ...\n",
      "    AEROSOL_PARTIAL_SURFACE_AGGRESSIVE_TO_HIGH_CONF_WATER_FMASK_VALUES:      ...\n",
      "    AEROSOL_PARTIAL_SURFACE_WATER_CONSERVATIVE_TO_HIGH_CONF_WATER_FMASK_VALUE...\n",
      "    AEROSOL_WATER_MODERATE_CONF_TO_HIGH_CONF_WATER_FMASK_VALUES:             ...\n",
      "    ...                                                                          ...\n",
      "    SPATIAL_COVERAGE:                                                        ...\n",
      "    SPATIAL_COVERAGE_EXCLUDING_MASKED_OCEAN:                                 ...\n",
      "    WORLDCOVER_COVERAGE:                                                     ...\n",
      "    WORLDCOVER_SOURCE:                                                       ...\n",
      "    _FillValue:                                                              ...\n",
      "    long_name:                                                               ...\n"
     ]
    },
    {
     "ename": "AttributeError",
     "evalue": "'DataArray' object has no attribute 'ravel'",
     "output_type": "error",
     "traceback": [
      "\u001b[1;31m---------------------------------------------------------------------------\u001b[0m",
      "\u001b[1;31mAttributeError\u001b[0m                            Traceback (most recent call last)",
      "Cell \u001b[1;32mIn[48], line 19\u001b[0m\n\u001b[0;32m     17\u001b[0m \u001b[38;5;28mprint\u001b[39m(floodmap)\n\u001b[0;32m     18\u001b[0m \u001b[38;5;66;03m# Now, we re-map the data to the wanted values.\u001b[39;00m\n\u001b[1;32m---> 19\u001b[0m floodmap \u001b[38;5;241m=\u001b[39m \u001b[43mxr\u001b[49m\u001b[38;5;241;43m.\u001b[39;49m\u001b[43mapply_ufunc\u001b[49m\u001b[43m(\u001b[49m\u001b[43mmap_values\u001b[49m\u001b[43m,\u001b[49m\u001b[43m \u001b[49m\u001b[43mkwargs\u001b[49m\u001b[38;5;241;43m=\u001b[39;49m\u001b[38;5;28;43mdict\u001b[39;49m\u001b[43m(\u001b[49m\u001b[38;5;28;43mmap\u001b[39;49m\u001b[38;5;241;43m=\u001b[39;49m\u001b[43mdata_map\u001b[49m\u001b[43m,\u001b[49m\u001b[43m \u001b[49m\u001b[43marray\u001b[49m\u001b[38;5;241;43m=\u001b[39;49m\u001b[43mfloodmap\u001b[49m\u001b[43m)\u001b[49m\u001b[43m)\u001b[49m\n\u001b[0;32m     21\u001b[0m \u001b[38;5;66;03m# floodmap = map_values(data_mapping[\"opera\"][date], floodmap)\u001b[39;00m\n\u001b[0;32m     22\u001b[0m \n\u001b[0;32m     23\u001b[0m \u001b[38;5;66;03m# floodmap.raster.to_raster(Path(f\"data/2_floodmaps/reprojected_maps/opera_{date}.tif\"))\u001b[39;00m\n\u001b[0;32m     24\u001b[0m floodmaps[\u001b[38;5;124mf\u001b[39m\u001b[38;5;124m\"\u001b[39m\u001b[38;5;124mopera_\u001b[39m\u001b[38;5;132;01m{\u001b[39;00mdate\u001b[38;5;132;01m}\u001b[39;00m\u001b[38;5;124m\"\u001b[39m] \u001b[38;5;241m=\u001b[39m floodmap\n",
      "File \u001b[1;32mc:\\Users\\pjdeb\\anaconda3\\envs\\sfincs\\lib\\site-packages\\xarray\\core\\computation.py:1283\u001b[0m, in \u001b[0;36mapply_ufunc\u001b[1;34m(func, input_core_dims, output_core_dims, exclude_dims, vectorize, join, dataset_join, dataset_fill_value, keep_attrs, kwargs, dask, output_dtypes, output_sizes, meta, dask_gufunc_kwargs, on_missing_core_dim, *args)\u001b[0m\n\u001b[0;32m   1280\u001b[0m     \u001b[38;5;28;01mreturn\u001b[39;00m variables_vfunc(\u001b[38;5;241m*\u001b[39margs)\n\u001b[0;32m   1281\u001b[0m \u001b[38;5;28;01melse\u001b[39;00m:\n\u001b[0;32m   1282\u001b[0m     \u001b[38;5;66;03m# feed anything else through apply_array_ufunc\u001b[39;00m\n\u001b[1;32m-> 1283\u001b[0m     \u001b[38;5;28;01mreturn\u001b[39;00m \u001b[43mapply_array_ufunc\u001b[49m\u001b[43m(\u001b[49m\u001b[43mfunc\u001b[49m\u001b[43m,\u001b[49m\u001b[43m \u001b[49m\u001b[38;5;241;43m*\u001b[39;49m\u001b[43margs\u001b[49m\u001b[43m,\u001b[49m\u001b[43m \u001b[49m\u001b[43mdask\u001b[49m\u001b[38;5;241;43m=\u001b[39;49m\u001b[43mdask\u001b[49m\u001b[43m)\u001b[49m\n",
      "File \u001b[1;32mc:\\Users\\pjdeb\\anaconda3\\envs\\sfincs\\lib\\site-packages\\xarray\\core\\computation.py:898\u001b[0m, in \u001b[0;36mapply_array_ufunc\u001b[1;34m(func, dask, *args)\u001b[0m\n\u001b[0;32m    896\u001b[0m     \u001b[38;5;28;01melse\u001b[39;00m:\n\u001b[0;32m    897\u001b[0m         \u001b[38;5;28;01mraise\u001b[39;00m \u001b[38;5;167;01mValueError\u001b[39;00m(\u001b[38;5;124mf\u001b[39m\u001b[38;5;124m\"\u001b[39m\u001b[38;5;124munknown setting for dask array handling: \u001b[39m\u001b[38;5;132;01m{\u001b[39;00mdask\u001b[38;5;132;01m}\u001b[39;00m\u001b[38;5;124m\"\u001b[39m)\n\u001b[1;32m--> 898\u001b[0m \u001b[38;5;28;01mreturn\u001b[39;00m \u001b[43mfunc\u001b[49m\u001b[43m(\u001b[49m\u001b[38;5;241;43m*\u001b[39;49m\u001b[43margs\u001b[49m\u001b[43m)\u001b[49m\n",
      "Cell \u001b[1;32mIn[46], line 16\u001b[0m, in \u001b[0;36mmap_values\u001b[1;34m(map, array)\u001b[0m\n\u001b[0;32m     15\u001b[0m \u001b[38;5;28;01mdef\u001b[39;00m \u001b[38;5;21mmap_values\u001b[39m(\u001b[38;5;28mmap\u001b[39m, array):\n\u001b[1;32m---> 16\u001b[0m     \u001b[38;5;28;01mreturn\u001b[39;00m np\u001b[38;5;241m.\u001b[39marray([data_map[k] \u001b[38;5;28;01mfor\u001b[39;00m k \u001b[38;5;129;01min\u001b[39;00m \u001b[43marray\u001b[49m\u001b[38;5;241;43m.\u001b[39;49m\u001b[43mravel\u001b[49m()])\u001b[38;5;241m.\u001b[39mreshape(array\u001b[38;5;241m.\u001b[39mshape)\n",
      "File \u001b[1;32mc:\\Users\\pjdeb\\anaconda3\\envs\\sfincs\\lib\\site-packages\\xarray\\core\\common.py:285\u001b[0m, in \u001b[0;36mAttrAccessMixin.__getattr__\u001b[1;34m(self, name)\u001b[0m\n\u001b[0;32m    283\u001b[0m         \u001b[38;5;28;01mwith\u001b[39;00m suppress(\u001b[38;5;167;01mKeyError\u001b[39;00m):\n\u001b[0;32m    284\u001b[0m             \u001b[38;5;28;01mreturn\u001b[39;00m source[name]\n\u001b[1;32m--> 285\u001b[0m \u001b[38;5;28;01mraise\u001b[39;00m \u001b[38;5;167;01mAttributeError\u001b[39;00m(\n\u001b[0;32m    286\u001b[0m     \u001b[38;5;124mf\u001b[39m\u001b[38;5;124m\"\u001b[39m\u001b[38;5;132;01m{\u001b[39;00m\u001b[38;5;28mtype\u001b[39m(\u001b[38;5;28mself\u001b[39m)\u001b[38;5;241m.\u001b[39m\u001b[38;5;18m__name__\u001b[39m\u001b[38;5;132;01m!r}\u001b[39;00m\u001b[38;5;124m object has no attribute \u001b[39m\u001b[38;5;132;01m{\u001b[39;00mname\u001b[38;5;132;01m!r}\u001b[39;00m\u001b[38;5;124m\"\u001b[39m\n\u001b[0;32m    287\u001b[0m )\n",
      "\u001b[1;31mAttributeError\u001b[0m: 'DataArray' object has no attribute 'ravel'"
     ]
    },
    {
     "data": {
      "image/png": "[encoded data removed]",
      "text/plain": [
       "<Figure size 2400x800 with 3 Axes>"
      ]
     },
     "metadata": {},
     "output_type": "display_data"
    }
   ],
   "source": [
    "fig, axs = plt.subplots(1,3, figsize=(24, 8))\n",
    "i= 0\n",
    "\n",
    "floodmaps = {}\n",
    "\n",
    "\n",
    "for date in floodmap_names[\"opera\"]:\n",
    "    path = Path(f\"data/2_floodmaps/opera/{date}/floodmap.tif\")\n",
    "\n",
    "    # First, we open the flood map and convert it to the datatype we want.\n",
    "    floodmap = hydromt.open_raster(path).load().astype(np.int8)\n",
    "    # floodmap.raster.set_nodata(-1)\n",
    "    floodmap.raster.set_spatial_dims(x_dim=\"x\", y_dim=\"y\")\n",
    "    floodmap = floodmap.raster.reproject_like(mod0.grid, method='nearest')\n",
    "\n",
    "\n",
    "    print(floodmap)\n",
    "    # Now, we re-map the data to the wanted values.\n",
    "    floodmap = map_values(data_map, floodmap)\n",
    "\n",
    "    # floodmap.raster.to_raster(Path(f\"data/2_floodmaps/reprojected_maps/opera_{date}.tif\"))\n",
    "    floodmaps[f\"opera_{date}\"] = floodmap\n",
    "    \n",
    "    print(floodmap)\n",
    "    print(np.unique(floodmap, return_counts=True))\n",
    "    floodmap.plot(ax=axs[i], cmap=cmap, norm=norm)\n",
    "    axs[i].set_title(date)\n",
    "    axs[i].axis(\"scaled\")   \n",
    "    i+=1\n",
    "\n",
    "\n",
    "# 1\n",
    "# Water op -4 en 1, wolken op -3\n",
    "\n",
    "# 2\n",
    "# zelfde als 1\n",
    "\n",
    "# 3\n",
    "# wolken -3 en -1, water op 1\n",
    "\n",
    "# for key, floodmap in floodmaps.items():\n",
    "#     floodmap.plot(ax=axs[i])\n",
    "#     axs[i].set_title(key)\n",
    "#     i+=1\n",
    "#     axs.set_axes(\"equal\")\n",
    "\n",
    "plt.tight_layout()\n",
    "plt.show()"
   ]
  },
  {
   "cell_type": "markdown",
   "metadata": {},
   "source": [
    "### Vector floodmap\n",
    "UNOSAT has a vector format. Sentinel-2 image was acquired on 26 November 2023 at 10:50 local time. Observation time on 1 December 2023 is unknown."
   ]
  },
  {
   "cell_type": "code",
   "execution_count": 7,
   "metadata": {},
   "outputs": [],
   "source": [
    "for date in floodmap_names[\"unosat\"]:\n",
    "    path = Path(f\"data/2_floodmaps/unosat/{date}/floodmap_raster_qgis.tif\")\n",
    "    \n",
    "    floodmap = hydromt.open_raster(path).load().astype(np.int8)\n",
    "    floodmap.raster.set_nodata(-1)\n",
    "    floodmap.raster.set_spatial_dims(x_dim=\"x\", y_dim=\"y\")\n",
    "    floodmap = floodmap.raster.reproject_like(mod0.grid, method='nearest')\n",
    "    # floodmap.raster.to_raster(Path(f\"data/2_floodmaps/reprojected_maps/unosat_{date}.tif\"))\n",
    "\n",
    "    floodmaps[f\"unosat_{date}\"] = floodmap"
   ]
  },
  {
   "cell_type": "markdown",
   "metadata": {},
   "source": [
    "### Plot the flood maps"
   ]
  },
  {
   "cell_type": "code",
   "execution_count": 16,
   "metadata": {},
   "outputs": [
    {
     "ename": "AttributeError",
     "evalue": "'numpy.ndarray' object has no attribute 'set_axes'",
     "output_type": "error",
     "traceback": [
      "\u001b[1;31m---------------------------------------------------------------------------\u001b[0m",
      "\u001b[1;31mAttributeError\u001b[0m                            Traceback (most recent call last)",
      "Cell \u001b[1;32mIn[16], line 8\u001b[0m\n\u001b[0;32m      6\u001b[0m     axs[i]\u001b[38;5;241m.\u001b[39mset_title(key)\n\u001b[0;32m      7\u001b[0m     i\u001b[38;5;241m+\u001b[39m\u001b[38;5;241m=\u001b[39m\u001b[38;5;241m1\u001b[39m\n\u001b[1;32m----> 8\u001b[0m     \u001b[43maxs\u001b[49m\u001b[38;5;241;43m.\u001b[39;49m\u001b[43mset_axes\u001b[49m(\u001b[38;5;124m\"\u001b[39m\u001b[38;5;124mequal\u001b[39m\u001b[38;5;124m\"\u001b[39m)\n\u001b[0;32m      9\u001b[0m plt\u001b[38;5;241m.\u001b[39mtight_layout()\n\u001b[0;32m     10\u001b[0m plt\u001b[38;5;241m.\u001b[39mshow()\n",
      "\u001b[1;31mAttributeError\u001b[0m: 'numpy.ndarray' object has no attribute 'set_axes'"
     ]
    },
    {
     "data": {
      "image/png": "[encoded data removed]",
      "text/plain": [
       "<Figure size 640x480 with 6 Axes>"
      ]
     },
     "metadata": {},
     "output_type": "display_data"
    }
   ],
   "source": [
    "fig, axs = plt.subplots(5)\n",
    "i=0\n",
    "\n",
    "for key, floodmap in floodmaps.items():\n",
    "    floodmap.plot(ax=axs[i])\n",
    "    axs[i].set_title(key)\n",
    "    i+=1\n",
    "    axs.set_axes(\"equal\")\n",
    "plt.tight_layout()\n",
    "plt.show()"
   ]
  },
  {
   "cell_type": "code",
   "execution_count": null,
   "metadata": {},
   "outputs": [],
   "source": []
  }
 ],
 "metadata": {
  "kernelspec": {
   "display_name": "sfincs",
   "language": "python",
   "name": "python3"
  },
  "language_info": {
   "codemirror_mode": {
    "name": "ipython",
    "version": 3
   },
   "file_extension": ".py",
   "mimetype": "text/x-python",
   "name": "python",
   "nbconvert_exporter": "python",
   "pygments_lexer": "ipython3",
   "version": "3.10.14"
  }
 },
 "nbformat": 4,
 "nbformat_minor": 2
}
