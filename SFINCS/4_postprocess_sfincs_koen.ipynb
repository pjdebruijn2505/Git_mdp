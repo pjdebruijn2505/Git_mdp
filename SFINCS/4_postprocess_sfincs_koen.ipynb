{
 "cells": [
  {
   "cell_type": "code",
   "execution_count": null,
   "metadata": {},
   "outputs": [],
   "source": [
    "import matplotlib.pyplot as plt\n",
    "from hydromt_sfincs import SfincsModel, utils\n",
    "import xarray as xr\n",
    "import os\n",
    "import numpy as np\n",
    "from os.path import join\n",
    "import matplotlib.pyplot as plt\n",
    "import hydromt \n",
    "from hydromt_sfincs import SfincsModel\n",
    "from matplotlib import animation\n",
    "from hydromt.config import configread\n",
    "from hydromt.log import setuplog\n"
   ]
  },
  {
   "cell_type": "markdown",
   "metadata": {},
   "source": [
    "## Get SFINCS model"
   ]
  },
  {
   "cell_type": "code",
   "execution_count": null,
   "metadata": {},
   "outputs": [],
   "source": [
    "#sfincs_root_base = r\"c:\\git\\sfincs_alblasserwaard\\sfincs_discharge_base\"  # (relative) path to sfincs root\n",
    "\n",
    "sfincs_root = r\"c:\\USVI\\2_Modelsetup\\domain_0021\"\n",
    "#scenario_name = f\"WL_{waterlevel}_breach_{breach}_depth_adjust_{depth_adjust}\"\n",
    "\n",
    "mod = SfincsModel(sfincs_root, mode=\"r\")\n",
    "\n",
    "\n"
   ]
  },
  {
   "cell_type": "markdown",
   "metadata": {},
   "source": [
    "## Plotting maximum waterlevel"
   ]
  },
  {
   "cell_type": "code",
   "execution_count": null,
   "metadata": {},
   "outputs": [],
   "source": [
    "zs = mod.results[\"zs\"]\n",
    "zsmax = zs.max(dim='time')\n",
    "\n",
    "bed_level =  mod.results[\"zb\"].copy()\n",
    "water_level_max = zsmax - bed_level\n",
    "\n",
    "water_level_max\n",
    "\n",
    "# hmax = utils.downscale_floodmap(\n",
    "#     zsmax=water_level_max,\n",
    "#     dep=dep, #Use subgrid\n",
    "#     hmin=hmin,\n",
    "#     # gdf_mask=gdf_osm,\n",
    "#     # floodmap_fn=join(sfincs_root, \"floodmap.tif\") # uncomment to save to <mod.root>/floodmap.tif\n",
    "# )\n",
    "\n",
    "\n",
    "fig, ax = mod.plot_basemap(\n",
    "    fn_out=None,\n",
    "    variable=\"\", # no variable to plot, only basemap\n",
    "    plot_bounds=False, \n",
    "    bmap=\"sat\",\n",
    "    figsize=(11, 7),\n",
    "    zoomlevel = 12\n",
    ")\n",
    "\n",
    "\n",
    "cbar_kwargs = {\"shrink\": 0.6, \"anchor\": (0, 0)}\n",
    "cax_fld = water_level_max.plot(\n",
    "    x=\"xc\", y=\"yc\",\n",
    "    ax=ax,\n",
    "    vmin=0.0, vmax=2.0,\n",
    "    cmap=plt.cm.viridis,\n",
    "    cbar_kwargs=cbar_kwargs,\n",
    ")\n",
    "\n",
    "ax.set_title(f\"SFINCS maximum water depth\")\n",
    "#plt.savefig(join(scenario_dir, 'hmax.png'), dpi=225, bbox_inches=\"tight\")\n",
    "plt.show()\n"
   ]
  },
  {
   "cell_type": "markdown",
   "metadata": {},
   "source": [
    "## Amimation"
   ]
  },
  {
   "cell_type": "code",
   "execution_count": null,
   "metadata": {},
   "outputs": [],
   "source": [
    "print(\"Make animation\")\n",
    "\n",
    "hmin = 0.05\n",
    "da_h = mod.results[\"zs\"].copy() - mod.results[\"zb\"].copy()\n",
    "da_h = da_h.where(da_h > hmin).drop(\"spatial_ref\")\n",
    "da_h.attrs.update(long_name=\"flood depth\", unit=\"m\")\n",
    "\n",
    "step = 1  # one frame every <step> dtout\n",
    "cbar_kwargs = {\"shrink\": 0.6, \"anchor\": (0, 0)}\n",
    "\n",
    "\n",
    "def update_plot(i, da_h, cax_h):\n",
    "    da_hi = da_h.isel(time=i)\n",
    "    t = da_hi.time.dt.strftime(\"%d-%B-%Y %H:%M:%S\").item()\n",
    "    print( f\"Animation t= {t}\")\n",
    "    ax.set_title(f\"SFINCS water depth {t}\")\n",
    "    cax_h.set_array(da_hi.values.ravel())\n",
    "\n",
    "\n",
    "fig, ax = mod.plot_basemap(\n",
    "    fn_out=None, variable=\"\", bmap=\"sat\", plot_bounds=False, figsize=(11, 7)\n",
    ")\n",
    "cax_h = da_h.isel(time=0).plot(\n",
    "    x=\"xc\", y=\"yc\",\n",
    "    ax=ax,\n",
    "    vmin=0, vmax=2,\n",
    "    cmap=plt.cm.viridis,\n",
    "    cbar_kwargs=cbar_kwargs\n",
    ")\n",
    "plt.close()  # to prevent double plot\n",
    "\n",
    "ani = animation.FuncAnimation(\n",
    "    fig,\n",
    "    update_plot,\n",
    "    frames=np.arange(0, da_h.time.size, step),\n",
    "    interval=250,  # ms between frames\n",
    "    fargs=(\n",
    "        da_h,\n",
    "        cax_h,\n",
    "    ),\n",
    ")\n",
    "\n",
    "# to save to mp4\n",
    "ani.save(join(sfincs_root , 'sfincs_h.mp4'), fps=4, dpi=200)\n"
   ]
  },
  {
   "cell_type": "markdown",
   "metadata": {},
   "source": [
    "## To Geotiff"
   ]
  },
  {
   "cell_type": "code",
   "execution_count": null,
   "metadata": {},
   "outputs": [],
   "source": [
    "water_level_max.raster.to_raster(\n",
    "                                join(sfincs_root, \"gis\", \"hsmax.tif\"),\n",
    "                                driver=\"GTiff\",\n",
    "                                compress=\"deflate\",\n",
    "                            )\n",
    "\n",
    "#Let op hsmax toevoegn in hydroymsfincs broncode (sfincs.py)"
   ]
  },
  {
   "cell_type": "markdown",
   "metadata": {},
   "source": [
    "## Downscale floodmap"
   ]
  },
  {
   "cell_type": "markdown",
   "metadata": {},
   "source": [
    "\n",
    "depfile = join(sfincs_root, \"subgrid\", \"dep_subgrid.tif\")\n",
    "da_dep = mod.data_catalog.get_rasterdataset(depfile)\n",
    "\n",
    "hmin = 0.01\n",
    "\n",
    "hmax = utils.downscale_floodmap(\n",
    "    zsmax=zsmax,\n",
    "    dep=da_dep, #Use subgrid\n",
    "    hmin=hmin,\n",
    "    # gdf_mask=gdf_osm,\n",
    "    floodmap_fn=join(sfincs_root, \"subgrid\", \"floodmap.tif\") # uncomment to save to <mod.root>/floodmap.tif\n",
    ")"
   ]
  }
 ],
 "metadata": {
  "kernelspec": {
   "display_name": "hydromt-sfincs-dev",
   "language": "python",
   "name": "python3"
  },
  "language_info": {
   "codemirror_mode": {
    "name": "ipython",
    "version": 3
   },
   "file_extension": ".py",
   "mimetype": "text/x-python",
   "name": "python",
   "nbconvert_exporter": "python",
   "pygments_lexer": "ipython3",
   "version": "3.11.7"
  }
 },
 "nbformat": 4,
 "nbformat_minor": 2
}
