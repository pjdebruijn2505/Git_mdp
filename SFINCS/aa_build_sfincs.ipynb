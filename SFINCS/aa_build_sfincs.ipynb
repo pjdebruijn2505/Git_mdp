{
 "cells": [
  {
   "cell_type": "code",
   "execution_count": 1,
   "metadata": {},
   "outputs": [
    {
     "name": "stdout",
     "output_type": "stream",
     "text": [
      "2024-03-26 10:08:37,540 - prepare data catalog - log - INFO - HydroMT version: 0.9.4\n"
     ]
    }
   ],
   "source": [
    "import os\n",
    "import sys\n",
    "import matplotlib.pyplot as plt\n",
    "import numpy as np\n",
    "import geopandas as gpd\n",
    "from pathlib import Path\n",
    "\n",
    "import hydromt\n",
    "from hydromt.config import configread\n",
    "from hydromt.log import setuplog\n",
    "from hydromt_sfincs import SfincsModel, utils\n",
    "\n",
    "logger = setuplog(\"prepare data catalog\", log_level=10)"
   ]
  },
  {
   "cell_type": "code",
   "execution_count": 4,
   "metadata": {},
   "outputs": [],
   "source": [
    "model_name = \"gariss_burn\"\n",
    "\n",
    "base_root = Path(r\"model/base\")\n",
    "model_root = Path(f\"model/{model_name}\")\n",
    "data_libs = [\n",
    "    Path(r\"data/1_static/data_static_tana.yml\"),\n",
    "    #Path(r\"data/2_forcing/data_forcing.yml\"),\n",
    "]"
   ]
  },
  {
   "cell_type": "code",
   "execution_count": 5,
   "metadata": {},
   "outputs": [
    {
     "name": "stdout",
     "output_type": "stream",
     "text": [
      "2024-03-26 10:47:36,816 - prepare data catalog - data_catalog - INFO - Parsing data catalog from data\\1_static\\data_static_tana.yml\n",
      "2024-03-26 10:47:36,831 - prepare data catalog - log - DEBUG - Writing log messages to new file c:\\Users\\pjdeb\\OneDrive\\Documenten\\Universiteit\\CT 5\\MDP\\Git\\MDP\\SFINCS\\model\\base\\hydromt.log.\n",
      "2024-03-26 10:47:36,832 - prepare data catalog - model_api - INFO - Initializing sfincs model from hydromt_sfincs (v1.0.3).\n",
      "2024-03-26 10:47:36,834 - prepare data catalog - model_api - INFO - setup_grid_from_region.region: {\"geom\":region_path}\n",
      "2024-03-26 10:47:36,835 - prepare data catalog - model_api - INFO - setup_grid_from_region.res: 1000\n",
      "2024-03-26 10:47:36,835 - prepare data catalog - model_api - INFO - setup_grid_from_region.crs: 3857\n",
      "2024-03-26 10:47:36,836 - prepare data catalog - model_api - INFO - setup_grid_from_region.rotated: False\n",
      "2024-03-26 10:47:36,838 - prepare data catalog - model_api - INFO - setup_grid_from_region.hydrography_fn: None\n",
      "2024-03-26 10:47:36,838 - prepare data catalog - model_api - INFO - setup_grid_from_region.basin_index_fn: None\n",
      "2024-03-26 10:47:36,839 - prepare data catalog - model_api - INFO - setup_grid_from_region.align: False\n",
      "2024-03-26 10:47:36,839 - prepare data catalog - model_api - INFO - setup_grid_from_region.dec_origin: 0\n",
      "2024-03-26 10:47:36,840 - prepare data catalog - model_api - INFO - setup_grid_from_region.dec_rotation: 3\n"
     ]
    },
    {
     "ename": "AttributeError",
     "evalue": "'str' object has no attribute 'copy'",
     "output_type": "error",
     "traceback": [
      "\u001b[1;31m---------------------------------------------------------------------------\u001b[0m",
      "\u001b[1;31mAttributeError\u001b[0m                            Traceback (most recent call last)",
      "Cell \u001b[1;32mIn[5], line 3\u001b[0m\n\u001b[0;32m      1\u001b[0m opt \u001b[38;5;241m=\u001b[39m configread(\u001b[38;5;124m'\u001b[39m\u001b[38;5;124mbuild_sfincs.ini\u001b[39m\u001b[38;5;124m'\u001b[39m, abs_path\u001b[38;5;241m=\u001b[39m\u001b[38;5;28;01mTrue\u001b[39;00m)\n\u001b[0;32m      2\u001b[0m mod \u001b[38;5;241m=\u001b[39m SfincsModel(root\u001b[38;5;241m=\u001b[39mbase_root, data_libs\u001b[38;5;241m=\u001b[39mdata_libs, logger\u001b[38;5;241m=\u001b[39mlogger)\n\u001b[1;32m----> 3\u001b[0m \u001b[43mmod\u001b[49m\u001b[38;5;241;43m.\u001b[39;49m\u001b[43mbuild\u001b[49m\u001b[43m(\u001b[49m\u001b[43mopt\u001b[49m\u001b[38;5;241;43m=\u001b[39;49m\u001b[43mopt\u001b[49m\u001b[43m)\u001b[49m\n\u001b[0;32m      4\u001b[0m mod\u001b[38;5;241m.\u001b[39mplot_basemap()\n",
      "File \u001b[1;32mc:\\Users\\pjdeb\\anaconda3\\envs\\hydromt-sfincs\\lib\\site-packages\\hydromt\\models\\model_api.py:246\u001b[0m, in \u001b[0;36mModel.build\u001b[1;34m(self, region, write, opt)\u001b[0m\n\u001b[0;32m    244\u001b[0m         write \u001b[38;5;241m=\u001b[39m \u001b[38;5;28;01mFalse\u001b[39;00m\n\u001b[0;32m    245\u001b[0m     kwargs \u001b[38;5;241m=\u001b[39m {} \u001b[38;5;28;01mif\u001b[39;00m opt[method] \u001b[38;5;129;01mis\u001b[39;00m \u001b[38;5;28;01mNone\u001b[39;00m \u001b[38;5;28;01melse\u001b[39;00m opt[method]\n\u001b[1;32m--> 246\u001b[0m     \u001b[38;5;28mself\u001b[39m\u001b[38;5;241m.\u001b[39m_run_log_method(method, \u001b[38;5;241m*\u001b[39m\u001b[38;5;241m*\u001b[39mkwargs)\n\u001b[0;32m    248\u001b[0m \u001b[38;5;66;03m# write\u001b[39;00m\n\u001b[0;32m    249\u001b[0m \u001b[38;5;28;01mif\u001b[39;00m write:\n",
      "File \u001b[1;32mc:\\Users\\pjdeb\\anaconda3\\envs\\hydromt-sfincs\\lib\\site-packages\\hydromt\\models\\model_api.py:188\u001b[0m, in \u001b[0;36mModel._run_log_method\u001b[1;34m(self, method, *args, **kwargs)\u001b[0m\n\u001b[0;32m    186\u001b[0m     \u001b[38;5;28;01mif\u001b[39;00m v \u001b[38;5;129;01mis\u001b[39;00m \u001b[38;5;129;01mnot\u001b[39;00m inspect\u001b[38;5;241m.\u001b[39m_empty:\n\u001b[0;32m    187\u001b[0m         \u001b[38;5;28mself\u001b[39m\u001b[38;5;241m.\u001b[39mlogger\u001b[38;5;241m.\u001b[39minfo(\u001b[38;5;124mf\u001b[39m\u001b[38;5;124m\"\u001b[39m\u001b[38;5;132;01m{\u001b[39;00mmethod\u001b[38;5;132;01m}\u001b[39;00m\u001b[38;5;124m.\u001b[39m\u001b[38;5;132;01m{\u001b[39;00mk\u001b[38;5;132;01m}\u001b[39;00m\u001b[38;5;124m: \u001b[39m\u001b[38;5;132;01m{\u001b[39;00mv\u001b[38;5;132;01m}\u001b[39;00m\u001b[38;5;124m\"\u001b[39m)\n\u001b[1;32m--> 188\u001b[0m \u001b[38;5;28;01mreturn\u001b[39;00m func(\u001b[38;5;241m*\u001b[39margs, \u001b[38;5;241m*\u001b[39m\u001b[38;5;241m*\u001b[39mkwargs)\n",
      "File \u001b[1;32mc:\\Users\\pjdeb\\anaconda3\\envs\\hydromt-sfincs\\lib\\site-packages\\hydromt_sfincs\\sfincs.py:273\u001b[0m, in \u001b[0;36mSfincsModel.setup_grid_from_region\u001b[1;34m(self, region, res, crs, rotated, hydrography_fn, basin_index_fn, align, dec_origin, dec_rotation)\u001b[0m\n\u001b[0;32m    232\u001b[0m \u001b[38;5;250m\u001b[39m\u001b[38;5;124;03m\"\"\"Setup a regular or quadtree grid from a region.\u001b[39;00m\n\u001b[0;32m    233\u001b[0m \n\u001b[0;32m    234\u001b[0m \u001b[38;5;124;03mParameters\u001b[39;00m\n\u001b[1;32m   (...)\u001b[0m\n\u001b[0;32m    270\u001b[0m \u001b[38;5;124;03mhydromt.workflows.basin_mask.parse_region\u001b[39;00m\n\u001b[0;32m    271\u001b[0m \u001b[38;5;124;03m\"\"\"\u001b[39;00m\n\u001b[0;32m    272\u001b[0m \u001b[38;5;66;03m# setup `region` of interest of the model.\u001b[39;00m\n\u001b[1;32m--> 273\u001b[0m \u001b[38;5;28;43mself\u001b[39;49m\u001b[38;5;241;43m.\u001b[39;49m\u001b[43msetup_region\u001b[49m\u001b[43m(\u001b[49m\n\u001b[0;32m    274\u001b[0m \u001b[43m    \u001b[49m\u001b[43mregion\u001b[49m\u001b[38;5;241;43m=\u001b[39;49m\u001b[43mregion\u001b[49m\u001b[43m,\u001b[49m\n\u001b[0;32m    275\u001b[0m \u001b[43m    \u001b[49m\u001b[43mhydrography_fn\u001b[49m\u001b[38;5;241;43m=\u001b[39;49m\u001b[43mhydrography_fn\u001b[49m\u001b[43m,\u001b[49m\n\u001b[0;32m    276\u001b[0m \u001b[43m    \u001b[49m\u001b[43mbasin_index_fn\u001b[49m\u001b[38;5;241;43m=\u001b[39;49m\u001b[43mbasin_index_fn\u001b[49m\u001b[43m,\u001b[49m\n\u001b[0;32m    277\u001b[0m \u001b[43m\u001b[49m\u001b[43m)\u001b[49m\n\u001b[0;32m    278\u001b[0m \u001b[38;5;66;03m# get pyproj crs of best UTM zone if crs=utm\u001b[39;00m\n\u001b[0;32m    279\u001b[0m pyproj_crs \u001b[38;5;241m=\u001b[39m hydromt\u001b[38;5;241m.\u001b[39mgis_utils\u001b[38;5;241m.\u001b[39mparse_crs(\n\u001b[0;32m    280\u001b[0m     crs, \u001b[38;5;28mself\u001b[39m\u001b[38;5;241m.\u001b[39mregion\u001b[38;5;241m.\u001b[39mto_crs(\u001b[38;5;241m4326\u001b[39m)\u001b[38;5;241m.\u001b[39mtotal_bounds\n\u001b[0;32m    281\u001b[0m )\n",
      "File \u001b[1;32mc:\\Users\\pjdeb\\anaconda3\\envs\\hydromt-sfincs\\lib\\site-packages\\hydromt\\models\\model_api.py:383\u001b[0m, in \u001b[0;36mModel.setup_region\u001b[1;34m(self, region, hydrography_fn, basin_index_fn)\u001b[0m\n\u001b[0;32m    339\u001b[0m \u001b[38;5;28;01mdef\u001b[39;00m \u001b[38;5;21msetup_region\u001b[39m(\n\u001b[0;32m    340\u001b[0m     \u001b[38;5;28mself\u001b[39m,\n\u001b[0;32m    341\u001b[0m     region: \u001b[38;5;28mdict\u001b[39m,\n\u001b[0;32m    342\u001b[0m     hydrography_fn: \u001b[38;5;28mstr\u001b[39m \u001b[38;5;241m=\u001b[39m \u001b[38;5;124m\"\u001b[39m\u001b[38;5;124mmerit_hydro\u001b[39m\u001b[38;5;124m\"\u001b[39m,\n\u001b[0;32m    343\u001b[0m     basin_index_fn: \u001b[38;5;28mstr\u001b[39m \u001b[38;5;241m=\u001b[39m \u001b[38;5;124m\"\u001b[39m\u001b[38;5;124mmerit_hydro_index\u001b[39m\u001b[38;5;124m\"\u001b[39m,\n\u001b[0;32m    344\u001b[0m ) \u001b[38;5;241m-\u001b[39m\u001b[38;5;241m>\u001b[39m \u001b[38;5;28mdict\u001b[39m:\n\u001b[0;32m    345\u001b[0m \u001b[38;5;250m    \u001b[39m\u001b[38;5;124;03m\"\"\"Set the `region` of interest of the model.\u001b[39;00m\n\u001b[0;32m    346\u001b[0m \n\u001b[0;32m    347\u001b[0m \u001b[38;5;124;03m    Adds model layer:\u001b[39;00m\n\u001b[1;32m   (...)\u001b[0m\n\u001b[0;32m    381\u001b[0m \u001b[38;5;124;03m    hydromt.workflows.basin_mask.parse_region\u001b[39;00m\n\u001b[0;32m    382\u001b[0m \u001b[38;5;124;03m    \"\"\"\u001b[39;00m\n\u001b[1;32m--> 383\u001b[0m     kind, region \u001b[38;5;241m=\u001b[39m \u001b[43mworkflows\u001b[49m\u001b[38;5;241;43m.\u001b[39;49m\u001b[43mparse_region\u001b[49m\u001b[43m(\u001b[49m\n\u001b[0;32m    384\u001b[0m \u001b[43m        \u001b[49m\u001b[43mregion\u001b[49m\u001b[43m,\u001b[49m\u001b[43m \u001b[49m\u001b[43mdata_catalog\u001b[49m\u001b[38;5;241;43m=\u001b[39;49m\u001b[38;5;28;43mself\u001b[39;49m\u001b[38;5;241;43m.\u001b[39;49m\u001b[43mdata_catalog\u001b[49m\u001b[43m,\u001b[49m\u001b[43m \u001b[49m\u001b[43mlogger\u001b[49m\u001b[38;5;241;43m=\u001b[39;49m\u001b[38;5;28;43mself\u001b[39;49m\u001b[38;5;241;43m.\u001b[39;49m\u001b[43mlogger\u001b[49m\n\u001b[0;32m    385\u001b[0m \u001b[43m    \u001b[49m\u001b[43m)\u001b[49m\n\u001b[0;32m    386\u001b[0m     \u001b[38;5;66;03m# NOTE: kind=outlet is deprecated!\u001b[39;00m\n\u001b[0;32m    387\u001b[0m     \u001b[38;5;28;01mif\u001b[39;00m kind \u001b[38;5;129;01min\u001b[39;00m [\u001b[38;5;124m\"\u001b[39m\u001b[38;5;124mbasin\u001b[39m\u001b[38;5;124m\"\u001b[39m, \u001b[38;5;124m\"\u001b[39m\u001b[38;5;124msubbasin\u001b[39m\u001b[38;5;124m\"\u001b[39m, \u001b[38;5;124m\"\u001b[39m\u001b[38;5;124minterbasin\u001b[39m\u001b[38;5;124m\"\u001b[39m, \u001b[38;5;124m\"\u001b[39m\u001b[38;5;124moutlet\u001b[39m\u001b[38;5;124m\"\u001b[39m]:\n",
      "File \u001b[1;32mc:\\Users\\pjdeb\\anaconda3\\envs\\hydromt-sfincs\\lib\\site-packages\\hydromt\\workflows\\basin_mask.py:126\u001b[0m, in \u001b[0;36mparse_region\u001b[1;34m(region, logger, data_catalog)\u001b[0m\n\u001b[0;32m    124\u001b[0m \u001b[38;5;28;01mif\u001b[39;00m data_catalog \u001b[38;5;129;01mis\u001b[39;00m \u001b[38;5;28;01mNone\u001b[39;00m:\n\u001b[0;32m    125\u001b[0m     data_catalog \u001b[38;5;241m=\u001b[39m DataCatalog()\n\u001b[1;32m--> 126\u001b[0m kwargs \u001b[38;5;241m=\u001b[39m \u001b[43mregion\u001b[49m\u001b[38;5;241;43m.\u001b[39;49m\u001b[43mcopy\u001b[49m()\n\u001b[0;32m    127\u001b[0m \u001b[38;5;66;03m# NOTE: the order is important to prioritize the arguments\u001b[39;00m\n\u001b[0;32m    128\u001b[0m options \u001b[38;5;241m=\u001b[39m {\n\u001b[0;32m    129\u001b[0m     \u001b[38;5;124m\"\u001b[39m\u001b[38;5;124mbasin\u001b[39m\u001b[38;5;124m\"\u001b[39m: [\u001b[38;5;124m\"\u001b[39m\u001b[38;5;124mbasid\u001b[39m\u001b[38;5;124m\"\u001b[39m, \u001b[38;5;124m\"\u001b[39m\u001b[38;5;124mgeom\u001b[39m\u001b[38;5;124m\"\u001b[39m, \u001b[38;5;124m\"\u001b[39m\u001b[38;5;124mbbox\u001b[39m\u001b[38;5;124m\"\u001b[39m, \u001b[38;5;124m\"\u001b[39m\u001b[38;5;124mxy\u001b[39m\u001b[38;5;124m\"\u001b[39m],\n\u001b[0;32m    130\u001b[0m     \u001b[38;5;124m\"\u001b[39m\u001b[38;5;124msubbasin\u001b[39m\u001b[38;5;124m\"\u001b[39m: [\u001b[38;5;124m\"\u001b[39m\u001b[38;5;124mgeom\u001b[39m\u001b[38;5;124m\"\u001b[39m, \u001b[38;5;124m\"\u001b[39m\u001b[38;5;124mbbox\u001b[39m\u001b[38;5;124m\"\u001b[39m, \u001b[38;5;124m\"\u001b[39m\u001b[38;5;124mxy\u001b[39m\u001b[38;5;124m\"\u001b[39m],\n\u001b[1;32m   (...)\u001b[0m\n\u001b[0;32m    136\u001b[0m     \u001b[38;5;124m\"\u001b[39m\u001b[38;5;124mmesh\u001b[39m\u001b[38;5;124m\"\u001b[39m: [\u001b[38;5;124m\"\u001b[39m\u001b[38;5;124mUgridDataArray\u001b[39m\u001b[38;5;124m\"\u001b[39m],\n\u001b[0;32m    137\u001b[0m }\n",
      "\u001b[1;31mAttributeError\u001b[0m: 'str' object has no attribute 'copy'"
     ]
    }
   ],
   "source": [
    "opt = configread('build_sfincs.ini', abs_path=True)\n",
    "mod = SfincsModel(root=base_root, data_libs=data_libs, logger=logger)\n",
    "mod.build(opt=opt)\n",
    "mod.plot_basemap()"
   ]
  },
  {
   "cell_type": "code",
   "execution_count": null,
   "metadata": {},
   "outputs": [],
   "source": []
  }
 ],
 "metadata": {
  "kernelspec": {
   "display_name": "hydromt-sfincs",
   "language": "python",
   "name": "python3"
  },
  "language_info": {
   "codemirror_mode": {
    "name": "ipython",
    "version": 3
   },
   "file_extension": ".py",
   "mimetype": "text/x-python",
   "name": "python",
   "nbconvert_exporter": "python",
   "pygments_lexer": "ipython3",
   "version": "3.10.13"
  }
 },
 "nbformat": 4,
 "nbformat_minor": 2
}
