{
 "cells": [
  {
   "cell_type": "code",
   "execution_count": 1,
   "metadata": {},
   "outputs": [],
   "source": [
    "import hydromt\n",
    "\n",
    "from pathlib import Path\n",
    "from transform_data import clip_raster_with_kml, clip_vector_with_kml"
   ]
  },
  {
   "cell_type": "code",
   "execution_count": 2,
   "metadata": {},
   "outputs": [],
   "source": [
    "bbox = Path(r\"data/1_static/bbox_garissa.kml\")"
   ]
  },
  {
   "cell_type": "code",
   "execution_count": 3,
   "metadata": {},
   "outputs": [],
   "source": [
    "tana_lib = Path(r\"data/1_static/data_static_tana.yml\")\n",
    "data_catalog = hydromt.DataCatalog(data_libs=tana_lib)\n",
    "\n",
    "catalog_dict = data_catalog.to_dict()\n",
    "fpaths = []\n",
    "for key in catalog_dict.keys():\n",
    "    fpaths.append(catalog_dict[key][\"path\"])"
   ]
  },
  {
   "cell_type": "code",
   "execution_count": 4,
   "metadata": {},
   "outputs": [
    {
     "name": "stdout",
     "output_type": "stream",
     "text": [
      "Error: Output raster file was not created\n",
      "Raster clipping completed.\n"
     ]
    }
   ],
   "source": [
    "fpath = catalog_dict[\"vito\"][\"path\"]\n",
    "\n",
    "# Example usage\n",
    "input_raster = fpath\n",
    "kml_file = bbox\n",
    "output_raster = \"test.tif\"\n",
    "\n",
    "clip_raster_with_kml(input_raster, kml_file, output_raster)"
   ]
  },
  {
   "cell_type": "code",
   "execution_count": null,
   "metadata": {},
   "outputs": [],
   "source": [
    "# Example usage\n",
    "input_vector = \"input_vector.shp\"\n",
    "kml_file = \"input_kml.kml\"\n",
    "output_vector = \"clipped_vector.shp\"\n",
    "\n",
    "clip_vector_with_kml(input_vector, kml_file, output_vector)"
   ]
  }
 ],
 "metadata": {
  "kernelspec": {
   "display_name": "hydromt-sfincs",
   "language": "python",
   "name": "python3"
  },
  "language_info": {
   "codemirror_mode": {
    "name": "ipython",
    "version": 3
   },
   "file_extension": ".py",
   "mimetype": "text/x-python",
   "name": "python",
   "nbconvert_exporter": "python",
   "pygments_lexer": "ipython3",
   "version": "3.10.13"
  }
 },
 "nbformat": 4,
 "nbformat_minor": 2
}
