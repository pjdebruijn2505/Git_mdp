{
 "cells": [
  {
   "cell_type": "markdown",
   "metadata": {},
   "source": [
    "# Run a SFINCS model"
   ]
  },
  {
   "attachments": {},
   "cell_type": "markdown",
   "metadata": {},
   "source": [
    "This notebook demonstrates how to run and inspect a SFINCS model. The notebook does not contain the SFINCS code or executables to run the model with.\n",
    "Below there is explained where and how to get the SFINCS executable "
   ]
  },
  {
   "cell_type": "markdown",
   "metadata": {},
   "source": [
    "All lines in this notebook which start with `!` are executed from the command line. Within jupyter (except for jupyter lab) the logging messages are shown after completion."
   ]
  },
  {
   "cell_type": "markdown",
   "metadata": {},
   "source": [
    "### Inspecting the batch-file to run SFINCS"
   ]
  },
  {
   "attachments": {},
   "cell_type": "markdown",
   "metadata": {},
   "source": [
    "On Windows, you can run SFINCS by executing a batch-file.\n",
    "We have already prepared this for an example model called *'sfincs_compound'*.\n",
    "Let's now inspect this batch-file."
   ]
  },
  {
   "cell_type": "code",
   "execution_count": 3,
   "metadata": {},
   "outputs": [],
   "source": [
    "from pathlib import Path"
   ]
  },
  {
   "cell_type": "code",
   "execution_count": 16,
   "metadata": {},
   "outputs": [
    {
     "name": "stdout",
     "output_type": "stream",
     "text": [
      "call \"C:\\Users\\pjdeb\\OneDrive\\Documenten\\Universiteit\\CT 5\\MDP\\Git\\MDP\\SFINCS\\SFINCS\\SFINCS_v2.0.3_Cauberg_release_exe\\sfincs.exe\">sfincs_log.txt\n",
      "\n"
     ]
    }
   ],
   "source": [
    "fn = Path(\"tmp_sfincs_compound/run.bat\")\n",
    "with open(fn, \"r\") as f:\n",
    "    txt = f.read()\n",
    "print(txt)"
   ]
  },
  {
   "attachments": {},
   "cell_type": "markdown",
   "metadata": {},
   "source": [
    "**Explanation of what is in the batch file:**\n",
    "\n",
    "* 'call' means here that an executable has to be run.\n",
    "* ..\\sfincs_exe\\ is the folder where the executable 'sfincs.exe' is located\n",
    "* The '>sfincs_log.txt' means that the output should be written to a log-file called 'sfincs_log.txt'"
   ]
  },
  {
   "attachments": {},
   "cell_type": "markdown",
   "metadata": {},
   "source": [
    "If you don't have SFINCS yet, download SFINCS from here: https://download.deltares.nl/en/download/sfincs/\n",
    "\n",
    "Then open the file *'run.bat'* in any text editor, and add the folder of where you have saved the SFINCS executable *'sfincs.exe'*.\n",
    "\n",
    "e.g. to *\"c:\\SFINCS_download\\sfincs.exe\"*"
   ]
  },
  {
   "cell_type": "markdown",
   "metadata": {},
   "source": [
    "###  Open log file\n",
    "\n",
    "Let's see whether this log-file with information of SFINCS output information is already available"
   ]
  },
  {
   "cell_type": "code",
   "execution_count": 17,
   "metadata": {},
   "outputs": [
    {
     "name": "stdout",
     "output_type": "stream",
     "text": [
      "\n"
     ]
    }
   ],
   "source": [
    "fn = Path(\"tmp_sfincs_compound/sfincs_log.txt\")\n",
    "with open(fn, \"r\") as f:\n",
    "    txt = f.read()\n",
    "print(txt)"
   ]
  },
  {
   "cell_type": "markdown",
   "metadata": {},
   "source": [
    "In case you get an error message, this means that the log-file is not available, and SFINCS has not run yet.\n",
    "\n",
    "Let's now do this..."
   ]
  },
  {
   "cell_type": "markdown",
   "metadata": {},
   "source": [
    "### Now let's try to run this batch-file"
   ]
  },
  {
   "cell_type": "code",
   "execution_count": 18,
   "metadata": {},
   "outputs": [],
   "source": [
    "import os\n",
    "\n",
    "run_path = Path(\"tmp_sfincs_compound\")\n",
    "\n",
    "cur_dir = os.getcwd()\n",
    "\n",
    "# uncomment to run sfincs\n",
    "os.chdir(run_path)\n",
    "os.system(\"run.bat\")\n",
    "os.chdir(cur_dir)"
   ]
  },
  {
   "attachments": {},
   "cell_type": "markdown",
   "metadata": {},
   "source": [
    "* It should now take less than a minute or so for the SFINCS simulation to finish (not available on Binder)\n",
    "* We can now have a look at the log-file"
   ]
  },
  {
   "cell_type": "markdown",
   "metadata": {},
   "source": [
    "### Created log-file"
   ]
  },
  {
   "cell_type": "code",
   "execution_count": 19,
   "metadata": {},
   "outputs": [
    {
     "name": "stdout",
     "output_type": "stream",
     "text": [
      "\n",
      " ----------- Welcome to SFINCS -----------\n",
      "\n",
      "  @@@@@  @@@@@@@ @@ @@  @@   @@@@   @@@@@ \n",
      " @@@ @@@ @@@@@@@ @@ @@@ @@ @@@@@@@ @@@ @@@\n",
      " @@@     @@      @@ @@@ @@ @@   @@ @@@    \n",
      "  @@@@@  @@@@@@  @@ @@@@@@ @@       @@@@@ \n",
      "     @@@ @@      @@ @@ @@@ @@   @@     @@@\n",
      " @@@ @@@ @@      @@ @@  @@  @@@@@@ @@@ @@@\n",
      "  @@@@@  @@      @@ @@   @   @@@@   @@@@@ \n",
      "\n",
      "              ..............              \n",
      "          ......:@@@@@@@@:......          \n",
      "       ..::::..@@........@@.:::::..       \n",
      "     ..:::::..@@..::..::..@@.::::::..     \n",
      "    .::::::..@@............@@.:::::::.    \n",
      "   .::::::..@@..............@@.:::::::.   \n",
      "  .::::::::..@@............@@..::::::::.  \n",
      " .:::::::::...@@.@..@@..@.@@..::::::::::. \n",
      " .:::::::::...:@@@..@@..@@@:..:::::::::.. \n",
      " ............@@.@@..@@..@@.@@............ \n",
      " ^^^~~^^~~^^@@..............@@^^^~^^^~~^^ \n",
      " .::::::::::@@..............@@.:::::::::. \n",
      "  .......:.@@.....@.....@....@@.:.......  \n",
      "   .::....@@......@.@@@.@....@@.....::.   \n",
      "    .:::~@@.:...:.@@...@@.:.:.@@~::::.    \n",
      "     .::~@@@@@@@@@@.....@@@@@@@@@~::.     \n",
      "       ..:~~~~~~~:.......:~~~~~~~:..      \n",
      "          ......................          \n",
      "              ..............              \n",
      "\n",
      " -----------------------------------------\n",
      "\n",
      " Build-Revision: $Rev: v2.0.3-Cauberg\n",
      " Build-Date:     $Date: 2023-11-15\n",
      "\n",
      " Reading input file ...\n",
      " Info : Running SFINCS in subgrid mode ...\n",
      " Turning on process: Viscosity, with nuvisc=   0.5000000    \n",
      " Reading meteo data ...\n",
      " Reading FEWS compatible NetCDF type precipitation input ...\n",
      " Info : Preparing SFINCS grid on regular mesh ...\n",
      " Turning on process: Precipitation\n",
      " Turning on flag: meteo3d\n",
      " Reading index file : sfincs.ind ...\n",
      " Reading mask file : sfincs.msk ...\n",
      " Number of active z points    :        20359\n",
      " Number of active u/v points  :        40364\n",
      " Computing cell centre coordinates ...\n",
      " Reading sfincs.sbg ...\n",
      " Turning on process: Infiltration (via Curve Number method - A)\n",
      " Reading sfincs.scs\n",
      " Reading weir file ...\n",
      "         156  structure u/v points found\n",
      " Reading water level boundaries ...\n",
      " Reading observation points ...\n",
      " Observation point 1 : \"obs_001\" nm=3952 n=40 m=52 iref=1 z=-2.000\n",
      " Observation point 2 : \"obs_002\" nm=16903 n=34 m=207 iref=1 z=-4.000\n",
      " Observation point 3 : \"obs_003\" nm=9880 n=95 m=124 iref=1 z=-2.214\n",
      " Reading cross sections ...\n",
      " Reading discharges ...\n",
      " Initializing output ...\n",
      "\n",
      " ---------- Starting simulation ----------\n",
      "\n",
      "   0% complete,       - s remaining ...\n",
      "   5% complete,    11.9 s remaining ...\n",
      "  10% complete,    11.3 s remaining ...\n",
      "  15% complete,    11.2 s remaining ...\n",
      "  20% complete,    10.8 s remaining ...\n",
      "  25% complete,    10.4 s remaining ...\n",
      "  30% complete,    10.8 s remaining ...\n",
      "  35% complete,    11.0 s remaining ...\n",
      "  40% complete,    10.9 s remaining ...\n",
      "  45% complete,    10.7 s remaining ...\n",
      "  50% complete,     9.8 s remaining ...\n",
      "  55% complete,     9.3 s remaining ...\n",
      "  60% complete,     8.6 s remaining ...\n",
      "  65% complete,     7.8 s remaining ...\n",
      "  70% complete,     6.8 s remaining ...\n",
      "  75% complete,     5.7 s remaining ...\n",
      "  80% complete,     4.6 s remaining ...\n",
      "  85% complete,     3.6 s remaining ...\n",
      "  90% complete,     2.5 s remaining ...\n",
      "  95% complete,     1.3 s remaining ...\n",
      " 100% complete,     0.0 s remaining ...\n",
      "\n",
      " ---------- Simulation finished ----------\n",
      "\n",
      " Total time             :     25.323\n",
      " Total simulation time  :     25.181\n",
      " Time in input          :      0.142\n",
      " Time in boundaries     :      1.293 (  5.1%)\n",
      " Time in discharges     :      0.018 (  0.1%)\n",
      " Time in meteo fields   :      0.064 (  0.3%)\n",
      " Time in meteo forcing  :      1.743 (  6.9%)\n",
      " Time in momentum       :     15.704 ( 62.4%)\n",
      " Time in structures     :      0.123 (  0.5%)\n",
      " Time in continuity     :      4.255 ( 16.9%)\n",
      " Time in output         :      0.263 (  1.0%)\n",
      "\n",
      " Average time step (s)  :      3.108\n",
      "\n",
      " ---------- Closing off SFINCS -----------\n",
      "\n"
     ]
    }
   ],
   "source": [
    "fn = Path(\"tmp_sfincs_compound/sfincs_log.txt\")\n",
    "with open(fn, \"r\") as f:\n",
    "    txt = f.read()\n",
    "print(txt)"
   ]
  },
  {
   "cell_type": "markdown",
   "metadata": {},
   "source": [
    "Now we actually should have output!\n",
    "\n",
    "You have run your first SFINCS model."
   ]
  },
  {
   "cell_type": "markdown",
   "metadata": {},
   "source": [
    "### Created netcdf output files"
   ]
  },
  {
   "cell_type": "markdown",
   "metadata": {},
   "source": [
    "Let's now inspect what files there are situated in the folder of the model setup:"
   ]
  },
  {
   "cell_type": "code",
   "execution_count": 20,
   "metadata": {},
   "outputs": [
    {
     "name": "stdout",
     "output_type": "stream",
     "text": [
      "['figs', 'gis', 'hydromt.log', 'hydromt_data.yml', 'precip_2d.nc', 'run.bat', 'sfincs.bnd', 'sfincs.bzs', 'sfincs.crs', 'sfincs.dis', 'sfincs.ind', 'sfincs.inp', 'sfincs.msk', 'sfincs.obs', 'sfincs.sbg', 'sfincs.scs', 'sfincs.src', 'sfincs.weir', 'sfincs_his.nc', 'sfincs_log.txt', 'sfincs_map.nc', 'subgrid']\n"
     ]
    }
   ],
   "source": [
    "path = Path(\"tmp_sfincs_compound\")\n",
    "\n",
    "dir_list = os.listdir(path)\n",
    "\n",
    "# prints all files\n",
    "print(dir_list)"
   ]
  },
  {
   "attachments": {},
   "cell_type": "markdown",
   "metadata": {},
   "source": [
    "We see here the earlier inspected log-file *'sfincs_log.txt'*\n",
    "\n",
    "Do you additionally see the files *'sfincs_map.nc'* and *'sfincs_his.nc'* ?\n",
    "\n",
    "These are output files of SFINCS, containing the model results in the common NetCDF format."
   ]
  },
  {
   "attachments": {},
   "cell_type": "markdown",
   "metadata": {},
   "source": [
    "### Continue to postprocessing and visualization"
   ]
  },
  {
   "attachments": {},
   "cell_type": "markdown",
   "metadata": {},
   "source": [
    "You can now continue to the notebook(s):\n",
    "\n",
    "- [Example: Maximum water depth](sfincs_results_hmax.ipynb)\n",
    "- [Example: Animation](sfincs_results_animation.ipynb)"
   ]
  }
 ],
 "metadata": {
  "kernelspec": {
   "display_name": "Python 3 (ipykernel)",
   "language": "python",
   "name": "python3"
  },
  "language_info": {
   "codemirror_mode": {
    "name": "ipython",
    "version": 3
   },
   "file_extension": ".py",
   "mimetype": "text/x-python",
   "name": "python",
   "nbconvert_exporter": "python",
   "pygments_lexer": "ipython3",
   "version": "3.10.13"
  },
  "vscode": {
   "interpreter": {
    "hash": "279caf9d0aef916ca877f8986f7dcbece9b492e90eb95f7626b621f6217a2bb3"
   }
  }
 },
 "nbformat": 4,
 "nbformat_minor": 4
}
