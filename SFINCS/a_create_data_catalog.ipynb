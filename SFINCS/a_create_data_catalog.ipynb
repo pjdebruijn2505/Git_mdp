{
 "cells": [
  {
   "cell_type": "markdown",
   "metadata": {},
   "source": [
    "We want to combine data from the SRTM of resolution 30 m with data by Lin et al. for the river widths."
   ]
  },
  {
   "cell_type": "code",
   "execution_count": 3,
   "metadata": {},
   "outputs": [
    {
     "name": "stdout",
     "output_type": "stream",
     "text": [
      "2024-03-01 16:22:02,302 - prepare data catalog - log - INFO - HydroMT version: 0.9.4\n"
     ]
    }
   ],
   "source": [
    "import os\n",
    "import sys\n",
    "import matplotlib.pyplot as plt\n",
    "from pathlib import Path\n",
    "import shutil\n",
    "\n",
    "import hydromt\n",
    "from hydromt_sfincs import SfincsModel\n",
    "from hydromt.log import setuplog\n",
    "from hydromt_sfincs import utils\n",
    "import numpy as np\n",
    "import pandas as pd\n",
    "import geopandas as gpd\n",
    "\n",
    "logger = setuplog(\"prepare data catalog\", log_level=10)"
   ]
  },
  {
   "cell_type": "code",
   "execution_count": 11,
   "metadata": {},
   "outputs": [],
   "source": [
    "datayml = f\"\"\"\n",
    "meta:\n",
    "    name: Tana\n",
    "tana_dem:\n",
    "    path: data/STRM30DEM.tif\n",
    "    data_type: RasterDataset\n",
    "    driver: raster\n",
    "    crs: 4326\n",
    "    meta:\n",
    "        category: topography\n",
    "\"\"\"\n",
    "\n",
    "data_lib = \"tana.yml\"    # This is the name you use later\n",
    "with open(data_lib, mode=\"w\") as f:\n",
    "    f.write(datayml)"
   ]
  },
  {
   "cell_type": "code",
   "execution_count": 13,
   "metadata": {},
   "outputs": [
    {
     "name": "stdout",
     "output_type": "stream",
     "text": [
      "2024-03-01 16:27:04,206 - prepare data catalog - data_catalog - INFO - Parsing data catalog from Tana.yml\n",
      "2024-03-01 16:27:04,209 - prepare data catalog - data_catalog - INFO - Parsing data catalog from Tana.yml\n"
     ]
    },
    {
     "data": {
      "text/html": [
       "<div>\n",
       "<style scoped>\n",
       "    .dataframe tbody tr th:only-of-type {\n",
       "        vertical-align: middle;\n",
       "    }\n",
       "\n",
       "    .dataframe tbody tr th {\n",
       "        vertical-align: top;\n",
       "    }\n",
       "\n",
       "    .dataframe thead th {\n",
       "        text-align: right;\n",
       "    }\n",
       "</style>\n",
       "<table border=\"1\" class=\"dataframe\">\n",
       "  <thead>\n",
       "    <tr style=\"text-align: right;\">\n",
       "      <th></th>\n",
       "      <th>provider</th>\n",
       "      <th>version</th>\n",
       "      <th>path</th>\n",
       "      <th>data_type</th>\n",
       "      <th>driver</th>\n",
       "      <th>category</th>\n",
       "    </tr>\n",
       "    <tr>\n",
       "      <th>name</th>\n",
       "      <th></th>\n",
       "      <th></th>\n",
       "      <th></th>\n",
       "      <th></th>\n",
       "      <th></th>\n",
       "      <th></th>\n",
       "    </tr>\n",
       "  </thead>\n",
       "  <tbody>\n",
       "    <tr>\n",
       "      <th>tana_dem</th>\n",
       "      <td>None</td>\n",
       "      <td>None</td>\n",
       "      <td>c:\\Users\\pjdeb\\OneDrive\\Documenten\\Universitei...</td>\n",
       "      <td>RasterDataset</td>\n",
       "      <td>raster</td>\n",
       "      <td>topography</td>\n",
       "    </tr>\n",
       "  </tbody>\n",
       "</table>\n",
       "</div>"
      ],
      "text/plain": [
       "         provider version                                               path  \\\n",
       "name                                                                           \n",
       "tana_dem     None    None  c:\\Users\\pjdeb\\OneDrive\\Documenten\\Universitei...   \n",
       "\n",
       "              data_type  driver    category  \n",
       "name                                         \n",
       "tana_dem  RasterDataset  raster  topography  "
      ]
     },
     "execution_count": 13,
     "metadata": {},
     "output_type": "execute_result"
    }
   ],
   "source": [
    "data_catalog = hydromt.DataCatalog(data_libs=[data_lib], logger=logger)\n",
    "data_catalog.from_yml(data_lib)"
   ]
  },
  {
   "cell_type": "code",
   "execution_count": null,
   "metadata": {},
   "outputs": [],
   "source": [
    "yml_str = f\"\"\"\n",
    "meta:\n",
    "  root: rivers_lin\n",
    "\n",
    "rivers_lin:\n",
    "  data_type: GeoDataFrame\n",
    "  driver: vector\n",
    "  meta:\n",
    "    category: hydrography\n",
    "  path: rivers_lin2019_v1.gpkg\n",
    "\"\"\"\n",
    "# overwrite data catalog\n",
    "data_lib = \"tmpdir/rivers.yml\"\n",
    "with open(data_lib, mode=\"w\") as f:\n",
    "    f.write(yml_str)"
   ]
  }
 ],
 "metadata": {
  "kernelspec": {
   "display_name": "hydromt-sfincs",
   "language": "python",
   "name": "python3"
  },
  "language_info": {
   "codemirror_mode": {
    "name": "ipython",
    "version": 3
   },
   "file_extension": ".py",
   "mimetype": "text/x-python",
   "name": "python",
   "nbconvert_exporter": "python",
   "pygments_lexer": "ipython3",
   "version": "3.10.13"
  }
 },
 "nbformat": 4,
 "nbformat_minor": 2
}
