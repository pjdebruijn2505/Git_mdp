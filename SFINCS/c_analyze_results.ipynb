{
 "cells": [
  {
   "cell_type": "code",
   "execution_count": 1,
   "metadata": {},
   "outputs": [],
   "source": [
    "import matplotlib.pyplot as plt\n",
    "import numpy as np\n",
    "\n",
    "from pathlib import Path\n",
    "from hydromt_sfincs import SfincsModel\n",
    "from matplotlib import animation"
   ]
  },
  {
   "cell_type": "markdown",
   "metadata": {},
   "source": [
    "Load model."
   ]
  },
  {
   "cell_type": "code",
   "execution_count": 2,
   "metadata": {},
   "outputs": [],
   "source": [
    "# select the example model\n",
    "sfincs_root = Path(r\"model/base_garissa\")  # (relative) path to sfincs root\n",
    "model = SfincsModel(sfincs_root, mode=\"r\")"
   ]
  },
  {
   "cell_type": "markdown",
   "metadata": {},
   "source": [
    "Read results:"
   ]
  },
  {
   "cell_type": "code",
   "execution_count": 3,
   "metadata": {},
   "outputs": [
    {
     "name": "stdout",
     "output_type": "stream",
     "text": [
      "dict_keys(['inp', 'msk', 'zb', 'zs', 'zsmax', 'total_runtime', 'average_dt'])\n"
     ]
    }
   ],
   "source": [
    "model.read_results()\n",
    "\n",
    "print(model.results.keys())"
   ]
  },
  {
   "cell_type": "markdown",
   "metadata": {},
   "source": [
    "### Creating an animation\n",
    "\n",
    "This code is used to create animation of the depth."
   ]
  },
  {
   "cell_type": "code",
   "execution_count": 5,
   "metadata": {},
   "outputs": [
    {
     "ename": "RuntimeError",
     "evalue": "Requested MovieWriter (ffmpeg) not available",
     "output_type": "error",
     "traceback": [
      "\u001b[1;31m---------------------------------------------------------------------------\u001b[0m",
      "\u001b[1;31mRuntimeError\u001b[0m                              Traceback (most recent call last)",
      "Cell \u001b[1;32mIn[5], line 41\u001b[0m\n\u001b[0;32m     38\u001b[0m \u001b[38;5;66;03m# # to show in notebook:\u001b[39;00m\n\u001b[0;32m     39\u001b[0m \u001b[38;5;28;01mfrom\u001b[39;00m \u001b[38;5;21;01mIPython\u001b[39;00m\u001b[38;5;21;01m.\u001b[39;00m\u001b[38;5;21;01mdisplay\u001b[39;00m \u001b[38;5;28;01mimport\u001b[39;00m HTML\n\u001b[1;32m---> 41\u001b[0m HTML(\u001b[43mani\u001b[49m\u001b[38;5;241;43m.\u001b[39;49m\u001b[43mto_html5_video\u001b[49m\u001b[43m(\u001b[49m\u001b[43m)\u001b[49m)\n\u001b[0;32m     43\u001b[0m \u001b[38;5;66;03m# from IPython.display import Video\u001b[39;00m\n\u001b[0;32m     44\u001b[0m \n\u001b[0;32m     45\u001b[0m \u001b[38;5;66;03m# # Save animation as a video file\u001b[39;00m\n\u001b[1;32m   (...)\u001b[0m\n\u001b[0;32m     48\u001b[0m \u001b[38;5;66;03m# # Display the saved video\u001b[39;00m\n\u001b[0;32m     49\u001b[0m \u001b[38;5;66;03m# Video(\"animation.mp4\", width=600)\u001b[39;00m\n",
      "File \u001b[1;32mc:\\Users\\pjdeb\\anaconda3\\envs\\sfincs\\lib\\site-packages\\matplotlib\\animation.py:1285\u001b[0m, in \u001b[0;36mAnimation.to_html5_video\u001b[1;34m(self, embed_limit)\u001b[0m\n\u001b[0;32m   1282\u001b[0m path \u001b[38;5;241m=\u001b[39m Path(tmpdir, \u001b[38;5;124m\"\u001b[39m\u001b[38;5;124mtemp.m4v\u001b[39m\u001b[38;5;124m\"\u001b[39m)\n\u001b[0;32m   1283\u001b[0m \u001b[38;5;66;03m# We create a writer manually so that we can get the\u001b[39;00m\n\u001b[0;32m   1284\u001b[0m \u001b[38;5;66;03m# appropriate size for the tag\u001b[39;00m\n\u001b[1;32m-> 1285\u001b[0m Writer \u001b[38;5;241m=\u001b[39m \u001b[43mwriters\u001b[49m\u001b[43m[\u001b[49m\u001b[43mmpl\u001b[49m\u001b[38;5;241;43m.\u001b[39;49m\u001b[43mrcParams\u001b[49m\u001b[43m[\u001b[49m\u001b[38;5;124;43m'\u001b[39;49m\u001b[38;5;124;43manimation.writer\u001b[39;49m\u001b[38;5;124;43m'\u001b[39;49m\u001b[43m]\u001b[49m\u001b[43m]\u001b[49m\n\u001b[0;32m   1286\u001b[0m writer \u001b[38;5;241m=\u001b[39m Writer(codec\u001b[38;5;241m=\u001b[39m\u001b[38;5;124m'\u001b[39m\u001b[38;5;124mh264\u001b[39m\u001b[38;5;124m'\u001b[39m,\n\u001b[0;32m   1287\u001b[0m                 bitrate\u001b[38;5;241m=\u001b[39mmpl\u001b[38;5;241m.\u001b[39mrcParams[\u001b[38;5;124m'\u001b[39m\u001b[38;5;124manimation.bitrate\u001b[39m\u001b[38;5;124m'\u001b[39m],\n\u001b[0;32m   1288\u001b[0m                 fps\u001b[38;5;241m=\u001b[39m\u001b[38;5;241m1000.\u001b[39m \u001b[38;5;241m/\u001b[39m \u001b[38;5;28mself\u001b[39m\u001b[38;5;241m.\u001b[39m_interval)\n\u001b[0;32m   1289\u001b[0m \u001b[38;5;28mself\u001b[39m\u001b[38;5;241m.\u001b[39msave(\u001b[38;5;28mstr\u001b[39m(path), writer\u001b[38;5;241m=\u001b[39mwriter)\n",
      "File \u001b[1;32mc:\\Users\\pjdeb\\anaconda3\\envs\\sfincs\\lib\\site-packages\\matplotlib\\animation.py:148\u001b[0m, in \u001b[0;36mMovieWriterRegistry.__getitem__\u001b[1;34m(self, name)\u001b[0m\n\u001b[0;32m    146\u001b[0m \u001b[38;5;28;01mif\u001b[39;00m \u001b[38;5;28mself\u001b[39m\u001b[38;5;241m.\u001b[39mis_available(name):\n\u001b[0;32m    147\u001b[0m     \u001b[38;5;28;01mreturn\u001b[39;00m \u001b[38;5;28mself\u001b[39m\u001b[38;5;241m.\u001b[39m_registered[name]\n\u001b[1;32m--> 148\u001b[0m \u001b[38;5;28;01mraise\u001b[39;00m \u001b[38;5;167;01mRuntimeError\u001b[39;00m(\u001b[38;5;124mf\u001b[39m\u001b[38;5;124m\"\u001b[39m\u001b[38;5;124mRequested MovieWriter (\u001b[39m\u001b[38;5;132;01m{\u001b[39;00mname\u001b[38;5;132;01m}\u001b[39;00m\u001b[38;5;124m) not available\u001b[39m\u001b[38;5;124m\"\u001b[39m)\n",
      "\u001b[1;31mRuntimeError\u001b[0m: Requested MovieWriter (ffmpeg) not available"
     ]
    }
   ],
   "source": [
    "zs = model.results[\"zs\"]\n",
    "zsmax = zs.max(dim='time')\n",
    " \n",
    "bed_level =  model.results[\"zb\"].copy()\n",
    "water_level_max = zsmax - bed_level\n",
    "\n",
    "# Create quick video\n",
    "water_level_max = model.results[\"zs\"].copy()\n",
    "\n",
    "step = 1  # one frame every <step> dtout\n",
    "cbar_kwargs = {\"shrink\": 0.6, \"anchor\": (0, 0)}\n",
    "\n",
    "def update_plot(i, water_level_max, cax_h):\n",
    "    water_level_max = water_level_max.isel(time=i)\n",
    "    t = water_level_max.time.dt.strftime(\"%d-%B-%Y %H:%M:%S\").item()\n",
    "    ax.set_title(f\"SFINCS water depth {t}\")\n",
    "    cax_h.set_array(water_level_max.values.ravel())\n",
    "\n",
    "fig, ax = model.plot_basemap(\n",
    "    fn_out=None, variable=\"\", bmap=\"sat\", plot_bounds=False, figsize=(7, 7)\n",
    ")\n",
    "cax_h = water_level_max.isel(time=0).plot(\n",
    "    x=\"x\", y=\"y\", ax=ax, \n",
    "    vmin=0.0, vmax=6.0,\n",
    "    cmap=plt.cm.viridis,\n",
    "    alpha=0.75, cbar_kwargs=cbar_kwargs)\n",
    "\n",
    "plt.close()  # to prevent double plot\n",
    "\n",
    "ani = animation.FuncAnimation(\n",
    "    fig,\n",
    "    update_plot,\n",
    "    frames=np.arange(0, water_level_max.time.size, step),\n",
    "    interval=250,  # ms between frames\n",
    "    fargs=(water_level_max, cax_h,),\n",
    ")\n",
    "\n",
    "# # to show in notebook:\n",
    "from IPython.display import HTML\n",
    "\n",
    "HTML(ani.to_html5_video())\n",
    "\n",
    "# from IPython.display import Video\n",
    "\n",
    "# # Save animation as a video file\n",
    "# ani.save('animation.mp4', fps=30,)\n",
    "\n",
    "# # Display the saved video\n",
    "# Video(\"animation.mp4\", width=600)"
   ]
  },
  {
   "cell_type": "markdown",
   "metadata": {},
   "source": [
    "### Determining the maximum flood depth\n",
    "This code is used to determine the maximum flood depth over the simulation."
   ]
  },
  {
   "cell_type": "code",
   "execution_count": null,
   "metadata": {},
   "outputs": [],
   "source": [
    "zs = model.results[\"zs\"]\n",
    "zsmax = zs.max(dim='time')\n",
    " \n",
    "bed_level =  model.results[\"zb\"].copy()\n",
    "water_level_max = zsmax - bed_level\n",
    " \n",
    "water_level_max\n",
    " \n",
    "# hmax = utils.downscale_floodmap(\n",
    "#     zsmax=water_level_max,\n",
    "#     dep=dep, #Use subgrid\n",
    "#     hmin=hmin,\n",
    "#     # gdf_mask=gdf_osm,\n",
    "#     # floodmap_fn=join(sfincs_root, \"floodmap.tif\") # uncomment to save to <mod.root>/floodmap.tif\n",
    "# )\n",
    " \n",
    " \n",
    " \n",
    "fig, ax = model.plot_basemap(\n",
    "    fn_out=None,\n",
    "    variable=\"\", # no variable to plot, only basemap\n",
    "    plot_bounds=False,\n",
    "    bmap=\"sat\",\n",
    "    figsize=(11, 7),\n",
    "    zoomlevel = 12\n",
    ")\n",
    " \n",
    " \n",
    "cbar_kwargs = {\"shrink\": 0.6, \"anchor\": (0, 0)}\n",
    "cax_fld = water_level_max.plot(\n",
    "    x=\"x\", y=\"y\",\n",
    "    ax=ax,\n",
    "    vmin=0.0, vmax=6.0,\n",
    "    cmap=plt.cm.viridis,\n",
    "    cbar_kwargs=cbar_kwargs,\n",
    ")\n",
    " \n",
    "ax.set_title(f\"SFINCS maximum water depth\")\n",
    "#plt.savefig(join(scenario_dir, 'hmax.png'), dpi=225, bbox_inches=\"tight\")\n",
    "plt.show() "
   ]
  }
 ],
 "metadata": {
  "kernelspec": {
   "display_name": "hydromt-sfincs",
   "language": "python",
   "name": "python3"
  },
  "language_info": {
   "codemirror_mode": {
    "name": "ipython",
    "version": 3
   },
   "file_extension": ".py",
   "mimetype": "text/x-python",
   "name": "python",
   "nbconvert_exporter": "python",
   "pygments_lexer": "ipython3",
   "version": "3.10.14"
  }
 },
 "nbformat": 4,
 "nbformat_minor": 2
}
