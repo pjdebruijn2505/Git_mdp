{
 "cells": [
  {
   "cell_type": "code",
   "execution_count": 1,
   "metadata": {},
   "outputs": [],
   "source": [
    "import os\n",
    "from pathlib import Path"
   ]
  },
  {
   "cell_type": "code",
   "execution_count": 2,
   "metadata": {},
   "outputs": [],
   "source": [
    "model = \"garissa_depth3m_fabdem_grid100\""
   ]
  },
  {
   "cell_type": "code",
   "execution_count": 3,
   "metadata": {},
   "outputs": [
    {
     "name": "stdout",
     "output_type": "stream",
     "text": [
      "call \"C:\\Users\\pjdeb\\OneDrive\\Documenten\\Universiteit\\CT 5\\MDP\\Git\\MDP\\SFINCS\\SFINCS\\SFINCS_v2.0.3_Cauberg_release_exe\\sfincs.exe\">sfincs_log.txt\n",
      "\n"
     ]
    }
   ],
   "source": [
    "fn = Path(f\"model/{model}/run.bat\")\n",
    "with open(fn, \"r\") as f:\n",
    "    txt = f.read()\n",
    "print(txt)\n",
    "\n",
    "run_path = Path(f\"model/{model}\")\n",
    "\n",
    "cur_dir = os.getcwd()\n",
    "\n",
    "# uncomment to run sfincs\n",
    "os.chdir(run_path)\n",
    "os.system(\"run.bat\")\n",
    "os.chdir(cur_dir)"
   ]
  },
  {
   "cell_type": "code",
   "execution_count": 4,
   "metadata": {},
   "outputs": [
    {
     "name": "stdout",
     "output_type": "stream",
     "text": [
      "\n",
      " ----------- Welcome to SFINCS -----------\n",
      "\n",
      "  @@@@@  @@@@@@@ @@ @@  @@   @@@@   @@@@@ \n",
      " @@@ @@@ @@@@@@@ @@ @@@ @@ @@@@@@@ @@@ @@@\n",
      " @@@     @@      @@ @@@ @@ @@   @@ @@@    \n",
      "  @@@@@  @@@@@@  @@ @@@@@@ @@       @@@@@ \n",
      "     @@@ @@      @@ @@ @@@ @@   @@     @@@\n",
      " @@@ @@@ @@      @@ @@  @@  @@@@@@ @@@ @@@\n",
      "  @@@@@  @@      @@ @@   @   @@@@   @@@@@ \n",
      "\n",
      "              ..............              \n",
      "          ......:@@@@@@@@:......          \n",
      "       ..::::..@@........@@.:::::..       \n",
      "     ..:::::..@@..::..::..@@.::::::..     \n",
      "    .::::::..@@............@@.:::::::.    \n",
      "   .::::::..@@..............@@.:::::::.   \n",
      "  .::::::::..@@............@@..::::::::.  \n",
      " .:::::::::...@@.@..@@..@.@@..::::::::::. \n",
      " .:::::::::...:@@@..@@..@@@:..:::::::::.. \n",
      " ............@@.@@..@@..@@.@@............ \n",
      " ^^^~~^^~~^^@@..............@@^^^~^^^~~^^ \n",
      " .::::::::::@@..............@@.:::::::::. \n",
      "  .......:.@@.....@.....@....@@.:.......  \n",
      "   .::....@@......@.@@@.@....@@.....::.   \n",
      "    .:::~@@.:...:.@@...@@.:.:.@@~::::.    \n",
      "     .::~@@@@@@@@@@.....@@@@@@@@@~::.     \n",
      "       ..:~~~~~~~:.......:~~~~~~~:..      \n",
      "          ......................          \n",
      "              ..............              \n",
      "\n",
      " -----------------------------------------\n",
      "\n",
      " Build-Revision: $Rev: v2.0.3-Cauberg\n",
      " Build-Date:     $Date: 2023-11-15\n",
      "\n",
      " Reading input file ...\n",
      " Info : Running SFINCS in subgrid mode ...\n",
      " Turning on process: Viscosity, with nuvisc=    1.000000    \n",
      " Reading meteo data ...\n",
      " Info : Preparing SFINCS grid on regular mesh ...\n",
      " Reading index file : sfincs.ind ...\n",
      " Reading mask file : sfincs.msk ...\n",
      " Number of active z points    :        34975\n",
      " Number of active u/v points  :        69494\n",
      " Computing cell centre coordinates ...\n",
      " Reading sfincs.sbg ...\n",
      " Warning : Boundary points found in mask, without boundary conditions. Using wat\n",
      " er level of 0.0 m at these points\n",
      " Reading discharges ...\n",
      " Initializing output ...\n",
      "\n",
      " ---------- Starting simulation ----------\n",
      "\n",
      "   0% complete,       - s remaining ...\n",
      "   5% complete,   253.8 s remaining ...\n",
      "  10% complete,   258.4 s remaining ...\n",
      "  15% complete,   261.9 s remaining ...\n",
      "  20% complete,   265.0 s remaining ...\n",
      "  25% complete,   251.8 s remaining ...\n",
      "  30% complete,   240.6 s remaining ...\n",
      "  35% complete,   229.6 s remaining ...\n",
      "  40% complete,   209.7 s remaining ...\n",
      "  45% complete,   196.4 s remaining ...\n",
      "  50% complete,   183.1 s remaining ...\n",
      "  55% complete,   175.5 s remaining ...\n",
      "  60% complete,   168.2 s remaining ...\n",
      "  65% complete,   163.5 s remaining ...\n",
      "  70% complete,   156.3 s remaining ...\n",
      "  75% complete,   144.5 s remaining ...\n",
      "  80% complete,   131.4 s remaining ...\n",
      "  85% complete,   103.5 s remaining ...\n",
      "  90% complete,    71.6 s remaining ...\n",
      "  95% complete,    37.0 s remaining ...\n",
      " 100% complete,     0.0 s remaining ...\n",
      "\n",
      " ---------- Simulation finished ----------\n",
      "\n",
      " Total time             :    754.075\n",
      " Total simulation time  :    753.927\n",
      " Time in input          :      0.148\n",
      " Time in boundaries     :      9.454 (  1.3%)\n",
      " Time in discharges     :      0.892 (  0.1%)\n",
      " Time in momentum       :    508.441 ( 67.4%)\n",
      " Time in continuity     :    198.897 ( 26.4%)\n",
      " Time in output         :     34.492 (  4.6%)\n",
      "\n",
      " Average time step (s)  :      6.138\n",
      "\n",
      " ---------- Closing off SFINCS -----------\n",
      "\n"
     ]
    }
   ],
   "source": [
    "fn = Path(f\"model/{model}/sfincs_log.txt\")\n",
    "with open(fn, \"r\") as f:\n",
    "    txt = f.read()\n",
    "print(txt)"
   ]
  },
  {
   "cell_type": "code",
   "execution_count": 5,
   "metadata": {},
   "outputs": [],
   "source": [
    "# path = Path(r\"model/base\")\n",
    "\n",
    "# dir_list = os.listdir(path)\n",
    "\n",
    "# # prints all files\n",
    "# pprint(dir_list)"
   ]
  },
  {
   "cell_type": "code",
   "execution_count": null,
   "metadata": {},
   "outputs": [],
   "source": []
  }
 ],
 "metadata": {
  "kernelspec": {
   "display_name": "hydromt-sfincs",
   "language": "python",
   "name": "python3"
  },
  "language_info": {
   "codemirror_mode": {
    "name": "ipython",
    "version": 3
   },
   "file_extension": ".py",
   "mimetype": "text/x-python",
   "name": "python",
   "nbconvert_exporter": "python",
   "pygments_lexer": "ipython3",
   "version": "3.10.14"
  }
 },
 "nbformat": 4,
 "nbformat_minor": 2
}
