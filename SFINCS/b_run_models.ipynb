{
 "cells": [
  {
   "cell_type": "code",
   "execution_count": 1,
   "metadata": {},
   "outputs": [],
   "source": [
    "import os\n",
    "from pathlib import Path"
   ]
  },
  {
   "cell_type": "code",
   "execution_count": 2,
   "metadata": {},
   "outputs": [],
   "source": [
    "models_to_run = [\n",
    "    \"garissa_depth2m_fabdem_grid100_avg_lin\",\n",
    "]"
   ]
  },
  {
   "cell_type": "code",
   "execution_count": 3,
   "metadata": {},
   "outputs": [
    {
     "name": "stdout",
     "output_type": "stream",
     "text": [
      "call \"C:\\Users\\pjdeb\\OneDrive\\Documenten\\Universiteit\\CT 5\\MDP\\Git\\MDP\\SFINCS\\SFINCS\\SFINCS_v2.0.3_Cauberg_release_exe\\sfincs.exe\">sfincs_log.txt\n",
      "\n"
     ]
    }
   ],
   "source": [
    "for model in models_to_run:\n",
    "    fn = Path(f\"model/{model}/run.bat\")\n",
    "    with open(fn, \"r\") as f:\n",
    "        txt = f.read()\n",
    "    print(txt)\n",
    "\n",
    "    run_path = Path(f\"model/{model}\")\n",
    "\n",
    "    cur_dir = os.getcwd()\n",
    "\n",
    "    # uncomment to run sfincs\n",
    "    os.chdir(run_path)\n",
    "    os.system(\"run.bat\")\n",
    "    os.chdir(cur_dir)"
   ]
  },
  {
   "cell_type": "code",
   "execution_count": 4,
   "metadata": {},
   "outputs": [
    {
     "name": "stdout",
     "output_type": "stream",
     "text": [
      "\n",
      " ----------- Welcome to SFINCS -----------\n",
      "\n",
      "  @@@@@  @@@@@@@ @@ @@  @@   @@@@   @@@@@ \n",
      " @@@ @@@ @@@@@@@ @@ @@@ @@ @@@@@@@ @@@ @@@\n",
      " @@@     @@      @@ @@@ @@ @@   @@ @@@    \n",
      "  @@@@@  @@@@@@  @@ @@@@@@ @@       @@@@@ \n",
      "     @@@ @@      @@ @@ @@@ @@   @@     @@@\n",
      " @@@ @@@ @@      @@ @@  @@  @@@@@@ @@@ @@@\n",
      "  @@@@@  @@      @@ @@   @   @@@@   @@@@@ \n",
      "\n",
      "              ..............              \n",
      "          ......:@@@@@@@@:......          \n",
      "       ..::::..@@........@@.:::::..       \n",
      "     ..:::::..@@..::..::..@@.::::::..     \n",
      "    .::::::..@@............@@.:::::::.    \n",
      "   .::::::..@@..............@@.:::::::.   \n",
      "  .::::::::..@@............@@..::::::::.  \n",
      " .:::::::::...@@.@..@@..@.@@..::::::::::. \n",
      " .:::::::::...:@@@..@@..@@@:..:::::::::.. \n",
      " ............@@.@@..@@..@@.@@............ \n",
      " ^^^~~^^~~^^@@..............@@^^^~^^^~~^^ \n",
      " .::::::::::@@..............@@.:::::::::. \n",
      "  .......:.@@.....@.....@....@@.:.......  \n",
      "   .::....@@......@.@@@.@....@@.....::.   \n",
      "    .:::~@@.:...:.@@...@@.:.:.@@~::::.    \n",
      "     .::~@@@@@@@@@@.....@@@@@@@@@~::.     \n",
      "       ..:~~~~~~~:.......:~~~~~~~:..      \n",
      "          ......................          \n",
      "              ..............              \n",
      "\n",
      " -----------------------------------------\n",
      "\n",
      " Build-Revision: $Rev: v2.0.3-Cauberg\n",
      " Build-Date:     $Date: 2023-11-15\n",
      "\n",
      " Reading input file ...\n",
      " Info : Running SFINCS in subgrid mode ...\n",
      " Turning on process: Viscosity, with nuvisc=    1.000000    \n",
      " Reading meteo data ...\n",
      " Info : Preparing SFINCS grid on regular mesh ...\n",
      " Reading index file : sfincs.ind ...\n",
      " Reading mask file : sfincs.msk ...\n",
      " Number of active z points    :        34975\n",
      " Number of active u/v points  :        69494\n",
      " Computing cell centre coordinates ...\n",
      " Reading sfincs.sbg ...\n",
      " Warning : Boundary points found in mask, without boundary conditions. Using wat\n",
      " er level of 0.0 m at these points\n",
      " Reading discharges ...\n",
      " Initializing output ...\n",
      "\n",
      " ---------- Starting simulation ----------\n",
      "\n",
      "   0% complete,       - s remaining ...\n",
      "   5% complete,   476.6 s remaining ...\n",
      "  10% complete,   446.7 s remaining ...\n",
      "  15% complete,   424.8 s remaining ...\n",
      "  20% complete,   402.1 s remaining ...\n",
      "  25% complete,   402.8 s remaining ...\n",
      "  30% complete,   386.6 s remaining ...\n",
      "  35% complete,   372.5 s remaining ...\n",
      "  40% complete,   351.4 s remaining ...\n",
      "  45% complete,   345.1 s remaining ...\n",
      "  50% complete,   336.7 s remaining ...\n",
      "  55% complete,   322.3 s remaining ...\n",
      "  60% complete,   310.1 s remaining ...\n",
      "  65% complete,   281.3 s remaining ...\n",
      "  70% complete,   248.7 s remaining ...\n",
      "  75% complete,   216.1 s remaining ...\n",
      "  80% complete,   174.2 s remaining ...\n",
      "  85% complete,   132.3 s remaining ...\n",
      "  90% complete,    88.7 s remaining ...\n",
      "  95% complete,    44.8 s remaining ...\n",
      " 100% complete,     0.0 s remaining ...\n",
      "\n",
      " ---------- Simulation finished ----------\n",
      "\n",
      " Total time             :    916.637\n",
      " Total simulation time  :    916.451\n",
      " Time in input          :      0.186\n",
      " Time in boundaries     :      9.370 (  1.0%)\n",
      " Time in discharges     :      0.943 (  0.1%)\n",
      " Time in momentum       :    622.104 ( 67.9%)\n",
      " Time in continuity     :    245.104 ( 26.7%)\n",
      " Time in output         :     34.661 (  3.8%)\n",
      "\n",
      " Average time step (s)  :      6.432\n",
      "\n",
      " ---------- Closing off SFINCS -----------\n",
      "\n"
     ]
    }
   ],
   "source": [
    "fn = Path(f\"model/{model}/sfincs_log.txt\")\n",
    "with open(fn, \"r\") as f:\n",
    "    txt = f.read()\n",
    "print(txt)"
   ]
  },
  {
   "cell_type": "code",
   "execution_count": 5,
   "metadata": {},
   "outputs": [],
   "source": [
    "# path = Path(r\"model/base\")\n",
    "\n",
    "# dir_list = os.listdir(path)\n",
    "\n",
    "# # prints all files\n",
    "# pprint(dir_list)"
   ]
  },
  {
   "cell_type": "code",
   "execution_count": null,
   "metadata": {},
   "outputs": [],
   "source": []
  }
 ],
 "metadata": {
  "kernelspec": {
   "display_name": "hydromt-sfincs",
   "language": "python",
   "name": "python3"
  },
  "language_info": {
   "codemirror_mode": {
    "name": "ipython",
    "version": 3
   },
   "file_extension": ".py",
   "mimetype": "text/x-python",
   "name": "python",
   "nbconvert_exporter": "python",
   "pygments_lexer": "ipython3",
   "version": "3.10.14"
  }
 },
 "nbformat": 4,
 "nbformat_minor": 2
}
