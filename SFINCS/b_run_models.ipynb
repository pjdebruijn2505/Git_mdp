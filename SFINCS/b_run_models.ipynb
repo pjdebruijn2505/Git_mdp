{
 "cells": [
  {
   "cell_type": "code",
   "execution_count": 1,
   "metadata": {},
   "outputs": [],
   "source": [
    "import os\n",
    "from pprint import pprint\n",
    "from pathlib import Path"
   ]
  },
  {
   "cell_type": "code",
   "execution_count": null,
   "metadata": {},
   "outputs": [],
   "source": [
    "models_to_run = [\n",
    "    \"base_garissa\",\n",
    "    \n",
    "]"
   ]
  },
  {
   "cell_type": "code",
   "execution_count": 2,
   "metadata": {},
   "outputs": [
    {
     "name": "stdout",
     "output_type": "stream",
     "text": [
      "call \"C:\\Users\\pjdeb\\OneDrive\\Documenten\\Universiteit\\CT 5\\MDP\\Git\\MDP\\SFINCS\\SFINCS\\SFINCS_v2.0.3_Cauberg_release_exe\\sfincs.exe\">sfincs_log.txt\n",
      "\n"
     ]
    }
   ],
   "source": [
    "for model in models_to_run:\n",
    "    fn = Path(f\"model/{model}/run.bat\")\n",
    "    with open(fn, \"r\") as f:\n",
    "        txt = f.read()\n",
    "    print(txt)\n",
    "\n",
    "    run_path = Path(f\"model/{model}\")\n",
    "\n",
    "    cur_dir = os.getcwd()\n",
    "\n",
    "    # uncomment to run sfincs\n",
    "    os.chdir(run_path)\n",
    "    os.system(\"run.bat\")\n",
    "    os.chdir(cur_dir)"
   ]
  },
  {
   "cell_type": "code",
   "execution_count": 3,
   "metadata": {},
   "outputs": [
    {
     "name": "stdout",
     "output_type": "stream",
     "text": [
      "\n",
      " ----------- Welcome to SFINCS -----------\n",
      "\n",
      "  @@@@@  @@@@@@@ @@ @@  @@   @@@@   @@@@@ \n",
      " @@@ @@@ @@@@@@@ @@ @@@ @@ @@@@@@@ @@@ @@@\n",
      " @@@     @@      @@ @@@ @@ @@   @@ @@@    \n",
      "  @@@@@  @@@@@@  @@ @@@@@@ @@       @@@@@ \n",
      "     @@@ @@      @@ @@ @@@ @@   @@     @@@\n",
      " @@@ @@@ @@      @@ @@  @@  @@@@@@ @@@ @@@\n",
      "  @@@@@  @@      @@ @@   @   @@@@   @@@@@ \n",
      "\n",
      "              ..............              \n",
      "          ......:@@@@@@@@:......          \n",
      "       ..::::..@@........@@.:::::..       \n",
      "     ..:::::..@@..::..::..@@.::::::..     \n",
      "    .::::::..@@............@@.:::::::.    \n",
      "   .::::::..@@..............@@.:::::::.   \n",
      "  .::::::::..@@............@@..::::::::.  \n",
      " .:::::::::...@@.@..@@..@.@@..::::::::::. \n",
      " .:::::::::...:@@@..@@..@@@:..:::::::::.. \n",
      " ............@@.@@..@@..@@.@@............ \n",
      " ^^^~~^^~~^^@@..............@@^^^~^^^~~^^ \n",
      " .::::::::::@@..............@@.:::::::::. \n",
      "  .......:.@@.....@.....@....@@.:.......  \n",
      "   .::....@@......@.@@@.@....@@.....::.   \n",
      "    .:::~@@.:...:.@@...@@.:.:.@@~::::.    \n",
      "     .::~@@@@@@@@@@.....@@@@@@@@@~::.     \n",
      "       ..:~~~~~~~:.......:~~~~~~~:..      \n",
      "          ......................          \n",
      "              ..............              \n",
      "\n",
      " -----------------------------------------\n",
      "\n",
      " Build-Revision: $Rev: v2.0.3-Cauberg\n",
      " Build-Date:     $Date: 2023-11-15\n",
      "\n",
      " Reading input file ...\n",
      " Info : Running SFINCS in subgrid mode ...\n",
      " Turning on process: Viscosity, with nuvisc=    1.000000    \n",
      " Reading meteo data ...\n",
      " Info : Preparing SFINCS grid on regular mesh ...\n",
      " Reading index file : sfincs.ind ...\n",
      " Reading mask file : sfincs.msk ...\n",
      " Number of active z points    :        48000\n",
      " Number of active u/v points  :        95480\n",
      " Computing cell centre coordinates ...\n",
      " Reading sfincs.sbg ...\n",
      " Warning : Boundary points found in mask, without boundary conditions. Using wat\n",
      " er level of 0.0 m at these points\n",
      " Reading observation points ...\n",
      " Observation point 1 : \"obs0\" nm=22940 n=140 m=58 iref=1 z=134.000\n",
      " Reading cross sections ...\n",
      " Reading discharges ...\n",
      " Initializing output ...\n",
      "\n",
      " ---------- Starting simulation ----------\n",
      "\n",
      "   0% complete,       - s remaining ...\n",
      "   5% complete,    26.2 s remaining ...\n",
      "  10% complete,    30.4 s remaining ...\n",
      "  15% complete,    37.4 s remaining ...\n",
      "  20% complete,    41.5 s remaining ...\n",
      "  25% complete,    47.2 s remaining ...\n",
      "  30% complete,    48.8 s remaining ...\n",
      "  35% complete,    50.8 s remaining ...\n",
      "  40% complete,    49.9 s remaining ...\n",
      "  45% complete,    47.9 s remaining ...\n",
      "  50% complete,    44.6 s remaining ...\n",
      "  55% complete,    41.0 s remaining ...\n",
      "  60% complete,    37.1 s remaining ...\n",
      "  65% complete,    32.9 s remaining ...\n",
      "  70% complete,    28.6 s remaining ...\n",
      "  75% complete,    24.5 s remaining ...\n",
      "  80% complete,    19.8 s remaining ...\n",
      "  85% complete,    15.0 s remaining ...\n",
      "  90% complete,    10.0 s remaining ...\n",
      "  95% complete,     5.0 s remaining ...\n",
      " 100% complete,     0.0 s remaining ...\n",
      "\n",
      " ---------- Simulation finished ----------\n",
      "\n",
      " Total time             :    100.000\n",
      " Total simulation time  :     99.877\n",
      " Time in input          :      0.123\n",
      " Time in boundaries     :      0.882 (  0.9%)\n",
      " Time in discharges     :      0.084 (  0.1%)\n",
      " Time in momentum       :     73.191 ( 73.3%)\n",
      " Time in continuity     :     23.553 ( 23.6%)\n",
      " Time in output         :      1.808 (  1.8%)\n",
      "\n",
      " Average time step (s)  :      5.716\n",
      "\n",
      " ---------- Closing off SFINCS -----------\n",
      "\n"
     ]
    }
   ],
   "source": [
    "fn = Path(r\"model/base/sfincs_log.txt\")\n",
    "with open(fn, \"r\") as f:\n",
    "    txt = f.read()\n",
    "print(txt)"
   ]
  },
  {
   "cell_type": "code",
   "execution_count": 4,
   "metadata": {},
   "outputs": [
    {
     "name": "stdout",
     "output_type": "stream",
     "text": [
      "['.gitignore',\n",
      " 'figs',\n",
      " 'floodmap.tif',\n",
      " 'gis',\n",
      " 'hydromt.log',\n",
      " 'hydromt_data.yml',\n",
      " 'run.bat',\n",
      " 'sfincs.crs',\n",
      " 'sfincs.dis',\n",
      " 'sfincs.ind',\n",
      " 'sfincs.inp',\n",
      " 'sfincs.msk',\n",
      " 'sfincs.obs',\n",
      " 'sfincs.sbg',\n",
      " 'sfincs.scs',\n",
      " 'sfincs.src',\n",
      " 'sfincs_his.nc',\n",
      " 'sfincs_log.txt',\n",
      " 'sfincs_map.nc',\n",
      " 'subgrid']\n"
     ]
    }
   ],
   "source": [
    "path = Path(r\"model/base\")\n",
    "\n",
    "dir_list = os.listdir(path)\n",
    "\n",
    "# prints all files\n",
    "pprint(dir_list)"
   ]
  },
  {
   "cell_type": "code",
   "execution_count": null,
   "metadata": {},
   "outputs": [],
   "source": []
  }
 ],
 "metadata": {
  "kernelspec": {
   "display_name": "hydromt-sfincs",
   "language": "python",
   "name": "python3"
  },
  "language_info": {
   "codemirror_mode": {
    "name": "ipython",
    "version": 3
   },
   "file_extension": ".py",
   "mimetype": "text/x-python",
   "name": "python",
   "nbconvert_exporter": "python",
   "pygments_lexer": "ipython3",
   "version": "3.10.13"
  }
 },
 "nbformat": 4,
 "nbformat_minor": 2
}
