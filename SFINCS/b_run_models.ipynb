{
 "cells": [
  {
   "cell_type": "code",
   "execution_count": 1,
   "metadata": {},
   "outputs": [],
   "source": [
    "import os\n",
    "from pathlib import Path"
   ]
  },
  {
   "cell_type": "markdown",
   "metadata": {},
   "source": [
    "Define a list of models that you want to run. Make sure each model directory contains the files necessary to run a SFINCS model. For the necessary files, see next block."
   ]
  },
  {
   "cell_type": "code",
   "execution_count": 2,
   "metadata": {},
   "outputs": [],
   "source": [
    "models_to_run = [\n",
    "    \"garissa_depth2m_fabdem_grid100_avg_buffer5km\",\n",
    "]"
   ]
  },
  {
   "cell_type": "markdown",
   "metadata": {},
   "source": [
    "Firstly, a model has to be created through the first notebook. At the end, we save all model-specific files in this directory (e.g., \"sfincs.inp\", \"sfincs.msk\", \"sfincs.src\", etc.). Secondly, we need to make sure a run.bat file is present in the model-directory. This file allows the excecution of a SFINCS model by specifying the location of the SFINCS excetable in your filesystem. The \"run.bat\" file needs to contain the filepath to your SFINCS excecutable, downloadable from https://www.deltares.nl/en/software-and-data/products/sfincs.\n",
    "\n",
    "Your \"run.bat\" file should contain the following:\n",
    "\n",
    "call \"C:\\path\\to\\sfincs\\excecutable\">sfincs_log.txt"
   ]
  },
  {
   "cell_type": "code",
   "execution_count": 3,
   "metadata": {},
   "outputs": [
    {
     "name": "stdout",
     "output_type": "stream",
     "text": [
      "call \"C:\\Users\\pjdeb\\OneDrive\\Documenten\\Universiteit\\CT 5\\MDP\\Git\\MDP\\SFINCS\\SFINCS\\SFINCS_v2.0.3_Cauberg_release_exe\\sfincs.exe\">sfincs_log.txt\n",
      "\n"
     ]
    }
   ],
   "source": [
    "for model in models_to_run:\n",
    "    fn = Path(f\"model/{model}/run.bat\")\n",
    "    with open(fn, \"r\") as f:\n",
    "        txt = f.read()\n",
    "    print(txt)\n",
    "\n",
    "    run_path = Path(f\"model/{model}\")\n",
    "\n",
    "    cur_dir = os.getcwd()\n",
    "\n",
    "    # uncomment to run sfincs\n",
    "    os.chdir(run_path)\n",
    "    os.system(\"run.bat\")\n",
    "    os.chdir(cur_dir)"
   ]
  },
  {
   "cell_type": "markdown",
   "metadata": {},
   "source": [
    "We print the contents of \"sfincs_log.txt\", which keeps track of our model run. Pontential errors should show up in this file and we can keep track of the progress of our model, too. The latter requires the user to manually open this file, though."
   ]
  },
  {
   "cell_type": "code",
   "execution_count": 4,
   "metadata": {},
   "outputs": [
    {
     "name": "stdout",
     "output_type": "stream",
     "text": [
      "\n",
      " ----------- Welcome to SFINCS -----------\n",
      "\n",
      "  @@@@@  @@@@@@@ @@ @@  @@   @@@@   @@@@@ \n",
      " @@@ @@@ @@@@@@@ @@ @@@ @@ @@@@@@@ @@@ @@@\n",
      " @@@     @@      @@ @@@ @@ @@   @@ @@@    \n",
      "  @@@@@  @@@@@@  @@ @@@@@@ @@       @@@@@ \n",
      "     @@@ @@      @@ @@ @@@ @@   @@     @@@\n",
      " @@@ @@@ @@      @@ @@  @@  @@@@@@ @@@ @@@\n",
      "  @@@@@  @@      @@ @@   @   @@@@   @@@@@ \n",
      "\n",
      "              ..............              \n",
      "          ......:@@@@@@@@:......          \n",
      "       ..::::..@@........@@.:::::..       \n",
      "     ..:::::..@@..::..::..@@.::::::..     \n",
      "    .::::::..@@............@@.:::::::.    \n",
      "   .::::::..@@..............@@.:::::::.   \n",
      "  .::::::::..@@............@@..::::::::.  \n",
      " .:::::::::...@@.@..@@..@.@@..::::::::::. \n",
      " .:::::::::...:@@@..@@..@@@:..:::::::::.. \n",
      " ............@@.@@..@@..@@.@@............ \n",
      " ^^^~~^^~~^^@@..............@@^^^~^^^~~^^ \n",
      " .::::::::::@@..............@@.:::::::::. \n",
      "  .......:.@@.....@.....@....@@.:.......  \n",
      "   .::....@@......@.@@@.@....@@.....::.   \n",
      "    .:::~@@.:...:.@@...@@.:.:.@@~::::.    \n",
      "     .::~@@@@@@@@@@.....@@@@@@@@@~::.     \n",
      "       ..:~~~~~~~:.......:~~~~~~~:..      \n",
      "          ......................          \n",
      "              ..............              \n",
      "\n",
      " -----------------------------------------\n",
      "\n",
      " Build-Revision: $Rev: v2.0.3-Cauberg\n",
      " Build-Date:     $Date: 2023-11-15\n",
      "\n",
      " Reading input file ...\n",
      " Info : Running SFINCS in subgrid mode ...\n",
      " Turning on process: Viscosity, with nuvisc=    1.000000    \n",
      " Reading meteo data ...\n",
      " Info : Preparing SFINCS grid on regular mesh ...\n",
      " Reading index file : sfincs.ind ...\n",
      " Reading mask file : sfincs.msk ...\n",
      " Number of active z points    :        34975\n",
      " Number of active u/v points  :        69494\n",
      " Computing cell centre coordinates ...\n",
      " Reading sfincs.sbg ...\n",
      " Warning : Boundary points found in mask, without boundary conditions. Using wat\n",
      " er level of 0.0 m at these points\n",
      " Reading observation points ...\n",
      " Observation point 1 : \"obs0\" nm=17920 n=120 m=100 iref=1 z=136.000\n",
      " Reading discharges ...\n",
      " Initializing output ...\n",
      "\n",
      " ---------- Starting simulation ----------\n",
      "\n",
      "   0% complete,       - s remaining ...\n",
      "   5% complete,   265.1 s remaining ...\n",
      "  10% complete,   266.9 s remaining ...\n",
      "  15% complete,   264.9 s remaining ...\n",
      "  20% complete,   254.3 s remaining ...\n",
      "  25% complete,   248.7 s remaining ...\n",
      "  30% complete,   262.0 s remaining ...\n",
      "  35% complete,   240.8 s remaining ...\n",
      "  40% complete,   218.2 s remaining ...\n",
      "  45% complete,   212.6 s remaining ...\n",
      "  50% complete,   198.8 s remaining ...\n",
      "  55% complete,   193.4 s remaining ...\n",
      "  60% complete,   184.7 s remaining ...\n",
      "  65% complete,   169.9 s remaining ...\n",
      "  70% complete,   154.4 s remaining ...\n",
      "  75% complete,   139.1 s remaining ...\n",
      "  80% complete,   116.4 s remaining ...\n",
      "  85% complete,    90.5 s remaining ...\n",
      "  90% complete,    63.3 s remaining ...\n",
      "  95% complete,    32.6 s remaining ...\n",
      " 100% complete,     0.0 s remaining ...\n",
      "\n",
      " ---------- Simulation finished ----------\n",
      "\n",
      " Total time             :    666.992\n",
      " Total simulation time  :    666.882\n",
      " Time in input          :      0.110\n",
      " Time in boundaries     :      8.590 (  1.3%)\n",
      " Time in discharges     :      0.817 (  0.1%)\n",
      " Time in momentum       :    443.061 ( 66.4%)\n",
      " Time in continuity     :    174.169 ( 26.1%)\n",
      " Time in output         :     39.083 (  5.9%)\n",
      "\n",
      " Average time step (s)  :      6.344\n",
      "\n",
      " ---------- Closing off SFINCS -----------\n",
      "\n"
     ]
    }
   ],
   "source": [
    "fn = Path(f\"model/{model}/sfincs_log.txt\")\n",
    "with open(fn, \"r\") as f:\n",
    "    txt = f.read()\n",
    "print(txt)"
   ]
  }
 ],
 "metadata": {
  "kernelspec": {
   "display_name": "hydromt-sfincs",
   "language": "python",
   "name": "python3"
  },
  "language_info": {
   "codemirror_mode": {
    "name": "ipython",
    "version": 3
   },
   "file_extension": ".py",
   "mimetype": "text/x-python",
   "name": "python",
   "nbconvert_exporter": "python",
   "pygments_lexer": "ipython3",
   "version": "3.10.14"
  }
 },
 "nbformat": 4,
 "nbformat_minor": 2
}
