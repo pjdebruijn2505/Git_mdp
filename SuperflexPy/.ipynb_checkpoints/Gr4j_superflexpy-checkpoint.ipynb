{
 "cells": [
  {
   "cell_type": "code",
   "execution_count": 99,
   "id": "0ef30c06",
   "metadata": {},
   "outputs": [
    {
     "name": "stdout",
     "output_type": "stream",
     "text": [
      "/Users/matskerver/Documents/GIT/MDP_git/Git_mdp\n",
      "/Users/matskerver/Documents/GIT/MDP_git\n"
     ]
    }
   ],
   "source": [
    "import numpy as np\n",
    "import pandas as pd\n",
    "import pathlib\n",
    "import matplotlib as mpl\n",
    "import matplotlib.pyplot as plt\n",
    "import sys\n",
    "import os.path\n",
    "\n",
    "cwd = pathlib.Path().resolve()\n",
    "src = cwd.parent\n",
    "root = src.parent\n",
    "print(src)\n",
    "print(root)\n",
    "sys.path.append(str(src))\n",
    "sys.path.append(str(root))"
   ]
  },
  {
   "cell_type": "code",
   "execution_count": 100,
   "id": "5ac149b8",
   "metadata": {},
   "outputs": [],
   "source": [
    "from superflexpy.implementation.elements.gr4j import BaseElement, UnitHydrograph1, UnitHydrograph2, FluxAggregator \n",
    "from superflexpy.implementation.elements.gr4j import InterceptionFilter, ProductionStore, RoutingStore\n",
    "from superflexpy.implementation.elements.structure_elements import Transparent, Splitter, Junction\n",
    "from superflexpy.implementation.root_finders.pegasus import PegasusPython\n",
    "from superflexpy.implementation.numerical_approximators.implicit_euler import ImplicitEulerPython\n",
    "from superflexpy.framework.unit import Unit\n",
    "from superflexpy.framework.node import Node\n",
    "from superflexpy.framework.network import Network\n",
    "#from utils.precipitation_evaporation import *"
   ]
  },
  {
   "cell_type": "code",
   "execution_count": null,
   "id": "cfd23ed5",
   "metadata": {},
   "outputs": [],
   "source": []
  },
  {
   "cell_type": "code",
   "execution_count": 101,
   "id": "2af37bcb",
   "metadata": {},
   "outputs": [],
   "source": [
    "def GR4J_element(x1,x2,x3,x4, name, area, precipitation, evaporation):\n",
    "    #x1, x2, x3, x4 = (50.0, 0.1, 20.0, 3.5)\n",
    "\n",
    "    root_finder = PegasusPython()  # Use the default parameters\n",
    "    numerical_approximation = ImplicitEulerPython(root_finder)\n",
    "\n",
    "    interception_filter = InterceptionFilter(id='ir')\n",
    "\n",
    "    production_store = ProductionStore(parameters={'x1': x1, 'alpha': 2.0,\n",
    "                                                   'beta': 5.0, 'ni': 4/9},\n",
    "                                       states={'S0': 10.0},\n",
    "                                       approximation=numerical_approximation,\n",
    "                                       id='ps')\n",
    "\n",
    "    splitter = Splitter(weight=[[0.9], [0.1]],\n",
    "                        direction=[[0], [0]],\n",
    "                        id='spl')\n",
    "\n",
    "    unit_hydrograph_1 = UnitHydrograph1(parameters={'lag-time': x4},\n",
    "                                        states={'lag': None},\n",
    "                                        id='uh1')\n",
    "\n",
    "    unit_hydrograph_2 = UnitHydrograph2(parameters={'lag-time': 2*x4},\n",
    "                                        states={'lag': None},\n",
    "                                        id='uh2')\n",
    "\n",
    "    routing_store = RoutingStore(parameters={'x2': x2, 'x3': x3,\n",
    "                                             'gamma': 5.0, 'omega': 3.5},\n",
    "                                 states={'S0': 10.0},\n",
    "                                 approximation=numerical_approximation,\n",
    "                                 id='rs')\n",
    "\n",
    "    transparent = Transparent(id='tr')\n",
    "\n",
    "    junction = Junction(direction=[[0, None],  # First output\n",
    "                                   [1, None],  # Second output\n",
    "                                   [None, 0]], # Third output\n",
    "                        id='jun')\n",
    "\n",
    "    flux_aggregator = FluxAggregator(id='fa')\n",
    "\n",
    "    catchment_element = Unit(layers=[[interception_filter],\n",
    "                     [production_store],\n",
    "                     [splitter],\n",
    "                     [unit_hydrograph_1, unit_hydrograph_2],\n",
    "                     [routing_store, transparent],\n",
    "                     [junction],\n",
    "                     [flux_aggregator]],\n",
    "             id=f'unit-{name}')\n",
    "    \n",
    "    \n",
    "    current_node = Node(\n",
    "    units=[catchment_element],\n",
    "    weights = [1.0],\n",
    "    area=area,\n",
    "    id=f'node-{name}'\n",
    "    )\n",
    "    \n",
    "    current_node.set_input([precipitation, evaporation])\n",
    "    print(precipitation)\n",
    "    return current_node"
   ]
  },
  {
   "cell_type": "code",
   "execution_count": 102,
   "id": "128844dc",
   "metadata": {},
   "outputs": [],
   "source": [
    "x1, x2, x3, x4 = (50.0, 0.1, 20.0, 3.5)\n",
    "areas = [1.0, 4.6, 2.6, 9.1]\n",
    "precipitation = [[40., 15.4,8.,3.3],[30., 15.4,8.,3.3],[10., 15.4,8.,3.3],[80., 15.4,8.,3.3]]\n",
    "evaporation = [[4., 2.4,18.,6.3],[4., 2.4,18.,6.3],[4., 2.4,18.,6.3],[4., 2.4,18.,6.3]]"
   ]
  },
  {
   "cell_type": "code",
   "execution_count": 103,
   "id": "680d3620",
   "metadata": {},
   "outputs": [
    {
     "name": "stdout",
     "output_type": "stream",
     "text": [
      "[40.0, 15.4, 8.0, 3.3]\n",
      "node-1\n",
      "[30.0, 15.4, 8.0, 3.3]\n",
      "node-2\n",
      "[10.0, 15.4, 8.0, 3.3]\n",
      "node-3\n",
      "[80.0, 15.4, 8.0, 3.3]\n",
      "node-4\n",
      "<class 'superflexpy.framework.node.Node'>\n"
     ]
    }
   ],
   "source": [
    "nodes_gr4j = []\n",
    "\n",
    "\n",
    "for i in range(4):\n",
    "    name = str(i+1)\n",
    "    current = GR4J_element(x1, x2, x3, x4, name, areas[i], precipitation[i], evaporation[i])\n",
    "    nodes_gr4j.append(current)\n",
    "    print(current.id)\n",
    "    \n",
    "print(type(nodes_gr4j[0]))"
   ]
  },
  {
   "cell_type": "code",
   "execution_count": 104,
   "id": "5751704e",
   "metadata": {},
   "outputs": [],
   "source": [
    "net = Network(\n",
    "    nodes=nodes_gr4j,\n",
    "    topology={\n",
    "        'node-1': 'node-3',\n",
    "        'node-2': 'node-3',\n",
    "        'node-3': 'node-4',\n",
    "        'node-4': None\n",
    "    }\n",
    ")"
   ]
  },
  {
   "cell_type": "code",
   "execution_count": 105,
   "id": "12604fe0",
   "metadata": {},
   "outputs": [],
   "source": [
    "net.reset_states()\n",
    "net.set_timestep(1.0)\n",
    "output = net.get_output()\n"
   ]
  },
  {
   "cell_type": "code",
   "execution_count": 106,
   "id": "99b7ba81",
   "metadata": {},
   "outputs": [],
   "source": [
    "output_unit_1_node_1 = net.call_internal(id='node-1_unit-1',\n",
    "                                        method='get_output',\n",
    "                                        solve=False)[0]\n",
    "output_unit_2_node_2 = net.call_internal(id='node-2_unit-2',\n",
    "                                        method='get_output',\n",
    "                                        solve=False)[0]\n",
    "output_unit_3_node_3 = net.call_internal(id='node-3_unit-3',\n",
    "                                        method='get_output',\n",
    "                                        solve=False)[0]\n",
    "output_unit_4_node_4 = net.call_internal(id='node-4_unit-4',\n",
    "                                        method='get_output',\n",
    "                                        solve=False)[0]\n",
    "\n",
    "\n"
   ]
  },
  {
   "cell_type": "code",
   "execution_count": 98,
   "id": "2d5cfaf6",
   "metadata": {},
   "outputs": [
    {
     "data": {
      "image/png": "[encoded data removed]",
      "text/plain": [
       "<Figure size 1000x600 with 2 Axes>"
      ]
     },
     "metadata": {},
     "output_type": "display_data"
    }
   ],
   "source": [
    "fig, (ax1, ax2) = plt.subplots(2, 1, figsize=(10,6))\n",
    "\n",
    "# plot first figure\n",
    "ax1.bar(x=range(len(precipitation)), height=precipitation[0], color='blue', label='precipitation')\n",
    "ax2.plot(range(len(precipitation)), output_unit_1_node_1, color='orange', lw=2, label='Node 1')\n",
    "ax2.plot(range(len(precipitation)), output_unit_2_node_2, color='red', lw=2, label='Node 2')\n",
    "ax2.plot(range(len(precipitation)), output_unit_3_node_3, color='blue', lw=2, label='Node 3')\n",
    "ax2.plot(range(len(precipitation)), output_unit_4_node_4, color='green', lw=2, label='Node 4')\n",
    "ax2.plot(range(len(precipitation)), output, color='pink', lw=2, label='Node 4')\n",
    "\n",
    "ax1.legend()\n",
    "ax1.set_xlabel('Time [days]')\n",
    "ax1.set_ylabel(\"precipitation [mm/day]\")\n",
    "\n",
    "\n",
    "plt.show()"
   ]
  },
  {
   "cell_type": "code",
   "execution_count": null,
   "id": "d697b3bf",
   "metadata": {},
   "outputs": [],
   "source": []
  }
 ],
 "metadata": {
  "kernelspec": {
   "display_name": "Python 3 (ipykernel)",
   "language": "python",
   "name": "python3"
  },
  "language_info": {
   "codemirror_mode": {
    "name": "ipython",
    "version": 3
   },
   "file_extension": ".py",
   "mimetype": "text/x-python",
   "name": "python",
   "nbconvert_exporter": "python",
   "pygments_lexer": "ipython3",
   "version": "3.11.5"
  }
 },
 "nbformat": 4,
 "nbformat_minor": 5
}
