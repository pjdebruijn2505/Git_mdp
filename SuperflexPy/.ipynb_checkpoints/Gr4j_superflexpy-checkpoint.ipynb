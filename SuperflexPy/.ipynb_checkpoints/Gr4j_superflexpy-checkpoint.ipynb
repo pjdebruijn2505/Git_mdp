{
 "cells": [
  {
   "cell_type": "code",
   "execution_count": 1,
   "id": "0ef30c06",
   "metadata": {},
   "outputs": [
    {
     "name": "stdout",
     "output_type": "stream",
     "text": [
      "/Users/matskerver/Documents/GIT/MDP_git/Git_mdp\n",
      "/Users/matskerver/Documents/GIT/MDP_git\n"
     ]
    }
   ],
   "source": [
    "import numpy as np\n",
    "import pandas as pd\n",
    "import pathlib\n",
    "import matplotlib as mpl\n",
    "import matplotlib.pyplot as plt\n",
    "import sys\n",
    "import os.path\n",
    "\n",
    "cwd = pathlib.Path().resolve()\n",
    "src = cwd.parent\n",
    "root = src.parent\n",
    "print(src)\n",
    "print(root)\n",
    "sys.path.append(str(src))\n",
    "sys.path.append(str(root))"
   ]
  },
  {
   "cell_type": "code",
   "execution_count": 2,
   "id": "5ac149b8",
   "metadata": {},
   "outputs": [],
   "source": [
    "from superflexpy.implementation.elements.gr4j import BaseElement, UnitHydrograph1, UnitHydrograph2, FluxAggregator \n",
    "from superflexpy.implementation.elements.gr4j import InterceptionFilter, ProductionStore, RoutingStore\n",
    "from superflexpy.implementation.elements.structure_elements import Transparent, Splitter, Junction\n",
    "from superflexpy.implementation.root_finders.pegasus import PegasusPython\n",
    "from superflexpy.implementation.numerical_approximators.implicit_euler import ImplicitEulerPython\n",
    "from superflexpy.framework.unit import Unit\n",
    "from superflexpy.framework.node import Node\n",
    "from superflexpy.framework.network import Network\n",
    "from utils.precipitation_evaporation import *"
   ]
  },
  {
   "cell_type": "code",
   "execution_count": 3,
   "id": "2af37bcb",
   "metadata": {},
   "outputs": [],
   "source": [
    "def GR4J_element(x1,x2,x3,x4, name, area, precipitation, evaporation):\n",
    "    #x1, x2, x3, x4 = (50.0, 0.1, 20.0, 3.5)\n",
    "\n",
    "    root_finder = PegasusPython()  # Use the default parameters\n",
    "    numerical_approximation = ImplicitEulerPython(root_finder)\n",
    "\n",
    "    interception_filter = InterceptionFilter(id='ir')\n",
    "\n",
    "    production_store = ProductionStore(parameters={'x1': x1, 'alpha': 2.0,\n",
    "                                                   'beta': 5.0, 'ni': 4/9},\n",
    "                                       states={'S0': 10.0},\n",
    "                                       approximation=numerical_approximation,\n",
    "                                       id='ps')\n",
    "\n",
    "    splitter = Splitter(weight=[[0.9], [0.1]],\n",
    "                        direction=[[0], [0]],\n",
    "                        id='spl')\n",
    "\n",
    "    unit_hydrograph_1 = UnitHydrograph1(parameters={'lag-time': x4},\n",
    "                                        states={'lag': None},\n",
    "                                        id='uh1')\n",
    "\n",
    "    unit_hydrograph_2 = UnitHydrograph2(parameters={'lag-time': 2*x4},\n",
    "                                        states={'lag': None},\n",
    "                                        id='uh2')\n",
    "\n",
    "    routing_store = RoutingStore(parameters={'x2': x2, 'x3': x3,\n",
    "                                             'gamma': 5.0, 'omega': 3.5},\n",
    "                                 states={'S0': 10.0},\n",
    "                                 approximation=numerical_approximation,\n",
    "                                 id='rs')\n",
    "\n",
    "    transparent = Transparent(id='tr')\n",
    "\n",
    "    junction = Junction(direction=[[0, None],  # First output\n",
    "                                   [1, None],  # Second output\n",
    "                                   [None, 0]], # Third output\n",
    "                        id='jun')\n",
    "\n",
    "    flux_aggregator = FluxAggregator(id='fa')\n",
    "\n",
    "    catchment_element = Unit(layers=[[interception_filter],\n",
    "                     [production_store],\n",
    "                     [splitter],\n",
    "                     [unit_hydrograph_1, unit_hydrograph_2],\n",
    "                     [routing_store, transparent],\n",
    "                     [junction],\n",
    "                     [flux_aggregator]],\n",
    "             id=f'unit-{name}')\n",
    "    \n",
    "    \n",
    "    current_node = Node(\n",
    "    units=[catchment_element],\n",
    "    weights = [1.0],\n",
    "    area=area,\n",
    "    id=f'node-{name}'\n",
    "    )\n",
    "    \n",
    "    current_node.set_input([evaporation, precipitation])\n",
    "    #print(precipitation)\n",
    "    return current_node"
   ]
  },
  {
   "cell_type": "code",
   "execution_count": 4,
   "id": "128844dc",
   "metadata": {},
   "outputs": [],
   "source": [
    "x1, x2, x3, x4 = 50.0, 0.9, 6.0, 3.5\n",
    "areas = [10.0, 4.6, 2.6, 9.1,10.0, 4.6, 2.6, 9.1, 10.0, 4.6, 2.6, 9.1,10.0, 4.6, 2.6, 9.1]\n",
    "years = 10"
   ]
  },
  {
   "cell_type": "code",
   "execution_count": 5,
   "id": "680d3620",
   "metadata": {},
   "outputs": [
    {
     "name": "stdout",
     "output_type": "stream",
     "text": [
      "the evaporation in cell 1 equals [0.  1.3 4.8 ... 3.2 0.  5.1]\n",
      "the precipitation in cell 1 equals [0.2 0.4 1.4 ... 0.4 0.8 0.3]\n",
      "the evaporation in cell 2 equals [8.8 5.1 5.1 ... 3.4 5.6 0. ]\n",
      "the precipitation in cell 2 equals [0.1 0.  0.5 ... 0.7 0.5 0.5]\n",
      "the evaporation in cell 3 equals [2.2 0.  3.2 ... 4.3 0.  0. ]\n",
      "the precipitation in cell 3 equals [0.1 0.2 0.5 ... 0.1 0.1 1.1]\n",
      "the evaporation in cell 4 equals [0. 0. 0. ... 0. 0. 0.]\n",
      "the precipitation in cell 4 equals [0. 0. 0. ... 0. 0. 0.]\n",
      "the evaporation in cell 5 equals [0.3 6.8 0.  ... 0.  3.3 0.8]\n",
      "the precipitation in cell 5 equals [0.8 1.  0.6 ... 1.6 0.1 0. ]\n",
      "the evaporation in cell 6 equals [0.  3.2 3.4 ... 4.2 0.2 0.7]\n",
      "the precipitation in cell 6 equals [0.4 0.5 0.3 ... 0.3 0.7 0.6]\n",
      "the evaporation in cell 7 equals [2.5 0.9 1.6 ... 1.5 2.  2.8]\n",
      "the precipitation in cell 7 equals [0.8 0.3 0.4 ... 0.6 1.2 0.3]\n",
      "the evaporation in cell 8 equals [2.8 0.7 2.8 ... 1.1 1.7 0. ]\n",
      "the precipitation in cell 8 equals [0.2 0.5 1.3 ... 0.8 0.5 0. ]\n",
      "the evaporation in cell 9 equals [2.5 0.  3.  ... 3.3 1.8 3.4]\n",
      "the precipitation in cell 9 equals [0.5 1.1 0.6 ... 1.2 0.  0.8]\n"
     ]
    },
    {
     "ename": "IndexError",
     "evalue": "list index out of range",
     "output_type": "error",
     "traceback": [
      "\u001b[0;31m---------------------------------------------------------------------------\u001b[0m",
      "\u001b[0;31mIndexError\u001b[0m                                Traceback (most recent call last)",
      "Cell \u001b[0;32mIn[5], line 17\u001b[0m\n\u001b[1;32m     15\u001b[0m \u001b[38;5;28mprint\u001b[39m(\u001b[38;5;124mf\u001b[39m\u001b[38;5;124m'\u001b[39m\u001b[38;5;124mthe evaporation in cell \u001b[39m\u001b[38;5;132;01m{\u001b[39;00mi\u001b[38;5;241m+\u001b[39m\u001b[38;5;241m1\u001b[39m\u001b[38;5;132;01m}\u001b[39;00m\u001b[38;5;124m equals \u001b[39m\u001b[38;5;132;01m{\u001b[39;00mevaporation\u001b[38;5;132;01m}\u001b[39;00m\u001b[38;5;124m'\u001b[39m)\n\u001b[1;32m     16\u001b[0m \u001b[38;5;28mprint\u001b[39m(\u001b[38;5;124mf\u001b[39m\u001b[38;5;124m'\u001b[39m\u001b[38;5;124mthe precipitation in cell \u001b[39m\u001b[38;5;132;01m{\u001b[39;00mi\u001b[38;5;241m+\u001b[39m\u001b[38;5;241m1\u001b[39m\u001b[38;5;132;01m}\u001b[39;00m\u001b[38;5;124m equals \u001b[39m\u001b[38;5;132;01m{\u001b[39;00mprecipitation\u001b[38;5;132;01m}\u001b[39;00m\u001b[38;5;124m'\u001b[39m) \u001b[38;5;66;03m#print the values to verify they are correct\u001b[39;00m\n\u001b[0;32m---> 17\u001b[0m current \u001b[38;5;241m=\u001b[39m GR4J_element(x1, x2, x3, x4, name, areas[i], precipitation, evaporation)\n\u001b[1;32m     18\u001b[0m nodes_gr4j\u001b[38;5;241m.\u001b[39mappend(current)\n",
      "\u001b[0;31mIndexError\u001b[0m: list index out of range"
     ]
    }
   ],
   "source": [
    "nodes_gr4j = []\n",
    "\n",
    "# Creates 4 instances of the same node (but with varying precipitation and area values) to be put into the network\n",
    "\n",
    "for i in range(16):\n",
    "    name = str(i+1)\n",
    "    \n",
    "    #previously written function to load in some dummy rain and evaporation data.\n",
    "    precipitation, evaporation = precipitation_evaporation(years, 0.2, season = True, plot = False)\n",
    "    \n",
    "    #evaporation = np.zeros(1825)\n",
    "    if (i == 3):\n",
    "        precipitation = np.zeros(years*365)  #Change the value of the 4th cell to zero to ensure that any output\n",
    "        evaporation = np.zeros(years*365)    # of the cell must have come from the upstream catchments. \n",
    "    print(f'the evaporation in cell {i+1} equals {evaporation}')\n",
    "    print(f'the precipitation in cell {i+1} equals {precipitation}') #print the values to verify they are correct\n",
    "    current = GR4J_element(x1, x2, x3, x4, name, areas[i], precipitation, evaporation)\n",
    "    nodes_gr4j.append(current)\n"
   ]
  },
  {
   "cell_type": "code",
   "execution_count": null,
   "id": "5751704e",
   "metadata": {},
   "outputs": [],
   "source": [
    "# The network is created by importing the list of nodes and a topology dictionary \n",
    "#is provided to indicate connections\n",
    "\n",
    "net = Network(\n",
    "    nodes=nodes_gr4j,\n",
    "    topology={\n",
    "        'node-1': 'node-4',\n",
    "        'node-2': 'node-4',\n",
    "        'node-3': 'node-4',\n",
    "        'node-4': None,\n",
    "        'node-5': 'node-4',\n",
    "        'node-6': 'node-4',\n",
    "        'node-7': 'node-4',\n",
    "        'node-8': 'node-4',\n",
    "        'node-9': 'node-4',\n",
    "        'node-10': 'node-4',\n",
    "        'node-11': 'node-4',\n",
    "        'node-12': 'node-4',\n",
    "        'node-13': 'node-4',\n",
    "        'node-14': 'node-4',\n",
    "        'node-15': 'node-4',\n",
    "        'node-16': 'node-4',\n",
    "    }\n",
    ")"
   ]
  },
  {
   "cell_type": "code",
   "execution_count": null,
   "id": "12604fe0",
   "metadata": {},
   "outputs": [],
   "source": [
    "net.reset_states()\n",
    "net.set_timestep(1.0)\n",
    "output = net.get_output()\n",
    "print(output)"
   ]
  },
  {
   "cell_type": "code",
   "execution_count": null,
   "id": "99b7ba81",
   "metadata": {},
   "outputs": [],
   "source": [
    "output_unit_1_node_1 = net.call_internal(id='node-1_unit-1',\n",
    "                                        method='get_output',\n",
    "                                        solve=False)[0]\n",
    "output_unit_2_node_2 = net.call_internal(id='node-2_unit-2',\n",
    "                                        method='get_output',\n",
    "                                        solve=False)[0]\n",
    "output_unit_3_node_3 = net.call_internal(id='node-3_unit-3',\n",
    "                                        method='get_output',\n",
    "                                        solve=False)[0]\n",
    "output_unit_4_node_4 = net.call_internal(id='node-4_unit-4',\n",
    "                                        method='get_output',\n",
    "                                        solve=False)[0]\n",
    "\n",
    "\n"
   ]
  },
  {
   "cell_type": "code",
   "execution_count": null,
   "id": "7a69c9fa",
   "metadata": {},
   "outputs": [],
   "source": [
    "fig, ax = plt.subplots(figsize=(10,6))\n",
    "\n",
    "# Plotting each node's outflow\n",
    "ax.plot(range(len(output_unit_1_node_1)), output_unit_1_node_1, color='orange', lw=2, label='Node 1')\n",
    "ax.plot(range(len(output_unit_2_node_2)), output_unit_2_node_2, color='red', lw=2, label='Node 2')\n",
    "ax.plot(range(len(output_unit_3_node_3)), output_unit_3_node_3, color='blue', lw=2, label='Node 3')\n",
    "ax.plot(range(len(output_unit_4_node_4)), output_unit_4_node_4, color='green', lw=2, label='Node 4')\n",
    "#ax.plot(range(len(output)), output, color='pink', lw=2, label='Network')\n",
    "\n",
    "ax.legend()\n",
    "ax.set_xlabel('Time [days]')\n",
    "ax.set_ylabel(\"Outflow [mm/day]\")\n",
    "\n",
    "plt.show()\n"
   ]
  },
  {
   "cell_type": "code",
   "execution_count": null,
   "id": "21092556",
   "metadata": {},
   "outputs": [],
   "source": [
    "fig, ax = plt.subplots(figsize=(10,6))\n",
    "# Plotting each node's outflow\n",
    "ax.plot(range(len(output['node-1'][0])), output['node-1'][0], color='orange', lw=2, label='Node 1')\n",
    "ax.plot(range(len(output['node-2'][0])), output['node-2'][0], color='red', lw=2, label='Node 2')\n",
    "ax.plot(range(len(output['node-3'][0])), output['node-3'][0], color='blue', lw=2, label='Node 3')\n",
    "ax.plot(range(len(output['node-4'][0])), output['node-4'][0], color='green', lw=2, label='Node 4')\n",
    "\n",
    "ax.legend()\n",
    "ax.set_xlabel('Time [days]')\n",
    "ax.set_ylabel(\"Outflow [mm/day]\")\n",
    "\n",
    "plt.show()\n"
   ]
  },
  {
   "cell_type": "code",
   "execution_count": null,
   "id": "f8bc8074",
   "metadata": {},
   "outputs": [],
   "source": []
  },
  {
   "cell_type": "code",
   "execution_count": null,
   "id": "ed7231b7",
   "metadata": {},
   "outputs": [],
   "source": []
  },
  {
   "cell_type": "code",
   "execution_count": null,
   "id": "e74fd4cc",
   "metadata": {},
   "outputs": [],
   "source": []
  },
  {
   "cell_type": "code",
   "execution_count": null,
   "id": "5944fbe0",
   "metadata": {},
   "outputs": [],
   "source": []
  }
 ],
 "metadata": {
  "kernelspec": {
   "display_name": "Python 3 (ipykernel)",
   "language": "python",
   "name": "python3"
  },
  "language_info": {
   "codemirror_mode": {
    "name": "ipython",
    "version": 3
   },
   "file_extension": ".py",
   "mimetype": "text/x-python",
   "name": "python",
   "nbconvert_exporter": "python",
   "pygments_lexer": "ipython3",
   "version": "3.11.5"
  }
 },
 "nbformat": 4,
 "nbformat_minor": 5
}
