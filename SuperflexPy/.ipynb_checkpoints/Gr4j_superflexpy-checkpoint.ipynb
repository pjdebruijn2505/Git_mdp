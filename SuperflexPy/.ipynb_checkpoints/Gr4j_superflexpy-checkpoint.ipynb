{
 "cells": [
  {
   "cell_type": "code",
   "execution_count": 1,
   "id": "0ef30c06",
   "metadata": {},
   "outputs": [
    {
     "name": "stdout",
     "output_type": "stream",
     "text": [
      "/Users/matskerver/Documents/GIT/MDP_git/Git_mdp\n",
      "/Users/matskerver/Documents/GIT/MDP_git\n"
     ]
    }
   ],
   "source": [
    "import numpy as np\n",
    "import pandas as pd\n",
    "import pathlib\n",
    "import matplotlib as mpl\n",
    "import matplotlib.pyplot as plt\n",
    "import sys\n",
    "import os.path\n",
    "\n",
    "cwd = pathlib.Path().resolve()\n",
    "src = cwd.parent\n",
    "root = src.parent\n",
    "print(src)\n",
    "print(root)\n",
    "sys.path.append(str(src))\n",
    "sys.path.append(str(root))"
   ]
  },
  {
   "cell_type": "code",
   "execution_count": 2,
   "id": "5ac149b8",
   "metadata": {},
   "outputs": [],
   "source": [
    "from superflexpy.implementation.elements.gr4j import BaseElement, UnitHydrograph1, UnitHydrograph2, FluxAggregator \n",
    "from superflexpy.implementation.elements.gr4j import InterceptionFilter, ProductionStore, RoutingStore\n",
    "from superflexpy.implementation.elements.structure_elements import Transparent, Splitter, Junction\n",
    "from superflexpy.implementation.root_finders.pegasus import PegasusPython\n",
    "from superflexpy.implementation.numerical_approximators.implicit_euler import ImplicitEulerPython\n",
    "from superflexpy.framework.unit import Unit\n",
    "from superflexpy.framework.node import Node\n",
    "from superflexpy.framework.network import Network\n",
    "from utils.precipitation_evaporation import *\n",
    "from utils.Custom_routing_node import *"
   ]
  },
  {
   "cell_type": "code",
   "execution_count": 20,
   "id": "2af37bcb",
   "metadata": {},
   "outputs": [],
   "source": [
    "def GR4J_element(x1,x2,x3,x4, name, area, precipitation, evaporation):\n",
    "    #x1, x2, x3, x4 = (50.0, 0.1, 20.0, 3.5)\n",
    "\n",
    "    root_finder = PegasusPython()  # Use the default parameters\n",
    "    numerical_approximation = ImplicitEulerPython(root_finder)\n",
    "\n",
    "    interception_filter = InterceptionFilter(id='ir')\n",
    "\n",
    "    production_store = ProductionStore(parameters={'x1': x1, 'alpha': 2.0,\n",
    "                                                   'beta': 5.0, 'ni': 4/9},\n",
    "                                       states={'S0': 5.0},\n",
    "                                       approximation=numerical_approximation,\n",
    "                                       id='ps')\n",
    "\n",
    "    splitter = Splitter(weight=[[0.9], [0.1]],\n",
    "                        direction=[[0], [0]],\n",
    "                        id='spl')\n",
    "\n",
    "    unit_hydrograph_1 = UnitHydrograph1(parameters={'lag-time': x4},\n",
    "                                        states={'lag': None},\n",
    "                                        id='uh1')\n",
    "\n",
    "    unit_hydrograph_2 = UnitHydrograph2(parameters={'lag-time': 2*x4},\n",
    "                                        states={'lag': None},\n",
    "                                        id='uh2')\n",
    "\n",
    "    routing_store = RoutingStore(parameters={'x2': x2, 'x3': x3,\n",
    "                                             'gamma': 5.0, 'omega': 3.5},\n",
    "                                 states={'S0': 20.0},\n",
    "                                 approximation=numerical_approximation,\n",
    "                                 id='rs')\n",
    "\n",
    "    transparent = Transparent(id='tr')\n",
    "\n",
    "    junction = Junction(direction=[[0, None],  # First output\n",
    "                                   [1, None],  # Second output\n",
    "                                   [None, 0]], # Third output\n",
    "                        id='jun')\n",
    "\n",
    "    flux_aggregator = FluxAggregator(id='fa')\n",
    "\n",
    "    catchment_element = Unit(layers=[[interception_filter],\n",
    "                     [production_store],\n",
    "                     [splitter],\n",
    "                     [unit_hydrograph_1, unit_hydrograph_2],\n",
    "                     [routing_store, transparent],\n",
    "                     [junction],\n",
    "                     [flux_aggregator]],\n",
    "             id=f'unit-{name}')\n",
    "    \n",
    "    \n",
    "    current_node = RoutedNode(\n",
    "    units=[catchment_element],\n",
    "    weights = [1.0],\n",
    "    area=area,\n",
    "    id=f'node-{name}'\n",
    "    )\n",
    "    \n",
    "    \n",
    "    current_node.set_input([evaporation, precipitation])\n",
    "    #print(precipitation)\n",
    "    return current_node"
   ]
  },
  {
   "cell_type": "code",
   "execution_count": 21,
   "id": "128844dc",
   "metadata": {},
   "outputs": [],
   "source": [
    "x1, x2, x3, x4 = 50.0, 0.1, 20., 3.5\n",
    "areas = [10.0, 4.6, 2.6, 9.1,10.0, 4.6, 2.6, 9.1, 10.0, 4.6, 2.6, 9.1,10.0, 4.6, 2.6, 9.1]\n",
    "years = 10"
   ]
  },
  {
   "cell_type": "code",
   "execution_count": 22,
   "id": "680d3620",
   "metadata": {},
   "outputs": [
    {
     "name": "stdout",
     "output_type": "stream",
     "text": [
      "the evaporation in cell 1 equals [2.7 9.2 0.  ... 5.8 2.3 0. ]\n",
      "the precipitation in cell 1 equals [0.3 0.2 0.5 ... 0.  0.8 0.6]\n"
     ]
    },
    {
     "ename": "TypeError",
     "evalue": "Node.__init__() got an unexpected keyword argument 't'",
     "output_type": "error",
     "traceback": [
      "\u001b[0;31m---------------------------------------------------------------------------\u001b[0m",
      "\u001b[0;31mTypeError\u001b[0m                                 Traceback (most recent call last)",
      "Cell \u001b[0;32mIn[22], line 17\u001b[0m\n\u001b[1;32m     15\u001b[0m \u001b[38;5;28mprint\u001b[39m(\u001b[38;5;124mf\u001b[39m\u001b[38;5;124m'\u001b[39m\u001b[38;5;124mthe evaporation in cell \u001b[39m\u001b[38;5;132;01m{\u001b[39;00mi\u001b[38;5;241m+\u001b[39m\u001b[38;5;241m1\u001b[39m\u001b[38;5;132;01m}\u001b[39;00m\u001b[38;5;124m equals \u001b[39m\u001b[38;5;132;01m{\u001b[39;00mevaporation\u001b[38;5;132;01m}\u001b[39;00m\u001b[38;5;124m'\u001b[39m)\n\u001b[1;32m     16\u001b[0m \u001b[38;5;28mprint\u001b[39m(\u001b[38;5;124mf\u001b[39m\u001b[38;5;124m'\u001b[39m\u001b[38;5;124mthe precipitation in cell \u001b[39m\u001b[38;5;132;01m{\u001b[39;00mi\u001b[38;5;241m+\u001b[39m\u001b[38;5;241m1\u001b[39m\u001b[38;5;132;01m}\u001b[39;00m\u001b[38;5;124m equals \u001b[39m\u001b[38;5;132;01m{\u001b[39;00mprecipitation\u001b[38;5;132;01m}\u001b[39;00m\u001b[38;5;124m'\u001b[39m) \u001b[38;5;66;03m#print the values to verify they are correct\u001b[39;00m\n\u001b[0;32m---> 17\u001b[0m current \u001b[38;5;241m=\u001b[39m GR4J_element(x1, x2, x3, x4, name, areas[i], precipitation, evaporation)\n\u001b[1;32m     18\u001b[0m nodes_gr4j\u001b[38;5;241m.\u001b[39mappend(current)\n",
      "Cell \u001b[0;32mIn[20], line 52\u001b[0m, in \u001b[0;36mGR4J_element\u001b[0;34m(x1, x2, x3, x4, name, area, precipitation, evaporation)\u001b[0m\n\u001b[1;32m     40\u001b[0m flux_aggregator \u001b[38;5;241m=\u001b[39m FluxAggregator(\u001b[38;5;28mid\u001b[39m\u001b[38;5;241m=\u001b[39m\u001b[38;5;124m'\u001b[39m\u001b[38;5;124mfa\u001b[39m\u001b[38;5;124m'\u001b[39m)\n\u001b[1;32m     42\u001b[0m catchment_element \u001b[38;5;241m=\u001b[39m Unit(layers\u001b[38;5;241m=\u001b[39m[[interception_filter],\n\u001b[1;32m     43\u001b[0m                  [production_store],\n\u001b[1;32m     44\u001b[0m                  [splitter],\n\u001b[0;32m   (...)\u001b[0m\n\u001b[1;32m     48\u001b[0m                  [flux_aggregator]],\n\u001b[1;32m     49\u001b[0m          \u001b[38;5;28mid\u001b[39m\u001b[38;5;241m=\u001b[39m\u001b[38;5;124mf\u001b[39m\u001b[38;5;124m'\u001b[39m\u001b[38;5;124munit-\u001b[39m\u001b[38;5;132;01m{\u001b[39;00mname\u001b[38;5;132;01m}\u001b[39;00m\u001b[38;5;124m'\u001b[39m)\n\u001b[0;32m---> 52\u001b[0m current_node \u001b[38;5;241m=\u001b[39m RoutedNode(\n\u001b[1;32m     53\u001b[0m units\u001b[38;5;241m=\u001b[39m[catchment_element],\n\u001b[1;32m     54\u001b[0m weights \u001b[38;5;241m=\u001b[39m [\u001b[38;5;241m1.0\u001b[39m],\n\u001b[1;32m     55\u001b[0m area\u001b[38;5;241m=\u001b[39marea,\n\u001b[1;32m     56\u001b[0m t \u001b[38;5;241m=\u001b[39m \u001b[38;5;241m0.5\u001b[39m,\n\u001b[1;32m     57\u001b[0m \u001b[38;5;28mid\u001b[39m\u001b[38;5;241m=\u001b[39m\u001b[38;5;124mf\u001b[39m\u001b[38;5;124m'\u001b[39m\u001b[38;5;124mnode-\u001b[39m\u001b[38;5;132;01m{\u001b[39;00mname\u001b[38;5;132;01m}\u001b[39;00m\u001b[38;5;124m'\u001b[39m\n\u001b[1;32m     58\u001b[0m )\n\u001b[1;32m     61\u001b[0m current_node\u001b[38;5;241m.\u001b[39mset_input([evaporation, precipitation])\n\u001b[1;32m     62\u001b[0m \u001b[38;5;66;03m#print(precipitation)\u001b[39;00m\n",
      "\u001b[0;31mTypeError\u001b[0m: Node.__init__() got an unexpected keyword argument 't'"
     ]
    }
   ],
   "source": [
    "nodes_gr4j = []\n",
    "\n",
    "# Creates 4 instances of the same node (but with varying precipitation and area values) to be put into the network\n",
    "\n",
    "for i in range(16):\n",
    "    name = str(i+1)\n",
    "    \n",
    "    #previously written function to load in some dummy rain and evaporation data.\n",
    "    precipitation, evaporation = precipitation_evaporation(years, 0.2, season = True, plot = False)\n",
    "    \n",
    "    #evaporation = np.zeros(1825)\n",
    "    if (i == 3):\n",
    "        precipitation = np.zeros(years*365)  #Change the value of the 4th cell to zero to ensure that any output\n",
    "        evaporation = np.zeros(years*365)    # of the cell must have come from the upstream catchments. \n",
    "    print(f'the evaporation in cell {i+1} equals {evaporation}')\n",
    "    print(f'the precipitation in cell {i+1} equals {precipitation}') #print the values to verify they are correct\n",
    "    current = GR4J_element(x1, x2, x3, x4, name, areas[i], precipitation, evaporation)\n",
    "    nodes_gr4j.append(current)\n"
   ]
  },
  {
   "cell_type": "code",
   "execution_count": 12,
   "id": "5751704e",
   "metadata": {},
   "outputs": [],
   "source": [
    "# The network is created by importing the list of nodes and a topology dictionary \n",
    "#is provided to indicate connections\n",
    "\n",
    "net = Network(\n",
    "    nodes=nodes_gr4j,\n",
    "    topology={\n",
    "        'node-1': 'node-4',\n",
    "        'node-2': 'node-4',\n",
    "        'node-3': 'node-4',\n",
    "        'node-4': None,\n",
    "        'node-5': 'node-4',\n",
    "        'node-6': 'node-4',\n",
    "        'node-7': 'node-4',\n",
    "        'node-8': 'node-4',\n",
    "        'node-9': 'node-4',\n",
    "        'node-10': 'node-4',\n",
    "        'node-11': 'node-4',\n",
    "        'node-12': 'node-4',\n",
    "        'node-13': 'node-4',\n",
    "        'node-14': 'node-4',\n",
    "        'node-15': 'node-4',\n",
    "        'node-16': 'node-4'\n",
    "    }\n",
    ")"
   ]
  },
  {
   "cell_type": "code",
   "execution_count": null,
   "id": "18b23fe5",
   "metadata": {},
   "outputs": [],
   "source": []
  },
  {
   "cell_type": "code",
   "execution_count": 13,
   "id": "12604fe0",
   "metadata": {},
   "outputs": [
    {
     "name": "stdout",
     "output_type": "stream",
     "text": [
      "{'node-1': 0, 'node-2': 1, 'node-3': 2, 'node-4': 3, 'node-5': 4, 'node-6': 5, 'node-7': 6, 'node-8': 7, 'node-9': 8, 'node-10': 9, 'node-11': 10, 'node-12': 11, 'node-13': 12, 'node-14': 13, 'node-15': 14, 'node-16': 15}\n"
     ]
    },
    {
     "ename": "KeyError",
     "evalue": "'t'",
     "output_type": "error",
     "traceback": [
      "\u001b[0;31m---------------------------------------------------------------------------\u001b[0m",
      "\u001b[0;31mKeyError\u001b[0m                                  Traceback (most recent call last)",
      "Cell \u001b[0;32mIn[13], line 4\u001b[0m\n\u001b[1;32m      2\u001b[0m net\u001b[38;5;241m.\u001b[39mset_timestep(\u001b[38;5;241m1.0\u001b[39m)\n\u001b[1;32m      3\u001b[0m \u001b[38;5;28mprint\u001b[39m(net\u001b[38;5;241m.\u001b[39m_content_pointer)\n\u001b[0;32m----> 4\u001b[0m output \u001b[38;5;241m=\u001b[39m net\u001b[38;5;241m.\u001b[39mget_output()\n\u001b[1;32m      5\u001b[0m \u001b[38;5;28mprint\u001b[39m(output)\n",
      "File \u001b[0;32m~/anaconda3/lib/python3.11/site-packages/superflexpy/framework/network.py:91\u001b[0m, in \u001b[0;36mNetwork.get_output\u001b[0;34m(self, solve)\u001b[0m\n\u001b[1;32m     89\u001b[0m \u001b[38;5;66;03m# Solve first the headwater\u001b[39;00m\n\u001b[1;32m     90\u001b[0m \u001b[38;5;28;01mfor\u001b[39;00m cat \u001b[38;5;129;01min\u001b[39;00m \u001b[38;5;28mself\u001b[39m\u001b[38;5;241m.\u001b[39m_headwater:\n\u001b[0;32m---> 91\u001b[0m     output[cat] \u001b[38;5;241m=\u001b[39m \u001b[38;5;28mself\u001b[39m\u001b[38;5;241m.\u001b[39m_content[\u001b[38;5;28mself\u001b[39m\u001b[38;5;241m.\u001b[39m_content_pointer[cat]]\u001b[38;5;241m.\u001b[39mget_output(solve)\n\u001b[1;32m     92\u001b[0m     solved[cat] \u001b[38;5;241m=\u001b[39m \u001b[38;5;28;01mTrue\u001b[39;00m\n\u001b[1;32m     94\u001b[0m \u001b[38;5;28;01mif\u001b[39;00m \u001b[38;5;28mlen\u001b[39m(\u001b[38;5;28mself\u001b[39m\u001b[38;5;241m.\u001b[39m_content) \u001b[38;5;241m!=\u001b[39m \u001b[38;5;28mlen\u001b[39m(\u001b[38;5;28mself\u001b[39m\u001b[38;5;241m.\u001b[39m_headwater):\n",
      "File \u001b[0;32m~/anaconda3/lib/python3.11/site-packages/superflexpy/framework/node.py:159\u001b[0m, in \u001b[0;36mNode.get_output\u001b[0;34m(self, solve)\u001b[0m\n\u001b[1;32m    156\u001b[0m                     output[j] \u001b[38;5;241m+\u001b[39m\u001b[38;5;241m=\u001b[39m loc_out[out_count] \u001b[38;5;241m*\u001b[39m w[j]\n\u001b[1;32m    157\u001b[0m                     out_count \u001b[38;5;241m+\u001b[39m\u001b[38;5;241m=\u001b[39m \u001b[38;5;241m1\u001b[39m\n\u001b[0;32m--> 159\u001b[0m \u001b[38;5;28;01mreturn\u001b[39;00m \u001b[38;5;28mself\u001b[39m\u001b[38;5;241m.\u001b[39m_internal_routing(output)\n",
      "File \u001b[0;32m~/Documents/GIT/MDP_git/Git_mdp/utils/Custom_routing_node.py:5\u001b[0m, in \u001b[0;36mRoutedNode._internal_routing\u001b[0;34m(self, flux)\u001b[0m\n\u001b[1;32m      4\u001b[0m \u001b[38;5;28;01mdef\u001b[39;00m \u001b[38;5;21m_internal_routing\u001b[39m(\u001b[38;5;28mself\u001b[39m, flux):\n\u001b[0;32m----> 5\u001b[0m     t_internal \u001b[38;5;241m=\u001b[39m \u001b[38;5;28mself\u001b[39m\u001b[38;5;241m.\u001b[39mget_parameters(names\u001b[38;5;241m=\u001b[39m[\u001b[38;5;28mself\u001b[39m\u001b[38;5;241m.\u001b[39m_prefix_local_parameters \u001b[38;5;241m+\u001b[39m \u001b[38;5;124m'\u001b[39m\u001b[38;5;124mt_internal\u001b[39m\u001b[38;5;124m'\u001b[39m])\n\u001b[1;32m      7\u001b[0m     flux_out \u001b[38;5;241m=\u001b[39m []\n\u001b[1;32m      8\u001b[0m     \u001b[38;5;28;01mfor\u001b[39;00m f \u001b[38;5;129;01min\u001b[39;00m flux:\n",
      "File \u001b[0;32m~/anaconda3/lib/python3.11/site-packages/superflexpy/utils/generic_component.py:109\u001b[0m, in \u001b[0;36mGenericComponent.get_parameters\u001b[0;34m(self, names)\u001b[0m\n\u001b[1;32m    107\u001b[0m \u001b[38;5;28;01melse\u001b[39;00m:\n\u001b[1;32m    108\u001b[0m     \u001b[38;5;28;01mfor\u001b[39;00m n \u001b[38;5;129;01min\u001b[39;00m names:\n\u001b[0;32m--> 109\u001b[0m         position \u001b[38;5;241m=\u001b[39m \u001b[38;5;28mself\u001b[39m\u001b[38;5;241m.\u001b[39m_find_content_from_name(n)\n\u001b[1;32m    110\u001b[0m         \u001b[38;5;28;01mif\u001b[39;00m position \u001b[38;5;129;01mis\u001b[39;00m \u001b[38;5;28;01mNone\u001b[39;00m:\n\u001b[1;32m    111\u001b[0m             \u001b[38;5;28;01mfor\u001b[39;00m c \u001b[38;5;129;01min\u001b[39;00m \u001b[38;5;28mself\u001b[39m\u001b[38;5;241m.\u001b[39m_content_pointer\u001b[38;5;241m.\u001b[39mkeys():\n",
      "File \u001b[0;32m~/anaconda3/lib/python3.11/site-packages/superflexpy/utils/generic_component.py:172\u001b[0m, in \u001b[0;36mGenericComponent._find_content_from_name\u001b[0;34m(self, name)\u001b[0m\n\u001b[1;32m    170\u001b[0m             position \u001b[38;5;241m=\u001b[39m \u001b[38;5;28mself\u001b[39m\u001b[38;5;241m.\u001b[39m_content_pointer[splitted_name[ind \u001b[38;5;241m+\u001b[39m \u001b[38;5;241m1\u001b[39m]]\n\u001b[1;32m    171\u001b[0m     \u001b[38;5;28;01melse\u001b[39;00m:\n\u001b[0;32m--> 172\u001b[0m         position \u001b[38;5;241m=\u001b[39m \u001b[38;5;28mself\u001b[39m\u001b[38;5;241m.\u001b[39m_content_pointer[splitted_name[\u001b[38;5;241m0\u001b[39m]]\n\u001b[1;32m    173\u001b[0m \u001b[38;5;28;01melse\u001b[39;00m:\n\u001b[1;32m    174\u001b[0m     \u001b[38;5;66;03m# Network. The network doesn't have local parameters\u001b[39;00m\n\u001b[1;32m    175\u001b[0m     \u001b[38;5;28;01mfor\u001b[39;00m c \u001b[38;5;129;01min\u001b[39;00m \u001b[38;5;28mself\u001b[39m\u001b[38;5;241m.\u001b[39m_content_pointer\u001b[38;5;241m.\u001b[39mkeys():\n",
      "\u001b[0;31mKeyError\u001b[0m: 't'"
     ]
    }
   ],
   "source": [
    "net.reset_states()\n",
    "net.set_timestep(1.0)\n",
    "print(net._content_pointer)\n",
    "output = net.get_output()\n",
    "print(output)"
   ]
  },
  {
   "cell_type": "code",
   "execution_count": null,
   "id": "99b7ba81",
   "metadata": {},
   "outputs": [],
   "source": [
    "output_unit_1_node_1 = net.call_internal(id='node-1_unit-1',\n",
    "                                        method='get_output',\n",
    "                                        solve=False)[0]\n",
    "output_unit_2_node_2 = net.call_internal(id='node-2_unit-2',\n",
    "                                        method='get_output',\n",
    "                                        solve=False)[0]\n",
    "output_unit_3_node_3 = net.call_internal(id='node-3_unit-3',\n",
    "                                        method='get_output',\n",
    "                                        solve=False)[0]\n",
    "output_unit_4_node_4 = net.call_internal(id='node-4_unit-4',\n",
    "                                        method='get_output',\n",
    "                                        solve=False)[0]\n",
    "\n",
    "\n"
   ]
  },
  {
   "cell_type": "code",
   "execution_count": null,
   "id": "7a69c9fa",
   "metadata": {},
   "outputs": [],
   "source": [
    "fig, ax = plt.subplots(figsize=(10,6))\n",
    "\n",
    "# Plotting each node's outflow\n",
    "ax.plot(range(len(output_unit_1_node_1)), output_unit_1_node_1, color='orange', lw=2, label='Node 1')\n",
    "ax.plot(range(len(output_unit_2_node_2)), output_unit_2_node_2, color='red', lw=2, label='Node 2')\n",
    "ax.plot(range(len(output_unit_3_node_3)), output_unit_3_node_3, color='blue', lw=2, label='Node 3')\n",
    "ax.plot(range(len(output_unit_4_node_4)), output_unit_4_node_4, color='green', lw=2, label='Node 4')\n",
    "#ax.plot(range(len(output)), output, color='pink', lw=2, label='Network')\n",
    "\n",
    "ax.legend()\n",
    "ax.set_xlabel('Time [days]')\n",
    "ax.set_ylabel(\"Outflow [mm/day]\")\n",
    "\n",
    "plt.show()\n"
   ]
  },
  {
   "cell_type": "code",
   "execution_count": null,
   "id": "294f0c52",
   "metadata": {},
   "outputs": [],
   "source": [
    "fig, ax = plt.subplots(figsize=(10,6))\n",
    "# Plotting each node's outflow\n",
    "ax.plot(range(len(output['node-1'][0])), output['node-1'][0], color='orange', lw=2, label='Node 1')\n",
    "ax.plot(range(len(output['node-2'][0])), output['node-2'][0], color='red', lw=2, label='Node 2')\n",
    "ax.plot(range(len(output['node-3'][0])), output['node-3'][0], color='blue', lw=2, label='Node 3')\n",
    "ax.plot(range(len(output['node-4'][0])), output['node-4'][0], color='green', lw=2, label='Node 4')\n",
    "\n",
    "ax.legend()\n",
    "ax.set_xlabel('Time [days]')\n",
    "ax.set_ylabel(\"Outflow [mm/day]\")\n",
    "\n",
    "plt.show()\n"
   ]
  },
  {
   "cell_type": "code",
   "execution_count": null,
   "id": "f8bc8074",
   "metadata": {},
   "outputs": [],
   "source": []
  },
  {
   "cell_type": "code",
   "execution_count": null,
   "id": "ed7231b7",
   "metadata": {},
   "outputs": [],
   "source": []
  },
  {
   "cell_type": "code",
   "execution_count": null,
   "id": "e74fd4cc",
   "metadata": {},
   "outputs": [],
   "source": []
  },
  {
   "cell_type": "code",
   "execution_count": null,
   "id": "5944fbe0",
   "metadata": {},
   "outputs": [],
   "source": []
  }
 ],
 "metadata": {
  "kernelspec": {
   "display_name": "Python 3 (ipykernel)",
   "language": "python",
   "name": "python3"
  },
  "language_info": {
   "codemirror_mode": {
    "name": "ipython",
    "version": 3
   },
   "file_extension": ".py",
   "mimetype": "text/x-python",
   "name": "python",
   "nbconvert_exporter": "python",
   "pygments_lexer": "ipython3",
   "version": "3.11.5"
  }
 },
 "nbformat": 4,
 "nbformat_minor": 5
}
