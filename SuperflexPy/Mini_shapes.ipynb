{
 "cells": [
  {
   "cell_type": "code",
   "execution_count": 28,
   "metadata": {},
   "outputs": [],
   "source": [
    "import numpy as np\n",
    "import pandas as pd\n",
    "import matplotlib.pyplot as plt\n",
    "import xarray as xr\n",
    "import glob\n",
    "import platform\n",
    "import pathlib  \n",
    "import os.path\n",
    "import netCDF4 as nc\n",
    "import geopandas as gpd\n",
    "import rasterio\n",
    "from rasterio.mask import mask\n",
    "from rasterio.errors import RasterioIOError\n",
    "from shapely.geometry import Point\n",
    "import time\n",
    "from scipy.spatial import cKDTree"
   ]
  },
  {
   "cell_type": "code",
   "execution_count": 42,
   "metadata": {},
   "outputs": [],
   "source": [
    "def clip_or_assign_nearest(netCDF_file, geopackage_file, min_size):\n",
    "    # Open the GeoPackage file\n",
    "    geopackage_gdf = gpd.read_file(geopackage_file)\n",
    "\n",
    "    # Open the NetCDF file\n",
    "    with rasterio.open(netCDF_file) as src:\n",
    "        affine = src.transform\n",
    "\n",
    "        # Adjust to handle multiple bands (timesteps)\n",
    "        result_data = []\n",
    "        for band in range(1, src.count + 1):\n",
    "            data = src.read(band)\n",
    "            band_data = np.full(data.shape, np.nan)\n",
    "\n",
    "            for _, row in geopackage_gdf.iterrows():\n",
    "                if row.geometry.area < min_size:\n",
    "                    # For small areas, assign the nearest neighbor value\n",
    "                    centroid = row.geometry.centroid\n",
    "                    x, y = centroid.x, centroid.y\n",
    "                    row_idx, col_idx = ~affine * (x, y)\n",
    "                    row_idx, col_idx = int(row_idx), int(col_idx)\n",
    "                    \n",
    "                    if 0 <= row_idx < data.shape[0] and 0 <= col_idx < data.shape[1]:\n",
    "                        nearest_value = data[row_idx, col_idx]\n",
    "                        band_data[row_idx, col_idx] = nearest_value\n",
    "                else:\n",
    "                    # For larger areas, clip the data\n",
    "                    clipped_data, _ = mask(src, [row.geometry], crop=True, nodata=np.nan)\n",
    "                    # Logic to merge clipped_data into band_data\n",
    "\n",
    "            result_data.append(band_data)\n",
    "\n",
    "        meta = src.meta.copy()\n",
    "\n",
    "    return np.array(result_data), meta"
   ]
  },
  {
   "cell_type": "code",
   "execution_count": 51,
   "metadata": {},
   "outputs": [
    {
     "name": "stdout",
     "output_type": "stream",
     "text": [
      "Welcome Mats , have a wondeful day on your Darwin machine. Your data should be located in /Users/matskerver/Documents/data_tana/catchments\n",
      "/Users/matskerver/Documents/data_tana/catchments\n"
     ]
    }
   ],
   "source": [
    "cwd = pathlib.Path().resolve()\n",
    "src = cwd.parent\n",
    "data = src.parent.parent.parent\n",
    "OS_type = platform.system()\n",
    "\n",
    "if OS_type == 'Darwin':\n",
    "    username = 'Mats '\n",
    "    data_path = os.path.join(data, 'data_tana', 'catchments')\n",
    "    shape_path = os.path.join(data, 'data_tana', 'catchments', 'goeie')\n",
    "    \n",
    "else:\n",
    "    username = 'Mootje'\n",
    "    data_path = os.path.join(data, 'OneDrive - Delft University of Technology', 'TU Delft', 'Master ENVM', 'MDP', 'Model', 'Data')\n",
    "\n",
    "print(f\"Welcome {username}, have a wondeful day on your {OS_type} machine. Your data should be located in {data_path}\")\n",
    "print(data_path)"
   ]
  },
  {
   "cell_type": "code",
   "execution_count": 52,
   "metadata": {},
   "outputs": [],
   "source": [
    "# print(data_path)\n",
    "\n",
    "# path_subcatchments = os.path.join(data, 'OneDrive - Delft University of Technology', 'TU Delft', 'Master ENVM', 'MDP', 'Model', 'Data','Shapefiles', 'Mini_shapes')\n",
    "# path_satellite = os.path.join(data, 'OneDrive - Delft University of Technology', 'TU Delft', 'Master ENVM', 'MDP', 'Model', 'Data', 'Satellite')\n",
    "# path_save_new_shapefiles = os.path.join(data, 'OneDrive - Delft University of Technology', 'TU Delft', 'Master ENVM', 'MDP', 'Model', 'Data', 'subcatchments_chirps')\n",
    "\n",
    "# shapefiles_fnames = os.path.join(path_subcatchments, '*.gpkg')\n",
    "# shape_files = glob.glob(shapefiles_fnames)\n",
    "# path_satellite = path_satellite.replace('\\\\', '\\\\\\\\')\n",
    "\n",
    "# print(path_satellite)\n",
    "\n",
    "# N = len(shapefiles_fnames)"
   ]
  },
  {
   "cell_type": "code",
   "execution_count": 53,
   "metadata": {},
   "outputs": [
    {
     "name": "stdout",
     "output_type": "stream",
     "text": [
      "['/Users/matskerver/Documents/data_tana/catchments/chirps_2018_2022_28.45_43.55_-5.05_5.45.nc']\n"
     ]
    }
   ],
   "source": [
    "data_files = glob.glob(os.path.join(data_path, '*.nc'))\n",
    "print(data_files)\n",
    "datasets = {}\n",
    "\n",
    "for file_path in data_files:\n",
    "    # Extract the file identifier from the file name\n",
    "    file_name = os.path.basename(file_path)  # Get just the file name\n",
    "    file_identifier = file_name.split('_')[0]  # Split by underscore and take the first part\n",
    "    # print(file_identifier)\n",
    "    # Open the dataset\n",
    "    dataset = xr.open_dataset(file_path)\n",
    "    # print(dataset)\n",
    "    # Add the file identifier as a new coordinate\n",
    "    dataset = dataset.assign_coords(file_identifier=file_identifier)\n",
    "    \n",
    "    # Add the dataset to the dictionary with the file identifier as the key\n",
    "    datasets[file_identifier] = dataset\n",
    "    # print(datasets[file_identifier])\n",
    "chirps_file = data_files[0]"
   ]
  },
  {
   "cell_type": "code",
   "execution_count": 54,
   "metadata": {},
   "outputs": [
    {
     "data": {
      "text/plain": [
       "<Axes: >"
      ]
     },
     "execution_count": 54,
     "metadata": {},
     "output_type": "execute_result"
    },
    {
     "data": {
      "image/png": "[encoded data removed]",
      "text/plain": [
       "<Figure size 640x480 with 1 Axes>"
      ]
     },
     "metadata": {},
     "output_type": "display_data"
    }
   ],
   "source": [
    "shape_file = os.path.join(shape_path, '*.gpkg')\n",
    "shape_files = glob.glob(shape_file)\n",
    "\n",
    "gdfs = []\n",
    "\n",
    "for file in shape_files:\n",
    "    gdf = gpd.read_file(file)\n",
    "    gdfs.append(gdf)\n",
    "\n",
    "merged_gdfs = gpd.GeoDataFrame(pd.concat(gdfs, ignore_index=True))\n",
    "merged_gdfs.plot(color = 'bisque', edgecolor = 'black')"
   ]
  },
  {
   "cell_type": "code",
   "execution_count": 55,
   "metadata": {},
   "outputs": [],
   "source": [
    "#gdfs"
   ]
  },
  {
   "cell_type": "code",
   "execution_count": 56,
   "metadata": {},
   "outputs": [
    {
     "name": "stdout",
     "output_type": "stream",
     "text": [
      "/Users/matskerver/Documents/data_tana/catchments/goeie/fid_1.gpkg\n",
      "(1826, 210, 302)\n",
      "/Users/matskerver/Documents/data_tana/catchments/goeie/fid_144.gpkg\n",
      "(1826, 210, 302)\n",
      "Execution time: 327.9166851043701 seconds\n"
     ]
    }
   ],
   "source": [
    "i = 0\n",
    "start_time = time.time()\n",
    "min_size = 100  # minimum size in the units of the GeoPackage's CRS\n",
    "netCDF_file = data_files[0]  # Assuming data_files contains the list of NetCDF file paths\n",
    "for geopackage_file in shape_files:  # Assuming shape_files is a list of GeoPackage file paths\n",
    "    clipped_data, meta = clip_or_assign_nearest(netCDF_file, geopackage_file, min_size)\n",
    "    print(geopackage_file)\n",
    "    i += 1\n",
    "    if i > 20:\n",
    "        break;\n",
    "    print(clipped_data.shape)\n",
    "# clipped_data, meta = clip_netCDF_to_geopackage(chirps_file, shape_files)\n",
    "end_time = time.time()\n",
    "\n",
    "# Calculate and print the execution time\n",
    "execution_time = end_time - start_time\n",
    "print(f\"Execution time: {execution_time} seconds\")"
   ]
  },
  {
   "cell_type": "code",
   "execution_count": 26,
   "metadata": {},
   "outputs": [
    {
     "ename": "KeyboardInterrupt",
     "evalue": "",
     "output_type": "error",
     "traceback": [
      "\u001b[0;31m---------------------------------------------------------------------------\u001b[0m",
      "\u001b[0;31mKeyboardInterrupt\u001b[0m                         Traceback (most recent call last)",
      "Cell \u001b[0;32mIn[26], line 24\u001b[0m\n\u001b[1;32m     22\u001b[0m netCDF_file \u001b[38;5;241m=\u001b[39m data_files[\u001b[38;5;241m0\u001b[39m]  \u001b[38;5;66;03m# Assuming data_files contains the list of NetCDF file paths\u001b[39;00m\n\u001b[1;32m     23\u001b[0m \u001b[38;5;28;01mfor\u001b[39;00m geopackage_file \u001b[38;5;129;01min\u001b[39;00m shape_files:  \u001b[38;5;66;03m# Assuming shape_files is a list of GeoPackage file paths\u001b[39;00m\n\u001b[0;32m---> 24\u001b[0m     clipped_data, meta \u001b[38;5;241m=\u001b[39m clip_netCDF_to_geopackage(netCDF_file, geopackage_file)\n\u001b[1;32m     25\u001b[0m     \u001b[38;5;28mprint\u001b[39m(geopackage_file)\n\u001b[1;32m     26\u001b[0m     i \u001b[38;5;241m+\u001b[39m\u001b[38;5;241m=\u001b[39m \u001b[38;5;241m1\u001b[39m\n",
      "Cell \u001b[0;32mIn[26], line 11\u001b[0m, in \u001b[0;36mclip_netCDF_to_geopackage\u001b[0;34m(netCDF_file, geopackage_file)\u001b[0m\n\u001b[1;32m      8\u001b[0m data \u001b[38;5;241m=\u001b[39m src\u001b[38;5;241m.\u001b[39mread(\u001b[38;5;241m1\u001b[39m)\n\u001b[1;32m     10\u001b[0m \u001b[38;5;66;03m# Clip the NetCDF data to the GeoPackage boundaries\u001b[39;00m\n\u001b[0;32m---> 11\u001b[0m clipped_data, _ \u001b[38;5;241m=\u001b[39m mask(src, geopackage_gdf\u001b[38;5;241m.\u001b[39mgeometry, crop\u001b[38;5;241m=\u001b[39m\u001b[38;5;28;01mTrue\u001b[39;00m, nodata\u001b[38;5;241m=\u001b[39mnp\u001b[38;5;241m.\u001b[39mnan)\n\u001b[1;32m     13\u001b[0m \u001b[38;5;66;03m# Get metadata for the clipped data\u001b[39;00m\n\u001b[1;32m     14\u001b[0m meta \u001b[38;5;241m=\u001b[39m src\u001b[38;5;241m.\u001b[39mmeta\u001b[38;5;241m.\u001b[39mcopy()\n",
      "File \u001b[0;32m~/anaconda3/lib/python3.11/site-packages/rasterio/mask.py:189\u001b[0m, in \u001b[0;36mmask\u001b[0;34m(dataset, shapes, all_touched, invert, nodata, filled, crop, pad, pad_width, indexes)\u001b[0m\n\u001b[1;32m    186\u001b[0m \u001b[38;5;28;01melse\u001b[39;00m:\n\u001b[1;32m    187\u001b[0m     out_shape \u001b[38;5;241m=\u001b[39m (\u001b[38;5;28mlen\u001b[39m(indexes), ) \u001b[38;5;241m+\u001b[39m shape_mask\u001b[38;5;241m.\u001b[39mshape\n\u001b[0;32m--> 189\u001b[0m out_image \u001b[38;5;241m=\u001b[39m dataset\u001b[38;5;241m.\u001b[39mread(\n\u001b[1;32m    190\u001b[0m     window\u001b[38;5;241m=\u001b[39mwindow, out_shape\u001b[38;5;241m=\u001b[39mout_shape, masked\u001b[38;5;241m=\u001b[39m\u001b[38;5;28;01mTrue\u001b[39;00m, indexes\u001b[38;5;241m=\u001b[39mindexes)\n\u001b[1;32m    192\u001b[0m out_image\u001b[38;5;241m.\u001b[39mmask \u001b[38;5;241m=\u001b[39m out_image\u001b[38;5;241m.\u001b[39mmask \u001b[38;5;241m|\u001b[39m shape_mask\n\u001b[1;32m    194\u001b[0m \u001b[38;5;28;01mif\u001b[39;00m filled:\n",
      "File \u001b[0;32mrasterio/_io.pyx:658\u001b[0m, in \u001b[0;36mrasterio._io.DatasetReaderBase.read\u001b[0;34m()\u001b[0m\n",
      "File \u001b[0;32mrasterio/_io.pyx:955\u001b[0m, in \u001b[0;36mrasterio._io.DatasetReaderBase._read\u001b[0;34m()\u001b[0m\n",
      "File \u001b[0;32m~/anaconda3/lib/python3.11/logging/__init__.py:1467\u001b[0m, in \u001b[0;36mLogger.debug\u001b[0;34m(self, msg, *args, **kwargs)\u001b[0m\n\u001b[1;32m   1464\u001b[0m     \u001b[38;5;28mself\u001b[39m\u001b[38;5;241m.\u001b[39mlevel \u001b[38;5;241m=\u001b[39m _checkLevel(level)\n\u001b[1;32m   1465\u001b[0m     \u001b[38;5;28mself\u001b[39m\u001b[38;5;241m.\u001b[39mmanager\u001b[38;5;241m.\u001b[39m_clear_cache()\n\u001b[0;32m-> 1467\u001b[0m \u001b[38;5;28;01mdef\u001b[39;00m \u001b[38;5;21mdebug\u001b[39m(\u001b[38;5;28mself\u001b[39m, msg, \u001b[38;5;241m*\u001b[39margs, \u001b[38;5;241m*\u001b[39m\u001b[38;5;241m*\u001b[39mkwargs):\n\u001b[1;32m   1468\u001b[0m \u001b[38;5;250m    \u001b[39m\u001b[38;5;124;03m\"\"\"\u001b[39;00m\n\u001b[1;32m   1469\u001b[0m \u001b[38;5;124;03m    Log 'msg % args' with severity 'DEBUG'.\u001b[39;00m\n\u001b[1;32m   1470\u001b[0m \n\u001b[0;32m   (...)\u001b[0m\n\u001b[1;32m   1474\u001b[0m \u001b[38;5;124;03m    logger.debug(\"Houston, we have a %s\", \"thorny problem\", exc_info=1)\u001b[39;00m\n\u001b[1;32m   1475\u001b[0m \u001b[38;5;124;03m    \"\"\"\u001b[39;00m\n\u001b[1;32m   1476\u001b[0m     \u001b[38;5;28;01mif\u001b[39;00m \u001b[38;5;28mself\u001b[39m\u001b[38;5;241m.\u001b[39misEnabledFor(DEBUG):\n",
      "\u001b[0;31mKeyboardInterrupt\u001b[0m: "
     ]
    }
   ],
   "source": [
    "def clip_netCDF_to_geopackage(netCDF_file, geopackage_file):\n",
    "    # Open the GeoPackage file\n",
    "    geopackage_gdf = gpd.read_file(geopackage_file)\n",
    "\n",
    "    # Open the NetCDF file\n",
    "    with rasterio.open(netCDF_file) as src:\n",
    "        # Read the NetCDF data\n",
    "        data = src.read(1)\n",
    "\n",
    "        # Clip the NetCDF data to the GeoPackage boundaries\n",
    "        clipped_data, _ = mask(src, geopackage_gdf.geometry, crop=True, nodata=np.nan)\n",
    "\n",
    "        # Get metadata for the clipped data\n",
    "        meta = src.meta.copy()\n",
    "\n",
    "    return clipped_data, meta\n",
    "\n",
    "# Example usage:\n",
    "i = 0\n",
    "start_time = time.time()\n",
    "\n",
    "netCDF_file = data_files[0]  # Assuming data_files contains the list of NetCDF file paths\n",
    "for geopackage_file in shape_files:  # Assuming shape_files is a list of GeoPackage file paths\n",
    "    clipped_data, meta = clip_netCDF_to_geopackage(netCDF_file, geopackage_file)\n",
    "    print(geopackage_file)\n",
    "    i += 1\n",
    "    if i > 20:\n",
    "        break;\n",
    "    print(clipped_data.shape)\n",
    "# clipped_data, meta = clip_netCDF_to_geopackage(chirps_file, shape_files)\n",
    "end_time = time.time()\n",
    "\n",
    "# Calculate and print the execution time\n",
    "execution_time = end_time - start_time\n",
    "print(f\"Execution time: {execution_time} seconds\")"
   ]
  },
  {
   "cell_type": "code",
   "execution_count": 58,
   "metadata": {},
   "outputs": [
    {
     "name": "stdout",
     "output_type": "stream",
     "text": [
      "1826\n"
     ]
    },
    {
     "data": {
      "image/png": "[encoded data removed]",
      "text/plain": [
       "<Figure size 800x600 with 2 Axes>"
      ]
     },
     "metadata": {},
     "output_type": "display_data"
    }
   ],
   "source": [
    "clipped_values = np.count_nonzero(~np.isnan(clipped_data))\n",
    "print(clipped_values)\n",
    "plt.figure(figsize=(8, 6))\n",
    "plt.imshow(clipped_data[0])#, extent=[lon_min, lon_max, lat_min, lat_max])\n",
    "plt.colorbar(label='Precipitation (mm)')\n",
    "plt.xlabel('Longitude')\n",
    "plt.ylabel('Latitude')\n",
    "plt.title('Clipped NetCDF Data')\n",
    "plt.grid(True)\n",
    "plt.show()\n"
   ]
  },
  {
   "cell_type": "code",
   "execution_count": null,
   "metadata": {},
   "outputs": [],
   "source": []
  },
  {
   "cell_type": "code",
   "execution_count": 10,
   "metadata": {},
   "outputs": [
    {
     "name": "stdout",
     "output_type": "stream",
     "text": [
      "[]\n"
     ]
    },
    {
     "ename": "ValueError",
     "evalue": "No objects to concatenate",
     "output_type": "error",
     "traceback": [
      "\u001b[0;31m---------------------------------------------------------------------------\u001b[0m",
      "\u001b[0;31mValueError\u001b[0m                                Traceback (most recent call last)",
      "Cell \u001b[0;32mIn[10], line 12\u001b[0m\n\u001b[1;32m      9\u001b[0m     gdf_mini \u001b[38;5;241m=\u001b[39m gpd\u001b[38;5;241m.\u001b[39mread_file(file)\n\u001b[1;32m     10\u001b[0m     gdfs_mini\u001b[38;5;241m.\u001b[39mappend(gdf_mini)\n\u001b[0;32m---> 12\u001b[0m merged_gdfs_mini \u001b[38;5;241m=\u001b[39m gpd\u001b[38;5;241m.\u001b[39mGeoDataFrame(pd\u001b[38;5;241m.\u001b[39mconcat(gdfs_mini, ignore_index\u001b[38;5;241m=\u001b[39m\u001b[38;5;28;01mTrue\u001b[39;00m))\n\u001b[1;32m     13\u001b[0m merged_gdfs_mini\u001b[38;5;241m.\u001b[39mplot(color \u001b[38;5;241m=\u001b[39m \u001b[38;5;124m'\u001b[39m\u001b[38;5;124mbisque\u001b[39m\u001b[38;5;124m'\u001b[39m, edgecolor \u001b[38;5;241m=\u001b[39m \u001b[38;5;124m'\u001b[39m\u001b[38;5;124mblack\u001b[39m\u001b[38;5;124m'\u001b[39m)\n",
      "File \u001b[0;32m~/anaconda3/lib/python3.11/site-packages/pandas/core/reshape/concat.py:372\u001b[0m, in \u001b[0;36mconcat\u001b[0;34m(objs, axis, join, ignore_index, keys, levels, names, verify_integrity, sort, copy)\u001b[0m\n\u001b[1;32m    369\u001b[0m \u001b[38;5;28;01melif\u001b[39;00m copy \u001b[38;5;129;01mand\u001b[39;00m using_copy_on_write():\n\u001b[1;32m    370\u001b[0m     copy \u001b[38;5;241m=\u001b[39m \u001b[38;5;28;01mFalse\u001b[39;00m\n\u001b[0;32m--> 372\u001b[0m op \u001b[38;5;241m=\u001b[39m _Concatenator(\n\u001b[1;32m    373\u001b[0m     objs,\n\u001b[1;32m    374\u001b[0m     axis\u001b[38;5;241m=\u001b[39maxis,\n\u001b[1;32m    375\u001b[0m     ignore_index\u001b[38;5;241m=\u001b[39mignore_index,\n\u001b[1;32m    376\u001b[0m     join\u001b[38;5;241m=\u001b[39mjoin,\n\u001b[1;32m    377\u001b[0m     keys\u001b[38;5;241m=\u001b[39mkeys,\n\u001b[1;32m    378\u001b[0m     levels\u001b[38;5;241m=\u001b[39mlevels,\n\u001b[1;32m    379\u001b[0m     names\u001b[38;5;241m=\u001b[39mnames,\n\u001b[1;32m    380\u001b[0m     verify_integrity\u001b[38;5;241m=\u001b[39mverify_integrity,\n\u001b[1;32m    381\u001b[0m     copy\u001b[38;5;241m=\u001b[39mcopy,\n\u001b[1;32m    382\u001b[0m     sort\u001b[38;5;241m=\u001b[39msort,\n\u001b[1;32m    383\u001b[0m )\n\u001b[1;32m    385\u001b[0m \u001b[38;5;28;01mreturn\u001b[39;00m op\u001b[38;5;241m.\u001b[39mget_result()\n",
      "File \u001b[0;32m~/anaconda3/lib/python3.11/site-packages/pandas/core/reshape/concat.py:429\u001b[0m, in \u001b[0;36m_Concatenator.__init__\u001b[0;34m(self, objs, axis, join, keys, levels, names, ignore_index, verify_integrity, copy, sort)\u001b[0m\n\u001b[1;32m    426\u001b[0m     objs \u001b[38;5;241m=\u001b[39m \u001b[38;5;28mlist\u001b[39m(objs)\n\u001b[1;32m    428\u001b[0m \u001b[38;5;28;01mif\u001b[39;00m \u001b[38;5;28mlen\u001b[39m(objs) \u001b[38;5;241m==\u001b[39m \u001b[38;5;241m0\u001b[39m:\n\u001b[0;32m--> 429\u001b[0m     \u001b[38;5;28;01mraise\u001b[39;00m \u001b[38;5;167;01mValueError\u001b[39;00m(\u001b[38;5;124m\"\u001b[39m\u001b[38;5;124mNo objects to concatenate\u001b[39m\u001b[38;5;124m\"\u001b[39m)\n\u001b[1;32m    431\u001b[0m \u001b[38;5;28;01mif\u001b[39;00m keys \u001b[38;5;129;01mis\u001b[39;00m \u001b[38;5;28;01mNone\u001b[39;00m:\n\u001b[1;32m    432\u001b[0m     objs \u001b[38;5;241m=\u001b[39m \u001b[38;5;28mlist\u001b[39m(com\u001b[38;5;241m.\u001b[39mnot_none(\u001b[38;5;241m*\u001b[39mobjs))\n",
      "\u001b[0;31mValueError\u001b[0m: No objects to concatenate"
     ]
    }
   ],
   "source": [
    "mini_shape_path = os.path.join(data, 'OneDrive - Delft University of Technology', 'TU Delft', 'Master ENVM', 'MDP', 'Model', 'Data', 'Shapefiles', 'Mini_shapes')\n",
    "mini_shape_file = os.path.join(mini_shape_path, '*.gpkg')\n",
    "mini_shape_files = glob.glob(mini_shape_file)\n",
    "gdfs_mini = []\n",
    "\n",
    "print(mini_shape_files)\n",
    "\n",
    "for file in mini_shape_files:\n",
    "    gdf_mini = gpd.read_file(file)\n",
    "    gdfs_mini.append(gdf_mini)\n",
    "\n",
    "merged_gdfs_mini = gpd.GeoDataFrame(pd.concat(gdfs_mini, ignore_index=True))\n",
    "merged_gdfs_mini.plot(color = 'bisque', edgecolor = 'black')"
   ]
  },
  {
   "cell_type": "code",
   "execution_count": null,
   "metadata": {},
   "outputs": [],
   "source": [
    "# select one day from the chirps file\n",
    "\n",
    "mini_1_file = mini_shape_files[100]\n",
    "mini_1_shape = gpd.read_file(mini_1_file)\n",
    "mini_1_shape.plot(color= 'bisque')\n",
    "ds = xr.open_dataset(data_files[0])\n",
    "ds_day_1 = ds.sel(time = '2018-01-01') # --> Selected day\n",
    "# print(mini_1_shape)\n",
    "shape_1 = gpd.read_file(mini_shape_files[0])\n",
    "\n",
    "clip_1 = shape_1.geometry.values[0]\n",
    "\n",
    "# print(clip_1)\n",
    "\n",
    "\n",
    "# with rasterio.open(data_files[0]) as src:\n",
    "#     # Clip the dataset to the clipping geometry\n",
    "#     clipped_mini_data, clipped_transform = mask(src, [clip_1], crop=True)\n",
    "\n",
    "# print(clipped_mini_data)\n",
    "\n",
    "# geopackage_gdf = gpd.read_file(mini_1_shape)\n",
    "# clipped_mini, _ = mask(src, geopackage_gdf.geometry.values[0], crop = True, nodata=np.nan)"
   ]
  },
  {
   "cell_type": "code",
   "execution_count": null,
   "metadata": {},
   "outputs": [],
   "source": [
    "ds = xr.open_dataset(data_files[0])  # Assuming data_files contains the list of NetCDF file paths\n",
    "ds_day_1 = ds.sel(time='2018-01-01')  # Selected day\n",
    "\n",
    "# Load the GeoPackage shapefile\n",
    "shape_1 = gpd.read_file(mini_shape_files[0])  # Assuming mini_shape_files contains the path to the shapefile\n",
    "clip_1 = shape_1.geometry.values[0]  # Assuming the shapefile has only one geometry\n",
    "\n",
    "# Open the CHIRPS file with rasterio\n",
    "with rasterio.open(data_files[0]) as src:\n",
    "    # Clip the CHIRPS data to the clipping geometry\n",
    "    clipped_mini, _ = mask(src, [clip_1], crop=True, nodata=np.nan)\n",
    "\n",
    "plt.imshow(clipped_mini, cmap='jet')\n",
    "plt.colorbar(label='Precipitation (mm)')\n",
    "plt.title('Clipped CHIRPS Data')\n",
    "plt.xlabel('Column')\n",
    "plt.ylabel('Row')\n",
    "plt.show()\n"
   ]
  },
  {
   "cell_type": "code",
   "execution_count": null,
   "metadata": {},
   "outputs": [],
   "source": []
  }
 ],
 "metadata": {
  "kernelspec": {
   "display_name": "Python 3 (ipykernel)",
   "language": "python",
   "name": "python3"
  },
  "language_info": {
   "codemirror_mode": {
    "name": "ipython",
    "version": 3
   },
   "file_extension": ".py",
   "mimetype": "text/x-python",
   "name": "python",
   "nbconvert_exporter": "python",
   "pygments_lexer": "ipython3",
   "version": "3.11.5"
  }
 },
 "nbformat": 4,
 "nbformat_minor": 2
}
