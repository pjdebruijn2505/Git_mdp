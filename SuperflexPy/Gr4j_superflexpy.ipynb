{
 "cells": [
  {
   "cell_type": "code",
   "execution_count": 99,
   "id": "0ef30c06",
   "metadata": {},
   "outputs": [
    {
     "name": "stdout",
     "output_type": "stream",
     "text": [
      "/Users/matskerver/Documents/GIT/MDP_git/Git_mdp\n",
      "/Users/matskerver/Documents/GIT/MDP_git\n"
     ]
    }
   ],
   "source": [
    "import numpy as np\n",
    "import pandas as pd\n",
    "import pathlib\n",
    "import matplotlib as mpl\n",
    "import matplotlib.pyplot as plt\n",
    "import sys\n",
    "import os.path\n",
    "\n",
    "cwd = pathlib.Path().resolve()\n",
    "src = cwd.parent\n",
    "root = src.parent\n",
    "print(src)\n",
    "print(root)\n",
    "sys.path.append(str(src))\n",
    "sys.path.append(str(root))"
   ]
  },
  {
   "cell_type": "code",
   "execution_count": 100,
   "id": "5ac149b8",
   "metadata": {},
   "outputs": [],
   "source": [
    "from superflexpy.implementation.elements.gr4j import BaseElement, UnitHydrograph1, UnitHydrograph2, FluxAggregator \n",
    "from superflexpy.implementation.elements.gr4j import InterceptionFilter, ProductionStore, RoutingStore\n",
    "from superflexpy.implementation.elements.structure_elements import Transparent, Splitter, Junction\n",
    "from superflexpy.implementation.root_finders.pegasus import PegasusPython\n",
    "from superflexpy.implementation.numerical_approximators.implicit_euler import ImplicitEulerPython\n",
    "from superflexpy.framework.unit import Unit\n",
    "from superflexpy.framework.node import Node\n",
    "from superflexpy.framework.network import Network\n",
    "#from utils.precipitation_evaporation import *"
   ]
  },
  {
   "cell_type": "code",
   "execution_count": null,
   "id": "cfd23ed5",
   "metadata": {},
   "outputs": [],
   "source": []
  },
  {
   "cell_type": "code",
   "execution_count": 101,
   "id": "2af37bcb",
   "metadata": {},
   "outputs": [],
   "source": [
    "def GR4J_element(x1,x2,x3,x4, name, area, precipitation, evaporation):\n",
    "    #x1, x2, x3, x4 = (50.0, 0.1, 20.0, 3.5)\n",
    "\n",
    "    root_finder = PegasusPython()  # Use the default parameters\n",
    "    numerical_approximation = ImplicitEulerPython(root_finder)\n",
    "\n",
    "    interception_filter = InterceptionFilter(id='ir')\n",
    "\n",
    "    production_store = ProductionStore(parameters={'x1': x1, 'alpha': 2.0,\n",
    "                                                   'beta': 5.0, 'ni': 4/9},\n",
    "                                       states={'S0': 10.0},\n",
    "                                       approximation=numerical_approximation,\n",
    "                                       id='ps')\n",
    "\n",
    "    splitter = Splitter(weight=[[0.9], [0.1]],\n",
    "                        direction=[[0], [0]],\n",
    "                        id='spl')\n",
    "\n",
    "    unit_hydrograph_1 = UnitHydrograph1(parameters={'lag-time': x4},\n",
    "                                        states={'lag': None},\n",
    "                                        id='uh1')\n",
    "\n",
    "    unit_hydrograph_2 = UnitHydrograph2(parameters={'lag-time': 2*x4},\n",
    "                                        states={'lag': None},\n",
    "                                        id='uh2')\n",
    "\n",
    "    routing_store = RoutingStore(parameters={'x2': x2, 'x3': x3,\n",
    "                                             'gamma': 5.0, 'omega': 3.5},\n",
    "                                 states={'S0': 10.0},\n",
    "                                 approximation=numerical_approximation,\n",
    "                                 id='rs')\n",
    "\n",
    "    transparent = Transparent(id='tr')\n",
    "\n",
    "    junction = Junction(direction=[[0, None],  # First output\n",
    "                                   [1, None],  # Second output\n",
    "                                   [None, 0]], # Third output\n",
    "                        id='jun')\n",
    "\n",
    "    flux_aggregator = FluxAggregator(id='fa')\n",
    "\n",
    "    catchment_element = Unit(layers=[[interception_filter],\n",
    "                     [production_store],\n",
    "                     [splitter],\n",
    "                     [unit_hydrograph_1, unit_hydrograph_2],\n",
    "                     [routing_store, transparent],\n",
    "                     [junction],\n",
    "                     [flux_aggregator]],\n",
    "             id=f'unit-{name}')\n",
    "    \n",
    "    \n",
    "    current_node = Node(\n",
    "    units=[catchment_element],\n",
    "    weights = [1.0],\n",
    "    area=area,\n",
    "    id=f'node-{name}'\n",
    "    )\n",
    "    \n",
    "    current_node.set_input([precipitation, evaporation])\n",
    "    print(precipitation)\n",
    "    return current_node"
   ]
  },
  {
   "cell_type": "code",
   "execution_count": 102,
   "id": "128844dc",
   "metadata": {},
   "outputs": [],
   "source": [
    "x1, x2, x3, x4 = (50.0, 0.1, 20.0, 3.5)\n",
    "areas = [1.0, 4.6, 2.6, 9.1]\n",
    "precipitation = [[40., 15.4,8.,3.3],[30., 15.4,8.,3.3],[10., 15.4,8.,3.3],[80., 15.4,8.,3.3]]\n",
    "evaporation = [[4., 2.4,18.,6.3],[4., 2.4,18.,6.3],[4., 2.4,18.,6.3],[4., 2.4,18.,6.3]]"
   ]
  },
  {
   "cell_type": "code",
   "execution_count": 103,
   "id": "680d3620",
   "metadata": {},
   "outputs": [
    {
     "name": "stdout",
     "output_type": "stream",
     "text": [
      "[40.0, 15.4, 8.0, 3.3]\n",
      "node-1\n",
      "[30.0, 15.4, 8.0, 3.3]\n",
      "node-2\n",
      "[10.0, 15.4, 8.0, 3.3]\n",
      "node-3\n",
      "[80.0, 15.4, 8.0, 3.3]\n",
      "node-4\n",
      "<class 'superflexpy.framework.node.Node'>\n"
     ]
    }
   ],
   "source": [
    "nodes_gr4j = []\n",
    "\n",
    "\n",
    "for i in range(4):\n",
    "    name = str(i+1)\n",
    "    current = GR4J_element(x1, x2, x3, x4, name, areas[i], precipitation[i], evaporation[i])\n",
    "    nodes_gr4j.append(current)\n",
    "    print(current.id)\n",
    "    \n",
    "print(type(nodes_gr4j[0]))"
   ]
  },
  {
   "cell_type": "code",
   "execution_count": 104,
   "id": "5751704e",
   "metadata": {},
   "outputs": [],
   "source": [
    "net = Network(\n",
    "    nodes=nodes_gr4j,\n",
    "    topology={\n",
    "        'node-1': 'node-3',\n",
    "        'node-2': 'node-3',\n",
    "        'node-3': 'node-4',\n",
    "        'node-4': None\n",
    "    }\n",
    ")"
   ]
  },
  {
   "cell_type": "code",
   "execution_count": 105,
   "id": "12604fe0",
   "metadata": {},
   "outputs": [],
   "source": [
    "net.reset_states()\n",
    "net.set_timestep(1.0)\n",
    "output = net.get_output()\n"
   ]
  },
  {
   "cell_type": "code",
   "execution_count": 106,
   "id": "99b7ba81",
   "metadata": {},
   "outputs": [],
   "source": [
    "output_unit_1_node_1 = net.call_internal(id='node-1_unit-1',\n",
    "                                        method='get_output',\n",
    "                                        solve=False)[0]\n",
    "output_unit_2_node_2 = net.call_internal(id='node-2_unit-2',\n",
    "                                        method='get_output',\n",
    "                                        solve=False)[0]\n",
    "output_unit_3_node_3 = net.call_internal(id='node-3_unit-3',\n",
    "                                        method='get_output',\n",
    "                                        solve=False)[0]\n",
    "output_unit_4_node_4 = net.call_internal(id='node-4_unit-4',\n",
    "                                        method='get_output',\n",
    "                                        solve=False)[0]\n",
    "\n",
    "\n"
   ]
  },
  {
   "cell_type": "code",
   "execution_count": 107,
   "id": "52894eb5",
   "metadata": {},
   "outputs": [
    {
     "ename": "TypeError",
     "evalue": "unhashable type: 'dict'",
     "output_type": "error",
     "traceback": [
      "\u001b[0;31m---------------------------------------------------------------------------\u001b[0m",
      "\u001b[0;31mTypeError\u001b[0m                                 Traceback (most recent call last)",
      "Cell \u001b[0;32mIn[107], line 9\u001b[0m\n\u001b[1;32m      7\u001b[0m ax2\u001b[38;5;241m.\u001b[39mplot(\u001b[38;5;28mrange\u001b[39m(\u001b[38;5;28mlen\u001b[39m(precipitation)), output_unit_3_node_3, color\u001b[38;5;241m=\u001b[39m\u001b[38;5;124m'\u001b[39m\u001b[38;5;124mblue\u001b[39m\u001b[38;5;124m'\u001b[39m, lw\u001b[38;5;241m=\u001b[39m\u001b[38;5;241m2\u001b[39m, label\u001b[38;5;241m=\u001b[39m\u001b[38;5;124m'\u001b[39m\u001b[38;5;124mNode 3\u001b[39m\u001b[38;5;124m'\u001b[39m)\n\u001b[1;32m      8\u001b[0m ax2\u001b[38;5;241m.\u001b[39mplot(\u001b[38;5;28mrange\u001b[39m(\u001b[38;5;28mlen\u001b[39m(precipitation)), output_unit_4_node_4, color\u001b[38;5;241m=\u001b[39m\u001b[38;5;124m'\u001b[39m\u001b[38;5;124mgreen\u001b[39m\u001b[38;5;124m'\u001b[39m, lw\u001b[38;5;241m=\u001b[39m\u001b[38;5;241m2\u001b[39m, label\u001b[38;5;241m=\u001b[39m\u001b[38;5;124m'\u001b[39m\u001b[38;5;124mNode 4\u001b[39m\u001b[38;5;124m'\u001b[39m)\n\u001b[0;32m----> 9\u001b[0m ax2\u001b[38;5;241m.\u001b[39mplot(\u001b[38;5;28mrange\u001b[39m(\u001b[38;5;28mlen\u001b[39m(precipitation)), output, color\u001b[38;5;241m=\u001b[39m\u001b[38;5;124m'\u001b[39m\u001b[38;5;124mpink\u001b[39m\u001b[38;5;124m'\u001b[39m, lw\u001b[38;5;241m=\u001b[39m\u001b[38;5;241m2\u001b[39m, label\u001b[38;5;241m=\u001b[39m\u001b[38;5;124m'\u001b[39m\u001b[38;5;124mNetwork\u001b[39m\u001b[38;5;124m'\u001b[39m)\n\u001b[1;32m     11\u001b[0m ax1\u001b[38;5;241m.\u001b[39mlegend()\n\u001b[1;32m     12\u001b[0m ax1\u001b[38;5;241m.\u001b[39mset_xlabel(\u001b[38;5;124m'\u001b[39m\u001b[38;5;124mTime [days]\u001b[39m\u001b[38;5;124m'\u001b[39m)\n",
      "File \u001b[0;32m~/anaconda3/lib/python3.11/site-packages/matplotlib/axes/_axes.py:1688\u001b[0m, in \u001b[0;36mAxes.plot\u001b[0;34m(self, scalex, scaley, data, *args, **kwargs)\u001b[0m\n\u001b[1;32m   1445\u001b[0m \u001b[38;5;250m\u001b[39m\u001b[38;5;124;03m\"\"\"\u001b[39;00m\n\u001b[1;32m   1446\u001b[0m \u001b[38;5;124;03mPlot y versus x as lines and/or markers.\u001b[39;00m\n\u001b[1;32m   1447\u001b[0m \n\u001b[0;32m   (...)\u001b[0m\n\u001b[1;32m   1685\u001b[0m \u001b[38;5;124;03m(``'green'``) or hex strings (``'#008000'``).\u001b[39;00m\n\u001b[1;32m   1686\u001b[0m \u001b[38;5;124;03m\"\"\"\u001b[39;00m\n\u001b[1;32m   1687\u001b[0m kwargs \u001b[38;5;241m=\u001b[39m cbook\u001b[38;5;241m.\u001b[39mnormalize_kwargs(kwargs, mlines\u001b[38;5;241m.\u001b[39mLine2D)\n\u001b[0;32m-> 1688\u001b[0m lines \u001b[38;5;241m=\u001b[39m [\u001b[38;5;241m*\u001b[39m\u001b[38;5;28mself\u001b[39m\u001b[38;5;241m.\u001b[39m_get_lines(\u001b[38;5;241m*\u001b[39margs, data\u001b[38;5;241m=\u001b[39mdata, \u001b[38;5;241m*\u001b[39m\u001b[38;5;241m*\u001b[39mkwargs)]\n\u001b[1;32m   1689\u001b[0m \u001b[38;5;28;01mfor\u001b[39;00m line \u001b[38;5;129;01min\u001b[39;00m lines:\n\u001b[1;32m   1690\u001b[0m     \u001b[38;5;28mself\u001b[39m\u001b[38;5;241m.\u001b[39madd_line(line)\n",
      "File \u001b[0;32m~/anaconda3/lib/python3.11/site-packages/matplotlib/axes/_base.py:311\u001b[0m, in \u001b[0;36m_process_plot_var_args.__call__\u001b[0;34m(self, data, *args, **kwargs)\u001b[0m\n\u001b[1;32m    309\u001b[0m     this \u001b[38;5;241m+\u001b[39m\u001b[38;5;241m=\u001b[39m args[\u001b[38;5;241m0\u001b[39m],\n\u001b[1;32m    310\u001b[0m     args \u001b[38;5;241m=\u001b[39m args[\u001b[38;5;241m1\u001b[39m:]\n\u001b[0;32m--> 311\u001b[0m \u001b[38;5;28;01myield from\u001b[39;00m \u001b[38;5;28mself\u001b[39m\u001b[38;5;241m.\u001b[39m_plot_args(\n\u001b[1;32m    312\u001b[0m     this, kwargs, ambiguous_fmt_datakey\u001b[38;5;241m=\u001b[39mambiguous_fmt_datakey)\n",
      "File \u001b[0;32m~/anaconda3/lib/python3.11/site-packages/matplotlib/axes/_base.py:501\u001b[0m, in \u001b[0;36m_process_plot_var_args._plot_args\u001b[0;34m(self, tup, kwargs, return_kwargs, ambiguous_fmt_datakey)\u001b[0m\n\u001b[1;32m    499\u001b[0m     \u001b[38;5;28mself\u001b[39m\u001b[38;5;241m.\u001b[39maxes\u001b[38;5;241m.\u001b[39mxaxis\u001b[38;5;241m.\u001b[39mupdate_units(x)\n\u001b[1;32m    500\u001b[0m \u001b[38;5;28;01mif\u001b[39;00m \u001b[38;5;28mself\u001b[39m\u001b[38;5;241m.\u001b[39maxes\u001b[38;5;241m.\u001b[39myaxis \u001b[38;5;129;01mis\u001b[39;00m \u001b[38;5;129;01mnot\u001b[39;00m \u001b[38;5;28;01mNone\u001b[39;00m:\n\u001b[0;32m--> 501\u001b[0m     \u001b[38;5;28mself\u001b[39m\u001b[38;5;241m.\u001b[39maxes\u001b[38;5;241m.\u001b[39myaxis\u001b[38;5;241m.\u001b[39mupdate_units(y)\n\u001b[1;32m    503\u001b[0m \u001b[38;5;28;01mif\u001b[39;00m x\u001b[38;5;241m.\u001b[39mshape[\u001b[38;5;241m0\u001b[39m] \u001b[38;5;241m!=\u001b[39m y\u001b[38;5;241m.\u001b[39mshape[\u001b[38;5;241m0\u001b[39m]:\n\u001b[1;32m    504\u001b[0m     \u001b[38;5;28;01mraise\u001b[39;00m \u001b[38;5;167;01mValueError\u001b[39;00m(\u001b[38;5;124mf\u001b[39m\u001b[38;5;124m\"\u001b[39m\u001b[38;5;124mx and y must have same first dimension, but \u001b[39m\u001b[38;5;124m\"\u001b[39m\n\u001b[1;32m    505\u001b[0m                      \u001b[38;5;124mf\u001b[39m\u001b[38;5;124m\"\u001b[39m\u001b[38;5;124mhave shapes \u001b[39m\u001b[38;5;132;01m{\u001b[39;00mx\u001b[38;5;241m.\u001b[39mshape\u001b[38;5;132;01m}\u001b[39;00m\u001b[38;5;124m and \u001b[39m\u001b[38;5;132;01m{\u001b[39;00my\u001b[38;5;241m.\u001b[39mshape\u001b[38;5;132;01m}\u001b[39;00m\u001b[38;5;124m\"\u001b[39m)\n",
      "File \u001b[0;32m~/anaconda3/lib/python3.11/site-packages/matplotlib/axis.py:1675\u001b[0m, in \u001b[0;36mAxis.update_units\u001b[0;34m(self, data)\u001b[0m\n\u001b[1;32m   1673\u001b[0m neednew \u001b[38;5;241m=\u001b[39m \u001b[38;5;28mself\u001b[39m\u001b[38;5;241m.\u001b[39mconverter \u001b[38;5;241m!=\u001b[39m converter\n\u001b[1;32m   1674\u001b[0m \u001b[38;5;28mself\u001b[39m\u001b[38;5;241m.\u001b[39mconverter \u001b[38;5;241m=\u001b[39m converter\n\u001b[0;32m-> 1675\u001b[0m default \u001b[38;5;241m=\u001b[39m \u001b[38;5;28mself\u001b[39m\u001b[38;5;241m.\u001b[39mconverter\u001b[38;5;241m.\u001b[39mdefault_units(data, \u001b[38;5;28mself\u001b[39m)\n\u001b[1;32m   1676\u001b[0m \u001b[38;5;28;01mif\u001b[39;00m default \u001b[38;5;129;01mis\u001b[39;00m \u001b[38;5;129;01mnot\u001b[39;00m \u001b[38;5;28;01mNone\u001b[39;00m \u001b[38;5;129;01mand\u001b[39;00m \u001b[38;5;28mself\u001b[39m\u001b[38;5;241m.\u001b[39munits \u001b[38;5;129;01mis\u001b[39;00m \u001b[38;5;28;01mNone\u001b[39;00m:\n\u001b[1;32m   1677\u001b[0m     \u001b[38;5;28mself\u001b[39m\u001b[38;5;241m.\u001b[39mset_units(default)\n",
      "File \u001b[0;32m~/anaconda3/lib/python3.11/site-packages/matplotlib/category.py:105\u001b[0m, in \u001b[0;36mStrCategoryConverter.default_units\u001b[0;34m(data, axis)\u001b[0m\n\u001b[1;32m    103\u001b[0m \u001b[38;5;66;03m# the conversion call stack is default_units -> axis_info -> convert\u001b[39;00m\n\u001b[1;32m    104\u001b[0m \u001b[38;5;28;01mif\u001b[39;00m axis\u001b[38;5;241m.\u001b[39munits \u001b[38;5;129;01mis\u001b[39;00m \u001b[38;5;28;01mNone\u001b[39;00m:\n\u001b[0;32m--> 105\u001b[0m     axis\u001b[38;5;241m.\u001b[39mset_units(UnitData(data))\n\u001b[1;32m    106\u001b[0m \u001b[38;5;28;01melse\u001b[39;00m:\n\u001b[1;32m    107\u001b[0m     axis\u001b[38;5;241m.\u001b[39munits\u001b[38;5;241m.\u001b[39mupdate(data)\n",
      "File \u001b[0;32m~/anaconda3/lib/python3.11/site-packages/matplotlib/category.py:181\u001b[0m, in \u001b[0;36mUnitData.__init__\u001b[0;34m(self, data)\u001b[0m\n\u001b[1;32m    179\u001b[0m \u001b[38;5;28mself\u001b[39m\u001b[38;5;241m.\u001b[39m_counter \u001b[38;5;241m=\u001b[39m itertools\u001b[38;5;241m.\u001b[39mcount()\n\u001b[1;32m    180\u001b[0m \u001b[38;5;28;01mif\u001b[39;00m data \u001b[38;5;129;01mis\u001b[39;00m \u001b[38;5;129;01mnot\u001b[39;00m \u001b[38;5;28;01mNone\u001b[39;00m:\n\u001b[0;32m--> 181\u001b[0m     \u001b[38;5;28mself\u001b[39m\u001b[38;5;241m.\u001b[39mupdate(data)\n",
      "File \u001b[0;32m~/anaconda3/lib/python3.11/site-packages/matplotlib/category.py:214\u001b[0m, in \u001b[0;36mUnitData.update\u001b[0;34m(self, data)\u001b[0m\n\u001b[1;32m    212\u001b[0m \u001b[38;5;66;03m# check if convertible to number:\u001b[39;00m\n\u001b[1;32m    213\u001b[0m convertible \u001b[38;5;241m=\u001b[39m \u001b[38;5;28;01mTrue\u001b[39;00m\n\u001b[0;32m--> 214\u001b[0m \u001b[38;5;28;01mfor\u001b[39;00m val \u001b[38;5;129;01min\u001b[39;00m OrderedDict\u001b[38;5;241m.\u001b[39mfromkeys(data):\n\u001b[1;32m    215\u001b[0m     \u001b[38;5;66;03m# OrderedDict just iterates over unique values in data.\u001b[39;00m\n\u001b[1;32m    216\u001b[0m     _api\u001b[38;5;241m.\u001b[39mcheck_isinstance((\u001b[38;5;28mstr\u001b[39m, \u001b[38;5;28mbytes\u001b[39m), value\u001b[38;5;241m=\u001b[39mval)\n\u001b[1;32m    217\u001b[0m     \u001b[38;5;28;01mif\u001b[39;00m convertible:\n\u001b[1;32m    218\u001b[0m         \u001b[38;5;66;03m# this will only be called so long as convertible is True.\u001b[39;00m\n",
      "\u001b[0;31mTypeError\u001b[0m: unhashable type: 'dict'"
     ]
    },
    {
     "data": {
      "image/png": "[encoded data removed]",
      "text/plain": [
       "<Figure size 1000x600 with 2 Axes>"
      ]
     },
     "metadata": {},
     "output_type": "display_data"
    }
   ],
   "source": [
    "fig, (ax1, ax2) = plt.subplots(2, 1, figsize=(10,6))\n",
    "\n",
    "# plot first figure\n",
    "ax1.bar(x=range(len(precipitation)), height=precipitation[0], color='blue', label='precipitation')\n",
    "ax2.plot(range(len(precipitation)), output_unit_1_node_1, color='orange', lw=2, label='Node 1')\n",
    "ax2.plot(range(len(precipitation)), output_unit_2_node_2, color='red', lw=2, label='Node 2')\n",
    "ax2.plot(range(len(precipitation)), output_unit_3_node_3, color='blue', lw=2, label='Node 3')\n",
    "ax2.plot(range(len(precipitation)), output_unit_4_node_4, color='green', lw=2, label='Node 4')\n",
    "ax2.plot(range(len(precipitation)), output, color='pink', lw=2, label='Network')\n",
    "\n",
    "ax1.legend()\n",
    "ax1.set_xlabel('Time [days]')\n",
    "ax1.set_ylabel(\"precipitation [mm/day]\")\n",
    "\n",
    "\n",
    "plt.show()"
   ]
  },
  {
   "cell_type": "code",
   "execution_count": null,
   "id": "1c4d1d48",
   "metadata": {},
   "outputs": [],
   "source": []
  }
 ],
 "metadata": {
  "kernelspec": {
   "display_name": "Python 3 (ipykernel)",
   "language": "python",
   "name": "python3"
  },
  "language_info": {
   "codemirror_mode": {
    "name": "ipython",
    "version": 3
   },
   "file_extension": ".py",
   "mimetype": "text/x-python",
   "name": "python",
   "nbconvert_exporter": "python",
   "pygments_lexer": "ipython3",
   "version": "3.11.5"
  }
 },
 "nbformat": 4,
 "nbformat_minor": 5
}
