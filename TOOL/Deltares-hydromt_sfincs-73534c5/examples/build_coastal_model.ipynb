{
 "cells": [
  {
   "cell_type": "markdown",
   "metadata": {},
   "source": [
    "# Make a coastal sfincs model from scratch using hydromt"
   ]
  },
  {
   "cell_type": "markdown",
   "metadata": {},
   "source": [
    "This notebook demonstrates how to prepare and inspect a SFINCS model from scratch. The notebook does not contain the SFINCS code or executables to run the model with. \n",
    "\n",
    "We will make a schematization with the following features:\n",
    "* we only simulate coastal flooding, we do not consider any interactions with riverine flooding\n",
    "* we use the MERIT Hydro dataset as elevation\n",
    "* we include boundary conditions from the Global Tide and Surge Model by imposing a number of boundary points where forcing is expected"
   ]
  },
  {
   "cell_type": "markdown",
   "metadata": {},
   "source": [
    "All lines in this notebook which start with `!` are executed from the command line. Within jupyter (except for jupyter lab) the logging messages are shown after completion. You can also copy these lines and paste these in your shell to get more direct feedback."
   ]
  },
  {
   "cell_type": "markdown",
   "metadata": {},
   "source": [
    "### HydroMT CLI build interface\n"
   ]
  },
  {
   "cell_type": "markdown",
   "metadata": {},
   "source": [
    "First let us see what hydromt provides us with."
   ]
  },
  {
   "cell_type": "code",
   "execution_count": null,
   "metadata": {},
   "outputs": [],
   "source": [
    "!hydromt --help"
   ]
  },
  {
   "cell_type": "markdown",
   "metadata": {},
   "source": [
    "With the `models` flag we can ask if hydroMT recognizes the SFINCS plugin (SFINCS should be mentioned):"
   ]
  },
  {
   "cell_type": "code",
   "execution_count": null,
   "metadata": {},
   "outputs": [],
   "source": [
    "!hydromt --models"
   ]
  },
  {
   "cell_type": "markdown",
   "metadata": {},
   "source": [
    "It looks like we have several commands that we can consider. We want to `build` a model. How does that work? We can also call `--help` on the available hydroMT commands as follows."
   ]
  },
  {
   "cell_type": "code",
   "execution_count": null,
   "metadata": {},
   "outputs": [],
   "source": [
    "!hydromt build --help"
   ]
  },
  {
   "cell_type": "markdown",
   "metadata": {},
   "source": [
    "### Building a first model (and getting an error when data is missing)\n",
    "Let's try to build an entire schematization, just from the command line (Awesome!!!). In the `--help` section, there is an example for making a model from a bounding box, which is very intuitive. Let's try exactly that. We store the model on the local path `./texel_sfincs`"
   ]
  },
  {
   "cell_type": "code",
   "execution_count": null,
   "metadata": {},
   "outputs": [],
   "source": [
    "!hydromt build sfincs ./texel_sfincs \"{'bbox': [4.68,52.97,4.96,53.20]}\""
   ]
  },
  {
   "cell_type": "markdown",
   "metadata": {},
   "source": [
    "The above might have taken a few seconds, but then should have miserably crashed! What happened:\n",
    "* HydroMT was looking for a data catalog to use. \n",
    "* It did not find any and therefore, it automatically downloaded a sample data catalog which you can now find on your home folder under .hydromt_data\n",
    "* It tried to build a model in the Texel bounding box, but...alas, the sample dataset does not cover Texel at all! To add datasets covering the area outside the sample data extent, setup your own datasets using data yml files [hydroMT data](https://deltares.github.io/hydromt/latest/user_guide/data.html) using `--data PATH` option, or if your are connected to the Deltares network `--deltares-data` flag.\n"
   ]
  },
  {
   "cell_type": "markdown",
   "metadata": {},
   "source": [
    "### Building a first model (and getting it right)\n",
    "Let's adapt the bounding box to an area that fits within the sample dataset. The dataset covers the Piave basin and its surroundings in Italy. A good place to get a CSV formatted bounding box is https://boundingbox.klokantech.com/\n",
    "\n",
    "We also add `-vv` for extra verbosity"
   ]
  },
  {
   "cell_type": "code",
   "execution_count": null,
   "metadata": {},
   "outputs": [],
   "source": [
    "!hydromt build sfincs ./venice_sfincs \"{'bbox': [12.05,45.30,12.85,45.65]}\" -vv"
   ]
  },
  {
   "cell_type": "markdown",
   "metadata": {},
   "source": [
    "This should work without any errors. \n",
    "\n",
    "The example above means the following: run **hydromt build** with:\n",
    "\n",
    "* `sfincs` : i.e. build a SFINCS model\n",
    "* `./venice_sfincs` : output model folder\n",
    "* `\"{'bbox': [12.05,45.30,12.85,45.65]}\"` : make a model that is active for the full given bounding box. All *REGION* options are described in the [docs](https://deltares.github.io/hydromt/latest/user_guide/cli.html#region-options)\n",
    "* `-vv` : give some extra verbosity (2 * v) to display feedback on screen. Now debug messages are provided.\n",
    "\n",
    "NOTE: As we did not specify a model configuration, only the model region has been setup. To build a complete model we need the use a configuration ini-file.\n",
    "\n",
    "When we inspect the newly created `./venice_sfincs` folder we only find a log file and the gis folder containing the region geometry saved as geojson file."
   ]
  },
  {
   "cell_type": "code",
   "execution_count": null,
   "metadata": {},
   "outputs": [],
   "source": [
    "!ls ./venice_sfincs"
   ]
  },
  {
   "cell_type": "markdown",
   "metadata": {},
   "source": [
    "### Building a complete model (ready to run)"
   ]
  },
  {
   "cell_type": "markdown",
   "metadata": {},
   "source": [
    "We can provide many more settings in an configuration (.ini) file instead of command line arguments. If you don't provide an ini file (as done above), only the model region is determined. To complete your model you can add more [model components](https://deltares.github.io/hydromt_sfincs/latest/user_guide/sfincs.html) to the model setup.\n",
    "\n",
    "Let's have a look a typical ini file for setting up coastal SFINCS model, where each `[setup_<>]` refers to a model component. All options which end with `_fn` refers to a data source from the data catalog or a path to data on your machine, see [hydroMT data](https://deltares.github.io/hydromt/latest/user_guide/data.html). In this case some sample data which is downloaded to your machine at `$USER_ROOT/.hydromt_data`"
   ]
  },
  {
   "cell_type": "code",
   "execution_count": null,
   "metadata": {},
   "outputs": [],
   "source": [
    "fn_ini = \"sfincs_coastal.ini\"\n",
    "with open(fn_ini, \"r\") as f:\n",
    "    txt = f.read()\n",
    "print(txt)"
   ]
  },
  {
   "cell_type": "markdown",
   "metadata": {},
   "source": [
    "You can see the following sections:\n",
    "\n",
    "* `[setup_config]`: arguments which are forwarded to the SFINCS model configuration file sfincs.inp\n",
    "* `[setup_topobathy]`: basic information required for the model domain grid and elevation. These are the minimal demanded static layers that any SFINCS model needs. Here you may for instance consider altering the elevation and bathymetry data for local data sources. These then have to be supplied in the `data_catalog.yml`.\n",
    "* `[setup_merge_topobathy]`: add additional data source for bathymetry data to merge with the basemap elevation data.\n",
    "* `[setup_mask]`: set valid model cells based on the topobathy data and a minimal depth boundary (more options available).\n",
    "* `[setup_cn_infiltration]`: potential maximum soil retention maps to be used in the curve number method, see [SFINCS docs](https://sfincs.readthedocs.io/en/latest/input.html?highlight=curve#spatially-varying-curve-number) for more information\n",
    "* `[setup_manning_roughness]`: configuration of the Manning roughness values, typically consisting of a land use or land cover map, and a lookup table that relates land use classes to manning roughness values in sec m$^{-1/3}$\n",
    "* `[setup_bounds]`: set cells at the model domain edge and within the sea polygon to waterlevel boundary cells.\n",
    "* `[setup_h_forcing]`: water level forcing data. This can be provided from a set of csv files, see data_sources.yml, but also netcdf files, see [hydroMT docs](https://deltares.github.io/hydromt/latest/user_guide/data.html). \n",
    "* `[setup_p_forcing_from_grid]`: gridded precipitation data, that can be used to do compound flood simulations. The `[setup_cn_infiltration]` is then quite essential to include."
   ]
  },
  {
   "cell_type": "markdown",
   "metadata": {},
   "source": [
    "To build a model from scratch add the ini file to the command line `hydromt build` method at a 150 m resolution."
   ]
  },
  {
   "cell_type": "code",
   "execution_count": null,
   "metadata": {
    "scrolled": true
   },
   "outputs": [],
   "source": [
    "!hydromt build sfincs ./venice_sfincs_150 \"{'bbox': [12.05,45.30,12.85,45.65]}\" -r 150 -i sfincs_coastal.ini -vv"
   ]
  },
  {
   "cell_type": "markdown",
   "metadata": {},
   "source": [
    "Let's inspect the output folder. Notice that several SFINCS files have been written."
   ]
  },
  {
   "cell_type": "code",
   "execution_count": null,
   "metadata": {},
   "outputs": [],
   "source": [
    "!ls ./venice_sfincs_150"
   ]
  },
  {
   "cell_type": "markdown",
   "metadata": {},
   "source": [
    "One of the files is the SFINCS input file which defines the model, lets have a look:"
   ]
  },
  {
   "cell_type": "code",
   "execution_count": null,
   "metadata": {},
   "outputs": [],
   "source": [
    "fn_inp = \"./venice_sfincs_150/sfincs.inp\"\n",
    "with open(fn_inp, \"r\") as f:\n",
    "    txt = f.read()\n",
    "\n",
    "print(txt)"
   ]
  },
  {
   "cell_type": "markdown",
   "metadata": {},
   "source": [
    "### Inspecting the model\n",
    "Let's have a closer look at the model. To interact with a model within a notebook or python script, we need to load a number of modules."
   ]
  },
  {
   "cell_type": "code",
   "execution_count": null,
   "metadata": {},
   "outputs": [],
   "source": [
    "%matplotlib inline\n",
    "from hydromt_sfincs import SfincsModel"
   ]
  },
  {
   "cell_type": "markdown",
   "metadata": {},
   "source": [
    "Now we can load the model in memory and inspect it. \n",
    "\n",
    "Note that based on the global datasets the lagoon bathymetry is not well represented. A better merge between MERIT hydro topography and GEBCO bathymetry can be achieved by providing an better coastline shapefile (by default OSM based) which together with the merge_method argument determines which dataset is used where."
   ]
  },
  {
   "cell_type": "code",
   "execution_count": null,
   "metadata": {},
   "outputs": [],
   "source": [
    "# define the model's configuration file\n",
    "root = r\"./venice_sfincs_150\"\n",
    "\n",
    "# read the model with hydromt methods\n",
    "mod = SfincsModel(root=root, mode=\"r\")\n",
    "mod.read()\n",
    "mod.plot_basemap(figsize=(13, 7), shaded=False)"
   ]
  },
  {
   "cell_type": "markdown",
   "metadata": {},
   "source": [
    "### Next steps\n",
    "You can update an existing model, e.g. to replace model layers or add forcing. this is described in a follow-up notebook `sfincs_update_model.ipynb`"
   ]
  }
 ],
 "metadata": {
  "kernelspec": {
   "display_name": "Python 3 (ipykernel)",
   "language": "python",
   "name": "python3"
  },
  "language_info": {
   "codemirror_mode": {
    "name": "ipython",
    "version": 3
   },
   "file_extension": ".py",
   "mimetype": "text/x-python",
   "name": "python",
   "nbconvert_exporter": "python",
   "pygments_lexer": "ipython3",
   "version": "3.10.2"
  }
 },
 "nbformat": 4,
 "nbformat_minor": 4
}
