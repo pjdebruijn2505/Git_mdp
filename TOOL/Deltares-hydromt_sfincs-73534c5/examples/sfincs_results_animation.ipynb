{
 "cells": [
  {
   "cell_type": "markdown",
   "metadata": {},
   "source": [
    "## Sfincs results: animation"
   ]
  },
  {
   "cell_type": "markdown",
   "metadata": {},
   "source": [
    "We use the [cartopy](https://scitools.org.uk/cartopy/docs/latest/) package to plot maps. This packages provides a simple interface to plot geographic data and add background satellite imagery."
   ]
  },
  {
   "cell_type": "code",
   "execution_count": null,
   "metadata": {},
   "outputs": [],
   "source": [
    "# import dependencies\n",
    "import xarray as xr\n",
    "import numpy as np\n",
    "from os.path import join\n",
    "import matplotlib.pyplot as plt\n",
    "import hydromt\n",
    "from hydromt_sfincs import SfincsModel"
   ]
  },
  {
   "cell_type": "markdown",
   "metadata": {},
   "source": [
    "### Read model results"
   ]
  },
  {
   "cell_type": "markdown",
   "metadata": {},
   "source": [
    "The model results in sfincs_map.nc are saved as in a staggered grid format, see [SGRID convention](https://publicwiki.deltares.nl/display/NETCDF/Deltares+proposal+for+Staggered+Grid+data+model+(SGRID)). Here we show how to retrieve the face values and translate the dimensions from node indices (m, n) to (x, y) coordinates in order to plot the results on a map."
   ]
  },
  {
   "cell_type": "code",
   "execution_count": null,
   "metadata": {},
   "outputs": [],
   "source": [
    "sfincs_root = \"sfincs_riverine\"  # (relative) path to sfincs root\n",
    "mod = SfincsModel(sfincs_root, mode=\"r\")"
   ]
  },
  {
   "cell_type": "code",
   "execution_count": null,
   "metadata": {},
   "outputs": [],
   "source": [
    "# we can simply read the model results (sfincs_map.nc and sfincs_his.nc) using the read_results method\n",
    "mod.read_results()"
   ]
  },
  {
   "cell_type": "markdown",
   "metadata": {},
   "source": [
    "### Plot instantaneous water depths"
   ]
  },
  {
   "cell_type": "code",
   "execution_count": null,
   "metadata": {},
   "outputs": [],
   "source": [
    "# h from sfincs_map contains the water depths for each cell face\n",
    "# here we plot the water level every 4th hour\n",
    "h = mod.results[\"h\"].where(mod.results[\"h\"] > 0)\n",
    "h.attrs.update(long_name=\"water depth\", unit=\"m\")\n",
    "h.sel(time=h[\"time\"].values[4::4]).plot(col=\"time\", col_wrap=3, vmax=4)"
   ]
  },
  {
   "cell_type": "code",
   "execution_count": null,
   "metadata": {},
   "outputs": [],
   "source": [
    "# point_h contains the water depths at the sfincs.obs gauge locations\n",
    "# see mod.plot_basemaps (or next figure) for the location of the observation points\n",
    "h_point = mod.results[\"point_h\"].rename({\"stations\": \"station_id\"})\n",
    "h_point[\"station_id\"] = h_point[\"station_id\"].astype(int)\n",
    "_ = h_point.plot.line(\n",
    "    x=\"time\",\n",
    ")"
   ]
  },
  {
   "cell_type": "markdown",
   "metadata": {},
   "source": [
    "### Create animation"
   ]
  },
  {
   "cell_type": "markdown",
   "metadata": {},
   "source": [
    "An animation is also simple to make with `matplotlib.animation` method. Here we add the surface water level in blue colors next to the overland flood depth with viridis colormap. "
   ]
  },
  {
   "cell_type": "code",
   "execution_count": null,
   "metadata": {},
   "outputs": [],
   "source": [
    "# mask water depth\n",
    "# rivmsk is a by product of the setup_river_geomerty setup component\n",
    "rivmsk = mod.staticmaps[\"rivmsk\"] == 1\n",
    "hmin = 0.2\n",
    "da_h = (mod.results[\"zs\"] - mod.results[\"zb\"]).where(~rivmsk)\n",
    "da_h = da_h.where(da_h > hmin).drop(\"spatial_ref\")\n",
    "da_h.attrs.update(long_name=\"flood depth\", unit=\"m\")\n",
    "# add water level inside permanent water bodies to plots\n",
    "da_hriv = (mod.results[\"zs\"] - mod.results[\"zb\"]).where(rivmsk).drop(\"spatial_ref\")\n",
    "da_hriv.attrs.update(long_name=\"river water depth\", unit=\"m\")"
   ]
  },
  {
   "cell_type": "code",
   "execution_count": null,
   "metadata": {},
   "outputs": [],
   "source": [
    "# create hmax plot and save to mod.root/figs/sfincs_h.mp4\n",
    "# requires ffmpeg install with \"conda install ffmpeg -c conda-forge\"\n",
    "from matplotlib import animation\n",
    "\n",
    "step = 1  # one frame every <step> dtout\n",
    "cbar_kwargs = {\"shrink\": 0.6, \"anchor\": (0, 0)}\n",
    "\n",
    "\n",
    "def update_plot(i, da_h, cax_h, da_hriv=None, cax_hriv=None):\n",
    "    da_hi = da_h.isel(time=i)\n",
    "    t = da_hi.time.dt.strftime(\"%d-%B-%Y %H:%M:%S\").item()\n",
    "    ax.set_title(f\"SFINCS water depth {t}\")\n",
    "    cax_h.set_array(da_hi.values.ravel())\n",
    "    if da_hriv is not None and cax_hriv is not None:\n",
    "        da_hrivi = da_hriv.isel(time=i)\n",
    "        cax_hriv.set_array(da_hrivi.values.ravel())\n",
    "\n",
    "\n",
    "fig, ax = mod.plot_basemap(\n",
    "    fn_out=None, variable=None, bmap=\"sat\", plot_bounds=False, figsize=(11, 7)\n",
    ")\n",
    "cax_h = da_h.isel(time=0).plot(\n",
    "    ax=ax, vmin=0, vmax=3, cmap=plt.cm.viridis, cbar_kwargs=cbar_kwargs\n",
    ")\n",
    "# add water level inside permanent water bodies to plots\n",
    "cax_hriv = da_hriv.isel(time=0).plot(\n",
    "    ax=ax, vmin=0, vmax=5, cmap=plt.cm.bone, cbar_kwargs=cbar_kwargs\n",
    ")\n",
    "plt.close()  # to prevent double plot\n",
    "\n",
    "ani = animation.FuncAnimation(\n",
    "    fig,\n",
    "    update_plot,\n",
    "    frames=np.arange(0, da_h.time.size, step),\n",
    "    interval=250,  # ms between frames\n",
    "    fargs=(\n",
    "        da_h,\n",
    "        cax_h,\n",
    "        da_hriv,\n",
    "        cax_hriv,\n",
    "    ),\n",
    ")\n",
    "\n",
    "# to save to mp4\n",
    "# ani.save(join(mod.root, 'figs', 'sfincs_h.mp4'), fps=4, dpi=200)\n",
    "\n",
    "# to show in notebook:\n",
    "from IPython.display import HTML\n",
    "\n",
    "HTML(ani.to_html5_video())"
   ]
  }
 ],
 "metadata": {
  "kernelspec": {
   "display_name": "Python 3",
   "language": "python",
   "name": "python3"
  },
  "language_info": {
   "codemirror_mode": {
    "name": "ipython",
    "version": 3
   },
   "file_extension": ".py",
   "mimetype": "text/x-python",
   "name": "python",
   "nbconvert_exporter": "python",
   "pygments_lexer": "ipython3",
   "version": "3.9.4"
  }
 },
 "nbformat": 4,
 "nbformat_minor": 4
}
