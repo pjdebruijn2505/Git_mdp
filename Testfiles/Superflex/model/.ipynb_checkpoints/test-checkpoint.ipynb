{
 "cells": [
  {
   "cell_type": "code",
   "execution_count": 1,
   "metadata": {},
   "outputs": [],
   "source": [
    "from superflexpy.implementation.elements.hbv import PowerReservoir\n",
    "from superflexpy.implementation.elements.gr4j import UnitHydrograph1\n",
    "from superflexpy.implementation.root_finders.pegasus import PegasusPython\n",
    "from superflexpy.implementation.numerical_approximators.implicit_euler import ImplicitEulerPython\n",
    "from superflexpy.framework.unit import Unit\n",
    "from superflexpy.framework.node import Node\n",
    "from superflexpy.framework.network import Network"
   ]
  },
  {
   "cell_type": "code",
   "execution_count": 2,
   "metadata": {},
   "outputs": [],
   "source": [
    "# here we select a solver and an approximator for the superFlex model. \n",
    "solver_python = PegasusPython()\n",
    "approximator = ImplicitEulerPython(root_finder=solver_python)"
   ]
  },
  {
   "cell_type": "code",
   "execution_count": null,
   "metadata": {},
   "outputs": [],
   "source": [
    "reservoir = PowerReservoir(\n",
    "2    parameters={'k': 0.01, 'alpha': 2.0},\n",
    "3    states={'S0': 10.0},\n",
    "4    approximation=approximator,\n",
    "5    id='babies_first_reservoir'\n",
    "6)"
   ]
  }
 ],
 "metadata": {
  "kernelspec": {
   "display_name": "Python 3 (ipykernel)",
   "language": "python",
   "name": "python3"
  },
  "language_info": {
   "codemirror_mode": {
    "name": "ipython",
    "version": 3
   },
   "file_extension": ".py",
   "mimetype": "text/x-python",
   "name": "python",
   "nbconvert_exporter": "python",
   "pygments_lexer": "ipython3",
   "version": "3.11.5"
  }
 },
 "nbformat": 4,
 "nbformat_minor": 1
}
