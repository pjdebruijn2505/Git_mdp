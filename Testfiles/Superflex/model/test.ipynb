{
 "cells": [
  {
   "cell_type": "code",
   "execution_count": 3,
   "metadata": {},
   "outputs": [
    {
     "ename": "ModuleNotFoundError",
     "evalue": "No module named 'superflexpy'",
     "output_type": "error",
     "traceback": [
      "\u001b[1;31m---------------------------------------------------------------------------\u001b[0m",
      "\u001b[1;31mModuleNotFoundError\u001b[0m                       Traceback (most recent call last)",
      "Cell \u001b[1;32mIn[3], line 1\u001b[0m\n\u001b[1;32m----> 1\u001b[0m \u001b[38;5;28;01mfrom\u001b[39;00m \u001b[38;5;21;01msuperflexpy\u001b[39;00m\u001b[38;5;21;01m.\u001b[39;00m\u001b[38;5;21;01mimplementation\u001b[39;00m\u001b[38;5;21;01m.\u001b[39;00m\u001b[38;5;21;01melements\u001b[39;00m\u001b[38;5;21;01m.\u001b[39;00m\u001b[38;5;21;01mhbv\u001b[39;00m \u001b[38;5;28;01mimport\u001b[39;00m PowerReservoir\n\u001b[0;32m      2\u001b[0m \u001b[38;5;28;01mfrom\u001b[39;00m \u001b[38;5;21;01msuperflexpy\u001b[39;00m\u001b[38;5;21;01m.\u001b[39;00m\u001b[38;5;21;01mimplementation\u001b[39;00m\u001b[38;5;21;01m.\u001b[39;00m\u001b[38;5;21;01melements\u001b[39;00m\u001b[38;5;21;01m.\u001b[39;00m\u001b[38;5;21;01mgr4j\u001b[39;00m \u001b[38;5;28;01mimport\u001b[39;00m UnitHydrograph1\n\u001b[0;32m      3\u001b[0m \u001b[38;5;28;01mfrom\u001b[39;00m \u001b[38;5;21;01msuperflexpy\u001b[39;00m\u001b[38;5;21;01m.\u001b[39;00m\u001b[38;5;21;01mimplementation\u001b[39;00m\u001b[38;5;21;01m.\u001b[39;00m\u001b[38;5;21;01mroot_finders\u001b[39;00m\u001b[38;5;21;01m.\u001b[39;00m\u001b[38;5;21;01mpegasus\u001b[39;00m \u001b[38;5;28;01mimport\u001b[39;00m PegasusPython\n",
      "\u001b[1;31mModuleNotFoundError\u001b[0m: No module named 'superflexpy'"
     ]
    }
   ],
   "source": [
    "from superflexpy.implementation.elements.hbv import PowerReservoir\n",
    "from superflexpy.implementation.elements.gr4j import UnitHydrograph1\n",
    "from superflexpy.implementation.root_finders.pegasus import PegasusPython\n",
    "from superflexpy.implementation.numerical_approximators.implicit_euler import ImplicitEulerPython\n",
    "from superflexpy.framework.unit import Unit\n",
    "from superflexpy.framework.node import Node\n",
    "from superflexpy.framework.network import Network\n",
    "\n",
    "import numpy as np\n",
    "import matplotlib.pyplot as plt"
   ]
  },
  {
   "cell_type": "code",
   "execution_count": 2,
   "metadata": {},
   "outputs": [
    {
     "name": "stdout",
     "output_type": "stream",
     "text": [
      "Collecting superflexpy\n",
      "  Using cached superflexpy-1.3.2-py3-none-any.whl\n",
      "Requirement already satisfied: numpy==1.24.3 in c:\\users\\moniek van zon\\anaconda3\\lib\\site-packages (from superflexpy) (1.24.3)\n",
      "Collecting numba==0.57.1\n",
      "  Using cached numba-0.57.1-cp39-cp39-win_amd64.whl (2.5 MB)\n",
      "Collecting llvmlite<0.41,>=0.40.0dev0\n",
      "  Using cached llvmlite-0.40.1-cp39-cp39-win_amd64.whl (27.7 MB)\n",
      "Installing collected packages: llvmlite, numba, superflexpy\n",
      "  Attempting uninstall: llvmlite\n",
      "    Found existing installation: llvmlite 0.39.1\n"
     ]
    },
    {
     "name": "stderr",
     "output_type": "stream",
     "text": [
      "ERROR: Cannot uninstall 'llvmlite'. It is a distutils installed project and thus we cannot accurately determine which files belong to it which would lead to only a partial uninstall.\n"
     ]
    }
   ],
   "source": []
  },
  {
   "cell_type": "code",
   "execution_count": null,
   "metadata": {},
   "outputs": [],
   "source": [
    "# here we select a solver and an approximator for the superFlex model. \n",
    "solver_python = PegasusPython()\n",
    "approximator = ImplicitEulerPython(root_finder=solver_python)"
   ]
  },
  {
   "cell_type": "code",
   "execution_count": null,
   "metadata": {},
   "outputs": [],
   "source": [
    "# A first instance of a reservoir is created. \n",
    "\n",
    "reservoir = PowerReservoir(\n",
    "    parameters={'k': 0.01, 'alpha': 2.0},\n",
    "    states={'S0': 10.0},\n",
    "    approximation=approximator,\n",
    "    id='R'\n",
    ")\n",
    "\n",
    "#First lag function of the model\n",
    "\n",
    "lag_function = UnitHydrograph1(\n",
    "    parameters={'lag-time': 2.5},\n",
    "    states={'lag': None},\n",
    "    id='lag-fun'\n",
    ")"
   ]
  },
  {
   "cell_type": "code",
   "execution_count": null,
   "metadata": {},
   "outputs": [],
   "source": [
    "unit_1 = Unit(\n",
    "    layers=[[reservoir], [lag_function]],\n",
    "    id='unit-1'\n",
    ")"
   ]
  },
  {
   "cell_type": "code",
   "execution_count": null,
   "metadata": {},
   "outputs": [],
   "source": [
    "# We create a precipitation time series of 200 time steps and predict the output of the reservoir\n",
    "\n",
    "precipitation = np.array([3.2, 4.5, 2.0, 1.8, 5.5, 3.0, 0, 0, 4.0, 6.2, 3.5, 2.0, 1.0, 5.0, 3.8, 0, 0, 0, 0, 0, 0, 0, 0, 0 ,0 ,0 ,0 ,0 ,0 ,10 ,0 ,0 ,0 ,0])\n",
    "\n",
    "unit_1.set_timestep(1.0)\n",
    "unit_1.set_input([precipitation])\n",
    "output = unit_1.get_output()[0]"
   ]
  },
  {
   "cell_type": "code",
   "execution_count": null,
   "metadata": {},
   "outputs": [],
   "source": [
    "#reservoir_state = unit_1.state_array[:, 0]\n",
    "r_state = unit_1.get_internal(id='R', attribute='state_array')[:, 0]\n",
    "r_output = unit_1.call_internal(id='R', method='get_output', solve=False)[0]\n"
   ]
  },
  {
   "cell_type": "code",
   "execution_count": null,
   "metadata": {},
   "outputs": [],
   "source": [
    "plt.bar(range(len(precipitation)), precipitation, color = 'blue', label = 'precipitation')\n",
    "\n",
    "plt.legend()\n",
    "plt.show()"
   ]
  },
  {
   "cell_type": "code",
   "execution_count": null,
   "metadata": {},
   "outputs": [],
   "source": [
    "plt.plot(range(len(precipitation)), r_output, color = 'blue', label = 'Outflow of the reservoir')\n",
    "plt.plot(range(len(precipitation)), r_state, color = 'red', label = 'State of the reservoir')\n",
    "\n",
    "plt.legend()\n",
    "plt.show()"
   ]
  },
  {
   "cell_type": "code",
   "execution_count": null,
   "metadata": {},
   "outputs": [],
   "source": [
    "plt.plot(range(len(precipitation)), r_output, color = 'green', label = 'Outflow of the reservoir')\n",
    "plt.plot(range(len(precipitation)), output, color = 'blue', label = 'Outflow of the lag function')\n",
    "\n",
    "\n",
    "plt.legend()\n",
    "plt.show()"
   ]
  },
  {
   "cell_type": "code",
   "execution_count": null,
   "metadata": {},
   "outputs": [],
   "source": [
    "fig, ax = plt.subplots(3, 1, sharex=True, figsize=(10, 6))\n",
    "ax[0].bar(x=range(len(precipitation)), height=precipitation, color='blue', label = 'precipitation')\n",
    "plt.legend()\n",
    "\n",
    "ax[1].plot(range(len(precipitation)), output, color='blue', lw=2, label='Outflow')\n",
    "ax_bis = ax[1].twinx()\n",
    "ax_bis.plot(range(len(precipitation)), r_state, color='red', lw=2, ls='--', label='Reservoir state')\n",
    "plt.legend()\n",
    "\n",
    "ax[2].plot(range(len(precipitation)), r_output, color='green', lw=2, label='Reservoir state')\n",
    "\n",
    "plt.legend()\n",
    "#ax_bis.plot(range(len(precipitation)), r_output, color='yellow', lw=2, ls='--', label='Reservoir state')"
   ]
  },
  {
   "cell_type": "code",
   "execution_count": null,
   "metadata": {},
   "outputs": [],
   "source": []
  },
  {
   "cell_type": "code",
   "execution_count": null,
   "metadata": {},
   "outputs": [],
   "source": []
  }
 ],
 "metadata": {
  "kernelspec": {
   "display_name": "Python 3 (ipykernel)",
   "language": "python",
   "name": "python3"
  },
  "language_info": {
   "codemirror_mode": {
    "name": "ipython",
    "version": 3
   },
   "file_extension": ".py",
   "mimetype": "text/x-python",
   "name": "python",
   "nbconvert_exporter": "python",
   "pygments_lexer": "ipython3",
   "version": "3.9.12"
  }
 },
 "nbformat": 4,
 "nbformat_minor": 1
}
