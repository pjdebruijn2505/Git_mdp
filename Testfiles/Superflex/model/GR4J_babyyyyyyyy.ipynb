{
 "cells": [
  {
   "cell_type": "code",
   "execution_count": 1,
   "metadata": {},
   "outputs": [],
   "source": [
    "import numpy as np\n",
    "import pandas as pd\n",
    "import pathlib\n",
    "import matplotlib as mpl\n",
    "import matplotlib.pyplot as plt\n",
    "import sys\n",
    "import os.path\n",
    "\n",
    "cwd = pathlib.Path().resolve()\n",
    "src = cwd.parent\n",
    "root = src.parent\n",
    "sys.path.append(str(src))\n",
    "sys.path.append(str(root))"
   ]
  },
  {
   "cell_type": "code",
   "execution_count": 2,
   "metadata": {},
   "outputs": [],
   "source": [
    "from superflexpy.implementation.elements.gr4j import BaseElement, UnitHydrograph1, UnitHydrograph2, FluxAggregator \n",
    "from superflexpy.implementation.elements.gr4j import InterceptionFilter, ProductionStore, RoutingStore\n",
    "from superflexpy.implementation.elements.structure_elements import Transparent, Splitter, Junction\n",
    "from superflexpy.implementation.root_finders.pegasus import PegasusPython\n",
    "from superflexpy.implementation.numerical_approximators.implicit_euler import ImplicitEulerPython\n",
    "from superflexpy.framework.unit import Unit\n",
    "from superflexpy.framework.node import Node\n",
    "from superflexpy.framework.network import Network\n",
    "from utils.precipitation_evaporation import *"
   ]
  },
  {
   "cell_type": "code",
   "execution_count": 3,
   "metadata": {},
   "outputs": [
    {
     "data": {
      "text/plain": [
       "'This class calculates the final output of GR4J, aggregating the output\\n    of the routing store with the one of the unit hydrograph 2 and subtracting\\n    the loss F\\n        input : list(numpy.ndarray)\\n            List containing the input fluxes of the element. It contains 3\\n            fluxes and the order must be the following:\\n            1. Outflow routing store (Qr)\\n            2. Exchange flux (F)\\n            3. Outflow UH2 (Q2_out)\\n        '"
      ]
     },
     "execution_count": 3,
     "metadata": {},
     "output_type": "execute_result"
    }
   ],
   "source": [
    "x1, x2, x3, x4 = (50.0, 0.1, 20.0, 3.5) \n",
    "\n",
    "#x1 = max capacity of production storage [mm]\n",
    "#x2 = groundwater exchange coefficient [mm]\n",
    "#x3 = max capacity of routing storage [mm]\n",
    "#x4 = time base of UH1 [days]\n",
    "\n",
    "root_finder = PegasusPython()  # Use the default parameters\n",
    "numerical_approximation = ImplicitEulerPython(root_finder)\n",
    "\n",
    "interception_filter = InterceptionFilter(id='ir')\n",
    "\n",
    "production_store = ProductionStore(parameters={'x1': x1, 'alpha': 2.0,\n",
    "                                               'beta': 5.0, 'ni': 4/9},\n",
    "                                   states={'S0': 10.0},\n",
    "                                   approximation=numerical_approximation,\n",
    "                                   id='ps')\n",
    "# alpha= exponent in the evapotranspiration (Es) and main outflow (Ps) equations. Suggested value: 2.0\n",
    "# beta : exponent in the percolation equation. Suggested value: 5.0.\n",
    "# ni : coefficient in the percolation equation. Suggested value: 4/9.\n",
    "# S0 :  initial storage of the reservoir.\n",
    "        \n",
    "                      \n",
    "splitter = Splitter(weight=[[0.9], [0.1]],\n",
    "                    direction=[[0], [0]],\n",
    "                    id='spl')\n",
    "# weight: determines which part goes donwnstream\n",
    "# direction: where each input influx goes in the output elements\n",
    "\n",
    "unit_hydrograph_1 = UnitHydrograph1(parameters={'lag-time': x4},\n",
    "                                    states={'lag': None},\n",
    "                                    id='uh1')\n",
    "#             - lag_time : total length (base) of the lag function. It is equal to x4 in GR4J\n",
    "\n",
    "unit_hydrograph_2 = UnitHydrograph2(parameters={'lag-time': 2*x4},\n",
    "                                    states={'lag': None},\n",
    "                                    id='uh2')\n",
    "#             - lag_time : total length (base) of the lag function. It is equal to 2*x4 in GR4J\n",
    "routing_store = RoutingStore(parameters={'x2': x2, 'x3': x3,\n",
    "                                         'gamma': 5.0, 'omega': 3.5},\n",
    "                             states={'S0': 10.0},\n",
    "                             approximation=numerical_approximation,\n",
    "                             id='rs')\n",
    "# gamma : exponent in the main outflow (Qr) equation. Suggested value: 5\n",
    "# omega : Exponent in the exchange flux (F) equation. Suggested value: 3.5\n",
    "\n",
    "\n",
    "transparent = Transparent(id='tr')\n",
    "\n",
    "junction = Junction(direction=[[0, None],  # First output\n",
    "                               [1, None],  # Second output\n",
    "                               [None, 0]], # Third output\n",
    "                    id='jun')\n",
    "# direction: determines which input element goes in the output element\n",
    "\n",
    "flux_aggregator = FluxAggregator(id='fa')\n",
    "\"\"\"This class calculates the final output of GR4J, aggregating the output\n",
    "    of the routing store with the one of the unit hydrograph 2 and subtracting\n",
    "    the loss F\n",
    "        input : list(numpy.ndarray)\n",
    "            List containing the input fluxes of the element. It contains 3\n",
    "            fluxes and the order must be the following:\n",
    "            1. Outflow routing store (Qr)\n",
    "            2. Exchange flux (F)\n",
    "            3. Outflow UH2 (Q2_out)\n",
    "        \"\"\""
   ]
  },
  {
   "cell_type": "code",
   "execution_count": 4,
   "metadata": {},
   "outputs": [],
   "source": [
    "evaporation, precipitation = precipitation_evaporation(8, 0.2, season = True, plot = False)"
   ]
  },
  {
   "cell_type": "code",
   "execution_count": 5,
   "metadata": {},
   "outputs": [],
   "source": [
    "model = Unit(layers=[[interception_filter],\n",
    "                     [production_store],\n",
    "                     [splitter],\n",
    "                     [unit_hydrograph_1, unit_hydrograph_2],\n",
    "                     [routing_store, transparent],\n",
    "                     [junction],\n",
    "                     [flux_aggregator]],\n",
    "             id='model')"
   ]
  },
  {
   "cell_type": "code",
   "execution_count": 6,
   "metadata": {},
   "outputs": [],
   "source": [
    "model.reset_states()\n",
    "model.set_timestep(1.0)\n",
    "model.set_input([evaporation,precipitation])\n",
    "output = model.get_output()[0]"
   ]
  },
  {
   "cell_type": "code",
   "execution_count": 7,
   "metadata": {},
   "outputs": [
    {
     "data": {
      "image/png": "[encoded data removed]",
      "text/plain": [
       "<Figure size 640x480 with 1 Axes>"
      ]
     },
     "metadata": {},
     "output_type": "display_data"
    }
   ],
   "source": [
    "plt.plot(range(len(precipitation)), output, color = 'blue', label = 'Model outflow')\n",
    "\n",
    "\n",
    "plt.legend()\n",
    "plt.show()"
   ]
  },
  {
   "cell_type": "code",
   "execution_count": null,
   "metadata": {},
   "outputs": [],
   "source": []
  }
 ],
 "metadata": {
  "kernelspec": {
   "display_name": "Python 3 (ipykernel)",
   "language": "python",
   "name": "python3"
  },
  "language_info": {
   "codemirror_mode": {
    "name": "ipython",
    "version": 3
   },
   "file_extension": ".py",
   "mimetype": "text/x-python",
   "name": "python",
   "nbconvert_exporter": "python",
   "pygments_lexer": "ipython3",
   "version": "3.11.5"
  }
 },
 "nbformat": 4,
 "nbformat_minor": 1
}
