{
 "cells": [
  {
   "cell_type": "code",
   "execution_count": 9,
   "metadata": {},
   "outputs": [],
   "source": [
    "import numpy as np\n",
    "import pandas as pd\n",
    "import pathlib\n",
    "import matplotlib as mpl\n",
    "import matplotlib.pyplot as plt\n",
    "import sys\n",
    "import os.path\n",
    "\n",
    "\n",
    "#from superflexpy.implementation.elements.hbv import PowerReservoir\n",
    "from superflexpy.implementation.elements.gr4j  import BaseElement\n",
    "from superflexpy.implementation.elements.gr4j import UnitHydrograph1\n",
    "from superflexpy.implementation.elements.gr4j import UnitHydrograph2\n",
    "from superflexpy.implementation.elements.gr4j import FluxAggregator\n",
    "from superflexpy.implementation.elements.gr4j import InterceptionFilter\n",
    "from superflexpy.implementation.elements.gr4j import ProductionStore\n",
    "from superflexpy.implementation.elements.gr4j import RoutingStore\n",
    "\n",
    "from superflexpy.implementation.root_finders.pegasus import PegasusPython\n",
    "from superflexpy.implementation.numerical_approximators.implicit_euler import ImplicitEulerPython\n",
    "from superflexpy.framework.unit import Unit\n",
    "from superflexpy.framework.node import Node\n",
    "from superflexpy.framework.network import Network"
   ]
  },
  {
   "cell_type": "code",
   "execution_count": 7,
   "metadata": {},
   "outputs": [
    {
     "ename": "NameError",
     "evalue": "name 'BaseElement' is not defined",
     "output_type": "error",
     "traceback": [
      "\u001B[0;31m---------------------------------------------------------------------------\u001B[0m",
      "\u001B[0;31mNameError\u001B[0m                                 Traceback (most recent call last)",
      "Cell \u001B[0;32mIn[7], line 7\u001B[0m\n\u001B[1;32m      4\u001B[0m sys\u001B[38;5;241m.\u001B[39mpath\u001B[38;5;241m.\u001B[39mappend(\u001B[38;5;28mstr\u001B[39m(src))\n\u001B[1;32m      5\u001B[0m sys\u001B[38;5;241m.\u001B[39mpath\u001B[38;5;241m.\u001B[39mappend(\u001B[38;5;28mstr\u001B[39m(root))\n\u001B[0;32m----> 7\u001B[0m \u001B[38;5;28;01mfrom\u001B[39;00m \u001B[38;5;21;01mGR4J_element_extension\u001B[39;00m\u001B[38;5;21;01m.\u001B[39;00m\u001B[38;5;21;01mGR4J_flux_aggregator\u001B[39;00m \u001B[38;5;28;01mimport\u001B[39;00m FluxAggregator\n",
      "File \u001B[0;32m~/Documents/GIT/MDP_git/Git_mdp/Testfiles/Superflex/GR4J_element_extension/GR4J_flux_aggregator.py:1\u001B[0m\n\u001B[0;32m----> 1\u001B[0m \u001B[38;5;28;01mclass\u001B[39;00m \u001B[38;5;21;01mFluxAggregator\u001B[39;00m(BaseElement):\n\u001B[1;32m      3\u001B[0m     _num_downstream \u001B[38;5;241m=\u001B[39m \u001B[38;5;241m1\u001B[39m\n\u001B[1;32m      4\u001B[0m     _num_upstream \u001B[38;5;241m=\u001B[39m \u001B[38;5;241m1\u001B[39m\n",
      "\u001B[0;31mNameError\u001B[0m: name 'BaseElement' is not defined"
     ]
    }
   ],
   "source": [
    "x1, x2, x3, x4 = (50.0, 0.1, 20.0, 3.5)\n",
    "\n",
    "root_finder = PegasusPython()  # Use the default parameters\n",
    "numerical_approximation = ImplicitEulerPython(root_finder)\n",
    "\n",
    "interception_filter = InterceptionFilter(id='ir')\n",
    "\n",
    "production_store = ProductionStore(parameters={'x1': x1, 'alpha': 2.0,\n",
    "                                               'beta': 5.0, 'ni': 4/9},\n",
    "                                   states={'S0': 10.0},\n",
    "                                   approximation=numerical_approximation,\n",
    "                                   id='ps')\n",
    "\n",
    "splitter = Splitter(weight=[[0.9], [0.1]],\n",
    "                    direction=[[0], [0]],\n",
    "                    id='spl')\n",
    "\n",
    "unit_hydrograph_1 = UnitHydrograph1(parameters={'lag-time': x4},\n",
    "                                    states={'lag': None},\n",
    "                                    id='uh1')\n",
    "\n",
    "unit_hydrograph_2 = UnitHydrograph2(parameters={'lag-time': 2*x4},\n",
    "                                    states={'lag': None},\n",
    "                                    id='uh2')\n",
    "\n",
    "routing_store = RoutingStore(parameters={'x2': x2, 'x3': x3,\n",
    "                                         'gamma': 5.0, 'omega': 3.5},\n",
    "                             states={'S0': 10.0},\n",
    "                             approximation=numerical_approximation,\n",
    "                             id='rs')\n",
    "\n",
    "transparent = Transparent(id='tr')\n",
    "\n",
    "junction = Junction(direction=[[0, None],  # First output\n",
    "                               [1, None],  # Second output\n",
    "                               [None, 0]], # Third output\n",
    "                    id='jun')\n",
    "\n",
    "3flux_aggregator = FluxAggregator(id='fa')"
   ]
  },
  {
   "cell_type": "code",
   "execution_count": null,
   "metadata": {},
   "outputs": [],
   "source": []
  }
 ],
 "metadata": {
  "kernelspec": {
   "display_name": "Python 3 (ipykernel)",
   "language": "python",
   "name": "python3"
  },
  "language_info": {
   "codemirror_mode": {
    "name": "ipython",
    "version": 3
   },
   "file_extension": ".py",
   "mimetype": "text/x-python",
   "name": "python",
   "nbconvert_exporter": "python",
   "pygments_lexer": "ipython3",
   "version": "3.11.5"
  }
 },
 "nbformat": 4,
 "nbformat_minor": 1
}