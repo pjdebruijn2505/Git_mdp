{
 "cells": [
  {
   "cell_type": "code",
   "execution_count": 1,
   "metadata": {},
   "outputs": [],
   "source": [
    "import numpy as np\n",
    "import pandas as pd\n",
    "import pathlib\n",
    "import matplotlib as mpl\n",
    "import matplotlib.pyplot as plt\n",
    "import sys\n",
    "import os.path\n",
    "\n"
   ]
  },
  {
   "cell_type": "code",
   "execution_count": 2,
   "metadata": {},
   "outputs": [],
   "source": [
    "cwd = pathlib.Path().resolve()\n",
    "src = cwd.parent\n",
    "root = src.parent\n",
    "data = src.parent.parent.parent\n",
    "data_path = os.path.join(data, 'data_tana')\n",
    "sys.path.append(str(src))\n",
    "sys.path.append(str(root))\n",
    "sys.path.append(str(data_path))\n"
   ]
  },
  {
   "cell_type": "code",
   "execution_count": 38,
   "metadata": {},
   "outputs": [
    {
     "ename": "ValueError",
     "evalue": "attempt to get argmin of an empty sequence",
     "output_type": "error",
     "traceback": [
      "\u001B[0;31m---------------------------------------------------------------------------\u001B[0m",
      "\u001B[0;31mValueError\u001B[0m                                Traceback (most recent call last)",
      "Cell \u001B[0;32mIn[38], line 18\u001B[0m\n\u001B[1;32m     14\u001B[0m garissa_recent_matched \u001B[38;5;241m=\u001B[39m pd\u001B[38;5;241m.\u001B[39mDataFrame(columns\u001B[38;5;241m=\u001B[39m[\u001B[38;5;124m'\u001B[39m\u001B[38;5;124mTime\u001B[39m\u001B[38;5;124m'\u001B[39m, \u001B[38;5;124m'\u001B[39m\u001B[38;5;124mwaterlevel[m]\u001B[39m\u001B[38;5;124m'\u001B[39m, \u001B[38;5;124m'\u001B[39m\u001B[38;5;124mdischarge[m3/s]\u001B[39m\u001B[38;5;124m'\u001B[39m])\n\u001B[1;32m     16\u001B[0m \u001B[38;5;28;01mfor\u001B[39;00m index, row \u001B[38;5;129;01min\u001B[39;00m df_garissa_recent\u001B[38;5;241m.\u001B[39miterrows():\n\u001B[1;32m     17\u001B[0m     \u001B[38;5;66;03m# Find the closest time in Time2 for each time in Time1\u001B[39;00m\n\u001B[0;32m---> 18\u001B[0m     closest_time \u001B[38;5;241m=\u001B[39m df_garissa_recent[\u001B[38;5;124m'\u001B[39m\u001B[38;5;124mdate_level\u001B[39m\u001B[38;5;124m'\u001B[39m]\u001B[38;5;241m.\u001B[39miloc[(df_garissa_recent[\u001B[38;5;124m'\u001B[39m\u001B[38;5;124mdate_discharge\u001B[39m\u001B[38;5;124m'\u001B[39m] \u001B[38;5;241m-\u001B[39m row[\u001B[38;5;124m'\u001B[39m\u001B[38;5;124mdate_level\u001B[39m\u001B[38;5;124m'\u001B[39m])\u001B[38;5;241m.\u001B[39mabs()\u001B[38;5;241m.\u001B[39midxmin()]\n\u001B[1;32m     20\u001B[0m     \u001B[38;5;66;03m# Append the matched measurements to the new DataFrame\u001B[39;00m\n\u001B[1;32m     21\u001B[0m     garissa_recent_matched \u001B[38;5;241m=\u001B[39m pd\u001B[38;5;241m.\u001B[39mconcat([garissa_recent_matched, pd\u001B[38;5;241m.\u001B[39mDataFrame([\u001B[38;5;124m'\u001B[39m\u001B[38;5;124mdate_level\u001B[39m\u001B[38;5;124m'\u001B[39m]), pd\u001B[38;5;241m.\u001B[39mDataFrame([\u001B[38;5;124m'\u001B[39m\u001B[38;5;124mwaterlevel[m]\u001B[39m\u001B[38;5;124m'\u001B[39m]),\n\u001B[1;32m     22\u001B[0m                                        pd\u001B[38;5;241m.\u001B[39mDataFrame([\u001B[38;5;124m'\u001B[39m\u001B[38;5;124mdischarge[m3/s]\u001B[39m\u001B[38;5;124m'\u001B[39m])],\n\u001B[1;32m     23\u001B[0m                                        ignore_index\u001B[38;5;241m=\u001B[39m\u001B[38;5;28;01mTrue\u001B[39;00m)\n",
      "File \u001B[0;32m~/anaconda3/lib/python3.11/site-packages/pandas/core/series.py:2460\u001B[0m, in \u001B[0;36mSeries.idxmin\u001B[0;34m(self, axis, skipna, *args, **kwargs)\u001B[0m\n\u001B[1;32m   2396\u001B[0m \u001B[38;5;250m\u001B[39m\u001B[38;5;124;03m\"\"\"\u001B[39;00m\n\u001B[1;32m   2397\u001B[0m \u001B[38;5;124;03mReturn the row label of the minimum value.\u001B[39;00m\n\u001B[1;32m   2398\u001B[0m \n\u001B[0;32m   (...)\u001B[0m\n\u001B[1;32m   2456\u001B[0m \u001B[38;5;124;03mnan\u001B[39;00m\n\u001B[1;32m   2457\u001B[0m \u001B[38;5;124;03m\"\"\"\u001B[39;00m\n\u001B[1;32m   2458\u001B[0m \u001B[38;5;66;03m# error: Argument 1 to \"argmin\" of \"IndexOpsMixin\" has incompatible type \"Union\u001B[39;00m\n\u001B[1;32m   2459\u001B[0m \u001B[38;5;66;03m# [int, Literal['index', 'columns']]\"; expected \"Optional[int]\"\u001B[39;00m\n\u001B[0;32m-> 2460\u001B[0m i \u001B[38;5;241m=\u001B[39m \u001B[38;5;28mself\u001B[39m\u001B[38;5;241m.\u001B[39margmin(axis, skipna, \u001B[38;5;241m*\u001B[39margs, \u001B[38;5;241m*\u001B[39m\u001B[38;5;241m*\u001B[39mkwargs)  \u001B[38;5;66;03m# type: ignore[arg-type]\u001B[39;00m\n\u001B[1;32m   2461\u001B[0m \u001B[38;5;28;01mif\u001B[39;00m i \u001B[38;5;241m==\u001B[39m \u001B[38;5;241m-\u001B[39m\u001B[38;5;241m1\u001B[39m:\n\u001B[1;32m   2462\u001B[0m     \u001B[38;5;28;01mreturn\u001B[39;00m np\u001B[38;5;241m.\u001B[39mnan\n",
      "File \u001B[0;32m~/anaconda3/lib/python3.11/site-packages/pandas/core/base.py:738\u001B[0m, in \u001B[0;36mIndexOpsMixin.argmin\u001B[0;34m(self, axis, skipna, *args, **kwargs)\u001B[0m\n\u001B[1;32m    736\u001B[0m         \u001B[38;5;28;01mreturn\u001B[39;00m \u001B[38;5;241m-\u001B[39m\u001B[38;5;241m1\u001B[39m\n\u001B[1;32m    737\u001B[0m     \u001B[38;5;28;01melse\u001B[39;00m:\n\u001B[0;32m--> 738\u001B[0m         \u001B[38;5;28;01mreturn\u001B[39;00m delegate\u001B[38;5;241m.\u001B[39margmin()\n\u001B[1;32m    739\u001B[0m \u001B[38;5;28;01melse\u001B[39;00m:\n\u001B[1;32m    740\u001B[0m     \u001B[38;5;66;03m# error: Incompatible return value type (got \"Union[int, ndarray]\", expected\u001B[39;00m\n\u001B[1;32m    741\u001B[0m     \u001B[38;5;66;03m# \"int\")\u001B[39;00m\n\u001B[1;32m    742\u001B[0m     \u001B[38;5;28;01mreturn\u001B[39;00m nanops\u001B[38;5;241m.\u001B[39mnanargmin(  \u001B[38;5;66;03m# type: ignore[return-value]\u001B[39;00m\n\u001B[1;32m    743\u001B[0m         delegate, skipna\u001B[38;5;241m=\u001B[39mskipna\n\u001B[1;32m    744\u001B[0m     )\n",
      "File \u001B[0;32m~/anaconda3/lib/python3.11/site-packages/pandas/core/arrays/_mixins.py:201\u001B[0m, in \u001B[0;36mNDArrayBackedExtensionArray.argmin\u001B[0;34m(self, axis, skipna)\u001B[0m\n\u001B[1;32m    199\u001B[0m \u001B[38;5;28;01mif\u001B[39;00m \u001B[38;5;129;01mnot\u001B[39;00m skipna \u001B[38;5;129;01mand\u001B[39;00m \u001B[38;5;28mself\u001B[39m\u001B[38;5;241m.\u001B[39m_hasna:\n\u001B[1;32m    200\u001B[0m     \u001B[38;5;28;01mraise\u001B[39;00m \u001B[38;5;167;01mNotImplementedError\u001B[39;00m\n\u001B[0;32m--> 201\u001B[0m \u001B[38;5;28;01mreturn\u001B[39;00m nargminmax(\u001B[38;5;28mself\u001B[39m, \u001B[38;5;124m\"\u001B[39m\u001B[38;5;124margmin\u001B[39m\u001B[38;5;124m\"\u001B[39m, axis\u001B[38;5;241m=\u001B[39maxis)\n",
      "File \u001B[0;32m~/anaconda3/lib/python3.11/site-packages/pandas/core/sorting.py:473\u001B[0m, in \u001B[0;36mnargminmax\u001B[0;34m(values, method, axis)\u001B[0m\n\u001B[1;32m    470\u001B[0m         \u001B[38;5;28;01mreturn\u001B[39;00m np\u001B[38;5;241m.\u001B[39marray([_nanargminmax(v, m, func) \u001B[38;5;28;01mfor\u001B[39;00m v, m \u001B[38;5;129;01min\u001B[39;00m zipped])\n\u001B[1;32m    471\u001B[0m     \u001B[38;5;28;01mreturn\u001B[39;00m func(arr_values, axis\u001B[38;5;241m=\u001B[39maxis)\n\u001B[0;32m--> 473\u001B[0m \u001B[38;5;28;01mreturn\u001B[39;00m _nanargminmax(arr_values, mask, func)\n",
      "File \u001B[0;32m~/anaconda3/lib/python3.11/site-packages/pandas/core/sorting.py:484\u001B[0m, in \u001B[0;36m_nanargminmax\u001B[0;34m(values, mask, func)\u001B[0m\n\u001B[1;32m    481\u001B[0m non_nans \u001B[38;5;241m=\u001B[39m values[\u001B[38;5;241m~\u001B[39mmask]\n\u001B[1;32m    482\u001B[0m non_nan_idx \u001B[38;5;241m=\u001B[39m idx[\u001B[38;5;241m~\u001B[39mmask]\n\u001B[0;32m--> 484\u001B[0m \u001B[38;5;28;01mreturn\u001B[39;00m non_nan_idx[func(non_nans)]\n",
      "File \u001B[0;32m<__array_function__ internals>:200\u001B[0m, in \u001B[0;36margmin\u001B[0;34m(*args, **kwargs)\u001B[0m\n",
      "File \u001B[0;32m~/anaconda3/lib/python3.11/site-packages/numpy/core/fromnumeric.py:1338\u001B[0m, in \u001B[0;36margmin\u001B[0;34m(a, axis, out, keepdims)\u001B[0m\n\u001B[1;32m   1251\u001B[0m \u001B[38;5;250m\u001B[39m\u001B[38;5;124;03m\"\"\"\u001B[39;00m\n\u001B[1;32m   1252\u001B[0m \u001B[38;5;124;03mReturns the indices of the minimum values along an axis.\u001B[39;00m\n\u001B[1;32m   1253\u001B[0m \n\u001B[0;32m   (...)\u001B[0m\n\u001B[1;32m   1335\u001B[0m \u001B[38;5;124;03m(2, 1, 4)\u001B[39;00m\n\u001B[1;32m   1336\u001B[0m \u001B[38;5;124;03m\"\"\"\u001B[39;00m\n\u001B[1;32m   1337\u001B[0m kwds \u001B[38;5;241m=\u001B[39m {\u001B[38;5;124m'\u001B[39m\u001B[38;5;124mkeepdims\u001B[39m\u001B[38;5;124m'\u001B[39m: keepdims} \u001B[38;5;28;01mif\u001B[39;00m keepdims \u001B[38;5;129;01mis\u001B[39;00m \u001B[38;5;129;01mnot\u001B[39;00m np\u001B[38;5;241m.\u001B[39m_NoValue \u001B[38;5;28;01melse\u001B[39;00m {}\n\u001B[0;32m-> 1338\u001B[0m \u001B[38;5;28;01mreturn\u001B[39;00m _wrapfunc(a, \u001B[38;5;124m'\u001B[39m\u001B[38;5;124margmin\u001B[39m\u001B[38;5;124m'\u001B[39m, axis\u001B[38;5;241m=\u001B[39maxis, out\u001B[38;5;241m=\u001B[39mout, \u001B[38;5;241m*\u001B[39m\u001B[38;5;241m*\u001B[39mkwds)\n",
      "File \u001B[0;32m~/anaconda3/lib/python3.11/site-packages/numpy/core/fromnumeric.py:57\u001B[0m, in \u001B[0;36m_wrapfunc\u001B[0;34m(obj, method, *args, **kwds)\u001B[0m\n\u001B[1;32m     54\u001B[0m     \u001B[38;5;28;01mreturn\u001B[39;00m _wrapit(obj, method, \u001B[38;5;241m*\u001B[39margs, \u001B[38;5;241m*\u001B[39m\u001B[38;5;241m*\u001B[39mkwds)\n\u001B[1;32m     56\u001B[0m \u001B[38;5;28;01mtry\u001B[39;00m:\n\u001B[0;32m---> 57\u001B[0m     \u001B[38;5;28;01mreturn\u001B[39;00m bound(\u001B[38;5;241m*\u001B[39margs, \u001B[38;5;241m*\u001B[39m\u001B[38;5;241m*\u001B[39mkwds)\n\u001B[1;32m     58\u001B[0m \u001B[38;5;28;01mexcept\u001B[39;00m \u001B[38;5;167;01mTypeError\u001B[39;00m:\n\u001B[1;32m     59\u001B[0m     \u001B[38;5;66;03m# A TypeError occurs if the object does have such a method in its\u001B[39;00m\n\u001B[1;32m     60\u001B[0m     \u001B[38;5;66;03m# class, but its signature is not identical to that of NumPy's. This\u001B[39;00m\n\u001B[0;32m   (...)\u001B[0m\n\u001B[1;32m     64\u001B[0m     \u001B[38;5;66;03m# Call _wrapit from within the except clause to ensure a potential\u001B[39;00m\n\u001B[1;32m     65\u001B[0m     \u001B[38;5;66;03m# exception has a traceback chain.\u001B[39;00m\n\u001B[1;32m     66\u001B[0m     \u001B[38;5;28;01mreturn\u001B[39;00m _wrapit(obj, method, \u001B[38;5;241m*\u001B[39margs, \u001B[38;5;241m*\u001B[39m\u001B[38;5;241m*\u001B[39mkwds)\n",
      "\u001B[0;31mValueError\u001B[0m: attempt to get argmin of an empty sequence"
     ]
    }
   ],
   "source": [
    "path = os.path.join(data_path, 'Garissa_Tana_recent.csv')\n",
    "df_garissa_recent = pd.read_csv(path, sep = ';')\n",
    "\n",
    "\n",
    "columns_to_drop = [2, 3]  # Adjust these indices as needed\n",
    "df_garissa_recent = df_garissa_recent.drop(df_garissa_recent.columns[columns_to_drop], axis=1)\n",
    "df_garissa_recent = df_garissa_recent[21:]\n",
    "df_garissa_recent = df_garissa_recent.rename(columns={\"Time\": \"date_level\", \"4G01-TANA-WATER LEVEL-RAW\": \"waterlevel[m]\",\n",
    "                                                     \"Time.1\":\"date_discharge\", \"4G01-TANA-DISCHARGE\": \"discharge[m3/s]\"})\n",
    "\n",
    "df_garissa_recent['date_level'] = pd.to_datetime(df_garissa_recent['date_level'], format='mixed')\n",
    "df_garissa_recent['date_discharge'] = pd.to_datetime(df_garissa_recent['date_discharge'], format='mixed')\n",
    "\n",
    "garissa_recent_matched = pd.DataFrame(columns=['Time', 'waterlevel[m]', 'discharge[m3/s]'])\n",
    "\n",
    "for index, row in df_garissa_recent.iterrows():\n",
    "    # Find the closest time in Time2 for each time in Time1\n",
    "    closest_time = df_garissa_recent['date_level'].iloc[(df_garissa_recent['date_discharge'] - row['date_level']).abs().idxmin()]\n",
    "    \n",
    "    # Append the matched measurements to the new DataFrame\n",
    "    garissa_recent_matched = pd.concat([garissa_recent_matched, pd.DataFrame(['date_level']), pd.DataFrame(['waterlevel[m]']),\n",
    "                                       pd.DataFrame(['discharge[m3/s]'])],\n",
    "                                       ignore_index=True)\n",
    "    #print(index)\n",
    "#{'Time': row['date_level'],\n",
    "#                                        'waterlevel[m]': row['waterlevel[m]'],\n",
    "#                                        'discharge[m3/s]': df_garissa_recent.loc[df_garissa_recent['date_discharge'] == closest_time, 'discharge[m3/s]'].values[0]}\n",
    "#df = pd.concat([df, pd.DataFrame([new_row])], ignore_index=True)\n",
    "df_garissa_recent.head(100)"
   ]
  },
  {
   "cell_type": "code",
   "execution_count": null,
   "metadata": {},
   "outputs": [],
   "source": []
  },
  {
   "cell_type": "code",
   "execution_count": null,
   "metadata": {},
   "outputs": [],
   "source": []
  }
 ],
 "metadata": {
  "kernelspec": {
   "display_name": "Python 3 (ipykernel)",
   "language": "python",
   "name": "python3"
  },
  "language_info": {
   "codemirror_mode": {
    "name": "ipython",
    "version": 3
   },
   "file_extension": ".py",
   "mimetype": "text/x-python",
   "name": "python",
   "nbconvert_exporter": "python",
   "pygments_lexer": "ipython3",
   "version": "3.11.5"
  }
 },
 "nbformat": 4,
 "nbformat_minor": 1
}