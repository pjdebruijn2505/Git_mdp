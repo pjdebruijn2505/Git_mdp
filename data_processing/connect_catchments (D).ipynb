{
 "cells": [
  {
   "cell_type": "code",
   "execution_count": 2,
   "metadata": {},
   "outputs": [],
   "source": [
    "import rasterio\n",
    "import os\n",
    "import glob\n",
    "import yaml\n",
    "\n",
    "import geopandas as gpd\n",
    "import numpy as np\n",
    "\n",
    "from rasterio.mask import mask\n",
    "from shapely.geometry import mapping\n",
    "from pathlib import Path\n",
    "from pprint import pprint"
   ]
  },
  {
   "cell_type": "markdown",
   "metadata": {},
   "source": [
    "Objective: given a map of each subcatchments and DEM derived river segments with Strahler orders, we want to find the downstream neighbour of each subcatchment. We do this by following these steps:\n",
    "\n",
    "1. Specify paths to find files and save new files.\n",
    "2. Assign a Strahler order to each subcatchment\n",
    "3. Find all neighbours of each subcatchment using the geometries.\n",
    "4. Combine the Strahler orders with the neighbours to derive for each subcatchment the neighbour with the heighest Strahler order, which is its downstream neightbour.\n",
    "5. Save the dictionary containing neighbours to a .yml file."
   ]
  },
  {
   "cell_type": "markdown",
   "metadata": {},
   "source": [
    "### 1. Specify paths to find files and save new files."
   ]
  },
  {
   "cell_type": "code",
   "execution_count": 3,
   "metadata": {},
   "outputs": [],
   "source": [
    "path_data_folder = Path(r\"../data/catchments\")\n",
    "path_subcatchments = path_data_folder.joinpath(r\"subcatchments\")\n",
    "path_strahler = path_data_folder.joinpath(r\"strahler_tana.map\")\n",
    "path_save_new_shapefiles = path_data_folder.joinpath(r\"subcatchments_strahler\")\n",
    "\n",
    "shapefiles_fnames = list(path_subcatchments.glob(\"*.gpkg\"))\n",
    "\n",
    "#print(shapefiles_fnames)\n",
    "N = len(shapefiles_fnames)\n",
    "\n"
   ]
  },
  {
   "cell_type": "markdown",
   "metadata": {},
   "source": [
    "### 2. Assign a Strahler order to each subcatchment"
   ]
  },
  {
   "cell_type": "code",
   "execution_count": 3,
   "metadata": {},
   "outputs": [
    {
     "name": "stdout",
     "output_type": "stream",
     "text": [
      "0/263\n",
      "25/263\n",
      "50/263\n",
      "75/263\n",
      "100/263\n",
      "125/263\n",
      "150/263\n",
      "175/263\n",
      "200/263\n",
      "225/263\n",
      "250/263\n"
     ]
    }
   ],
   "source": [
    "execute = True\n",
    "\n",
    "if execute:\n",
    "    # Open the raster file\n",
    "    with rasterio.open(path_strahler) as src:\n",
    "        for i, subcatchment in enumerate(shapefiles_fnames):\n",
    "            gdf = gpd.read_file(subcatchment)\n",
    "            fname = os.path.split(subcatchment)[-1]\n",
    "            for idx, row in gdf.iterrows():\n",
    "                # Extract the geometry of the shape\n",
    "                geom = row.geometry\n",
    "\n",
    "                clipped_river, out_transform = mask(src, [geom], crop=True)\n",
    "                \n",
    "                clipped_river[clipped_river <= 8] = 0\n",
    "                strahler_numbers, counts = np.unique(clipped_river, return_counts=True)\n",
    "\n",
    "                # Add the count as a new attribute to the shapefile\n",
    "                gdf.loc[idx, 'strahler'] = max(strahler_numbers)\n",
    "\n",
    "            # Save the updated shapefile\n",
    "            gdf.to_file(path_save_new_shapefiles.joinpath(fname), driver=\"GPKG\")\n",
    "\n",
    "            if i%25 == 0:\n",
    "                print(f\"{i}/{N}\")"
   ]
  },
  {
   "cell_type": "markdown",
   "metadata": {},
   "source": [
    "### 3. Find all neighbours of each subcatchment using the geometries."
   ]
  },
  {
   "cell_type": "markdown",
   "metadata": {},
   "source": [
    "If we want to save the neighbouring filenames:"
   ]
  },
  {
   "cell_type": "code",
   "execution_count": 4,
   "metadata": {},
   "outputs": [
    {
     "name": "stdout",
     "output_type": "stream",
     "text": [
      "Initialized list of geodataframes...\n",
      "0/263\n",
      "25/263\n",
      "50/263\n",
      "75/263\n",
      "100/263\n",
      "125/263\n",
      "150/263\n",
      "175/263\n",
      "200/263\n",
      "225/263\n",
      "250/263\n"
     ]
    }
   ],
   "source": [
    "execute = True\n",
    "\n",
    "if execute:\n",
    "    # Read all shapefiles into a list of GeoDataFrames\n",
    "    shapefiles_fnames = list(path_save_new_shapefiles.glob(\"*.gpkg\"))\n",
    "    shapefiles = [gpd.read_file(shapefile) for shapefile in shapefiles_fnames]\n",
    "\n",
    "    print(\"Initialized list of geodataframes...\")\n",
    "\n",
    "    # Create a dictionary to store neighboring shapefiles for each shapefile\n",
    "    neighboring_shapefiles = dict()\n",
    "\n",
    "    # Iterate over each shapefile\n",
    "    for idx, shapefile in enumerate(shapefiles):\n",
    "        # Remove the current shapefile from the list\n",
    "        other_shapefiles_fnames = shapefiles_fnames[:idx] + shapefiles_fnames[idx+1:]\n",
    "        other_shapefiles = shapefiles[:idx] + shapefiles[idx+1:]\n",
    "        \n",
    "        # Get the geometry of the current shapefile\n",
    "        geometry = shapefile.geometry.unary_union\n",
    "        \n",
    "        # Initialize a list to store neighboring shapefiles\n",
    "        neighbors = []\n",
    "        \n",
    "        # Iterate over the other shapefiles to find neighbors\n",
    "        for idy, other_shapefile in enumerate(other_shapefiles):\n",
    "            # Check if any geometry of other_shapefile intersects with the geometry of shapefile\n",
    "            if any(geometry.intersects(other_geometry) for other_geometry in other_shapefile.geometry):\n",
    "                neighbors.append(shapefiles_fnames[idy].name)\n",
    "        \n",
    "        # Store the neighboring shapefiles for the current shapefile\n",
    "        neighboring_shapefiles[shapefiles_fnames[idx].name] = neighbors\n",
    "        if idx%25 == 0:\n",
    "            print(f\"{idx}/{N}\")"
   ]
  },
  {
   "cell_type": "markdown",
   "metadata": {},
   "source": [
    "Now we save the dictionary containing all neighbours."
   ]
  },
  {
   "cell_type": "code",
   "execution_count": 6,
   "metadata": {},
   "outputs": [
    {
     "name": "stdout",
     "output_type": "stream",
     "text": [
      "YAML file saved.\n"
     ]
    }
   ],
   "source": [
    "file=open(path_data_folder.joinpath(Path(\"neighbours.yaml\")),\"w\")\n",
    "yaml.dump(neighboring_shapefiles,file)\n",
    "file.close()\n",
    "print(\"YAML file saved.\")"
   ]
  },
  {
   "cell_type": "markdown",
   "metadata": {},
   "source": [
    "### 4. Combine the Strahler orders with the neighbours to derive for each subcatchment the neighbour with the heighest Strahler order, which is its downstream neightbour."
   ]
  },
  {
   "cell_type": "markdown",
   "metadata": {},
   "source": [
    "Now we filter on strahler number. We only save the one with the heighest strahler number:"
   ]
  },
  {
   "cell_type": "code",
   "execution_count": 7,
   "metadata": {},
   "outputs": [
    {
     "name": "stdout",
     "output_type": "stream",
     "text": [
      "0/263\n",
      "25/263\n",
      "50/263\n",
      "75/263\n",
      "100/263\n",
      "125/263\n",
      "150/263\n",
      "175/263\n",
      "200/263\n",
      "225/263\n",
      "250/263\n"
     ]
    }
   ],
   "source": [
    "downstream_catchments = dict()\n",
    "\n",
    "for i, key in enumerate(neighboring_shapefiles.keys()):\n",
    "    subc = gpd.read_file(path_save_new_shapefiles.joinpath(key))\n",
    "\n",
    "    neighbouring_subc = neighboring_shapefiles[key]\n",
    "\n",
    "    if len(neighbouring_subc)==0:\n",
    "        pass\n",
    "    else:\n",
    "        gdf_list = [\n",
    "            gpd.read_file(path_save_new_shapefiles.joinpath(item))\n",
    "                    for item in neighbouring_subc]\n",
    "        strahler_numbers = []\n",
    "        for gdf in gdf_list:\n",
    "            for idx, row in gdf.iterrows():\n",
    "                # Extract the geometry of the shape\n",
    "                # geom = row.geometry.strahler\n",
    "\n",
    "                strahler_numbers.append(row[\"strahler\"])\n",
    "\n",
    "        downstream_catchments[key] = neighbouring_subc[np.argmax(strahler_numbers)]\n",
    "    \n",
    "    if i%25 == 0:\n",
    "        print(f\"{i}/{N}\")"
   ]
  },
  {
   "cell_type": "markdown",
   "metadata": {},
   "source": [
    "### 5. Save the dictionary containing neighbours to a .yml file."
   ]
  },
  {
   "cell_type": "code",
   "execution_count": 8,
   "metadata": {},
   "outputs": [
    {
     "name": "stdout",
     "output_type": "stream",
     "text": [
      "YAML file saved.\n"
     ]
    }
   ],
   "source": [
    "file=open(path_data_folder.joinpath(Path(\"downstream_catchments.yaml\")),\"w\")\n",
    "yaml.dump(downstream_catchments, file)\n",
    "file.close()\n",
    "print(\"YAML file saved.\")"
   ]
  }
 ],
 "metadata": {
  "kernelspec": {
   "display_name": "Python 3 (ipykernel)",
   "language": "python",
   "name": "python3"
  },
  "language_info": {
   "codemirror_mode": {
    "name": "ipython",
    "version": 3
   },
   "file_extension": ".py",
   "mimetype": "text/x-python",
   "name": "python",
   "nbconvert_exporter": "python",
   "pygments_lexer": "ipython3",
   "version": "3.11.5"
  }
 },
 "nbformat": 4,
 "nbformat_minor": 2
}
