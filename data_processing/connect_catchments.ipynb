{
 "cells": [
  {
   "cell_type": "code",
   "execution_count": 1,
   "metadata": {},
   "outputs": [],
   "source": [
    "import rasterio\n",
    "import os\n",
    "import glob\n",
    "import yaml\n",
    "\n",
    "import geopandas as gpd\n",
    "import numpy as np\n",
    "\n",
    "from rasterio.mask import mask\n",
    "from shapely.geometry import mapping\n",
    "from pathlib import Path\n",
    "from pprint import pprint"
   ]
  },
  {
   "cell_type": "markdown",
   "metadata": {},
   "source": [
    "Objective: given a map of each subcatchments and DEM derived river segments with Strahler orders, we want to find the downstream neighbour of each subcatchment. We do this by following these steps:\n",
    "\n",
    "1. Specify paths to find files and save new files.\n",
    "2. Assign a Strahler order to each subcatchment\n",
    "3. Find all neighbours of each subcatchment using the geometries.\n",
    "4. Combine the Strahler orders with the neighbours to derive for each subcatchment the neighbour with the heighest Strahler order, which is its downstream neightbour.\n",
    "5. Save the dictionary containing neighbours to a .yml file."
   ]
  },
  {
   "cell_type": "markdown",
   "metadata": {},
   "source": [
    "### 1. Specify paths to find files and save new files."
   ]
  },
  {
   "cell_type": "code",
   "execution_count": 2,
   "metadata": {},
   "outputs": [
    {
     "name": "stdout",
     "output_type": "stream",
     "text": [
      "[WindowsPath('../data/catchments/subcatchments/fid_1021.gpkg'), WindowsPath('../data/catchments/subcatchments/fid_1027.gpkg'), WindowsPath('../data/catchments/subcatchments/fid_1036.gpkg'), WindowsPath('../data/catchments/subcatchments/fid_1048.gpkg'), WindowsPath('../data/catchments/subcatchments/fid_1076.gpkg'), WindowsPath('../data/catchments/subcatchments/fid_1086.gpkg'), WindowsPath('../data/catchments/subcatchments/fid_1091.gpkg'), WindowsPath('../data/catchments/subcatchments/fid_1096.gpkg'), WindowsPath('../data/catchments/subcatchments/fid_1101.gpkg'), WindowsPath('../data/catchments/subcatchments/fid_1107.gpkg'), WindowsPath('../data/catchments/subcatchments/fid_1112.gpkg'), WindowsPath('../data/catchments/subcatchments/fid_1113.gpkg'), WindowsPath('../data/catchments/subcatchments/fid_1114.gpkg'), WindowsPath('../data/catchments/subcatchments/fid_1128.gpkg'), WindowsPath('../data/catchments/subcatchments/fid_1130.gpkg'), WindowsPath('../data/catchments/subcatchments/fid_1131.gpkg'), WindowsPath('../data/catchments/subcatchments/fid_1156.gpkg'), WindowsPath('../data/catchments/subcatchments/fid_1169.gpkg'), WindowsPath('../data/catchments/subcatchments/fid_1173.gpkg'), WindowsPath('../data/catchments/subcatchments/fid_12.gpkg'), WindowsPath('../data/catchments/subcatchments/fid_1207.gpkg'), WindowsPath('../data/catchments/subcatchments/fid_1209.gpkg'), WindowsPath('../data/catchments/subcatchments/fid_1218.gpkg'), WindowsPath('../data/catchments/subcatchments/fid_1220.gpkg'), WindowsPath('../data/catchments/subcatchments/fid_1223.gpkg'), WindowsPath('../data/catchments/subcatchments/fid_1226.gpkg'), WindowsPath('../data/catchments/subcatchments/fid_1236.gpkg'), WindowsPath('../data/catchments/subcatchments/fid_1249.gpkg'), WindowsPath('../data/catchments/subcatchments/fid_1251.gpkg'), WindowsPath('../data/catchments/subcatchments/fid_1259.gpkg'), WindowsPath('../data/catchments/subcatchments/fid_1266.gpkg'), WindowsPath('../data/catchments/subcatchments/fid_1272.gpkg'), WindowsPath('../data/catchments/subcatchments/fid_1286.gpkg'), WindowsPath('../data/catchments/subcatchments/fid_13.gpkg'), WindowsPath('../data/catchments/subcatchments/fid_1344.gpkg'), WindowsPath('../data/catchments/subcatchments/fid_1353.gpkg'), WindowsPath('../data/catchments/subcatchments/fid_1378.gpkg'), WindowsPath('../data/catchments/subcatchments/fid_1424.gpkg'), WindowsPath('../data/catchments/subcatchments/fid_144.gpkg'), WindowsPath('../data/catchments/subcatchments/fid_1520.gpkg'), WindowsPath('../data/catchments/subcatchments/fid_161.gpkg'), WindowsPath('../data/catchments/subcatchments/fid_1665.gpkg'), WindowsPath('../data/catchments/subcatchments/fid_1745.gpkg'), WindowsPath('../data/catchments/subcatchments/fid_1769.gpkg'), WindowsPath('../data/catchments/subcatchments/fid_1792.gpkg'), WindowsPath('../data/catchments/subcatchments/fid_1811.gpkg'), WindowsPath('../data/catchments/subcatchments/fid_1854.gpkg'), WindowsPath('../data/catchments/subcatchments/fid_1878.gpkg'), WindowsPath('../data/catchments/subcatchments/fid_1883.gpkg'), WindowsPath('../data/catchments/subcatchments/fid_1889.gpkg'), WindowsPath('../data/catchments/subcatchments/fid_1894.gpkg'), WindowsPath('../data/catchments/subcatchments/fid_1900.gpkg'), WindowsPath('../data/catchments/subcatchments/fid_1909.gpkg'), WindowsPath('../data/catchments/subcatchments/fid_1913.gpkg'), WindowsPath('../data/catchments/subcatchments/fid_1915.gpkg'), WindowsPath('../data/catchments/subcatchments/fid_1917.gpkg'), WindowsPath('../data/catchments/subcatchments/fid_192.gpkg'), WindowsPath('../data/catchments/subcatchments/fid_1920.gpkg'), WindowsPath('../data/catchments/subcatchments/fid_1924.gpkg'), WindowsPath('../data/catchments/subcatchments/fid_1937.gpkg'), WindowsPath('../data/catchments/subcatchments/fid_194.gpkg'), WindowsPath('../data/catchments/subcatchments/fid_1947.gpkg'), WindowsPath('../data/catchments/subcatchments/fid_1968.gpkg'), WindowsPath('../data/catchments/subcatchments/fid_1976.gpkg'), WindowsPath('../data/catchments/subcatchments/fid_1977.gpkg'), WindowsPath('../data/catchments/subcatchments/fid_1987.gpkg'), WindowsPath('../data/catchments/subcatchments/fid_1992.gpkg'), WindowsPath('../data/catchments/subcatchments/fid_1995.gpkg'), WindowsPath('../data/catchments/subcatchments/fid_1996.gpkg'), WindowsPath('../data/catchments/subcatchments/fid_2002.gpkg'), WindowsPath('../data/catchments/subcatchments/fid_2004.gpkg'), WindowsPath('../data/catchments/subcatchments/fid_2006.gpkg'), WindowsPath('../data/catchments/subcatchments/fid_206.gpkg'), WindowsPath('../data/catchments/subcatchments/fid_22.gpkg'), WindowsPath('../data/catchments/subcatchments/fid_220.gpkg'), WindowsPath('../data/catchments/subcatchments/fid_222.gpkg'), WindowsPath('../data/catchments/subcatchments/fid_251.gpkg'), WindowsPath('../data/catchments/subcatchments/fid_267.gpkg'), WindowsPath('../data/catchments/subcatchments/fid_269.gpkg'), WindowsPath('../data/catchments/subcatchments/fid_270.gpkg'), WindowsPath('../data/catchments/subcatchments/fid_272.gpkg'), WindowsPath('../data/catchments/subcatchments/fid_273.gpkg'), WindowsPath('../data/catchments/subcatchments/fid_275.gpkg'), WindowsPath('../data/catchments/subcatchments/fid_277.gpkg'), WindowsPath('../data/catchments/subcatchments/fid_296.gpkg'), WindowsPath('../data/catchments/subcatchments/fid_313.gpkg'), WindowsPath('../data/catchments/subcatchments/fid_315.gpkg'), WindowsPath('../data/catchments/subcatchments/fid_319.gpkg'), WindowsPath('../data/catchments/subcatchments/fid_325.gpkg'), WindowsPath('../data/catchments/subcatchments/fid_328.gpkg'), WindowsPath('../data/catchments/subcatchments/fid_329.gpkg'), WindowsPath('../data/catchments/subcatchments/fid_330.gpkg'), WindowsPath('../data/catchments/subcatchments/fid_332.gpkg'), WindowsPath('../data/catchments/subcatchments/fid_333.gpkg'), WindowsPath('../data/catchments/subcatchments/fid_334.gpkg'), WindowsPath('../data/catchments/subcatchments/fid_336.gpkg'), WindowsPath('../data/catchments/subcatchments/fid_337.gpkg'), WindowsPath('../data/catchments/subcatchments/fid_339.gpkg'), WindowsPath('../data/catchments/subcatchments/fid_340.gpkg'), WindowsPath('../data/catchments/subcatchments/fid_341.gpkg'), WindowsPath('../data/catchments/subcatchments/fid_346.gpkg'), WindowsPath('../data/catchments/subcatchments/fid_348.gpkg'), WindowsPath('../data/catchments/subcatchments/fid_350.gpkg'), WindowsPath('../data/catchments/subcatchments/fid_352.gpkg'), WindowsPath('../data/catchments/subcatchments/fid_355.gpkg'), WindowsPath('../data/catchments/subcatchments/fid_356.gpkg'), WindowsPath('../data/catchments/subcatchments/fid_357.gpkg'), WindowsPath('../data/catchments/subcatchments/fid_358.gpkg'), WindowsPath('../data/catchments/subcatchments/fid_359.gpkg'), WindowsPath('../data/catchments/subcatchments/fid_365.gpkg'), WindowsPath('../data/catchments/subcatchments/fid_367.gpkg'), WindowsPath('../data/catchments/subcatchments/fid_368.gpkg'), WindowsPath('../data/catchments/subcatchments/fid_372.gpkg'), WindowsPath('../data/catchments/subcatchments/fid_373.gpkg'), WindowsPath('../data/catchments/subcatchments/fid_374.gpkg'), WindowsPath('../data/catchments/subcatchments/fid_376.gpkg'), WindowsPath('../data/catchments/subcatchments/fid_377.gpkg'), WindowsPath('../data/catchments/subcatchments/fid_379.gpkg'), WindowsPath('../data/catchments/subcatchments/fid_391.gpkg'), WindowsPath('../data/catchments/subcatchments/fid_398.gpkg'), WindowsPath('../data/catchments/subcatchments/fid_403.gpkg'), WindowsPath('../data/catchments/subcatchments/fid_407.gpkg'), WindowsPath('../data/catchments/subcatchments/fid_408.gpkg'), WindowsPath('../data/catchments/subcatchments/fid_409.gpkg'), WindowsPath('../data/catchments/subcatchments/fid_411.gpkg'), WindowsPath('../data/catchments/subcatchments/fid_413.gpkg'), WindowsPath('../data/catchments/subcatchments/fid_415.gpkg'), WindowsPath('../data/catchments/subcatchments/fid_416.gpkg'), WindowsPath('../data/catchments/subcatchments/fid_417.gpkg'), WindowsPath('../data/catchments/subcatchments/fid_42.gpkg'), WindowsPath('../data/catchments/subcatchments/fid_420.gpkg'), WindowsPath('../data/catchments/subcatchments/fid_421.gpkg'), WindowsPath('../data/catchments/subcatchments/fid_422.gpkg'), WindowsPath('../data/catchments/subcatchments/fid_423.gpkg'), WindowsPath('../data/catchments/subcatchments/fid_424.gpkg'), WindowsPath('../data/catchments/subcatchments/fid_425.gpkg'), WindowsPath('../data/catchments/subcatchments/fid_428.gpkg'), WindowsPath('../data/catchments/subcatchments/fid_433.gpkg'), WindowsPath('../data/catchments/subcatchments/fid_434.gpkg'), WindowsPath('../data/catchments/subcatchments/fid_436.gpkg'), WindowsPath('../data/catchments/subcatchments/fid_439.gpkg'), WindowsPath('../data/catchments/subcatchments/fid_440.gpkg'), WindowsPath('../data/catchments/subcatchments/fid_441.gpkg'), WindowsPath('../data/catchments/subcatchments/fid_443.gpkg'), WindowsPath('../data/catchments/subcatchments/fid_446.gpkg'), WindowsPath('../data/catchments/subcatchments/fid_449.gpkg'), WindowsPath('../data/catchments/subcatchments/fid_455.gpkg'), WindowsPath('../data/catchments/subcatchments/fid_458.gpkg'), WindowsPath('../data/catchments/subcatchments/fid_459.gpkg'), WindowsPath('../data/catchments/subcatchments/fid_527.gpkg'), WindowsPath('../data/catchments/subcatchments/fid_528.gpkg'), WindowsPath('../data/catchments/subcatchments/fid_530.gpkg'), WindowsPath('../data/catchments/subcatchments/fid_57.gpkg'), WindowsPath('../data/catchments/subcatchments/fid_595.gpkg'), WindowsPath('../data/catchments/subcatchments/fid_596.gpkg'), WindowsPath('../data/catchments/subcatchments/fid_597.gpkg'), WindowsPath('../data/catchments/subcatchments/fid_599.gpkg'), WindowsPath('../data/catchments/subcatchments/fid_600.gpkg'), WindowsPath('../data/catchments/subcatchments/fid_604.gpkg'), WindowsPath('../data/catchments/subcatchments/fid_605.gpkg'), WindowsPath('../data/catchments/subcatchments/fid_610.gpkg'), WindowsPath('../data/catchments/subcatchments/fid_613.gpkg'), WindowsPath('../data/catchments/subcatchments/fid_614.gpkg'), WindowsPath('../data/catchments/subcatchments/fid_615.gpkg'), WindowsPath('../data/catchments/subcatchments/fid_616.gpkg'), WindowsPath('../data/catchments/subcatchments/fid_617.gpkg'), WindowsPath('../data/catchments/subcatchments/fid_618.gpkg'), WindowsPath('../data/catchments/subcatchments/fid_619.gpkg'), WindowsPath('../data/catchments/subcatchments/fid_620.gpkg'), WindowsPath('../data/catchments/subcatchments/fid_622.gpkg'), WindowsPath('../data/catchments/subcatchments/fid_623.gpkg'), WindowsPath('../data/catchments/subcatchments/fid_627.gpkg'), WindowsPath('../data/catchments/subcatchments/fid_629.gpkg'), WindowsPath('../data/catchments/subcatchments/fid_630.gpkg'), WindowsPath('../data/catchments/subcatchments/fid_631.gpkg'), WindowsPath('../data/catchments/subcatchments/fid_632.gpkg'), WindowsPath('../data/catchments/subcatchments/fid_633.gpkg'), WindowsPath('../data/catchments/subcatchments/fid_635.gpkg'), WindowsPath('../data/catchments/subcatchments/fid_638.gpkg'), WindowsPath('../data/catchments/subcatchments/fid_639.gpkg'), WindowsPath('../data/catchments/subcatchments/fid_640.gpkg'), WindowsPath('../data/catchments/subcatchments/fid_649.gpkg'), WindowsPath('../data/catchments/subcatchments/fid_650.gpkg'), WindowsPath('../data/catchments/subcatchments/fid_653.gpkg'), WindowsPath('../data/catchments/subcatchments/fid_666.gpkg'), WindowsPath('../data/catchments/subcatchments/fid_668.gpkg'), WindowsPath('../data/catchments/subcatchments/fid_675.gpkg'), WindowsPath('../data/catchments/subcatchments/fid_676.gpkg'), WindowsPath('../data/catchments/subcatchments/fid_689.gpkg'), WindowsPath('../data/catchments/subcatchments/fid_693.gpkg'), WindowsPath('../data/catchments/subcatchments/fid_694.gpkg'), WindowsPath('../data/catchments/subcatchments/fid_695.gpkg'), WindowsPath('../data/catchments/subcatchments/fid_697.gpkg'), WindowsPath('../data/catchments/subcatchments/fid_698.gpkg'), WindowsPath('../data/catchments/subcatchments/fid_701.gpkg'), WindowsPath('../data/catchments/subcatchments/fid_703.gpkg'), WindowsPath('../data/catchments/subcatchments/fid_704.gpkg'), WindowsPath('../data/catchments/subcatchments/fid_705.gpkg'), WindowsPath('../data/catchments/subcatchments/fid_708.gpkg'), WindowsPath('../data/catchments/subcatchments/fid_709.gpkg'), WindowsPath('../data/catchments/subcatchments/fid_718.gpkg'), WindowsPath('../data/catchments/subcatchments/fid_737.gpkg'), WindowsPath('../data/catchments/subcatchments/fid_739.gpkg'), WindowsPath('../data/catchments/subcatchments/fid_742.gpkg'), WindowsPath('../data/catchments/subcatchments/fid_746.gpkg'), WindowsPath('../data/catchments/subcatchments/fid_753.gpkg'), WindowsPath('../data/catchments/subcatchments/fid_759.gpkg'), WindowsPath('../data/catchments/subcatchments/fid_760.gpkg'), WindowsPath('../data/catchments/subcatchments/fid_761.gpkg'), WindowsPath('../data/catchments/subcatchments/fid_762.gpkg'), WindowsPath('../data/catchments/subcatchments/fid_765.gpkg'), WindowsPath('../data/catchments/subcatchments/fid_767.gpkg'), WindowsPath('../data/catchments/subcatchments/fid_777.gpkg'), WindowsPath('../data/catchments/subcatchments/fid_78.gpkg'), WindowsPath('../data/catchments/subcatchments/fid_784.gpkg'), WindowsPath('../data/catchments/subcatchments/fid_787.gpkg'), WindowsPath('../data/catchments/subcatchments/fid_788.gpkg'), WindowsPath('../data/catchments/subcatchments/fid_793.gpkg'), WindowsPath('../data/catchments/subcatchments/fid_795.gpkg'), WindowsPath('../data/catchments/subcatchments/fid_796.gpkg'), WindowsPath('../data/catchments/subcatchments/fid_809.gpkg'), WindowsPath('../data/catchments/subcatchments/fid_819.gpkg'), WindowsPath('../data/catchments/subcatchments/fid_820.gpkg'), WindowsPath('../data/catchments/subcatchments/fid_821.gpkg'), WindowsPath('../data/catchments/subcatchments/fid_828.gpkg'), WindowsPath('../data/catchments/subcatchments/fid_832.gpkg'), WindowsPath('../data/catchments/subcatchments/fid_836.gpkg'), WindowsPath('../data/catchments/subcatchments/fid_837.gpkg'), WindowsPath('../data/catchments/subcatchments/fid_838.gpkg'), WindowsPath('../data/catchments/subcatchments/fid_839.gpkg'), WindowsPath('../data/catchments/subcatchments/fid_840.gpkg'), WindowsPath('../data/catchments/subcatchments/fid_841.gpkg'), WindowsPath('../data/catchments/subcatchments/fid_843.gpkg'), WindowsPath('../data/catchments/subcatchments/fid_845.gpkg'), WindowsPath('../data/catchments/subcatchments/fid_851.gpkg'), WindowsPath('../data/catchments/subcatchments/fid_853.gpkg'), WindowsPath('../data/catchments/subcatchments/fid_854.gpkg'), WindowsPath('../data/catchments/subcatchments/fid_864.gpkg'), WindowsPath('../data/catchments/subcatchments/fid_866.gpkg'), WindowsPath('../data/catchments/subcatchments/fid_871.gpkg'), WindowsPath('../data/catchments/subcatchments/fid_872.gpkg'), WindowsPath('../data/catchments/subcatchments/fid_874.gpkg'), WindowsPath('../data/catchments/subcatchments/fid_875.gpkg'), WindowsPath('../data/catchments/subcatchments/fid_876.gpkg'), WindowsPath('../data/catchments/subcatchments/fid_884.gpkg'), WindowsPath('../data/catchments/subcatchments/fid_885.gpkg'), WindowsPath('../data/catchments/subcatchments/fid_900.gpkg'), WindowsPath('../data/catchments/subcatchments/fid_904.gpkg'), WindowsPath('../data/catchments/subcatchments/fid_908.gpkg'), WindowsPath('../data/catchments/subcatchments/fid_919.gpkg'), WindowsPath('../data/catchments/subcatchments/fid_928.gpkg'), WindowsPath('../data/catchments/subcatchments/fid_933.gpkg'), WindowsPath('../data/catchments/subcatchments/fid_934.gpkg'), WindowsPath('../data/catchments/subcatchments/fid_938.gpkg'), WindowsPath('../data/catchments/subcatchments/fid_945.gpkg'), WindowsPath('../data/catchments/subcatchments/fid_946.gpkg'), WindowsPath('../data/catchments/subcatchments/fid_948.gpkg'), WindowsPath('../data/catchments/subcatchments/fid_949.gpkg'), WindowsPath('../data/catchments/subcatchments/fid_950.gpkg'), WindowsPath('../data/catchments/subcatchments/fid_955.gpkg'), WindowsPath('../data/catchments/subcatchments/fid_958.gpkg'), WindowsPath('../data/catchments/subcatchments/fid_981.gpkg'), WindowsPath('../data/catchments/subcatchments/fid_990.gpkg')]\n"
     ]
    }
   ],
   "source": [
    "path_data_folder = Path(r\"../data/catchments\")\n",
    "path_subcatchments = path_data_folder.joinpath(r\"subcatchments\")\n",
    "path_strahler = path_data_folder.joinpath(r\"strahler_tana.map\")\n",
    "path_save_new_shapefiles = path_data_folder.joinpath(r\"subcatchments_strahler\")\n",
    "\n",
    "shapefiles_fnames = list(path_subcatchments.glob(\"*.gpkg\"))\n",
    "\n",
    "print(shapefiles_fnames)\n",
    "N = len(shapefiles_fnames)\n",
    "\n",
    "# test = shapefiles_fnames[0]\n",
    "# print(test.name)"
   ]
  },
  {
   "cell_type": "markdown",
   "metadata": {},
   "source": [
    "### 2. Assign a Strahler order to each subcatchment"
   ]
  },
  {
   "cell_type": "code",
   "execution_count": 3,
   "metadata": {},
   "outputs": [
    {
     "name": "stdout",
     "output_type": "stream",
     "text": [
      "0/263\n",
      "25/263\n",
      "50/263\n",
      "75/263\n",
      "100/263\n",
      "125/263\n",
      "150/263\n",
      "175/263\n",
      "200/263\n",
      "225/263\n",
      "250/263\n"
     ]
    }
   ],
   "source": [
    "execute = True\n",
    "\n",
    "if execute:\n",
    "    # Open the raster file\n",
    "    with rasterio.open(path_strahler) as src:\n",
    "        for i, subcatchment in enumerate(shapefiles_fnames):\n",
    "            gdf = gpd.read_file(subcatchment)\n",
    "            fname = os.path.split(subcatchment)[-1]\n",
    "            for idx, row in gdf.iterrows():\n",
    "                # Extract the geometry of the shape\n",
    "                geom = row.geometry\n",
    "\n",
    "                clipped_river, out_transform = mask(src, [geom], crop=True)\n",
    "                \n",
    "                clipped_river[clipped_river <= 8] = 0\n",
    "                strahler_numbers, counts = np.unique(clipped_river, return_counts=True)\n",
    "\n",
    "                # Add the count as a new attribute to the shapefile\n",
    "                gdf.loc[idx, 'strahler'] = max(strahler_numbers)\n",
    "\n",
    "            # Save the updated shapefile\n",
    "            gdf.to_file(path_save_new_shapefiles.joinpath(fname), driver=\"GPKG\")\n",
    "\n",
    "            if i%25 == 0:\n",
    "                print(f\"{i}/{N}\")"
   ]
  },
  {
   "cell_type": "markdown",
   "metadata": {},
   "source": [
    "### 3. Find all neighbours of each subcatchment using the geometries."
   ]
  },
  {
   "cell_type": "markdown",
   "metadata": {},
   "source": [
    "If we want to save the neighbouring filenames:"
   ]
  },
  {
   "cell_type": "code",
   "execution_count": 4,
   "metadata": {},
   "outputs": [
    {
     "name": "stdout",
     "output_type": "stream",
     "text": [
      "Initialized list of geodataframes...\n",
      "0/263\n",
      "25/263\n",
      "50/263\n",
      "75/263\n",
      "100/263\n",
      "125/263\n",
      "150/263\n",
      "175/263\n",
      "200/263\n",
      "225/263\n",
      "250/263\n"
     ]
    }
   ],
   "source": [
    "execute = True\n",
    "\n",
    "if execute:\n",
    "    # Read all shapefiles into a list of GeoDataFrames\n",
    "    shapefiles_fnames = list(path_save_new_shapefiles.glob(\"*.gpkg\"))\n",
    "    shapefiles = [gpd.read_file(shapefile) for shapefile in shapefiles_fnames]\n",
    "\n",
    "    print(\"Initialized list of geodataframes...\")\n",
    "\n",
    "    # Create a dictionary to store neighboring shapefiles for each shapefile\n",
    "    neighboring_shapefiles = dict()\n",
    "\n",
    "    # Iterate over each shapefile\n",
    "    for idx, shapefile in enumerate(shapefiles):\n",
    "        # Remove the current shapefile from the list\n",
    "        other_shapefiles_fnames = shapefiles_fnames[:idx] + shapefiles_fnames[idx+1:]\n",
    "        other_shapefiles = shapefiles[:idx] + shapefiles[idx+1:]\n",
    "        \n",
    "        # Get the geometry of the current shapefile\n",
    "        geometry = shapefile.geometry.unary_union\n",
    "        \n",
    "        # Initialize a list to store neighboring shapefiles\n",
    "        neighbors = []\n",
    "        \n",
    "        # Iterate over the other shapefiles to find neighbors\n",
    "        for idy, other_shapefile in enumerate(other_shapefiles):\n",
    "            # Check if any geometry of other_shapefile intersects with the geometry of shapefile\n",
    "            if any(geometry.intersects(other_geometry) for other_geometry in other_shapefile.geometry):\n",
    "                neighbors.append(shapefiles_fnames[idy].name)\n",
    "        \n",
    "        # Store the neighboring shapefiles for the current shapefile\n",
    "        neighboring_shapefiles[shapefiles_fnames[idx].name] = neighbors\n",
    "        if idx%25 == 0:\n",
    "            print(f\"{idx}/{N}\")"
   ]
  },
  {
   "cell_type": "markdown",
   "metadata": {},
   "source": [
    "Now we save the dictionary containing all neighbours."
   ]
  },
  {
   "cell_type": "code",
   "execution_count": 6,
   "metadata": {},
   "outputs": [
    {
     "name": "stdout",
     "output_type": "stream",
     "text": [
      "YAML file saved.\n"
     ]
    }
   ],
   "source": [
    "file=open(path_data_folder.joinpath(Path(\"neighbours.yaml\")),\"w\")\n",
    "yaml.dump(neighboring_shapefiles,file)\n",
    "file.close()\n",
    "print(\"YAML file saved.\")"
   ]
  },
  {
   "cell_type": "markdown",
   "metadata": {},
   "source": [
    "### 4. Combine the Strahler orders with the neighbours to derive for each subcatchment the neighbour with the heighest Strahler order, which is its downstream neightbour."
   ]
  },
  {
   "cell_type": "markdown",
   "metadata": {},
   "source": [
    "Now we filter on strahler number. We only save the one with the heighest strahler number:"
   ]
  },
  {
   "cell_type": "code",
   "execution_count": 7,
   "metadata": {},
   "outputs": [
    {
     "name": "stdout",
     "output_type": "stream",
     "text": [
      "0/263\n",
      "25/263\n",
      "50/263\n",
      "75/263\n",
      "100/263\n",
      "125/263\n",
      "150/263\n",
      "175/263\n",
      "200/263\n",
      "225/263\n",
      "250/263\n"
     ]
    }
   ],
   "source": [
    "downstream_catchments = dict()\n",
    "\n",
    "for i, key in enumerate(neighboring_shapefiles.keys()):\n",
    "    subc = gpd.read_file(path_save_new_shapefiles.joinpath(key))\n",
    "\n",
    "    neighbouring_subc = neighboring_shapefiles[key]\n",
    "\n",
    "    if len(neighbouring_subc)==0:\n",
    "        pass\n",
    "    else:\n",
    "        gdf_list = [\n",
    "            gpd.read_file(path_save_new_shapefiles.joinpath(item))\n",
    "                    for item in neighbouring_subc]\n",
    "        strahler_numbers = []\n",
    "        for gdf in gdf_list:\n",
    "            for idx, row in gdf.iterrows():\n",
    "                # Extract the geometry of the shape\n",
    "                # geom = row.geometry.strahler\n",
    "\n",
    "                strahler_numbers.append(row[\"strahler\"])\n",
    "\n",
    "        downstream_catchments[key] = neighbouring_subc[np.argmax(strahler_numbers)]\n",
    "    \n",
    "    if i%25 == 0:\n",
    "        print(f\"{i}/{N}\")"
   ]
  },
  {
   "cell_type": "markdown",
   "metadata": {},
   "source": [
    "### 5. Save the dictionary containing neighbours to a .yml file."
   ]
  },
  {
   "cell_type": "code",
   "execution_count": 8,
   "metadata": {},
   "outputs": [
    {
     "name": "stdout",
     "output_type": "stream",
     "text": [
      "YAML file saved.\n"
     ]
    }
   ],
   "source": [
    "file=open(path_data_folder.joinpath(Path(\"downstream_catchments.yaml\")),\"w\")\n",
    "yaml.dump(downstream_catchments, file)\n",
    "file.close()\n",
    "print(\"YAML file saved.\")"
   ]
  },
  {
   "cell_type": "code",
   "execution_count": null,
   "metadata": {},
   "outputs": [],
   "source": []
  }
 ],
 "metadata": {
  "kernelspec": {
   "display_name": "Python 3 (ipykernel)",
   "language": "python",
   "name": "python3"
  },
  "language_info": {
   "codemirror_mode": {
    "name": "ipython",
    "version": 3
   },
   "file_extension": ".py",
   "mimetype": "text/x-python",
   "name": "python",
   "nbconvert_exporter": "python",
   "pygments_lexer": "ipython3",
   "version": "3.10.13"
  }
 },
 "nbformat": 4,
 "nbformat_minor": 2
}
