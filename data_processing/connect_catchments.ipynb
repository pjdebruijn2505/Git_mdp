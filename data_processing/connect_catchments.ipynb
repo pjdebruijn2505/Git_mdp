{
 "cells": [
  {
   "cell_type": "code",
   "execution_count": 1,
   "metadata": {},
   "outputs": [],
   "source": [
    "import rasterio\n",
    "import os\n",
    "import glob\n",
    "import yaml\n",
    "\n",
    "import geopandas as gpd\n",
    "import numpy as np\n",
    "\n",
    "from rasterio.mask import mask\n",
    "from shapely.geometry import mapping\n",
    "from pathlib import Path\n",
    "from pprint import pprint"
   ]
  },
  {
   "cell_type": "code",
   "execution_count": 2,
   "metadata": {},
   "outputs": [
    {
     "name": "stdout",
     "output_type": "stream",
     "text": [
      "[PosixPath('../data/catchments/subcatchments/fid_413.gpkg'), PosixPath('../data/catchments/subcatchments/fid_22.gpkg'), PosixPath('../data/catchments/subcatchments/fid_595.gpkg'), PosixPath('../data/catchments/subcatchments/fid_1036.gpkg'), PosixPath('../data/catchments/subcatchments/fid_346.gpkg'), PosixPath('../data/catchments/subcatchments/fid_653.gpkg'), PosixPath('../data/catchments/subcatchments/fid_1173.gpkg'), PosixPath('../data/catchments/subcatchments/fid_192.gpkg'), PosixPath('../data/catchments/subcatchments/fid_604.gpkg'), PosixPath('../data/catchments/subcatchments/fid_1889.gpkg'), PosixPath('../data/catchments/subcatchments/fid_350.gpkg'), PosixPath('../data/catchments/subcatchments/fid_1811.gpkg'), PosixPath('../data/catchments/subcatchments/fid_632.gpkg'), PosixPath('../data/catchments/subcatchments/fid_1112.gpkg'), PosixPath('../data/catchments/subcatchments/fid_777.gpkg'), PosixPath('../data/catchments/subcatchments/fid_409.gpkg'), PosixPath('../data/catchments/subcatchments/fid_1915.gpkg'), PosixPath('../data/catchments/subcatchments/fid_2006.gpkg'), PosixPath('../data/catchments/subcatchments/fid_809.gpkg'), PosixPath('../data/catchments/subcatchments/fid_761.gpkg'), PosixPath('../data/catchments/subcatchments/fid_599.gpkg'), PosixPath('../data/catchments/subcatchments/fid_433.gpkg'), PosixPath('../data/catchments/subcatchments/fid_1128.gpkg'), PosixPath('../data/catchments/subcatchments/fid_872.gpkg'), PosixPath('../data/catchments/subcatchments/fid_1344.gpkg'), PosixPath('../data/catchments/subcatchments/fid_864.gpkg'), PosixPath('../data/catchments/subcatchments/fid_649.gpkg'), PosixPath('../data/catchments/subcatchments/fid_1169.gpkg'), PosixPath('../data/catchments/subcatchments/fid_425.gpkg'), PosixPath('../data/catchments/subcatchments/fid_832.gpkg'), PosixPath('../data/catchments/subcatchments/fid_424.gpkg'), PosixPath('../data/catchments/subcatchments/fid_1353.gpkg'), PosixPath('../data/catchments/subcatchments/fid_1996.gpkg'), PosixPath('../data/catchments/subcatchments/fid_78.gpkg'), PosixPath('../data/catchments/subcatchments/fid_449.gpkg'), PosixPath('../data/catchments/subcatchments/fid_275.gpkg'), PosixPath('../data/catchments/subcatchments/fid_760.gpkg'), PosixPath('../data/catchments/subcatchments/fid_330.gpkg'), PosixPath('../data/catchments/subcatchments/fid_222.gpkg'), PosixPath('../data/catchments/subcatchments/fid_367.gpkg'), PosixPath('../data/catchments/subcatchments/fid_737.gpkg'), PosixPath('../data/catchments/subcatchments/fid_408.gpkg'), PosixPath('../data/catchments/subcatchments/fid_42.gpkg'), PosixPath('../data/catchments/subcatchments/fid_633.gpkg'), PosixPath('../data/catchments/subcatchments/fid_1113.gpkg'), PosixPath('../data/catchments/subcatchments/fid_701.gpkg'), PosixPath('../data/catchments/subcatchments/fid_1021.gpkg'), PosixPath('../data/catchments/subcatchments/fid_428.gpkg'), PosixPath('../data/catchments/subcatchments/fid_1076.gpkg'), PosixPath('../data/catchments/subcatchments/fid_613.gpkg'), PosixPath('../data/catchments/subcatchments/fid_605.gpkg'), PosixPath('../data/catchments/subcatchments/fid_828.gpkg'), PosixPath('../data/catchments/subcatchments/fid_629.gpkg'), PosixPath('../data/catchments/subcatchments/fid_296.gpkg'), PosixPath('../data/catchments/subcatchments/fid_1220.gpkg'), PosixPath('../data/catchments/subcatchments/fid_853.gpkg'), PosixPath('../data/catchments/subcatchments/fid_668.gpkg'), PosixPath('../data/catchments/subcatchments/fid_795.gpkg'), PosixPath('../data/catchments/subcatchments/fid_900.gpkg'), PosixPath('../data/catchments/subcatchments/fid_845.gpkg'), PosixPath('../data/catchments/subcatchments/fid_1236.gpkg'), PosixPath('../data/catchments/subcatchments/fid_1114.gpkg'), PosixPath('../data/catchments/subcatchments/fid_458.gpkg'), PosixPath('../data/catchments/subcatchments/fid_1378.gpkg'), PosixPath('../data/catchments/subcatchments/fid_376.gpkg'), PosixPath('../data/catchments/subcatchments/fid_12.gpkg'), PosixPath('../data/catchments/subcatchments/fid_819.gpkg'), PosixPath('../data/catchments/subcatchments/fid_675.gpkg'), PosixPath('../data/catchments/subcatchments/fid_1913.gpkg'), PosixPath('../data/catchments/subcatchments/fid_1769.gpkg'), PosixPath('../data/catchments/subcatchments/fid_622.gpkg'), PosixPath('../data/catchments/subcatchments/fid_788.gpkg'), PosixPath('../data/catchments/subcatchments/fid_272.gpkg'), PosixPath('../data/catchments/subcatchments/fid_767.gpkg'), PosixPath('../data/catchments/subcatchments/fid_337.gpkg'), PosixPath('../data/catchments/subcatchments/fid_1745.gpkg'), PosixPath('../data/catchments/subcatchments/fid_1968.gpkg'), PosixPath('../data/catchments/subcatchments/fid_1987.gpkg'), PosixPath('../data/catchments/subcatchments/fid_874.gpkg'), PosixPath('../data/catchments/subcatchments/fid_1207.gpkg'), PosixPath('../data/catchments/subcatchments/fid_527.gpkg'), PosixPath('../data/catchments/subcatchments/fid_618.gpkg'), PosixPath('../data/catchments/subcatchments/fid_161.gpkg'), PosixPath('../data/catchments/subcatchments/fid_1883.gpkg'), PosixPath('../data/catchments/subcatchments/fid_423.gpkg'), PosixPath('../data/catchments/subcatchments/fid_638.gpkg'), PosixPath('../data/catchments/subcatchments/fid_403.gpkg'), PosixPath('../data/catchments/subcatchments/fid_950.gpkg'), PosixPath('../data/catchments/subcatchments/fid_1266.gpkg'), PosixPath('../data/catchments/subcatchments/fid_1909.gpkg'), PosixPath('../data/catchments/subcatchments/fid_946.gpkg'), PosixPath('../data/catchments/subcatchments/fid_415.gpkg'), PosixPath('../data/catchments/subcatchments/fid_854.gpkg'), PosixPath('../data/catchments/subcatchments/fid_784.gpkg'), PosixPath('../data/catchments/subcatchments/fid_439.gpkg'), PosixPath('../data/catchments/subcatchments/fid_340.gpkg'), PosixPath('../data/catchments/subcatchments/fid_194.gpkg'), PosixPath('../data/catchments/subcatchments/fid_614.gpkg'), PosixPath('../data/catchments/subcatchments/fid_839.gpkg'), PosixPath('../data/catchments/subcatchments/fid_356.gpkg'), PosixPath('../data/catchments/subcatchments/fid_1027.gpkg'), PosixPath('../data/catchments/subcatchments/fid_357.gpkg'), PosixPath('../data/catchments/subcatchments/fid_1924.gpkg'), PosixPath('../data/catchments/subcatchments/fid_838.gpkg'), PosixPath('../data/catchments/subcatchments/fid_615.gpkg'), PosixPath('../data/catchments/subcatchments/fid_746.gpkg'), PosixPath('../data/catchments/subcatchments/fid_341.gpkg'), PosixPath('../data/catchments/subcatchments/fid_443.gpkg'), PosixPath('../data/catchments/subcatchments/fid_1226.gpkg'), PosixPath('../data/catchments/subcatchments/fid_697.gpkg'), PosixPath('../data/catchments/subcatchments/fid_639.gpkg'), PosixPath('../data/catchments/subcatchments/fid_793.gpkg'), PosixPath('../data/catchments/subcatchments/fid_269.gpkg'), PosixPath('../data/catchments/subcatchments/fid_455.gpkg'), PosixPath('../data/catchments/subcatchments/fid_843.gpkg'), PosixPath('../data/catchments/subcatchments/fid_422.gpkg'), PosixPath('../data/catchments/subcatchments/fid_530.gpkg'), PosixPath('../data/catchments/subcatchments/fid_619.gpkg'), PosixPath('../data/catchments/subcatchments/fid_875.gpkg'), PosixPath('../data/catchments/subcatchments/fid_1251.gpkg'), PosixPath('../data/catchments/subcatchments/fid_434.gpkg'), PosixPath('../data/catchments/subcatchments/fid_1894.gpkg'), PosixPath('../data/catchments/subcatchments/fid_623.gpkg'), PosixPath('../data/catchments/subcatchments/fid_273.gpkg'), PosixPath('../data/catchments/subcatchments/fid_336.gpkg'), PosixPath('../data/catchments/subcatchments/fid_13.gpkg'), PosixPath('../data/catchments/subcatchments/fid_398.gpkg'), PosixPath('../data/catchments/subcatchments/fid_377.gpkg'), PosixPath('../data/catchments/subcatchments/fid_459.gpkg'), PosixPath('../data/catchments/subcatchments/fid_635.gpkg'), PosixPath('../data/catchments/subcatchments/fid_421.gpkg'), PosixPath('../data/catchments/subcatchments/fid_837.gpkg'), PosixPath('../data/catchments/subcatchments/fid_358.gpkg'), PosixPath('../data/catchments/subcatchments/fid_708.gpkg'), PosixPath('../data/catchments/subcatchments/fid_933.gpkg'), PosixPath('../data/catchments/subcatchments/fid_876.gpkg'), PosixPath('../data/catchments/subcatchments/fid_1086.gpkg'), PosixPath('../data/catchments/subcatchments/fid_319.gpkg'), PosixPath('../data/catchments/subcatchments/fid_821.gpkg'), PosixPath('../data/catchments/subcatchments/fid_1878.gpkg'), PosixPath('../data/catchments/subcatchments/fid_765.gpkg'), PosixPath('../data/catchments/subcatchments/fid_620.gpkg'), PosixPath('../data/catchments/subcatchments/fid_270.gpkg'), PosixPath('../data/catchments/subcatchments/fid_2002.gpkg'), PosixPath('../data/catchments/subcatchments/fid_948.gpkg'), PosixPath('../data/catchments/subcatchments/fid_698.gpkg'), PosixPath('../data/catchments/subcatchments/fid_1854.gpkg'), PosixPath('../data/catchments/subcatchments/fid_1792.gpkg'), PosixPath('../data/catchments/subcatchments/fid_374.gpkg'), PosixPath('../data/catchments/subcatchments/fid_704.gpkg'), PosixPath('../data/catchments/subcatchments/fid_616.gpkg'), PosixPath('../data/catchments/subcatchments/fid_753.gpkg'), PosixPath('../data/catchments/subcatchments/fid_600.gpkg'), PosixPath('../data/catchments/subcatchments/fid_315.gpkg'), PosixPath('../data/catchments/subcatchments/fid_1209.gpkg'), PosixPath('../data/catchments/subcatchments/fid_339.gpkg'), PosixPath('../data/catchments/subcatchments/fid_440.gpkg'), PosixPath('../data/catchments/subcatchments/fid_694.gpkg'), PosixPath('../data/catchments/subcatchments/fid_1272.gpkg'), PosixPath('../data/catchments/subcatchments/fid_417.gpkg'), PosixPath('../data/catchments/subcatchments/fid_840.gpkg'), PosixPath('../data/catchments/subcatchments/fid_841.gpkg'), PosixPath('../data/catchments/subcatchments/fid_904.gpkg'), PosixPath('../data/catchments/subcatchments/fid_379.gpkg'), PosixPath('../data/catchments/subcatchments/fid_416.gpkg'), PosixPath('../data/catchments/subcatchments/fid_945.gpkg'), PosixPath('../data/catchments/subcatchments/fid_695.gpkg'), PosixPath('../data/catchments/subcatchments/fid_441.gpkg'), PosixPath('../data/catchments/subcatchments/fid_1048.gpkg'), PosixPath('../data/catchments/subcatchments/fid_787.gpkg'), PosixPath('../data/catchments/subcatchments/fid_206.gpkg'), PosixPath('../data/catchments/subcatchments/fid_528.gpkg'), PosixPath('../data/catchments/subcatchments/fid_251.gpkg'), PosixPath('../data/catchments/subcatchments/fid_928.gpkg'), PosixPath('../data/catchments/subcatchments/fid_617.gpkg'), PosixPath('../data/catchments/subcatchments/fid_1249.gpkg'), PosixPath('../data/catchments/subcatchments/fid_990.gpkg'), PosixPath('../data/catchments/subcatchments/fid_640.gpkg'), PosixPath('../data/catchments/subcatchments/fid_705.gpkg'), PosixPath('../data/catchments/subcatchments/fid_355.gpkg'), PosixPath('../data/catchments/subcatchments/fid_267.gpkg'), PosixPath('../data/catchments/subcatchments/fid_908.gpkg'), PosixPath('../data/catchments/subcatchments/fid_1286.gpkg'), PosixPath('../data/catchments/subcatchments/fid_676.gpkg'), PosixPath('../data/catchments/subcatchments/fid_1156.gpkg'), PosixPath('../data/catchments/subcatchments/fid_949.gpkg'), PosixPath('../data/catchments/subcatchments/fid_334.gpkg'), PosixPath('../data/catchments/subcatchments/fid_1947.gpkg'), PosixPath('../data/catchments/subcatchments/fid_1101.gpkg'), PosixPath('../data/catchments/subcatchments/fid_436.gpkg'), PosixPath('../data/catchments/subcatchments/fid_820.gpkg'), PosixPath('../data/catchments/subcatchments/fid_1091.gpkg'), PosixPath('../data/catchments/subcatchments/fid_1992.gpkg'), PosixPath('../data/catchments/subcatchments/fid_359.gpkg'), PosixPath('../data/catchments/subcatchments/fid_709.gpkg'), PosixPath('../data/catchments/subcatchments/fid_420.gpkg'), PosixPath('../data/catchments/subcatchments/fid_836.gpkg'), PosixPath('../data/catchments/subcatchments/fid_352.gpkg'), PosixPath('../data/catchments/subcatchments/fid_1130.gpkg'), PosixPath('../data/catchments/subcatchments/fid_610.gpkg'), PosixPath('../data/catchments/subcatchments/fid_1976.gpkg'), PosixPath('../data/catchments/subcatchments/fid_885.gpkg'), PosixPath('../data/catchments/subcatchments/fid_313.gpkg'), PosixPath('../data/catchments/subcatchments/fid_1937.gpkg'), PosixPath('../data/catchments/subcatchments/fid_597.gpkg'), PosixPath('../data/catchments/subcatchments/fid_981.gpkg'), PosixPath('../data/catchments/subcatchments/fid_1223.gpkg'), PosixPath('../data/catchments/subcatchments/fid_446.gpkg'), PosixPath('../data/catchments/subcatchments/fid_368.gpkg'), PosixPath('../data/catchments/subcatchments/fid_411.gpkg'), PosixPath('../data/catchments/subcatchments/fid_391.gpkg'), PosixPath('../data/catchments/subcatchments/fid_407.gpkg'), PosixPath('../data/catchments/subcatchments/fid_329.gpkg'), PosixPath('../data/catchments/subcatchments/fid_796.gpkg'), PosixPath('../data/catchments/subcatchments/fid_1665.gpkg'), PosixPath('../data/catchments/subcatchments/fid_866.gpkg'), PosixPath('../data/catchments/subcatchments/fid_1995.gpkg'), PosixPath('../data/catchments/subcatchments/fid_1096.gpkg'), PosixPath('../data/catchments/subcatchments/fid_759.gpkg'), PosixPath('../data/catchments/subcatchments/fid_718.gpkg'), PosixPath('../data/catchments/subcatchments/fid_348.gpkg'), PosixPath('../data/catchments/subcatchments/fid_919.gpkg'), PosixPath('../data/catchments/subcatchments/fid_57.gpkg'), PosixPath('../data/catchments/subcatchments/fid_333.gpkg'), PosixPath('../data/catchments/subcatchments/fid_2004.gpkg'), PosixPath('../data/catchments/subcatchments/fid_1917.gpkg'), PosixPath('../data/catchments/subcatchments/fid_958.gpkg'), PosixPath('../data/catchments/subcatchments/fid_372.gpkg'), PosixPath('../data/catchments/subcatchments/fid_325.gpkg'), PosixPath('../data/catchments/subcatchments/fid_630.gpkg'), PosixPath('../data/catchments/subcatchments/fid_631.gpkg'), PosixPath('../data/catchments/subcatchments/fid_1900.gpkg'), PosixPath('../data/catchments/subcatchments/fid_689.gpkg'), PosixPath('../data/catchments/subcatchments/fid_373.gpkg'), PosixPath('../data/catchments/subcatchments/fid_666.gpkg'), PosixPath('../data/catchments/subcatchments/fid_365.gpkg'), PosixPath('../data/catchments/subcatchments/fid_220.gpkg'), PosixPath('../data/catchments/subcatchments/fid_762.gpkg'), PosixPath('../data/catchments/subcatchments/fid_332.gpkg'), PosixPath('../data/catchments/subcatchments/fid_627.gpkg'), PosixPath('../data/catchments/subcatchments/fid_277.gpkg'), PosixPath('../data/catchments/subcatchments/fid_1107.gpkg'), PosixPath('../data/catchments/subcatchments/fid_934.gpkg'), PosixPath('../data/catchments/subcatchments/fid_871.gpkg'), PosixPath('../data/catchments/subcatchments/fid_144.gpkg'), PosixPath('../data/catchments/subcatchments/fid_328.gpkg'), PosixPath('../data/catchments/subcatchments/fid_955.gpkg'), PosixPath('../data/catchments/subcatchments/fid_739.gpkg'), PosixPath('../data/catchments/subcatchments/fid_693.gpkg'), PosixPath('../data/catchments/subcatchments/fid_851.gpkg'), PosixPath('../data/catchments/subcatchments/fid_596.gpkg'), PosixPath('../data/catchments/subcatchments/fid_1259.gpkg'), PosixPath('../data/catchments/subcatchments/fid_1520.gpkg'), PosixPath('../data/catchments/subcatchments/fid_650.gpkg'), PosixPath('../data/catchments/subcatchments/fid_938.gpkg'), PosixPath('../data/catchments/subcatchments/fid_742.gpkg'), PosixPath('../data/catchments/subcatchments/fid_884.gpkg'), PosixPath('../data/catchments/subcatchments/fid_1218.gpkg'), PosixPath('../data/catchments/subcatchments/fid_1131.gpkg'), PosixPath('../data/catchments/subcatchments/fid_1977.gpkg'), PosixPath('../data/catchments/subcatchments/fid_1424.gpkg'), PosixPath('../data/catchments/subcatchments/fid_703.gpkg'), PosixPath('../data/catchments/subcatchments/fid_1920.gpkg')]\n"
     ]
    }
   ],
   "source": [
    "path_data_folder = Path(r\"../data/catchments\")\n",
    "path_subcatchments = path_data_folder.joinpath(r\"subcatchments\")\n",
    "path_strahler = path_data_folder.joinpath(r\"strahler_tana.map\")\n",
    "path_save_new_shapefiles = path_data_folder.joinpath(r\"subcatchments_strahler\")\n",
    "\n",
    "shapefiles_fnames = list(path_subcatchments.glob(\"*.gpkg\"))\n",
    "\n",
    "print(shapefiles_fnames)\n",
    "N = len(shapefiles_fnames)\n",
    "\n",
    "# test = shapefiles_fnames[0]\n",
    "# print(test.name)"
   ]
  },
  {
   "cell_type": "code",
   "execution_count": 4,
   "metadata": {},
   "outputs": [
    {
     "name": "stdout",
     "output_type": "stream",
     "text": [
      "0/263\n",
      "100/263\n",
      "200/263\n"
     ]
    }
   ],
   "source": [
    "execute = True\n",
    "\n",
    "if execute:\n",
    "    # Open the raster file\n",
    "    with rasterio.open(path_strahler) as src:\n",
    "        for i, subcatchment in enumerate(shapefiles_fnames):\n",
    "            gdf = gpd.read_file(subcatchment)\n",
    "            for idx, row in gdf.iterrows():\n",
    "                # Extract the geometry of the shape\n",
    "                geom = row.geometry\n",
    "\n",
    "                clipped_river, out_transform = mask(src, [geom], crop=True)\n",
    "                \n",
    "                clipped_river[clipped_river <= 8] = 0\n",
    "                strahler_numbers, counts = np.unique(clipped_river, return_counts=True)\n",
    "\n",
    "                # Add the count as a new attribute to the shapefile\n",
    "                gdf.loc[idx, 'strahler'] = max(strahler_numbers)\n",
    "\n",
    "            # Save the updated shapefile\n",
    "            gdf.to_file(path_save_new_shapefiles.joinpath(f\"fid_{i}.gpkg\"), driver=\"GPKG\")\n",
    "\n",
    "            if i%100 == 0:\n",
    "                print(f\"{i}/{N}\")"
   ]
  },
  {
   "cell_type": "markdown",
   "metadata": {},
   "source": [
    "If we want to save the neighbouring filenames:"
   ]
  },
  {
   "cell_type": "code",
   "execution_count": 5,
   "metadata": {},
   "outputs": [
    {
     "name": "stdout",
     "output_type": "stream",
     "text": [
      "Initialized list of geodataframes...\n",
      "0/263\n",
      "100/263\n",
      "200/263\n"
     ]
    }
   ],
   "source": [
    "execute = True\n",
    "\n",
    "if execute:\n",
    "    # Read all shapefiles into a list of GeoDataFrames\n",
    "    shapefiles_fnames = list(path_save_new_shapefiles.glob(\"*.gpkg\"))\n",
    "    shapefiles = [gpd.read_file(shapefile) for shapefile in shapefiles_fnames]\n",
    "\n",
    "    print(\"Initialized list of geodataframes...\")\n",
    "\n",
    "    # Create a dictionary to store neighboring shapefiles for each shapefile\n",
    "    neighboring_shapefiles = dict()\n",
    "\n",
    "    # Iterate over each shapefile\n",
    "    for idx, shapefile in enumerate(shapefiles):\n",
    "        # Remove the current shapefile from the list\n",
    "        other_shapefiles_fnames = shapefiles_fnames[:idx] + shapefiles_fnames[idx+1:]\n",
    "        other_shapefiles = shapefiles[:idx] + shapefiles[idx+1:]\n",
    "        \n",
    "        # Get the geometry of the current shapefile\n",
    "        geometry = shapefile.geometry.unary_union\n",
    "        \n",
    "        # Initialize a list to store neighboring shapefiles\n",
    "        neighbors = []\n",
    "        \n",
    "        # Iterate over the other shapefiles to find neighbors\n",
    "        for idy, other_shapefile in enumerate(other_shapefiles):\n",
    "            # Check if any geometry of other_shapefile intersects with the geometry of shapefile\n",
    "            if any(geometry.intersects(other_geometry) for other_geometry in other_shapefile.geometry):\n",
    "                neighbors.append(shapefiles_fnames[idy].name)\n",
    "        \n",
    "        # Store the neighboring shapefiles for the current shapefile\n",
    "        neighboring_shapefiles[shapefiles_fnames[idx].name] = neighbors\n",
    "        if idx%100 == 0:\n",
    "            print(f\"{idx}/{N}\")"
   ]
  },
  {
   "cell_type": "code",
   "execution_count": 5,
   "metadata": {},
   "outputs": [],
   "source": [
    "# pprint(neighboring_shapefiles)"
   ]
  },
  {
   "cell_type": "code",
   "execution_count": 6,
   "metadata": {},
   "outputs": [
    {
     "name": "stdout",
     "output_type": "stream",
     "text": [
      "YAML file saved.\n"
     ]
    }
   ],
   "source": [
    "file=open(path_data_folder.joinpath(Path(\"neighbours.yaml\")),\"w\")\n",
    "yaml.dump(neighboring_shapefiles,file)\n",
    "file.close()\n",
    "print(\"YAML file saved.\")"
   ]
  },
  {
   "cell_type": "markdown",
   "metadata": {},
   "source": [
    "Now we filter on strahler number. We only save the one with the heighest strahler number:"
   ]
  },
  {
   "cell_type": "code",
   "execution_count": 7,
   "metadata": {},
   "outputs": [
    {
     "name": "stdout",
     "output_type": "stream",
     "text": [
      "0/263\n",
      "100/263\n",
      "200/263\n"
     ]
    }
   ],
   "source": [
    "downstream_catchments = dict()\n",
    "\n",
    "for i, key in enumerate(neighboring_shapefiles.keys()):\n",
    "    subc = gpd.read_file(path_save_new_shapefiles.joinpath(key))\n",
    "\n",
    "    neighbouring_subc = neighboring_shapefiles[key]\n",
    "\n",
    "    if len(neighbouring_subc)==0:\n",
    "        pass\n",
    "    else:\n",
    "        gdf_list = [\n",
    "            gpd.read_file(path_save_new_shapefiles.joinpath(item))\n",
    "                    for item in neighbouring_subc]\n",
    "        strahler_numbers = []\n",
    "        for gdf in gdf_list:\n",
    "            for idx, row in gdf.iterrows():\n",
    "                # Extract the geometry of the shape\n",
    "                # geom = row.geometry.strahler\n",
    "\n",
    "                strahler_numbers.append(row[\"strahler\"])\n",
    "\n",
    "        downstream_catchments[key] = neighbouring_subc[np.argmax(strahler_numbers)]\n",
    "    \n",
    "    if i%100 == 0:\n",
    "        print(f\"{i}/{N}\")"
   ]
  },
  {
   "cell_type": "code",
   "execution_count": 8,
   "metadata": {},
   "outputs": [
    {
     "name": "stdout",
     "output_type": "stream",
     "text": [
      "YAML file saved.\n"
     ]
    }
   ],
   "source": [
    "file=open(path_data_folder.joinpath(Path(\"downstream_catchments.yaml\")),\"w\")\n",
    "yaml.dump(downstream_catchments, file)\n",
    "file.close()\n",
    "print(\"YAML file saved.\")"
   ]
  },
  {
   "cell_type": "code",
   "execution_count": null,
   "metadata": {},
   "outputs": [],
   "source": []
  }
 ],
 "metadata": {
  "kernelspec": {
   "display_name": "Python 3 (ipykernel)",
   "language": "python",
   "name": "python3"
  },
  "language_info": {
   "codemirror_mode": {
    "name": "ipython",
    "version": 3
   },
   "file_extension": ".py",
   "mimetype": "text/x-python",
   "name": "python",
   "nbconvert_exporter": "python",
   "pygments_lexer": "ipython3",
   "version": "3.11.5"
  }
 },
 "nbformat": 4,
 "nbformat_minor": 2
}
