{
 "cells": [
  {
   "cell_type": "code",
   "execution_count": 31,
   "id": "11b5e8bb",
   "metadata": {},
   "outputs": [],
   "source": [
    "import numpy as np\n",
    "import pandas as pd\n",
    "import matplotlib.pyplot as plt\n",
    "import glob\n",
    "import os.path\n",
    "import pathlib\n",
    "import platform \n",
    "import xarray as xr"
   ]
  },
  {
   "cell_type": "code",
   "execution_count": 32,
   "id": "a2db61bf",
   "metadata": {},
   "outputs": [
    {
     "name": "stdout",
     "output_type": "stream",
     "text": [
      "Welcome Mats , have a wonderful day on your Darwin machine. Your data should be located in /Users/matskerver/Documents/data_tana/TAHMO/location_tahmo\n"
     ]
    }
   ],
   "source": [
    "cwd = pathlib.Path().resolve()\n",
    "src = cwd.parent\n",
    "data = src.parent.parent.parent\n",
    "OS_type = platform.system()\n",
    "if OS_type == 'Darwin':\n",
    "    username = 'Mats '\n",
    "    data_path = os.path.join(data, 'data_tana', 'TAHMO', 'location_tahmo')\n",
    "    data_path_location = os.path.join(data, 'data_tana')\n",
    "    data_path_netcdf = os.path.join(data_path_location, 'TAHMO', 'interpolated')\n",
    "    \n",
    "else:\n",
    "    username = 'Mootje'\n",
    "    data_path = os.path.join(data, 'OneDrive - Delft University of Technology', 'TU Delft', 'Master ENVM', 'MDP', 'Model', 'Data', 'TAHMO')\n",
    "    data_path_location = os.path.join(data, 'OneDrive - Delft University of Technology', 'TU Delft', 'Master ENVM', 'MDP', 'Model', 'Data')\n",
    "\n",
    "print(f\"Welcome {username}, have a wonderful day on your {OS_type} machine. Your data should be located in {data_path}\")"
   ]
  },
  {
   "cell_type": "code",
   "execution_count": 33,
   "id": "1c3e1f7b",
   "metadata": {},
   "outputs": [],
   "source": [
    "netcdf_file = 'kriging_results_evap.nc'\n",
    "ds = xr.open_dataset(os.path.join(data_path_netcdf, netcdf_file))\n"
   ]
  },
  {
   "cell_type": "code",
   "execution_count": 34,
   "id": "a59ec4b1",
   "metadata": {},
   "outputs": [],
   "source": [
    "def calculate_evaporation_average(ds):\n",
    "    average_evap = ds_trim['evap'].mean().values\n",
    "    return average_evap"
   ]
  },
  {
   "cell_type": "code",
   "execution_count": 35,
   "id": "6596ce4f",
   "metadata": {},
   "outputs": [
    {
     "name": "stdout",
     "output_type": "stream",
     "text": [
      "The used dataset contained 525 timestamps with potential invalid data.\n",
      "It contained 1666 timestamps where no anomalies were detected.\n",
      "Proceeding to remove these values...\n",
      "Removed 525 values correctly, checking new dataset...\n",
      "No negative values detected, proceeding to average evaporation value\n",
      "Completed. The average evaporation data for this dataset is 0.41639290443606647 mm/day\n"
     ]
    }
   ],
   "source": [
    "# Define the variable and time range\n",
    "variable = 'evap'\n",
    "\n",
    "\n",
    "# List to store image file paths\n",
    "file_paths = []\n",
    "cleaning = True\n",
    "\n",
    "while cleaning: \n",
    "    \n",
    "    time_indices = range(0, ds.dims['time'], 1)  # Adjust the step based on your needs\n",
    "    yes = 0\n",
    "    no = 0\n",
    "    timestamps = []\n",
    "    \n",
    "    for time_index in time_indices:\n",
    "        selected_data = ds.isel(time=time_index)\n",
    "        data_array = selected_data[variable]\n",
    "\n",
    "        # Check for NaN values in the current data_array\n",
    "        nan_check = data_array.isnull()\n",
    "\n",
    "        # Check for any values smaller than zero in the current data_array\n",
    "        negative_check = data_array < 0\n",
    "\n",
    "        # Determine if there are any NaN or negative values in the DataArray\n",
    "        has_nan = nan_check.any()\n",
    "        has_negative = negative_check.any()\n",
    "\n",
    "        # Print data_array only if it has NaN values or negative values\n",
    "        if has_nan.values or has_negative.values:\n",
    "            timestamps.append(time_index)\n",
    "            yes += 1\n",
    "        else: \n",
    "            no += 1\n",
    "    \n",
    "    if (yes == 0):\n",
    "        cleaning = False\n",
    "        print(f'No negative values detected, proceeding to average evaporation value')\n",
    "        average_evap = calculate_evaporation_average(ds)\n",
    "        print(f'Completed. The average evaporation data for this dataset is {average_evap}mm/day')\n",
    "        break;\n",
    "    print(f'The used dataset contained {yes} timestamps with potential invalid data.')\n",
    "    print(f'It contained {no} timestamps where no anomalies were detected.')\n",
    "    print('Proceeding to remove these values...')\n",
    "\n",
    "    mask = ~np.isin(range(ds.dims['time']), timestamps)\n",
    "\n",
    "    # Use this mask to select data from the original dataset\n",
    "    ds_trim = ds.isel(time=mask)\n",
    "    ds = ds_trim\n",
    "\n",
    "    print(f'Removed {yes} values correctly, checking new dataset...')"
   ]
  },
  {
   "cell_type": "code",
   "execution_count": 28,
   "id": "5abb781a",
   "metadata": {},
   "outputs": [
    {
     "name": "stdout",
     "output_type": "stream",
     "text": [
      "<xarray.Dataset>\n",
      "Dimensions:    (time: 1666, latitude: 120, longitude: 120)\n",
      "Coordinates:\n",
      "  * time       (time) datetime64[ns] 2018-01-01 2018-01-02 ... 2023-12-31\n",
      "  * latitude   (latitude) float64 -4.0 -3.95 -3.9 -3.85 ... 1.8 1.85 1.9 1.95\n",
      "  * longitude  (longitude) float64 36.0 36.05 36.1 36.15 ... 41.85 41.9 41.95\n",
      "Data variables:\n",
      "    evap       (time, latitude, longitude) float64 ...\n"
     ]
    }
   ],
   "source": [
    "print(ds)"
   ]
  },
  {
   "cell_type": "code",
   "execution_count": null,
   "id": "aced61f6",
   "metadata": {},
   "outputs": [],
   "source": []
  }
 ],
 "metadata": {
  "kernelspec": {
   "display_name": "Python 3 (ipykernel)",
   "language": "python",
   "name": "python3"
  },
  "language_info": {
   "codemirror_mode": {
    "name": "ipython",
    "version": 3
   },
   "file_extension": ".py",
   "mimetype": "text/x-python",
   "name": "python",
   "nbconvert_exporter": "python",
   "pygments_lexer": "ipython3",
   "version": "3.11.5"
  }
 },
 "nbformat": 4,
 "nbformat_minor": 5
}
