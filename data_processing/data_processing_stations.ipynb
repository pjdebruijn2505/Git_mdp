{
 "cells": [
  {
   "cell_type": "code",
   "execution_count": 14,
   "metadata": {},
   "outputs": [],
   "source": [
    "import numpy as np\n",
    "import pandas as pd\n",
    "import pathlib\n",
    "import matplotlib as mpl\n",
    "import matplotlib.pyplot as plt\n",
    "import sys\n",
    "import os.path\n",
    "from matplotlib.ticker import MaxNLocator\n",
    "import warnings"
   ]
  },
  {
   "cell_type": "code",
   "execution_count": 31,
   "metadata": {},
   "outputs": [
    {
     "name": "stdout",
     "output_type": "stream",
     "text": [
      "['Sheet1', 'Sheet3', 'Sheet4', 'Sheet5', 'Sheet6', 'Sheet7', 'Sheet8', 'Sheet9', 'Sheet10', 'Sheet11', 'Sheet12', 'Sheet15', 'Sheet17', 'Sheet18', 'Sheet25', 'Sheet26', 'Sheet29', 'Sheet31', 'Sheet32', 'Sheet36', 'Sheet37', 'Sheet41', 'Sheet43', 'Sheet46', 'Sheet49', 'Sheet50', 'Sheet52', 'Sheet68']\n"
     ]
    }
   ],
   "source": [
    "cwd = pathlib.Path().resolve()\n",
    "src = cwd.parent\n",
    "\n",
    "# Replace with your own directory path\n",
    "root = src.parent\n",
    "data = src.parent.parent.parent\n",
    "data_path = os.path.join(os.path.join(data, 'data_tana'), 'other_stations')\n",
    "\n",
    "sys.path.append(str(src))\n",
    "sys.path.append(str(root))\n",
    "sys.path.append(str(data_path))\n",
    "\n",
    "path = os.path.join(data_path, 'Tana_data.xlsx')\n",
    "sheet = pd.ExcelFile(path)\n",
    "sheetlist = sheet.sheet_names\n",
    "print(sheetlist)"
   ]
  },
  {
   "cell_type": "code",
   "execution_count": 26,
   "metadata": {},
   "outputs": [],
   "source": [
    "def get_station_name(df):\n",
    "    column_index = 1\n",
    "    column_names = df.columns.tolist()\n",
    "    column_name = column_names[column_index]\n",
    "    parts = column_name.split('-')\n",
    "    extracted_name = parts[0].strip()  \n",
    "    return extracted_name"
   ]
  },
  {
   "cell_type": "code",
   "execution_count": 36,
   "metadata": {},
   "outputs": [
    {
     "name": "stdout",
     "output_type": "stream",
     "text": [
      "['4BD01 MATHIOYA', '4BC04 RWAMUTHAMBI', '4BE10 TANA RUKANGA', '4BB01 RAGATI', '4AC03 SAGANA', '4AA05 SAGANA', '4AB06 AMBONI', '4AC04 NEW CHANIA', '4AA04 NAIROBI', '4AA02 THEGO', '4AA01 SAGANA', '4AB01 MURINGATO', '4BC05 RWAMUTHAMBI', '4BE04 KAYAHWE', '4CB04 THIKA', '4BF01 SABA SABA', '4AD01 GURA', '4BD07 MATHIOYA', '4BE01 MARAGUA', '4CA03 CHANIA', '4CA19 KARIMINU', '4DA14 KAMWETI', '4DA13 KIRINGA', '4DB05 NYAMINDI', '4DA10 THIBA', '4BC05 RWAMUTHAMBI', '4DD02 THIBA', '4EA03 KITHINO RIVER']\n"
     ]
    }
   ],
   "source": [
    "names_stations = []\n",
    "for name in sheetlist:    \n",
    "    df = sheet.parse(name)\n",
    "    names_stations.append(get_station_name(df))\n",
    "    #print(get_name)\n",
    "\n",
    "print(names_stations)\n",
    "#print(get_station_name(df))\n",
    "\n",
    "#df.info()"
   ]
  },
  {
   "cell_type": "code",
   "execution_count": null,
   "metadata": {},
   "outputs": [],
   "source": []
  }
 ],
 "metadata": {
  "kernelspec": {
   "display_name": "Python 3 (ipykernel)",
   "language": "python",
   "name": "python3"
  },
  "language_info": {
   "codemirror_mode": {
    "name": "ipython",
    "version": 3
   },
   "file_extension": ".py",
   "mimetype": "text/x-python",
   "name": "python",
   "nbconvert_exporter": "python",
   "pygments_lexer": "ipython3",
   "version": "3.11.5"
  }
 },
 "nbformat": 4,
 "nbformat_minor": 1
}