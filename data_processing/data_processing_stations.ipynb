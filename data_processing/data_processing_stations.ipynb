{
 "cells": [
  {
   "cell_type": "code",
   "execution_count": 6,
   "metadata": {},
   "outputs": [],
   "source": [
    "import numpy as np\n",
    "import pandas as pd\n",
    "import pathlib\n",
    "import matplotlib as mpl\n",
    "import matplotlib.pyplot as plt\n",
    "import sys\n",
    "import os.path\n",
    "from matplotlib.ticker import MaxNLocator\n",
    "import warnings"
   ]
  },
  {
   "cell_type": "code",
   "execution_count": 7,
   "metadata": {},
   "outputs": [
    {
     "name": "stdout",
     "output_type": "stream",
     "text": [
      "['Sheet1', 'Sheet3', 'Sheet4', 'Sheet5', 'Sheet6', 'Sheet7', 'Sheet8', 'Sheet9', 'Sheet10', 'Sheet11', 'Sheet12', 'Sheet15', 'Sheet17', 'Sheet18', 'Sheet25', 'Sheet26', 'Sheet29', 'Sheet31', 'Sheet32', 'Sheet36', 'Sheet37', 'Sheet41', 'Sheet43', 'Sheet46', 'Sheet49', 'Sheet50', 'Sheet52', 'Sheet68']\n"
     ]
    }
   ],
   "source": [
    "cwd = pathlib.Path().resolve()\n",
    "src = cwd.parent\n",
    "\n",
    "# Replace with your own directory path\n",
    "root = src.parent\n",
    "data = src.parent.parent.parent\n",
    "data_path = os.path.join(os.path.join(data, 'data_tana'), 'other_stations')\n",
    "\n",
    "sys.path.append(str(src))\n",
    "sys.path.append(str(root))\n",
    "sys.path.append(str(data_path))\n",
    "\n",
    "path = os.path.join(data_path, 'Tana_data.xlsx')\n",
    "sheet = pd.ExcelFile(path)\n",
    "sheetlist = sheet.sheet_names\n",
    "print(sheetlist)"
   ]
  },
  {
   "cell_type": "code",
   "execution_count": 8,
   "metadata": {},
   "outputs": [],
   "source": [
    "def get_station_name(df):\n",
    "    column_index = 1\n",
    "    column_names = df.columns.tolist()\n",
    "    column_name = column_names[column_index]\n",
    "    parts = column_name.split('-')\n",
    "    extracted_name = parts[0].strip()  \n",
    "    return extracted_name"
   ]
  },
  {
   "cell_type": "code",
   "execution_count": 9,
   "metadata": {},
   "outputs": [
    {
     "name": "stdout",
     "output_type": "stream",
     "text": [
      "['4BD01 MATHIOYA', '4BC04 RWAMUTHAMBI', '4BE10 TANA RUKANGA', '4BB01 RAGATI', '4AC03 SAGANA', '4AA05 SAGANA', '4AB06 AMBONI', '4AC04 NEW CHANIA', '4AA04 NAIROBI', '4AA02 THEGO', '4AA01 SAGANA', '4AB01 MURINGATO', '4BC05 RWAMUTHAMBI', '4BE04 KAYAHWE', '4CB04 THIKA', '4BF01 SABA SABA', '4AD01 GURA', '4BD07 MATHIOYA', '4BE01 MARAGUA', '4CA03 CHANIA', '4CA19 KARIMINU', '4DA14 KAMWETI', '4DA13 KIRINGA', '4DB05 NYAMINDI', '4DA10 THIBA', '4BC05 RWAMUTHAMBI', '4DD02 THIBA', '4EA03 KITHINO RIVER']\n"
     ]
    }
   ],
   "source": [
    "names_stations = []\n",
    "for name in sheetlist:    \n",
    "    df = sheet.parse(name)\n",
    "    names_stations.append(get_station_name(df))\n",
    "    #print(get_name)\n",
    "\n",
    "print(names_stations)\n",
    "#print(get_station_name(df))\n",
    "\n",
    "#df.info()"
   ]
  },
  {
   "cell_type": "code",
   "execution_count": 12,
   "metadata": {},
   "outputs": [
    {
     "ename": "ValueError",
     "evalue": "Excel file format cannot be determined, you must specify an engine manually.",
     "output_type": "error",
     "traceback": [
      "\u001b[0;31m---------------------------------------------------------------------------\u001b[0m",
      "\u001b[0;31mValueError\u001b[0m                                Traceback (most recent call last)",
      "Cell \u001b[0;32mIn[12], line 3\u001b[0m\n\u001b[1;32m      1\u001b[0m \u001b[38;5;28;01mfor\u001b[39;00m i \u001b[38;5;129;01min\u001b[39;00m \u001b[38;5;28mrange\u001b[39m(\u001b[38;5;241m0\u001b[39m, \u001b[38;5;28mlen\u001b[39m(sheetlist)):\n\u001b[1;32m      2\u001b[0m     \u001b[38;5;66;03m#print(sheet_index)\u001b[39;00m\n\u001b[0;32m----> 3\u001b[0m     df \u001b[38;5;241m=\u001b[39m pd\u001b[38;5;241m.\u001b[39mread_excel(path, sheet_name\u001b[38;5;241m=\u001b[39msheetlist[i])\n\u001b[1;32m      4\u001b[0m     \u001b[38;5;28mprint\u001b[39m(sheetlist[\u001b[38;5;241m0\u001b[39m])\n\u001b[1;32m      5\u001b[0m     columns_to_drop \u001b[38;5;241m=\u001b[39m [\u001b[38;5;241m2\u001b[39m, \u001b[38;5;241m3\u001b[39m, \u001b[38;5;241m4\u001b[39m]  \n",
      "File \u001b[0;32m~/anaconda3/lib/python3.11/site-packages/pandas/io/excel/_base.py:478\u001b[0m, in \u001b[0;36mread_excel\u001b[0;34m(io, sheet_name, header, names, index_col, usecols, dtype, engine, converters, true_values, false_values, skiprows, nrows, na_values, keep_default_na, na_filter, verbose, parse_dates, date_parser, date_format, thousands, decimal, comment, skipfooter, storage_options, dtype_backend)\u001b[0m\n\u001b[1;32m    476\u001b[0m \u001b[38;5;28;01mif\u001b[39;00m \u001b[38;5;129;01mnot\u001b[39;00m \u001b[38;5;28misinstance\u001b[39m(io, ExcelFile):\n\u001b[1;32m    477\u001b[0m     should_close \u001b[38;5;241m=\u001b[39m \u001b[38;5;28;01mTrue\u001b[39;00m\n\u001b[0;32m--> 478\u001b[0m     io \u001b[38;5;241m=\u001b[39m ExcelFile(io, storage_options\u001b[38;5;241m=\u001b[39mstorage_options, engine\u001b[38;5;241m=\u001b[39mengine)\n\u001b[1;32m    479\u001b[0m \u001b[38;5;28;01melif\u001b[39;00m engine \u001b[38;5;129;01mand\u001b[39;00m engine \u001b[38;5;241m!=\u001b[39m io\u001b[38;5;241m.\u001b[39mengine:\n\u001b[1;32m    480\u001b[0m     \u001b[38;5;28;01mraise\u001b[39;00m \u001b[38;5;167;01mValueError\u001b[39;00m(\n\u001b[1;32m    481\u001b[0m         \u001b[38;5;124m\"\u001b[39m\u001b[38;5;124mEngine should not be specified when passing \u001b[39m\u001b[38;5;124m\"\u001b[39m\n\u001b[1;32m    482\u001b[0m         \u001b[38;5;124m\"\u001b[39m\u001b[38;5;124man ExcelFile - ExcelFile already has the engine set\u001b[39m\u001b[38;5;124m\"\u001b[39m\n\u001b[1;32m    483\u001b[0m     )\n",
      "File \u001b[0;32m~/anaconda3/lib/python3.11/site-packages/pandas/io/excel/_base.py:1500\u001b[0m, in \u001b[0;36mExcelFile.__init__\u001b[0;34m(self, path_or_buffer, engine, storage_options)\u001b[0m\n\u001b[1;32m   1496\u001b[0m     ext \u001b[38;5;241m=\u001b[39m inspect_excel_format(\n\u001b[1;32m   1497\u001b[0m         content_or_path\u001b[38;5;241m=\u001b[39mpath_or_buffer, storage_options\u001b[38;5;241m=\u001b[39mstorage_options\n\u001b[1;32m   1498\u001b[0m     )\n\u001b[1;32m   1499\u001b[0m     \u001b[38;5;28;01mif\u001b[39;00m ext \u001b[38;5;129;01mis\u001b[39;00m \u001b[38;5;28;01mNone\u001b[39;00m:\n\u001b[0;32m-> 1500\u001b[0m         \u001b[38;5;28;01mraise\u001b[39;00m \u001b[38;5;167;01mValueError\u001b[39;00m(\n\u001b[1;32m   1501\u001b[0m             \u001b[38;5;124m\"\u001b[39m\u001b[38;5;124mExcel file format cannot be determined, you must specify \u001b[39m\u001b[38;5;124m\"\u001b[39m\n\u001b[1;32m   1502\u001b[0m             \u001b[38;5;124m\"\u001b[39m\u001b[38;5;124man engine manually.\u001b[39m\u001b[38;5;124m\"\u001b[39m\n\u001b[1;32m   1503\u001b[0m         )\n\u001b[1;32m   1505\u001b[0m engine \u001b[38;5;241m=\u001b[39m config\u001b[38;5;241m.\u001b[39mget_option(\u001b[38;5;124mf\u001b[39m\u001b[38;5;124m\"\u001b[39m\u001b[38;5;124mio.excel.\u001b[39m\u001b[38;5;132;01m{\u001b[39;00mext\u001b[38;5;132;01m}\u001b[39;00m\u001b[38;5;124m.reader\u001b[39m\u001b[38;5;124m\"\u001b[39m, silent\u001b[38;5;241m=\u001b[39m\u001b[38;5;28;01mTrue\u001b[39;00m)\n\u001b[1;32m   1506\u001b[0m \u001b[38;5;28;01mif\u001b[39;00m engine \u001b[38;5;241m==\u001b[39m \u001b[38;5;124m\"\u001b[39m\u001b[38;5;124mauto\u001b[39m\u001b[38;5;124m\"\u001b[39m:\n",
      "\u001b[0;31mValueError\u001b[0m: Excel file format cannot be determined, you must specify an engine manually."
     ]
    }
   ],
   "source": [
    "for i in range(0, len(sheetlist)):\n",
    "    #print(sheet_index)\n",
    "    df = pd.read_excel(path, sheet_name=sheetlist[i])\n",
    "    #print(sheetlist[0])\n",
    "    columns_to_drop = [2, 3, 4]  \n",
    "    df = df.drop(df.columns[columns_to_drop], axis=1)\n",
    "    df.columns = [\n",
    "        \"waterlevel(m)\" if i == 1 else\n",
    "        \"Time_Q\" if i == 2 else\n",
    "        \"discharge(m3/s)\" if i == 3 else col\n",
    "        for i, col in enumerate(df.columns)\n",
    "    ]\n",
    "    df['Time'] = pd.to_datetime(df['Time'], format='mixed')\n",
    "    df['Time_Q'] = pd.to_datetime(df['Time_Q'], format='mixed')\n",
    "\n",
    "    time_check = True\n",
    "\n",
    "    df_level = df.iloc[:,0:2].dropna()\n",
    "    df_discharge = df.iloc[:,2:4].dropna()\n",
    "\n",
    "    df_discharge = df_discharge.rename(columns={\"Time_Q\": \"Time\"})\n",
    "\n",
    "\n",
    "    merged_dataframe = pd.merge_asof(df_level, df_discharge, on=\"Time\", tolerance=pd.Timedelta(\"1days\"))\n",
    "    merged_dataframe.head()\n",
    "\n",
    "    path = os.path.join(data_path, f\"Tana_station_{names_stations[i]}.csv\")\n",
    "    merged_dataframe.to_csv(path, index = False)"
   ]
  },
  {
   "cell_type": "code",
   "execution_count": null,
   "metadata": {},
   "outputs": [],
   "source": [
    "'''df = pd.read_excel(path, sheet_name=sheetlist[0])\n",
    "\n",
    "# Drop specified columns and rename remaining columns\n",
    "columns_to_drop = [2, 3, 4]  \n",
    "df = df.drop(df.columns[columns_to_drop], axis=1)\n",
    "df.columns = [\n",
    "    \"waterlevel(m)\" if i == 1 else\n",
    "    \"Time_Q\" if i == 2 else\n",
    "    \"discharge(m3/s)\" if i == 3 else col\n",
    "    for i, col in enumerate(df.columns)\n",
    "]\n",
    "\n",
    "# Convert 'Time' and 'Time_Q' columns to datetime format\n",
    "df['Time'] = pd.to_datetime(df['Time'], format='mixed')\n",
    "df['Time_Q'] = pd.to_datetime(df['Time_Q'], format='mixed')\n",
    "\n",
    "# Check and adjust data based on condition\n",
    "time_check = True\n",
    "while time_check:\n",
    "    condition_met = df['Time'][0] > df['Time_Q'][0]\n",
    "    if condition_met:\n",
    "        df.iloc[:, 1:3] = df.iloc[:, 1:3].shift(-1)\n",
    "        df = df.iloc[:-1]\n",
    "    else:\n",
    "        time_check = False\n",
    "\n",
    "# Split dataframe into level and discharge dataframes\n",
    "df_level = df.iloc[:, 0:2].dropna()\n",
    "df_discharge = df.iloc[:, 2:4].dropna()\n",
    "\n",
    "# Initialize a new column in df_level for matched measurements\n",
    "df_level['matched_measurement'] = np.nan\n",
    "\n",
    "# Get timestamps from both dataframes\n",
    "timestamps1 = df_level['Time'].values\n",
    "timestamps2 = df_discharge['Time_Q'].values\n",
    "\n",
    "# Broadcast and calculate the time differences\n",
    "diffs = np.abs(timestamps1[:, None] - timestamps2[None, :])\n",
    "min_indices = np.argmin(diffs, axis=1)\n",
    "\n",
    "# Match measurements based on closest timestamps\n",
    "matched_measurements = df_discharge.loc[min_indices, 'discharge(m3/s)'].values\n",
    "\n",
    "# Add matched measurements to df_level occasionally\n",
    "interval = 5  # Define the interval for adding measurements\n",
    "for i in range(0, len(matched_measurements), interval):\n",
    "    df_level.loc[i, 'matched_measurement'] = matched_measurements[i]\n",
    "\n",
    "path = os.path.join(data_path, 'test_excel.csv')\n",
    "df_level.to_csv(path, index = False)'''"
   ]
  },
  {
   "cell_type": "code",
   "execution_count": null,
   "metadata": {},
   "outputs": [],
   "source": []
  }
 ],
 "metadata": {
  "kernelspec": {
   "display_name": "Python 3 (ipykernel)",
   "language": "python",
   "name": "python3"
  },
  "language_info": {
   "codemirror_mode": {
    "name": "ipython",
    "version": 3
   },
   "file_extension": ".py",
   "mimetype": "text/x-python",
   "name": "python",
   "nbconvert_exporter": "python",
   "pygments_lexer": "ipython3",
   "version": "3.11.5"
  }
 },
 "nbformat": 4,
 "nbformat_minor": 1
}
