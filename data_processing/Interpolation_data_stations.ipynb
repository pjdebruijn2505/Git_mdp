{
 "cells": [
  {
   "cell_type": "code",
   "execution_count": 1,
   "id": "0b5e423f",
   "metadata": {},
   "outputs": [],
   "source": [
    "import sklearn \n",
    "import numpy as np\n",
    "import pandas as pd\n",
    "import matplotlib.pyplot as plt\n",
    "import glob\n",
    "import os.path\n",
    "import pathlib\n",
    "import platform \n",
    "import json \n",
    "import geopandas as gpd\n",
    "from shapely.geometry import Point"
   ]
  },
  {
   "cell_type": "code",
   "execution_count": 27,
   "id": "30eca369",
   "metadata": {},
   "outputs": [
    {
     "name": "stdout",
     "output_type": "stream",
     "text": [
      "Welcome Mats , have a wonderful day on your Darwin machine. Your data should be located in /Users/matskerver/Documents/data_tana/TAHMO/location_tahmo\n"
     ]
    }
   ],
   "source": [
    "cwd = pathlib.Path().resolve()\n",
    "src = cwd.parent\n",
    "data = src.parent.parent.parent\n",
    "OS_type = platform.system()\n",
    "\n",
    "if OS_type == 'Darwin':\n",
    "    username = 'Mats '\n",
    "    data_path = os.path.join(data, 'data_tana', 'TAHMO', 'location_tahmo')\n",
    "    data_path_location = os.path.join(data, 'data_tana')\n",
    "    \n",
    "else:\n",
    "    username = 'Mootje'\n",
    "    data_path = os.path.join(data, 'OneDrive - Delft University of Technology', 'TU Delft', 'Master ENVM', 'MDP', 'Model', 'Data', 'TAHMO')\n",
    "    data_path_location = os.path.join(data, 'OneDrive - Delft University of Technology', 'TU Delft', 'Master ENVM', 'MDP', 'Model', 'Data')\n",
    "\n",
    "print(f\"Welcome {username}, have a wonderful day on your {OS_type} machine. Your data should be located in {data_path}\")"
   ]
  },
  {
   "cell_type": "code",
   "execution_count": 51,
   "id": "001c5ca2",
   "metadata": {},
   "outputs": [],
   "source": [
    "data_files = glob.glob(os.path.join(data_path, '*.csv'))\n",
    "\n",
    "dataframes = {}\n",
    "\n",
    "for file in data_files:\n",
    "    station_name = os.path.splitext(os.path.basename(file))[0].split('_')[0]\n",
    "    df = pd.read_csv(file, index_col = 0, sep =',', parse_dates = True)\n",
    "    dataframes[station_name] = df"
   ]
  },
  {
   "cell_type": "code",
   "execution_count": 52,
   "id": "92b84c09",
   "metadata": {},
   "outputs": [],
   "source": [
    "proj = 'EPSG:32737'"
   ]
  },
  {
   "cell_type": "code",
   "execution_count": 56,
   "id": "456373e0",
   "metadata": {},
   "outputs": [],
   "source": [
    "counties = gpd.read_file(os.path.join(data_path, 'total_tana_catchement_area_clip_projected.gpkg'))\n",
    "geo_dataframes = {}\n",
    "\n",
    "for key in dataframes:\n",
    "    geometry = [Point(xy) for xy in zip(dataframes[key]['longitude'], dataframes[key]['lattitude'])]\n",
    "    rain_gdf = gpd.GeoDataFrame(dataframes[key], geometry=geometry)\n",
    "    geo_dataframes[key] = rain_gdf"
   ]
  },
  {
   "cell_type": "code",
   "execution_count": null,
   "id": "02d161aa",
   "metadata": {},
   "outputs": [],
   "source": [
    "# Create subplots\n",
    "fig, ax = plt.subplots(1, 1, figsize = (10, 10))\n",
    "\n",
    "# Stylize plots\n",
    "plt.style.use('bmh')\n",
    "\n",
    "# Plot data\n",
    "counties.plot(ax = ax, color = 'bisque', edgecolor = 'dimgray')\n",
    "\n",
    "for key in geo_dataframes:\n",
    "    geo_dataframes[key].plot(ax = ax, marker = 'o', color = 'red', markersize = 15)\n",
    "#rain_test_gdf.plot(ax = ax, marker = 'o', color = 'royalblue', markersize = 3)\n",
    "# Set title\n",
    "ax.set_title('Tana Basin Area Kenya', fontdict = {'fontsize': '15', 'fontweight' : '3'})"
   ]
  },
  {
   "cell_type": "code",
   "execution_count": null,
   "id": "0f26f4db",
   "metadata": {},
   "outputs": [],
   "source": []
  }
 ],
 "metadata": {
  "kernelspec": {
   "display_name": "Python 3 (ipykernel)",
   "language": "python",
   "name": "python3"
  },
  "language_info": {
   "codemirror_mode": {
    "name": "ipython",
    "version": 3
   },
   "file_extension": ".py",
   "mimetype": "text/x-python",
   "name": "python",
   "nbconvert_exporter": "python",
   "pygments_lexer": "ipython3",
   "version": "3.11.5"
  }
 },
 "nbformat": 4,
 "nbformat_minor": 5
}
