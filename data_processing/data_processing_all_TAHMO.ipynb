{
 "cells": [
  {
   "cell_type": "code",
   "execution_count": 1,
   "metadata": {},
   "outputs": [],
   "source": [
    "import numpy as np\n",
    "import pandas as pd\n",
    "import matplotlib.pyplot as plt\n",
    "import glob\n",
    "import os.path\n",
    "import pathlib"
   ]
  },
  {
   "cell_type": "code",
   "execution_count": 2,
   "metadata": {},
   "outputs": [],
   "source": [
    "cwd = pathlib.Path().resolve()\n",
    "src = cwd.parent\n",
    "data = src.parent.parent.parent\n",
    "\n",
    "data_path = os.path.join(data, 'OneDrive - Delft University of Technology', 'TU Delft', 'Master ENVM', 'MDP', 'Model', 'Data', 'TAHMO')"
   ]
  },
  {
   "cell_type": "code",
   "execution_count": 10,
   "metadata": {},
   "outputs": [],
   "source": [
    "data_files = glob.glob(os.path.join(data_path, '*.csv'))\n",
    "\n",
    "dataframes = {}\n",
    "\n",
    "for file in data_files:\n",
    "    station_name = os.path.splitext(os.path.basename(file))[0].split('_')[0]\n",
    "    df = pd.read_csv(file, index_col = 0, sep =',', parse_dates = True)\n",
    "    dataframes[station_name] = df\n",
    "\n",
    "dataframes"
   ]
  },
  {
   "cell_type": "code",
   "execution_count": null,
   "metadata": {},
   "outputs": [],
   "source": [
    "dataframes.index = "
   ]
  },
  {
   "cell_type": "code",
   "execution_count": 4,
   "metadata": {},
   "outputs": [],
   "source": [
    "def Extra_rad(Tmax, Tmin, df, lat):\n",
    "    \"Calculation of Extraterrestrial radiation\"\n",
    "    G = 0.0820 #* 10 ** 6 # J/m^2/min  --> Constant value\n",
    "\n",
    "    # Calculation of the radian location of the station\n",
    "    phi = np.pi / 180 * lat\n",
    "\n",
    "    # Calculation of the number of the day in a year\n",
    "    J = df.index.dayofyear.values  # Extract day of the year directly from the index\n",
    "\n",
    "    # Calculation of the extraterrestrial radiation: Ra\n",
    "    dr = 1 + 0.033 * np.cos(2 * np.pi * J / 365)\n",
    "    delta = 0.409 * np.sin((2 * np.pi * J / 365) - 1.39)\n",
    "    w = np.arccos(- np.tan(phi) * np.tan(delta))\n",
    "    Ra = ((24 * 60) / np.pi) * G * dr * (w * np.sin(phi) * np.sin(delta) + np.cos(phi) * np.cos(delta) * np.sin(w)) #* 10 ** - 6\n",
    "\n",
    "    # Create a DataFrame with Ra values and corresponding timestamps\n",
    "    Ra_df = pd.DataFrame({'Ra': Ra}, index=df.index)\n",
    "\n",
    "    return Ra_df"
   ]
  },
  {
   "cell_type": "code",
   "execution_count": null,
   "metadata": {},
   "outputs": [],
   "source": []
  }
 ],
 "metadata": {
  "kernelspec": {
   "display_name": "superflexpy",
   "language": "python",
   "name": "python3"
  },
  "language_info": {
   "codemirror_mode": {
    "name": "ipython",
    "version": 3
   },
   "file_extension": ".py",
   "mimetype": "text/x-python",
   "name": "python",
   "nbconvert_exporter": "python",
   "pygments_lexer": "ipython3",
   "version": "3.11.8"
  }
 },
 "nbformat": 4,
 "nbformat_minor": 2
}
